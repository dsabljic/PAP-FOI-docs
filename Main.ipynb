{
 "cells": [
  {
   "cell_type": "markdown",
   "id": "a41ead12-0d94-4d08-983d-b8b4320b353a",
   "metadata": {},
   "source": [
    "# Zadatak"
   ]
  },
  {
   "cell_type": "markdown",
   "id": "dcdaf0b4-0a8a-4728-bed8-418247dbc84c",
   "metadata": {},
   "source": [
    "Na adresi https://www.foi.unizg.hr/hr/dokumenti nalazi se baza dokumenata Fakulteta organizacije i informatike. Većina dokumenata zadana je u PDF formatu, no neki od dokumenata su čitki (vektorski format) dok su drugi skenirani (rasterski format). Potrebno je:\n",
    "1) Implementirati program koji će skinuti sve PDF dokumente na lokalno računalo (ili Google Colab / Drive direktorij)\n",
    "2) Kreirati bazu podataka (SQLite) koja će sadržavati jednu tablicu \"dokument\". Tablica treba sadržavati šifru dokumenta (autonumber), naslov dokumenta, putanju datoteke (path i filename na lokalnom računalu), URL adresu s koje je dokument skinut, datum, te tekstualni sadržaj dokumenta.\n",
    "3) Posebno za zadnje polje u tablici potrebno je svaki dokument učitati i ekstrahirati tekst (primjerice putem Python modula PDFMiner - https://github.com/pdfminer/pdfminer.six). Ukoliko je dokument skeniran potrebno je koristiti odgovarajući OCR modul za ekstrakciju teksta (npr. PyTesseract https://pypi.org/project/pytesseract/).\n",
    "4) Omogućiti pristup skupu podataka putem REST API-ja koji omogućuje isključivo pretraživanje podataka putem:(a) pretraživanja ključnih riječi u tekstu (npr. boolean search), (b) pretraživanje ključnih riječi u naslovu (c) pregled prema datumu (npr. dokumenti od DATUM do DATUM), (d) izlistavanje svih dokumenata."
   ]
  },
  {
   "cell_type": "markdown",
   "id": "2e68a3b4-55d3-479c-bf0f-1869abb1df82",
   "metadata": {},
   "source": [
    "# Prikupljanje podataka"
   ]
  },
  {
   "cell_type": "code",
   "execution_count": 1,
   "id": "64da7c03-2c3e-4e6a-b590-da1c9f01f41d",
   "metadata": {},
   "outputs": [],
   "source": [
    "!mkdir -p data/pdfs data/dummy_data"
   ]
  },
  {
   "cell_type": "code",
   "execution_count": 10,
   "id": "46496a2f-5af6-4bfa-b980-3a4c01a39a5d",
   "metadata": {},
   "outputs": [],
   "source": [
    "# General\n",
    "import os\n",
    "import sys\n",
    "import csv\n",
    "\n",
    "# Scraping\n",
    "import requests\n",
    "from bs4 import BeautifulSoup\n",
    "from requests_html import HTMLSession\n",
    "\n",
    "# Data manipulation and processing\n",
    "import numpy as np\n",
    "import pandas as pd"
   ]
  },
  {
   "cell_type": "code",
   "execution_count": 54,
   "id": "866f128b-0c5e-4759-b279-d5c19ac1b312",
   "metadata": {},
   "outputs": [],
   "source": [
    "s = HTMLSession()\n",
    "\n",
    "def get_data(url):\n",
    "    response = s.get(url)\n",
    "    soup = BeautifulSoup(response.text, 'html.parser')\n",
    "    return soup"
   ]
  },
  {
   "cell_type": "markdown",
   "id": "1d2ed276-74d2-403c-852f-a2d253fd7ef1",
   "metadata": {},
   "source": [
    "## Downloading PDF"
   ]
  },
  {
   "cell_type": "code",
   "execution_count": 17,
   "id": "4dbc8557-44ae-4e11-b32d-d318e122ff4e",
   "metadata": {},
   "outputs": [],
   "source": [
    "def download_pdf(url, path):\n",
    "    '''\n",
    "        Napravi download dokumenta sa url adrese u dani direktorij (url: /sites/default/files/[ime_dokumenta].pdf)\n",
    "    '''\n",
    "    try:\n",
    "        response = s.get(url)\n",
    "        response.raise_for_status()  # Provjerava HTTP greške\n",
    "\n",
    "        file_name = url.split('/')[-1]\n",
    "        file_path = os.path.join(path, file_name)\n",
    "\n",
    "        with open(file_path, 'wb') as f:\n",
    "            f.write(response.content)\n",
    "\n",
    "        print(f\"Success: {file_path}\")\n",
    "    except requests.exceptions.RequestException as e:\n",
    "        print(f\"Error: {e}\")"
   ]
  },
  {
   "cell_type": "markdown",
   "id": "8308651a-c717-4ac1-b45a-cc4cb74b6d67",
   "metadata": {},
   "source": [
    "## Creating a CSV data entry/extracting useful fields"
   ]
  },
  {
   "cell_type": "code",
   "execution_count": 24,
   "id": "4091e1d0-9f70-457c-9194-cbbeb465a595",
   "metadata": {},
   "outputs": [],
   "source": [
    "def get_metadata(url):\n",
    "    '''\n",
    "        Dohvaca meta podatke za zapis sa dane url adrese (/hr/dokument/[ime_dokumenta])\n",
    "    '''\n",
    "\n",
    "    soup = get_data(url)\n",
    "\n",
    "    try:\n",
    "        link1 = soup.find('a', href=True, type=lambda value: value and 'application/pdf' in value)['href']\n",
    "    except:\n",
    "        link1 = None\n",
    "    \n",
    "    datum = soup.find('div', class_ = 'datum').text\n",
    "    datum = datum.strip().split('Kreirano: ')[1]\n",
    "\n",
    "    fields = soup.find_all('div', class_ = 'field-item even')\n",
    "    for i in range(len(fields)):\n",
    "        fields[i] = fields[i].text.strip()\n",
    "\n",
    "    \n",
    "    ime_datoteke = fields[0]\n",
    "\n",
    "    # U slucaju da nema vrste i kategorije dokumenta\n",
    "    try:\n",
    "        vrsta_dokumenta = fields[1]\n",
    "        kategorija_dokumenta = fields[2]\n",
    "    except:\n",
    "        vrsta_dokumenta = None\n",
    "        kategorija_dokumenta = None\n",
    "\n",
    "    return ime_datoteke, link1, datum, vrsta_dokumenta, kategorija_dokumenta"
   ]
  },
  {
   "cell_type": "code",
   "execution_count": 32,
   "id": "4b9d7d4a-fc26-44c8-88a6-d8919d013d1e",
   "metadata": {},
   "outputs": [
    {
     "data": {
      "text/plain": [
       "('odluka_o_izmjeni_odluke_pok_2023_10_12.pdf',\n",
       " 'https://www.foi.unizg.hr/sites/default/files/odluka_o_izmjeni_odluke_pok_2023_10_12_0.pdf',\n",
       " '18.12.2023',\n",
       " 'Odluka',\n",
       " 'Kvaliteta')"
      ]
     },
     "execution_count": 32,
     "metadata": {},
     "output_type": "execute_result"
    }
   ],
   "source": [
    "metadata = get_metadata('https://www.foi.unizg.hr/hr/dokument/izmjenjena-odluka-pok-2023')\n",
    "metadata"
   ]
  },
  {
   "cell_type": "markdown",
   "id": "92f70302-add4-4419-9b37-01229f778025",
   "metadata": {},
   "source": [
    "## Handling pagination and going through document on the main pages"
   ]
  },
  {
   "cell_type": "code",
   "execution_count": 99,
   "id": "9621b1f2-bf51-43ae-b733-434698c8afbc",
   "metadata": {},
   "outputs": [],
   "source": [
    "def extract_links(span_list):\n",
    "    links = []\n",
    "\n",
    "    for span in span_list:\n",
    "        links_in_span = span.find_all('a', href = True)\n",
    "        lnk = [l['href'] for l in links_in_span]\n",
    "        lnk.append(span.text)\n",
    "        links.append(tuple(lnk))\n",
    "  \n",
    "    return links"
   ]
  },
  {
   "cell_type": "code",
   "execution_count": 115,
   "id": "e0932608-d4e8-4351-be04-a9c7d88604d1",
   "metadata": {},
   "outputs": [],
   "source": [
    "def extract_hr_dokument_links(span_list):\n",
    "    return [(span.find('a', href = True, target = False)['href'], span.text) for span in span_list]"
   ]
  },
  {
   "cell_type": "code",
   "execution_count": 120,
   "id": "df4698d7-3e74-43af-a599-2f40300b3342",
   "metadata": {},
   "outputs": [],
   "source": [
    "soup = get_data('https://www.foi.unizg.hr/hr/dokumenti')\n",
    "spans = soup.find_all('span', class_ = 'field-content')"
   ]
  },
  {
   "cell_type": "code",
   "execution_count": 121,
   "id": "465347b3-9be8-4f6a-b13a-035c9b8aa1f3",
   "metadata": {
    "scrolled": true
   },
   "outputs": [
    {
     "data": {
      "text/plain": [
       "[('/hr/dokument/izmjenjena-odluka-pok-2023', 'Izmjenjena odluka POK-a 2023.'),\n",
       " ('/hr/dokument/odluka-o-raspisivanju-izvanrednih-izbora-studentskog-zbora-suzgfoi',\n",
       "  'Odluka o raspisivanju izvanrednih izbora Studentskog zbora SUZGFOI'),\n",
       " ('/hr/dokument/posebni-dio-financijskog-plana-2024-2026',\n",
       "  'Posebni dio financijskog plana 2024-2026'),\n",
       " ('/hr/dokument/opci-dio-prijedlog-financijskog-plana-2024-2026',\n",
       "  'Opći dio - prijedlog financijskog plana 2024-2026'),\n",
       " ('/hr/dokument/obrazlozenje-posebnog-dijela-financijskog-plana-2024-2026',\n",
       "  'Obrazloženje posebnog dijela financijskog plana 2024-2026'),\n",
       " ('/hr/dokument/obrazlozenje-opceg-dijela-financijskog-plana-2024-2026',\n",
       "  'Obrazloženje općeg dijela financijskog plana 2024-2026'),\n",
       " ('/hr/dokument/dnevni-red-fakultetskog-vijeca-07122023',\n",
       "  'Dnevni red Fakultetskog vijeća 07.12.2023.'),\n",
       " ('/hr/dokument/politika-privatnosti-foi-ja', 'Politika privatnosti FOI-ja'),\n",
       " ('/hr/dokument/popis-gospodarskih-subjekata-s-kojima-se-ne-smije-sklapati-ugovor-o-javnoj-nabavi',\n",
       "  'Popis gospodarskih subjekata s kojima se ne smije sklapati ugovor o javnoj nabavi'),\n",
       " ('/hr/dokument/zakljucak-fakultetskog-vijeca-16112023',\n",
       "  'Zaključak Fakultetskog vijeća 16.11.2023.')]"
      ]
     },
     "execution_count": 121,
     "metadata": {},
     "output_type": "execute_result"
    }
   ],
   "source": [
    "extract_hr_dokument_links(spans)"
   ]
  },
  {
   "cell_type": "code",
   "execution_count": 122,
   "id": "49005dbb-fcb1-4068-ae51-d1f18b046137",
   "metadata": {
    "scrolled": true
   },
   "outputs": [
    {
     "data": {
      "text/plain": [
       "[('https://www.foi.unizg.hr/sites/default/files/odluka_o_izmjeni_odluke_pok_2023_10_12_0.pdf',\n",
       "  '/hr/dokument/izmjenjena-odluka-pok-2023',\n",
       "  'Izmjenjena odluka POK-a 2023.'),\n",
       " ('https://www.foi.unizg.hr/sites/default/files/odluka-izvanredni_izbori_za_studentski_zbor-sijecanj_2024.pdf',\n",
       "  '/hr/dokument/odluka-o-raspisivanju-izvanrednih-izbora-studentskog-zbora-suzgfoi',\n",
       "  'Odluka o raspisivanju izvanrednih izbora Studentskog zbora SUZGFOI'),\n",
       " ('https://www.foi.unizg.hr/sites/default/files/privitak_1b_-_posebni_dio_financijskog_plana_2024-2026_konacan.xlsx',\n",
       "  '/hr/dokument/posebni-dio-financijskog-plana-2024-2026',\n",
       "  'Posebni dio financijskog plana 2024-2026'),\n",
       " ('https://www.foi.unizg.hr/sites/default/files/privitak_1_-_opci_dio_prijedlog_financijskog_plana_2024-2026_konacan.xlsx',\n",
       "  '/hr/dokument/opci-dio-prijedlog-financijskog-plana-2024-2026',\n",
       "  'Opći dio - prijedlog financijskog plana 2024-2026'),\n",
       " ('https://www.foi.unizg.hr/sites/default/files/obrazlozenje_posebnog_dijela_financijskog_plana_2024-2026_konacno.docx',\n",
       "  '/hr/dokument/obrazlozenje-posebnog-dijela-financijskog-plana-2024-2026',\n",
       "  'Obrazloženje posebnog dijela financijskog plana 2024-2026'),\n",
       " ('https://www.foi.unizg.hr/sites/default/files/obrazlozenje_opceg_dijela_financijskog_plana_2024-2026_konacno.docx',\n",
       "  '/hr/dokument/obrazlozenje-opceg-dijela-financijskog-plana-2024-2026',\n",
       "  'Obrazloženje općeg dijela financijskog plana 2024-2026'),\n",
       " ('https://www.foi.unizg.hr/sites/default/files/fv_dnevni_red_2023-12-07_3._sjednica.pdf',\n",
       "  '/hr/dokument/dnevni-red-fakultetskog-vijeca-07122023',\n",
       "  'Dnevni red Fakultetskog vijeća 07.12.2023.'),\n",
       " ('https://www.foi.unizg.hr/sites/default/files/politika-privatnosti-foi.pdf',\n",
       "  '/hr/dokument/politika-privatnosti-foi-ja',\n",
       "  'Politika privatnosti FOI-ja'),\n",
       " ('https://www.foi.unizg.hr/sites/default/files/popis_gs_u_sukobu_interesa_2023.pdf',\n",
       "  '/hr/dokument/popis-gospodarskih-subjekata-s-kojima-se-ne-smije-sklapati-ugovor-o-javnoj-nabavi',\n",
       "  'Popis gospodarskih subjekata s kojima se ne smije sklapati ugovor o javnoj nabavi'),\n",
       " ('https://www.foi.unizg.hr/sites/default/files/fv_zakljucci_2023-11-16_2._sjednica.pdf',\n",
       "  '/hr/dokument/zakljucak-fakultetskog-vijeca-16112023',\n",
       "  'Zaključak Fakultetskog vijeća 16.11.2023.')]"
      ]
     },
     "execution_count": 122,
     "metadata": {},
     "output_type": "execute_result"
    }
   ],
   "source": [
    "extract_links(spans)"
   ]
  },
  {
   "cell_type": "markdown",
   "id": "baec17c8-6de3-4d39-8c69-8d37e8e6e71f",
   "metadata": {},
   "source": [
    "### Handling pagination"
   ]
  },
  {
   "cell_type": "code",
   "execution_count": 49,
   "id": "b4b9aa5d-57cd-4737-8e13-fef4b730c137",
   "metadata": {},
   "outputs": [],
   "source": [
    "soup = get_data('https://www.foi.unizg.hr/hr/dokumenti')"
   ]
  },
  {
   "cell_type": "code",
   "execution_count": 110,
   "id": "545d96d0-20fa-42ed-8f57-d91b2c3cd90d",
   "metadata": {},
   "outputs": [],
   "source": [
    "def get_next_page(soup):\n",
    "    root_url = 'https://www.foi.unizg.hr'\n",
    "    page = soup.find('ul', class_ = 'pager')\n",
    "    next_btn = page.find('li', class_ = 'pager-next')\n",
    "    if next_btn:\n",
    "        url = root_url + str(next_btn.find('a')['href'])\n",
    "        return url\n",
    "    else:\n",
    "        return None"
   ]
  },
  {
   "cell_type": "code",
   "execution_count": 135,
   "id": "d9611501-5431-43d6-903b-31917c18b8f5",
   "metadata": {
    "scrolled": true
   },
   "outputs": [],
   "source": [
    "def get_urls(url):\n",
    "    urls = []\n",
    "    \n",
    "    while True:\n",
    "        soup = get_data(url)\n",
    "        url = get_next_page(soup)\n",
    "        if not url:\n",
    "            break\n",
    "    \n",
    "        urls.append(url)"
   ]
  },
  {
   "cell_type": "code",
   "execution_count": null,
   "id": "8ffdb5c1-bbe6-4843-961d-37634eb24830",
   "metadata": {},
   "outputs": [],
   "source": []
  },
  {
   "cell_type": "code",
   "execution_count": 113,
   "id": "0f06237c-9189-4724-9aed-f9e108eae8be",
   "metadata": {},
   "outputs": [
    {
     "data": {
      "text/plain": [
       "['https://www.foi.unizg.hr/hr/dokumenti?page=1',\n",
       " 'https://www.foi.unizg.hr/hr/dokumenti?page=2',\n",
       " 'https://www.foi.unizg.hr/hr/dokumenti?page=3',\n",
       " 'https://www.foi.unizg.hr/hr/dokumenti?page=4',\n",
       " 'https://www.foi.unizg.hr/hr/dokumenti?page=5']"
      ]
     },
     "execution_count": 113,
     "metadata": {},
     "output_type": "execute_result"
    }
   ],
   "source": [
    "urls[:5]"
   ]
  },
  {
   "cell_type": "markdown",
   "id": "e80ec81f-68ba-4cf5-98f7-42eef952924b",
   "metadata": {},
   "source": [
    "## Downloading in batches"
   ]
  },
  {
   "cell_type": "code",
   "execution_count": 123,
   "id": "71ae8f8a-3a27-4b0b-bde3-d414852d4940",
   "metadata": {},
   "outputs": [],
   "source": [
    "def scrape_page(url):\n",
    "    '''\n",
    "        Prolazi kroz linkove glavne stranice, ekstrahira /hr/dokument/ linkove,\n",
    "        dohvaca meta podatke za svaki dokument i skida pdf dokumente lokalno\n",
    "    '''\n",
    "    root_url = 'https://www.foi.unizg.hr/'\n",
    "    \n",
    "    soup = get_data(url)\n",
    "    spans = soup.find_all('span', class_ = 'field-content')\n",
    "\n",
    "    links = extract_links(spans)\n",
    "\n",
    "    metadata = [get_metadata(root_url + link[1]) for link in links]\n",
    "\n",
    "    df1 = pd.DataFrame(metadata, columns = ['naziv_datoteke', 'pdf_link', 'datum', 'vrsta_dokumenta', 'kategorija_dokumenta'])\n",
    "    df2 = pd.DataFrame(links, columns = ['file_link', 'metadata_link', 'naslov_dokumenta'])\n",
    "\n",
    "    return pd.concat([df1, df2], axis = 1).dropna(subset = ['pdf_link'])"
   ]
  },
  {
   "cell_type": "code",
   "execution_count": 125,
   "id": "e32cb600-9ea8-4505-9c28-204df67e8122",
   "metadata": {
    "scrolled": true
   },
   "outputs": [
    {
     "data": {
      "text/html": [
       "<div>\n",
       "<style scoped>\n",
       "    .dataframe tbody tr th:only-of-type {\n",
       "        vertical-align: middle;\n",
       "    }\n",
       "\n",
       "    .dataframe tbody tr th {\n",
       "        vertical-align: top;\n",
       "    }\n",
       "\n",
       "    .dataframe thead th {\n",
       "        text-align: right;\n",
       "    }\n",
       "</style>\n",
       "<table border=\"1\" class=\"dataframe\">\n",
       "  <thead>\n",
       "    <tr style=\"text-align: right;\">\n",
       "      <th></th>\n",
       "      <th>naziv_datoteke</th>\n",
       "      <th>pdf_link</th>\n",
       "      <th>datum</th>\n",
       "      <th>vrsta_dokumenta</th>\n",
       "      <th>kategorija_dokumenta</th>\n",
       "      <th>file_link</th>\n",
       "      <th>metadata_link</th>\n",
       "      <th>naslov_dokumenta</th>\n",
       "    </tr>\n",
       "  </thead>\n",
       "  <tbody>\n",
       "    <tr>\n",
       "      <th>0</th>\n",
       "      <td>odluka_o_izmjeni_odluke_pok_2023_10_12.pdf</td>\n",
       "      <td>https://www.foi.unizg.hr/sites/default/files/o...</td>\n",
       "      <td>18.12.2023</td>\n",
       "      <td>Odluka</td>\n",
       "      <td>Kvaliteta</td>\n",
       "      <td>https://www.foi.unizg.hr/sites/default/files/o...</td>\n",
       "      <td>/hr/dokument/izmjenjena-odluka-pok-2023</td>\n",
       "      <td>Izmjenjena odluka POK-a 2023.</td>\n",
       "    </tr>\n",
       "    <tr>\n",
       "      <th>1</th>\n",
       "      <td>odluka-izvanredni_izbori_za_studentski_zbor-si...</td>\n",
       "      <td>https://www.foi.unizg.hr/sites/default/files/o...</td>\n",
       "      <td>12.12.2023</td>\n",
       "      <td>Odluka</td>\n",
       "      <td>Studentski zbor</td>\n",
       "      <td>https://www.foi.unizg.hr/sites/default/files/o...</td>\n",
       "      <td>/hr/dokument/odluka-o-raspisivanju-izvanrednih...</td>\n",
       "      <td>Odluka o raspisivanju izvanrednih izbora Stude...</td>\n",
       "    </tr>\n",
       "    <tr>\n",
       "      <th>6</th>\n",
       "      <td>fv_dnevni_red_2023-12-07_3._sjednica.pdf</td>\n",
       "      <td>https://www.foi.unizg.hr/sites/default/files/f...</td>\n",
       "      <td>07.12.2023</td>\n",
       "      <td>Dnevni red</td>\n",
       "      <td>Fakultetsko vijeće</td>\n",
       "      <td>https://www.foi.unizg.hr/sites/default/files/f...</td>\n",
       "      <td>/hr/dokument/dnevni-red-fakultetskog-vijeca-07...</td>\n",
       "      <td>Dnevni red Fakultetskog vijeća 07.12.2023.</td>\n",
       "    </tr>\n",
       "    <tr>\n",
       "      <th>7</th>\n",
       "      <td>politika-privatnosti-foi.pdf</td>\n",
       "      <td>https://www.foi.unizg.hr/sites/default/files/p...</td>\n",
       "      <td>24.11.2023</td>\n",
       "      <td>None</td>\n",
       "      <td>None</td>\n",
       "      <td>https://www.foi.unizg.hr/sites/default/files/p...</td>\n",
       "      <td>/hr/dokument/politika-privatnosti-foi-ja</td>\n",
       "      <td>Politika privatnosti FOI-ja</td>\n",
       "    </tr>\n",
       "    <tr>\n",
       "      <th>8</th>\n",
       "      <td>popis_gs_u_sukobu_interesa_2023.pdf</td>\n",
       "      <td>https://www.foi.unizg.hr/sites/default/files/p...</td>\n",
       "      <td>20.11.2023</td>\n",
       "      <td>Odluka</td>\n",
       "      <td>Javna nabava</td>\n",
       "      <td>https://www.foi.unizg.hr/sites/default/files/p...</td>\n",
       "      <td>/hr/dokument/popis-gospodarskih-subjekata-s-ko...</td>\n",
       "      <td>Popis gospodarskih subjekata s kojima se ne sm...</td>\n",
       "    </tr>\n",
       "    <tr>\n",
       "      <th>9</th>\n",
       "      <td>fv_zakljucci_2023-11-16_2._sjednica.pdf</td>\n",
       "      <td>https://www.foi.unizg.hr/sites/default/files/f...</td>\n",
       "      <td>16.11.2023</td>\n",
       "      <td>Zaključak</td>\n",
       "      <td>Fakultetsko vijeće</td>\n",
       "      <td>https://www.foi.unizg.hr/sites/default/files/f...</td>\n",
       "      <td>/hr/dokument/zakljucak-fakultetskog-vijeca-161...</td>\n",
       "      <td>Zaključak Fakultetskog vijeća 16.11.2023.</td>\n",
       "    </tr>\n",
       "  </tbody>\n",
       "</table>\n",
       "</div>"
      ],
      "text/plain": [
       "                                      naziv_datoteke  \\\n",
       "0         odluka_o_izmjeni_odluke_pok_2023_10_12.pdf   \n",
       "1  odluka-izvanredni_izbori_za_studentski_zbor-si...   \n",
       "6           fv_dnevni_red_2023-12-07_3._sjednica.pdf   \n",
       "7                       politika-privatnosti-foi.pdf   \n",
       "8                popis_gs_u_sukobu_interesa_2023.pdf   \n",
       "9            fv_zakljucci_2023-11-16_2._sjednica.pdf   \n",
       "\n",
       "                                            pdf_link       datum  \\\n",
       "0  https://www.foi.unizg.hr/sites/default/files/o...  18.12.2023   \n",
       "1  https://www.foi.unizg.hr/sites/default/files/o...  12.12.2023   \n",
       "6  https://www.foi.unizg.hr/sites/default/files/f...  07.12.2023   \n",
       "7  https://www.foi.unizg.hr/sites/default/files/p...  24.11.2023   \n",
       "8  https://www.foi.unizg.hr/sites/default/files/p...  20.11.2023   \n",
       "9  https://www.foi.unizg.hr/sites/default/files/f...  16.11.2023   \n",
       "\n",
       "  vrsta_dokumenta kategorija_dokumenta  \\\n",
       "0          Odluka            Kvaliteta   \n",
       "1          Odluka      Studentski zbor   \n",
       "6      Dnevni red   Fakultetsko vijeće   \n",
       "7            None                 None   \n",
       "8          Odluka         Javna nabava   \n",
       "9       Zaključak   Fakultetsko vijeće   \n",
       "\n",
       "                                           file_link  \\\n",
       "0  https://www.foi.unizg.hr/sites/default/files/o...   \n",
       "1  https://www.foi.unizg.hr/sites/default/files/o...   \n",
       "6  https://www.foi.unizg.hr/sites/default/files/f...   \n",
       "7  https://www.foi.unizg.hr/sites/default/files/p...   \n",
       "8  https://www.foi.unizg.hr/sites/default/files/p...   \n",
       "9  https://www.foi.unizg.hr/sites/default/files/f...   \n",
       "\n",
       "                                       metadata_link  \\\n",
       "0            /hr/dokument/izmjenjena-odluka-pok-2023   \n",
       "1  /hr/dokument/odluka-o-raspisivanju-izvanrednih...   \n",
       "6  /hr/dokument/dnevni-red-fakultetskog-vijeca-07...   \n",
       "7           /hr/dokument/politika-privatnosti-foi-ja   \n",
       "8  /hr/dokument/popis-gospodarskih-subjekata-s-ko...   \n",
       "9  /hr/dokument/zakljucak-fakultetskog-vijeca-161...   \n",
       "\n",
       "                                    naslov_dokumenta  \n",
       "0                      Izmjenjena odluka POK-a 2023.  \n",
       "1  Odluka o raspisivanju izvanrednih izbora Stude...  \n",
       "6         Dnevni red Fakultetskog vijeća 07.12.2023.  \n",
       "7                        Politika privatnosti FOI-ja  \n",
       "8  Popis gospodarskih subjekata s kojima se ne sm...  \n",
       "9          Zaključak Fakultetskog vijeća 16.11.2023.  "
      ]
     },
     "execution_count": 125,
     "metadata": {},
     "output_type": "execute_result"
    }
   ],
   "source": [
    "df = scrape_page('https://www.foi.unizg.hr/hr/dokumenti')\n",
    "df"
   ]
  },
  {
   "cell_type": "code",
   "execution_count": 134,
   "id": "26ea7326-78cf-47b1-b3e2-d05dcdb19718",
   "metadata": {},
   "outputs": [
    {
     "data": {
      "text/html": [
       "<div>\n",
       "<style scoped>\n",
       "    .dataframe tbody tr th:only-of-type {\n",
       "        vertical-align: middle;\n",
       "    }\n",
       "\n",
       "    .dataframe tbody tr th {\n",
       "        vertical-align: top;\n",
       "    }\n",
       "\n",
       "    .dataframe thead th {\n",
       "        text-align: right;\n",
       "    }\n",
       "</style>\n",
       "<table border=\"1\" class=\"dataframe\">\n",
       "  <thead>\n",
       "    <tr style=\"text-align: right;\">\n",
       "      <th></th>\n",
       "      <th>A</th>\n",
       "      <th>B</th>\n",
       "    </tr>\n",
       "  </thead>\n",
       "  <tbody>\n",
       "    <tr>\n",
       "      <th>0</th>\n",
       "      <td>1</td>\n",
       "      <td>4</td>\n",
       "    </tr>\n",
       "    <tr>\n",
       "      <th>1</th>\n",
       "      <td>2</td>\n",
       "      <td>5</td>\n",
       "    </tr>\n",
       "    <tr>\n",
       "      <th>2</th>\n",
       "      <td>3</td>\n",
       "      <td>6</td>\n",
       "    </tr>\n",
       "    <tr>\n",
       "      <th>3</th>\n",
       "      <td>7</td>\n",
       "      <td>10</td>\n",
       "    </tr>\n",
       "    <tr>\n",
       "      <th>4</th>\n",
       "      <td>8</td>\n",
       "      <td>11</td>\n",
       "    </tr>\n",
       "    <tr>\n",
       "      <th>5</th>\n",
       "      <td>9</td>\n",
       "      <td>12</td>\n",
       "    </tr>\n",
       "  </tbody>\n",
       "</table>\n",
       "</div>"
      ],
      "text/plain": [
       "   A   B\n",
       "0  1   4\n",
       "1  2   5\n",
       "2  3   6\n",
       "3  7  10\n",
       "4  8  11\n",
       "5  9  12"
      ]
     },
     "execution_count": 134,
     "metadata": {},
     "output_type": "execute_result"
    }
   ],
   "source": [
    "import pandas as pd\n",
    "\n",
    "# Kreiranje dva primjerna DataFrame-a\n",
    "df1 = pd.DataFrame({'A': [1, 2, 3], 'B': [4, 5, 6]})\n",
    "df2 = pd.DataFrame({'A': [7, 8, 9], 'B': [10, 11, 12]})\n",
    "\n",
    "# Spajanje DataFrame-a\n",
    "result = pd.concat([df1, df2], axis=0, ignore_index = True)\n",
    "result"
   ]
  },
  {
   "cell_type": "code",
   "execution_count": null,
   "id": "5a88476f-4909-49d7-b746-3c4e55d2225e",
   "metadata": {},
   "outputs": [],
   "source": [
    "def scrape(url):\n",
    "    while True:\n",
    "        soup = get_data(url)\n",
    "        url = get_next_page(soup)\n",
    "        if not url:\n",
    "            break\n",
    "\n",
    "        urls.append(url)"
   ]
  }
 ],
 "metadata": {
  "kernelspec": {
   "display_name": "Python 3 (ipykernel)",
   "language": "python",
   "name": "python3"
  },
  "language_info": {
   "codemirror_mode": {
    "name": "ipython",
    "version": 3
   },
   "file_extension": ".py",
   "mimetype": "text/x-python",
   "name": "python",
   "nbconvert_exporter": "python",
   "pygments_lexer": "ipython3",
   "version": "3.10.12"
  }
 },
 "nbformat": 4,
 "nbformat_minor": 5
}
