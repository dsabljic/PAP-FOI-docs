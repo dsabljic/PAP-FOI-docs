{
 "cells": [
  {
   "cell_type": "markdown",
   "id": "a41ead12-0d94-4d08-983d-b8b4320b353a",
   "metadata": {},
   "source": [
    "# Zadatak"
   ]
  },
  {
   "cell_type": "markdown",
   "id": "dcdaf0b4-0a8a-4728-bed8-418247dbc84c",
   "metadata": {},
   "source": [
    "Na adresi https://www.foi.unizg.hr/hr/dokumenti nalazi se baza dokumenata Fakulteta organizacije i informatike. Većina dokumenata zadana je u PDF formatu, no neki od dokumenata su čitki (vektorski format) dok su drugi skenirani (rasterski format). Potrebno je:\n",
    "1) Implementirati program koji će skinuti sve PDF dokumente na lokalno računalo (ili Google Colab / Drive direktorij)\n",
    "2) Kreirati bazu podataka (SQLite) koja će sadržavati jednu tablicu \"dokument\". Tablica treba sadržavati šifru dokumenta (autonumber), naslov dokumenta, putanju datoteke (path i filename na lokalnom računalu), URL adresu s koje je dokument skinut, datum, te tekstualni sadržaj dokumenta.\n",
    "3) Posebno za zadnje polje u tablici potrebno je svaki dokument učitati i ekstrahirati tekst (primjerice putem Python modula PDFMiner - https://github.com/pdfminer/pdfminer.six). Ukoliko je dokument skeniran potrebno je koristiti odgovarajući OCR modul za ekstrakciju teksta (npr. PyTesseract https://pypi.org/project/pytesseract/).\n",
    "4) Omogućiti pristup skupu podataka putem REST API-ja koji omogućuje isključivo pretraživanje podataka putem:(a) pretraživanja ključnih riječi u tekstu (npr. boolean search), (b) pretraživanje ključnih riječi u naslovu (c) pregled prema datumu (npr. dokumenti od DATUM do DATUM), (d) izlistavanje svih dokumenata."
   ]
  },
  {
   "cell_type": "markdown",
   "id": "2e68a3b4-55d3-479c-bf0f-1869abb1df82",
   "metadata": {},
   "source": [
    "# Prikupljanje podataka"
   ]
  },
  {
   "cell_type": "code",
   "execution_count": 1,
   "id": "64da7c03-2c3e-4e6a-b590-da1c9f01f41d",
   "metadata": {},
   "outputs": [],
   "source": [
    "!mkdir -p data/pdfs data/dummy_data"
   ]
  },
  {
   "cell_type": "code",
   "execution_count": 1,
   "id": "46496a2f-5af6-4bfa-b980-3a4c01a39a5d",
   "metadata": {},
   "outputs": [],
   "source": [
    "import os\n",
    "import sys\n",
    "import csv\n",
    "import datetime\n",
    "import time\n",
    "\n",
    "import requests\n",
    "from bs4 import BeautifulSoup\n",
    "from requests_html import HTMLSession\n",
    "\n",
    "import numpy as np\n",
    "import pandas as pd\n",
    "\n",
    "from sqlalchemy import (create_engine, MetaData, Table, Column, Integer, Text,\n",
    "                        String, Double, DateTime, insert, select, update, delete)\n",
    "\n",
    "import fitz\n",
    "import pytesseract\n",
    "from PIL import Image\n",
    "from io import BytesIO\n",
    "from pdfminer.high_level import extract_text"
   ]
  },
  {
   "cell_type": "code",
   "execution_count": 2,
   "id": "6f7a2ba9-6f05-4484-b76f-e4bd23d86640",
   "metadata": {},
   "outputs": [],
   "source": [
    "s = HTMLSession()\n",
    "\n",
    "def get_data(url, timeout=3, max_retries=3):\n",
    "    retries = 0\n",
    "    while retries < max_retries:\n",
    "        try:\n",
    "            response = s.get(url, timeout=timeout)\n",
    "            soup = BeautifulSoup(response.text, 'html.parser')\n",
    "            return soup\n",
    "        except requests.exceptions.Timeout:\n",
    "            print(f\"Request timed out for URL: {url}. Retrying ({retries + 1}/{max_retries})...\")\n",
    "            retries += 1\n",
    "        except requests.exceptions.RequestException as e:\n",
    "            print(f\"Error during request to {url}: {e}\")\n",
    "            break  # Break the loop on non-timeout errors\n",
    "\n",
    "    print(f\"Failed to fetch data from {url} after {max_retries} retries.\")\n",
    "    return None"
   ]
  },
  {
   "cell_type": "markdown",
   "id": "1d2ed276-74d2-403c-852f-a2d253fd7ef1",
   "metadata": {},
   "source": [
    "## Downloading PDF"
   ]
  },
  {
   "cell_type": "code",
   "execution_count": 3,
   "id": "f5175c09-6a23-4a7c-824e-d5bb3ae54e73",
   "metadata": {},
   "outputs": [],
   "source": [
    "def download_pdf2(url, path, max_retries=3):\n",
    "    '''\n",
    "    Download a document from a given URL to a specified directory.\n",
    "    URL format: /sites/default/files/[document_name].pdf\n",
    "    '''\n",
    "    retries = 0\n",
    "    while retries < max_retries:\n",
    "        try:\n",
    "            response = s.get(url)\n",
    "            response.raise_for_status()  # Checks for HTTP errors\n",
    "\n",
    "            file_name = url.split('/')[-1]\n",
    "            file_path = os.path.join(path, file_name)\n",
    "\n",
    "            with open(file_path, 'wb') as f:\n",
    "                f.write(response.content)\n",
    "\n",
    "            print(f\"Success: {file_path}\")\n",
    "            break  # Exit loop on successful download\n",
    "        except requests.exceptions.RequestException as e:\n",
    "            print(f\"Attempt {retries + 1} failed: {e}\")\n",
    "            retries += 1\n",
    "\n",
    "    if retries == max_retries:\n",
    "        print(f\"Failed to download file from {url} after {max_retries} retries.\")"
   ]
  },
  {
   "cell_type": "code",
   "execution_count": 4,
   "id": "ed5f10a8-4589-405a-8a06-d08e5f5cad0e",
   "metadata": {},
   "outputs": [],
   "source": [
    "# fixed version\n",
    "def download_pdf(url, path, max_retries=3, timeout=10):\n",
    "    '''\n",
    "    Download a document from a given URL to a specified directory.\n",
    "    URL format: /sites/default/files/[document_name].pdf\n",
    "    '''\n",
    "    retries = 0\n",
    "    backoff = 1  # Initial backoff duration in seconds\n",
    "\n",
    "    while retries < max_retries:\n",
    "        try:\n",
    "            # Check response headers before downloading the full content\n",
    "            with s.get(url, stream=True, timeout=timeout) as r:\n",
    "                r.raise_for_status()  # Checks for HTTP errors\n",
    "\n",
    "                file_name = url.split('/')[-1]\n",
    "                file_path = os.path.join(path, file_name)\n",
    "\n",
    "                with open(file_path, 'wb') as f:\n",
    "                    for chunk in r.iter_content(chunk_size=8192):\n",
    "                        if chunk:  # Filter out keep-alive chunks\n",
    "                            f.write(chunk)\n",
    "\n",
    "            print(f\"Success: {file_path}\")\n",
    "            break  # Exit loop on successful download\n",
    "        except requests.exceptions.RequestException as e:\n",
    "            print(f\"Attempt {retries + 1} failed: {e}\")\n",
    "            sleep(backoff)  # Wait before retrying\n",
    "            backoff *= 2  # Exponential backoff\n",
    "            retries += 1\n",
    "\n",
    "    if retries == max_retries:\n",
    "        print(f\"Failed to download file from {url} after {max_retries} retries.\")"
   ]
  },
  {
   "cell_type": "markdown",
   "id": "8308651a-c717-4ac1-b45a-cc4cb74b6d67",
   "metadata": {},
   "source": [
    "## Creating a CSV data entry/extracting useful fields"
   ]
  },
  {
   "cell_type": "code",
   "execution_count": 5,
   "id": "675f8d71-7ff9-41e4-8a1e-4611cff5b447",
   "metadata": {},
   "outputs": [],
   "source": [
    "# fixed version\n",
    "def get_metadata(url):\n",
    "    '''\n",
    "        Dohvaca meta podatke za zapis sa dane url adrese (/hr/dokument/[ime_dokumenta])\n",
    "    '''\n",
    "    soup = get_data(url)\n",
    "\n",
    "    if not soup:\n",
    "        return (None,) * 5\n",
    "\n",
    "    ime_datoteke, link1, datum, vrsta_dokumenta, kategorija_dokumenta = (None,) * 5\n",
    "\n",
    "    try:\n",
    "        link_element = soup.find('a', href=True, type=lambda value: value and 'application/pdf' in value)\n",
    "        if link_element:\n",
    "            link1 = link_element['href']\n",
    "\n",
    "        datum_element = soup.find('div', class_='datum')\n",
    "        if datum_element:\n",
    "            datum_text = datum_element.text.strip()\n",
    "            datum = datum_text.split('Kreirano: ')[1] if 'Kreirano: ' in datum_text else None\n",
    "\n",
    "        fields = soup.find_all('div', class_='field-item even')\n",
    "        if fields:\n",
    "            ime_datoteke = fields[0].text.strip() if len(fields) > 0 else None\n",
    "            vrsta_dokumenta = fields[1].text.strip() if len(fields) > 1 else None\n",
    "            kategorija_dokumenta = fields[2].text.strip() if len(fields) > 2 else None\n",
    "\n",
    "    except Exception as e:\n",
    "        print(\"Error while extracting data:\", e)\n",
    "\n",
    "    return ime_datoteke, link1, datum, vrsta_dokumenta, kategorija_dokumenta"
   ]
  },
  {
   "cell_type": "code",
   "execution_count": 6,
   "id": "4b9d7d4a-fc26-44c8-88a6-d8919d013d1e",
   "metadata": {},
   "outputs": [
    {
     "data": {
      "text/plain": [
       "('odluka_o_izmjeni_odluke_pok_2023_10_12.pdf',\n",
       " 'https://www.foi.unizg.hr/sites/default/files/odluka_o_izmjeni_odluke_pok_2023_10_12_0.pdf',\n",
       " '18.12.2023',\n",
       " 'Odluka',\n",
       " 'Kvaliteta')"
      ]
     },
     "execution_count": 6,
     "metadata": {},
     "output_type": "execute_result"
    }
   ],
   "source": [
    "metadata = get_metadata('https://www.foi.unizg.hr/hr/dokument/izmjenjena-odluka-pok-2023')\n",
    "metadata"
   ]
  },
  {
   "cell_type": "markdown",
   "id": "92f70302-add4-4419-9b37-01229f778025",
   "metadata": {},
   "source": [
    "## Handling pagination and going through document on the main pages"
   ]
  },
  {
   "cell_type": "code",
   "execution_count": 7,
   "id": "e0932608-d4e8-4351-be04-a9c7d88604d1",
   "metadata": {},
   "outputs": [],
   "source": [
    "def extract_links(span_list):\n",
    "    return [(span.find('a', href = True, target = False)['href'], span.text) for span in span_list]"
   ]
  },
  {
   "cell_type": "code",
   "execution_count": 8,
   "id": "df4698d7-3e74-43af-a599-2f40300b3342",
   "metadata": {},
   "outputs": [],
   "source": [
    "soup = get_data('https://www.foi.unizg.hr/hr/dokumenti')\n",
    "spans = soup.find_all('span', class_ = 'field-content') if soup else None"
   ]
  },
  {
   "cell_type": "code",
   "execution_count": 9,
   "id": "465347b3-9be8-4f6a-b13a-035c9b8aa1f3",
   "metadata": {
    "scrolled": true
   },
   "outputs": [
    {
     "data": {
      "text/plain": [
       "[('/hr/dokument/izmjenjena-odluka-pok-2023', 'Izmjenjena odluka POK-a 2023.'),\n",
       " ('/hr/dokument/odluka-o-raspisivanju-izvanrednih-izbora-studentskog-zbora-suzgfoi',\n",
       "  'Odluka o raspisivanju izvanrednih izbora Studentskog zbora SUZGFOI'),\n",
       " ('/hr/dokument/posebni-dio-financijskog-plana-2024-2026',\n",
       "  'Posebni dio financijskog plana 2024-2026'),\n",
       " ('/hr/dokument/opci-dio-prijedlog-financijskog-plana-2024-2026',\n",
       "  'Opći dio - prijedlog financijskog plana 2024-2026'),\n",
       " ('/hr/dokument/obrazlozenje-posebnog-dijela-financijskog-plana-2024-2026',\n",
       "  'Obrazloženje posebnog dijela financijskog plana 2024-2026'),\n",
       " ('/hr/dokument/obrazlozenje-opceg-dijela-financijskog-plana-2024-2026',\n",
       "  'Obrazloženje općeg dijela financijskog plana 2024-2026'),\n",
       " ('/hr/dokument/dnevni-red-fakultetskog-vijeca-07122023',\n",
       "  'Dnevni red Fakultetskog vijeća 07.12.2023.'),\n",
       " ('/hr/dokument/politika-privatnosti-foi-ja', 'Politika privatnosti FOI-ja'),\n",
       " ('/hr/dokument/popis-gospodarskih-subjekata-s-kojima-se-ne-smije-sklapati-ugovor-o-javnoj-nabavi',\n",
       "  'Popis gospodarskih subjekata s kojima se ne smije sklapati ugovor o javnoj nabavi'),\n",
       " ('/hr/dokument/zakljucak-fakultetskog-vijeca-16112023',\n",
       "  'Zaključak Fakultetskog vijeća 16.11.2023.')]"
      ]
     },
     "execution_count": 9,
     "metadata": {},
     "output_type": "execute_result"
    }
   ],
   "source": [
    "extract_links(spans)"
   ]
  },
  {
   "cell_type": "markdown",
   "id": "baec17c8-6de3-4d39-8c69-8d37e8e6e71f",
   "metadata": {},
   "source": [
    "### Handling pagination"
   ]
  },
  {
   "cell_type": "code",
   "execution_count": 10,
   "id": "b4b9aa5d-57cd-4737-8e13-fef4b730c137",
   "metadata": {},
   "outputs": [],
   "source": [
    "soup = get_data('https://www.foi.unizg.hr/hr/dokumenti')"
   ]
  },
  {
   "cell_type": "code",
   "execution_count": 11,
   "id": "545d96d0-20fa-42ed-8f57-d91b2c3cd90d",
   "metadata": {},
   "outputs": [],
   "source": [
    "def get_next_page(soup):\n",
    "    root_url = 'https://www.foi.unizg.hr'\n",
    "    page = soup.find('ul', class_ = 'pager')\n",
    "    next_btn = page.find('li', class_ = 'pager-next')\n",
    "    if next_btn:\n",
    "        url = root_url + str(next_btn.find('a')['href'])\n",
    "        return url\n",
    "    else:\n",
    "        return None"
   ]
  },
  {
   "cell_type": "code",
   "execution_count": 12,
   "id": "d9611501-5431-43d6-903b-31917c18b8f5",
   "metadata": {
    "scrolled": true
   },
   "outputs": [],
   "source": [
    "def get_urls(url):\n",
    "    urls = []\n",
    "\n",
    "    while True:\n",
    "\n",
    "        soup = get_data(url)\n",
    "\n",
    "        url = get_next_page(soup)\n",
    "        if not url:\n",
    "            break\n",
    "    \n",
    "        print(f'Appending {url}')\n",
    "        urls.append(url)\n",
    "        \n",
    "    return urls"
   ]
  },
  {
   "cell_type": "code",
   "execution_count": 13,
   "id": "8ffdb5c1-bbe6-4843-961d-37634eb24830",
   "metadata": {
    "scrolled": true
   },
   "outputs": [
    {
     "name": "stdout",
     "output_type": "stream",
     "text": [
      "Appending https://www.foi.unizg.hr/hr/dokumenti?page=1\n",
      "Appending https://www.foi.unizg.hr/hr/dokumenti?page=2\n",
      "Appending https://www.foi.unizg.hr/hr/dokumenti?page=3\n",
      "Appending https://www.foi.unizg.hr/hr/dokumenti?page=4\n",
      "Appending https://www.foi.unizg.hr/hr/dokumenti?page=5\n",
      "Appending https://www.foi.unizg.hr/hr/dokumenti?page=6\n",
      "Appending https://www.foi.unizg.hr/hr/dokumenti?page=7\n",
      "Appending https://www.foi.unizg.hr/hr/dokumenti?page=8\n",
      "Appending https://www.foi.unizg.hr/hr/dokumenti?page=9\n",
      "Appending https://www.foi.unizg.hr/hr/dokumenti?page=10\n",
      "Appending https://www.foi.unizg.hr/hr/dokumenti?page=11\n",
      "Appending https://www.foi.unizg.hr/hr/dokumenti?page=12\n",
      "Appending https://www.foi.unizg.hr/hr/dokumenti?page=13\n",
      "Appending https://www.foi.unizg.hr/hr/dokumenti?page=14\n",
      "Appending https://www.foi.unizg.hr/hr/dokumenti?page=15\n",
      "Appending https://www.foi.unizg.hr/hr/dokumenti?page=16\n",
      "Appending https://www.foi.unizg.hr/hr/dokumenti?page=17\n",
      "Appending https://www.foi.unizg.hr/hr/dokumenti?page=18\n",
      "Appending https://www.foi.unizg.hr/hr/dokumenti?page=19\n",
      "Appending https://www.foi.unizg.hr/hr/dokumenti?page=20\n",
      "Appending https://www.foi.unizg.hr/hr/dokumenti?page=21\n",
      "Appending https://www.foi.unizg.hr/hr/dokumenti?page=22\n",
      "Appending https://www.foi.unizg.hr/hr/dokumenti?page=23\n",
      "Appending https://www.foi.unizg.hr/hr/dokumenti?page=24\n",
      "Appending https://www.foi.unizg.hr/hr/dokumenti?page=25\n",
      "Appending https://www.foi.unizg.hr/hr/dokumenti?page=26\n",
      "Appending https://www.foi.unizg.hr/hr/dokumenti?page=27\n",
      "Appending https://www.foi.unizg.hr/hr/dokumenti?page=28\n",
      "Appending https://www.foi.unizg.hr/hr/dokumenti?page=29\n",
      "Appending https://www.foi.unizg.hr/hr/dokumenti?page=30\n",
      "Appending https://www.foi.unizg.hr/hr/dokumenti?page=31\n",
      "Appending https://www.foi.unizg.hr/hr/dokumenti?page=32\n",
      "Appending https://www.foi.unizg.hr/hr/dokumenti?page=33\n",
      "Appending https://www.foi.unizg.hr/hr/dokumenti?page=34\n",
      "Appending https://www.foi.unizg.hr/hr/dokumenti?page=35\n",
      "Appending https://www.foi.unizg.hr/hr/dokumenti?page=36\n",
      "Appending https://www.foi.unizg.hr/hr/dokumenti?page=37\n",
      "Appending https://www.foi.unizg.hr/hr/dokumenti?page=38\n",
      "Appending https://www.foi.unizg.hr/hr/dokumenti?page=39\n",
      "Appending https://www.foi.unizg.hr/hr/dokumenti?page=40\n",
      "Appending https://www.foi.unizg.hr/hr/dokumenti?page=41\n",
      "Appending https://www.foi.unizg.hr/hr/dokumenti?page=42\n",
      "Appending https://www.foi.unizg.hr/hr/dokumenti?page=43\n",
      "Appending https://www.foi.unizg.hr/hr/dokumenti?page=44\n",
      "Appending https://www.foi.unizg.hr/hr/dokumenti?page=45\n",
      "Appending https://www.foi.unizg.hr/hr/dokumenti?page=46\n",
      "Appending https://www.foi.unizg.hr/hr/dokumenti?page=47\n",
      "Appending https://www.foi.unizg.hr/hr/dokumenti?page=48\n",
      "Appending https://www.foi.unizg.hr/hr/dokumenti?page=49\n",
      "Appending https://www.foi.unizg.hr/hr/dokumenti?page=50\n",
      "Appending https://www.foi.unizg.hr/hr/dokumenti?page=51\n",
      "Appending https://www.foi.unizg.hr/hr/dokumenti?page=52\n",
      "Appending https://www.foi.unizg.hr/hr/dokumenti?page=53\n",
      "Appending https://www.foi.unizg.hr/hr/dokumenti?page=54\n",
      "Appending https://www.foi.unizg.hr/hr/dokumenti?page=55\n",
      "Appending https://www.foi.unizg.hr/hr/dokumenti?page=56\n",
      "Appending https://www.foi.unizg.hr/hr/dokumenti?page=57\n",
      "Appending https://www.foi.unizg.hr/hr/dokumenti?page=58\n",
      "Appending https://www.foi.unizg.hr/hr/dokumenti?page=59\n",
      "Appending https://www.foi.unizg.hr/hr/dokumenti?page=60\n",
      "Appending https://www.foi.unizg.hr/hr/dokumenti?page=61\n",
      "Appending https://www.foi.unizg.hr/hr/dokumenti?page=62\n",
      "Appending https://www.foi.unizg.hr/hr/dokumenti?page=63\n",
      "Appending https://www.foi.unizg.hr/hr/dokumenti?page=64\n",
      "Appending https://www.foi.unizg.hr/hr/dokumenti?page=65\n",
      "Appending https://www.foi.unizg.hr/hr/dokumenti?page=66\n",
      "Appending https://www.foi.unizg.hr/hr/dokumenti?page=67\n",
      "Appending https://www.foi.unizg.hr/hr/dokumenti?page=68\n",
      "Appending https://www.foi.unizg.hr/hr/dokumenti?page=69\n",
      "Appending https://www.foi.unizg.hr/hr/dokumenti?page=70\n",
      "Appending https://www.foi.unizg.hr/hr/dokumenti?page=71\n",
      "Appending https://www.foi.unizg.hr/hr/dokumenti?page=72\n",
      "Appending https://www.foi.unizg.hr/hr/dokumenti?page=73\n",
      "Appending https://www.foi.unizg.hr/hr/dokumenti?page=74\n",
      "Appending https://www.foi.unizg.hr/hr/dokumenti?page=75\n",
      "Appending https://www.foi.unizg.hr/hr/dokumenti?page=76\n",
      "Appending https://www.foi.unizg.hr/hr/dokumenti?page=77\n",
      "Appending https://www.foi.unizg.hr/hr/dokumenti?page=78\n",
      "Appending https://www.foi.unizg.hr/hr/dokumenti?page=79\n",
      "Appending https://www.foi.unizg.hr/hr/dokumenti?page=80\n",
      "Appending https://www.foi.unizg.hr/hr/dokumenti?page=81\n",
      "Appending https://www.foi.unizg.hr/hr/dokumenti?page=82\n",
      "Appending https://www.foi.unizg.hr/hr/dokumenti?page=83\n",
      "Appending https://www.foi.unizg.hr/hr/dokumenti?page=84\n",
      "Appending https://www.foi.unizg.hr/hr/dokumenti?page=85\n",
      "Appending https://www.foi.unizg.hr/hr/dokumenti?page=86\n",
      "Appending https://www.foi.unizg.hr/hr/dokumenti?page=87\n",
      "Appending https://www.foi.unizg.hr/hr/dokumenti?page=88\n",
      "Appending https://www.foi.unizg.hr/hr/dokumenti?page=89\n",
      "Appending https://www.foi.unizg.hr/hr/dokumenti?page=90\n",
      "Appending https://www.foi.unizg.hr/hr/dokumenti?page=91\n",
      "Appending https://www.foi.unizg.hr/hr/dokumenti?page=92\n",
      "Appending https://www.foi.unizg.hr/hr/dokumenti?page=93\n"
     ]
    }
   ],
   "source": [
    "urls = get_urls('https://www.foi.unizg.hr/hr/dokumenti')"
   ]
  },
  {
   "cell_type": "code",
   "execution_count": 14,
   "id": "0f06237c-9189-4724-9aed-f9e108eae8be",
   "metadata": {},
   "outputs": [
    {
     "data": {
      "text/plain": [
       "['https://www.foi.unizg.hr/hr/dokumenti?page=1',\n",
       " 'https://www.foi.unizg.hr/hr/dokumenti?page=2',\n",
       " 'https://www.foi.unizg.hr/hr/dokumenti?page=3',\n",
       " 'https://www.foi.unizg.hr/hr/dokumenti?page=4',\n",
       " 'https://www.foi.unizg.hr/hr/dokumenti?page=5']"
      ]
     },
     "execution_count": 14,
     "metadata": {},
     "output_type": "execute_result"
    }
   ],
   "source": [
    "urls[:5]"
   ]
  },
  {
   "cell_type": "markdown",
   "id": "e80ec81f-68ba-4cf5-98f7-42eef952924b",
   "metadata": {},
   "source": [
    "## Downloading in batches"
   ]
  },
  {
   "cell_type": "code",
   "execution_count": 15,
   "id": "71ae8f8a-3a27-4b0b-bde3-d414852d4940",
   "metadata": {},
   "outputs": [],
   "source": [
    "def scrape_page(url):\n",
    "    '''\n",
    "        Prolazi kroz linkove glavne stranice, ekstrahira /hr/dokument/ linkove i\n",
    "        dohvaca meta podatke za svaki dokument\n",
    "    '''\n",
    "    root_url = 'https://www.foi.unizg.hr'\n",
    "    print(f'Scraping {url}')\n",
    "    \n",
    "    soup = get_data(url)\n",
    "    spans = soup.find_all('span', class_ = 'field-content')\n",
    "\n",
    "    links = extract_links(spans)\n",
    "\n",
    "    metadata = [get_metadata(root_url + link[0]) for link in links]\n",
    "\n",
    "    df1 = pd.DataFrame(metadata, columns = ['naziv_datoteke', 'pdf_link', 'datum', 'vrsta_dokumenta', 'kategorija_dokumenta'])\n",
    "    df2 = pd.DataFrame(links, columns = ['metadata_link', 'naslov_dokumenta'])\n",
    "\n",
    "    return pd.concat([df1, df2], axis = 1)"
   ]
  },
  {
   "cell_type": "code",
   "execution_count": 23,
   "id": "5a88476f-4909-49d7-b746-3c4e55d2225e",
   "metadata": {
    "scrolled": true
   },
   "outputs": [
    {
     "name": "stdout",
     "output_type": "stream",
     "text": [
      "Scraping https://www.foi.unizg.hr/hr/dokumenti\n",
      "Scraping https://www.foi.unizg.hr/hr/dokumenti?page=1\n",
      "Scraping https://www.foi.unizg.hr/hr/dokumenti?page=2\n",
      "Scraping https://www.foi.unizg.hr/hr/dokumenti?page=3\n",
      "Scraping https://www.foi.unizg.hr/hr/dokumenti?page=4\n",
      "Scraping https://www.foi.unizg.hr/hr/dokumenti?page=5\n",
      "Scraping https://www.foi.unizg.hr/hr/dokumenti?page=6\n",
      "Scraping https://www.foi.unizg.hr/hr/dokumenti?page=7\n",
      "Scraping https://www.foi.unizg.hr/hr/dokumenti?page=8\n",
      "Scraping https://www.foi.unizg.hr/hr/dokumenti?page=9\n",
      "Scraping https://www.foi.unizg.hr/hr/dokumenti?page=10\n",
      "Scraping https://www.foi.unizg.hr/hr/dokumenti?page=11\n",
      "Scraping https://www.foi.unizg.hr/hr/dokumenti?page=12\n",
      "Scraping https://www.foi.unizg.hr/hr/dokumenti?page=13\n",
      "Scraping https://www.foi.unizg.hr/hr/dokumenti?page=14\n",
      "Scraping https://www.foi.unizg.hr/hr/dokumenti?page=15\n",
      "Scraping https://www.foi.unizg.hr/hr/dokumenti?page=16\n",
      "Scraping https://www.foi.unizg.hr/hr/dokumenti?page=17\n",
      "Scraping https://www.foi.unizg.hr/hr/dokumenti?page=18\n",
      "Scraping https://www.foi.unizg.hr/hr/dokumenti?page=19\n",
      "Scraping https://www.foi.unizg.hr/hr/dokumenti?page=20\n",
      "Scraping https://www.foi.unizg.hr/hr/dokumenti?page=21\n",
      "Scraping https://www.foi.unizg.hr/hr/dokumenti?page=22\n",
      "Scraping https://www.foi.unizg.hr/hr/dokumenti?page=23\n",
      "Scraping https://www.foi.unizg.hr/hr/dokumenti?page=24\n",
      "Scraping https://www.foi.unizg.hr/hr/dokumenti?page=25\n",
      "Scraping https://www.foi.unizg.hr/hr/dokumenti?page=26\n",
      "Scraping https://www.foi.unizg.hr/hr/dokumenti?page=27\n",
      "Scraping https://www.foi.unizg.hr/hr/dokumenti?page=28\n",
      "Scraping https://www.foi.unizg.hr/hr/dokumenti?page=29\n",
      "Scraping https://www.foi.unizg.hr/hr/dokumenti?page=30\n",
      "Scraping https://www.foi.unizg.hr/hr/dokumenti?page=31\n",
      "Scraping https://www.foi.unizg.hr/hr/dokumenti?page=32\n",
      "Scraping https://www.foi.unizg.hr/hr/dokumenti?page=33\n",
      "Scraping https://www.foi.unizg.hr/hr/dokumenti?page=34\n",
      "Scraping https://www.foi.unizg.hr/hr/dokumenti?page=35\n",
      "Scraping https://www.foi.unizg.hr/hr/dokumenti?page=36\n",
      "Scraping https://www.foi.unizg.hr/hr/dokumenti?page=37\n",
      "Scraping https://www.foi.unizg.hr/hr/dokumenti?page=38\n",
      "Scraping https://www.foi.unizg.hr/hr/dokumenti?page=39\n",
      "Scraping https://www.foi.unizg.hr/hr/dokumenti?page=40\n",
      "Scraping https://www.foi.unizg.hr/hr/dokumenti?page=41\n",
      "Scraping https://www.foi.unizg.hr/hr/dokumenti?page=42\n",
      "Scraping https://www.foi.unizg.hr/hr/dokumenti?page=43\n",
      "Scraping https://www.foi.unizg.hr/hr/dokumenti?page=44\n",
      "Scraping https://www.foi.unizg.hr/hr/dokumenti?page=45\n",
      "Scraping https://www.foi.unizg.hr/hr/dokumenti?page=46\n",
      "Scraping https://www.foi.unizg.hr/hr/dokumenti?page=47\n",
      "Scraping https://www.foi.unizg.hr/hr/dokumenti?page=48\n",
      "Scraping https://www.foi.unizg.hr/hr/dokumenti?page=49\n",
      "Scraping https://www.foi.unizg.hr/hr/dokumenti?page=50\n",
      "Scraping https://www.foi.unizg.hr/hr/dokumenti?page=51\n",
      "Scraping https://www.foi.unizg.hr/hr/dokumenti?page=52\n",
      "Scraping https://www.foi.unizg.hr/hr/dokumenti?page=53\n",
      "Scraping https://www.foi.unizg.hr/hr/dokumenti?page=54\n",
      "Scraping https://www.foi.unizg.hr/hr/dokumenti?page=55\n",
      "Scraping https://www.foi.unizg.hr/hr/dokumenti?page=56\n",
      "Scraping https://www.foi.unizg.hr/hr/dokumenti?page=57\n",
      "Scraping https://www.foi.unizg.hr/hr/dokumenti?page=58\n",
      "Scraping https://www.foi.unizg.hr/hr/dokumenti?page=59\n",
      "Scraping https://www.foi.unizg.hr/hr/dokumenti?page=60\n",
      "Scraping https://www.foi.unizg.hr/hr/dokumenti?page=61\n",
      "Scraping https://www.foi.unizg.hr/hr/dokumenti?page=62\n",
      "Scraping https://www.foi.unizg.hr/hr/dokumenti?page=63\n",
      "Scraping https://www.foi.unizg.hr/hr/dokumenti?page=64\n",
      "Scraping https://www.foi.unizg.hr/hr/dokumenti?page=65\n",
      "Scraping https://www.foi.unizg.hr/hr/dokumenti?page=66\n",
      "Scraping https://www.foi.unizg.hr/hr/dokumenti?page=67\n",
      "Scraping https://www.foi.unizg.hr/hr/dokumenti?page=68\n",
      "Scraping https://www.foi.unizg.hr/hr/dokumenti?page=69\n",
      "Scraping https://www.foi.unizg.hr/hr/dokumenti?page=70\n",
      "Scraping https://www.foi.unizg.hr/hr/dokumenti?page=71\n",
      "Scraping https://www.foi.unizg.hr/hr/dokumenti?page=72\n",
      "Scraping https://www.foi.unizg.hr/hr/dokumenti?page=73\n",
      "Scraping https://www.foi.unizg.hr/hr/dokumenti?page=74\n",
      "Scraping https://www.foi.unizg.hr/hr/dokumenti?page=75\n",
      "Scraping https://www.foi.unizg.hr/hr/dokumenti?page=76\n",
      "Scraping https://www.foi.unizg.hr/hr/dokumenti?page=77\n",
      "Scraping https://www.foi.unizg.hr/hr/dokumenti?page=78\n",
      "Scraping https://www.foi.unizg.hr/hr/dokumenti?page=79\n",
      "Scraping https://www.foi.unizg.hr/hr/dokumenti?page=80\n",
      "Scraping https://www.foi.unizg.hr/hr/dokumenti?page=81\n",
      "Scraping https://www.foi.unizg.hr/hr/dokumenti?page=82\n",
      "Scraping https://www.foi.unizg.hr/hr/dokumenti?page=83\n",
      "Scraping https://www.foi.unizg.hr/hr/dokumenti?page=84\n",
      "Scraping https://www.foi.unizg.hr/hr/dokumenti?page=85\n",
      "Scraping https://www.foi.unizg.hr/hr/dokumenti?page=86\n",
      "Scraping https://www.foi.unizg.hr/hr/dokumenti?page=87\n",
      "Scraping https://www.foi.unizg.hr/hr/dokumenti?page=88\n",
      "Scraping https://www.foi.unizg.hr/hr/dokumenti?page=89\n",
      "Scraping https://www.foi.unizg.hr/hr/dokumenti?page=90\n",
      "Scraping https://www.foi.unizg.hr/hr/dokumenti?page=91\n",
      "Scraping https://www.foi.unizg.hr/hr/dokumenti?page=92\n",
      "Scraping https://www.foi.unizg.hr/hr/dokumenti?page=93\n"
     ]
    }
   ],
   "source": [
    "df = scrape_page('https://www.foi.unizg.hr/hr/dokumenti')\n",
    "\n",
    "for url in urls:\n",
    "    new_df = scrape_page(url)\n",
    "    df = pd.concat([df, new_df], axis = 0, ignore_index = True)"
   ]
  },
  {
   "cell_type": "code",
   "execution_count": 22,
   "id": "f7af7d90-3685-4d03-974d-7f5fcfcdaf7b",
   "metadata": {},
   "outputs": [
    {
     "data": {
      "text/plain": [
       "(933, 7)"
      ]
     },
     "execution_count": 22,
     "metadata": {},
     "output_type": "execute_result"
    }
   ],
   "source": [
    "# Sanity check\n",
    "df.shape"
   ]
  },
  {
   "cell_type": "code",
   "execution_count": 23,
   "id": "8928eb60-c6d8-44da-a6c0-8066a955eb83",
   "metadata": {},
   "outputs": [],
   "source": [
    "# Ciscenje dataframea\n",
    "df.dropna(subset = ['pdf_link'], inplace = True)"
   ]
  },
  {
   "cell_type": "code",
   "execution_count": 24,
   "id": "0551ed25-b6cb-47a3-8b04-5881e5bb15b2",
   "metadata": {},
   "outputs": [
    {
     "data": {
      "text/plain": [
       "(868, 7)"
      ]
     },
     "execution_count": 24,
     "metadata": {},
     "output_type": "execute_result"
    }
   ],
   "source": [
    "df.shape"
   ]
  },
  {
   "cell_type": "code",
   "execution_count": 25,
   "id": "5803e722-1f2d-477c-803e-71b51eda621f",
   "metadata": {
    "scrolled": true
   },
   "outputs": [
    {
     "data": {
      "text/html": [
       "<div>\n",
       "<style scoped>\n",
       "    .dataframe tbody tr th:only-of-type {\n",
       "        vertical-align: middle;\n",
       "    }\n",
       "\n",
       "    .dataframe tbody tr th {\n",
       "        vertical-align: top;\n",
       "    }\n",
       "\n",
       "    .dataframe thead th {\n",
       "        text-align: right;\n",
       "    }\n",
       "</style>\n",
       "<table border=\"1\" class=\"dataframe\">\n",
       "  <thead>\n",
       "    <tr style=\"text-align: right;\">\n",
       "      <th></th>\n",
       "      <th>naziv_datoteke</th>\n",
       "      <th>pdf_link</th>\n",
       "      <th>datum</th>\n",
       "      <th>vrsta_dokumenta</th>\n",
       "      <th>kategorija_dokumenta</th>\n",
       "      <th>metadata_link</th>\n",
       "      <th>naslov_dokumenta</th>\n",
       "    </tr>\n",
       "  </thead>\n",
       "  <tbody>\n",
       "    <tr>\n",
       "      <th>0</th>\n",
       "      <td>odluka_o_izmjeni_odluke_pok_2023_10_12.pdf</td>\n",
       "      <td>https://www.foi.unizg.hr/sites/default/files/o...</td>\n",
       "      <td>18.12.2023</td>\n",
       "      <td>Odluka</td>\n",
       "      <td>Kvaliteta</td>\n",
       "      <td>/hr/dokument/izmjenjena-odluka-pok-2023</td>\n",
       "      <td>Izmjenjena odluka POK-a 2023.</td>\n",
       "    </tr>\n",
       "    <tr>\n",
       "      <th>1</th>\n",
       "      <td>odluka-izvanredni_izbori_za_studentski_zbor-si...</td>\n",
       "      <td>https://www.foi.unizg.hr/sites/default/files/o...</td>\n",
       "      <td>12.12.2023</td>\n",
       "      <td>Odluka</td>\n",
       "      <td>Studentski zbor</td>\n",
       "      <td>/hr/dokument/odluka-o-raspisivanju-izvanrednih...</td>\n",
       "      <td>Odluka o raspisivanju izvanrednih izbora Stude...</td>\n",
       "    </tr>\n",
       "    <tr>\n",
       "      <th>6</th>\n",
       "      <td>fv_dnevni_red_2023-12-07_3._sjednica.pdf</td>\n",
       "      <td>https://www.foi.unizg.hr/sites/default/files/f...</td>\n",
       "      <td>07.12.2023</td>\n",
       "      <td>Dnevni red</td>\n",
       "      <td>Fakultetsko vijeće</td>\n",
       "      <td>/hr/dokument/dnevni-red-fakultetskog-vijeca-07...</td>\n",
       "      <td>Dnevni red Fakultetskog vijeća 07.12.2023.</td>\n",
       "    </tr>\n",
       "    <tr>\n",
       "      <th>7</th>\n",
       "      <td>politika-privatnosti-foi.pdf</td>\n",
       "      <td>https://www.foi.unizg.hr/sites/default/files/p...</td>\n",
       "      <td>24.11.2023</td>\n",
       "      <td>None</td>\n",
       "      <td>None</td>\n",
       "      <td>/hr/dokument/politika-privatnosti-foi-ja</td>\n",
       "      <td>Politika privatnosti FOI-ja</td>\n",
       "    </tr>\n",
       "    <tr>\n",
       "      <th>8</th>\n",
       "      <td>popis_gs_u_sukobu_interesa_2023.pdf</td>\n",
       "      <td>https://www.foi.unizg.hr/sites/default/files/p...</td>\n",
       "      <td>20.11.2023</td>\n",
       "      <td>Odluka</td>\n",
       "      <td>Javna nabava</td>\n",
       "      <td>/hr/dokument/popis-gospodarskih-subjekata-s-ko...</td>\n",
       "      <td>Popis gospodarskih subjekata s kojima se ne sm...</td>\n",
       "    </tr>\n",
       "  </tbody>\n",
       "</table>\n",
       "</div>"
      ],
      "text/plain": [
       "                                      naziv_datoteke  \\\n",
       "0         odluka_o_izmjeni_odluke_pok_2023_10_12.pdf   \n",
       "1  odluka-izvanredni_izbori_za_studentski_zbor-si...   \n",
       "6           fv_dnevni_red_2023-12-07_3._sjednica.pdf   \n",
       "7                       politika-privatnosti-foi.pdf   \n",
       "8                popis_gs_u_sukobu_interesa_2023.pdf   \n",
       "\n",
       "                                            pdf_link       datum  \\\n",
       "0  https://www.foi.unizg.hr/sites/default/files/o...  18.12.2023   \n",
       "1  https://www.foi.unizg.hr/sites/default/files/o...  12.12.2023   \n",
       "6  https://www.foi.unizg.hr/sites/default/files/f...  07.12.2023   \n",
       "7  https://www.foi.unizg.hr/sites/default/files/p...  24.11.2023   \n",
       "8  https://www.foi.unizg.hr/sites/default/files/p...  20.11.2023   \n",
       "\n",
       "  vrsta_dokumenta kategorija_dokumenta  \\\n",
       "0          Odluka            Kvaliteta   \n",
       "1          Odluka      Studentski zbor   \n",
       "6      Dnevni red   Fakultetsko vijeće   \n",
       "7            None                 None   \n",
       "8          Odluka         Javna nabava   \n",
       "\n",
       "                                       metadata_link  \\\n",
       "0            /hr/dokument/izmjenjena-odluka-pok-2023   \n",
       "1  /hr/dokument/odluka-o-raspisivanju-izvanrednih...   \n",
       "6  /hr/dokument/dnevni-red-fakultetskog-vijeca-07...   \n",
       "7           /hr/dokument/politika-privatnosti-foi-ja   \n",
       "8  /hr/dokument/popis-gospodarskih-subjekata-s-ko...   \n",
       "\n",
       "                                    naslov_dokumenta  \n",
       "0                      Izmjenjena odluka POK-a 2023.  \n",
       "1  Odluka o raspisivanju izvanrednih izbora Stude...  \n",
       "6         Dnevni red Fakultetskog vijeća 07.12.2023.  \n",
       "7                        Politika privatnosti FOI-ja  \n",
       "8  Popis gospodarskih subjekata s kojima se ne sm...  "
      ]
     },
     "execution_count": 25,
     "metadata": {},
     "output_type": "execute_result"
    }
   ],
   "source": [
    "df.head()"
   ]
  },
  {
   "cell_type": "markdown",
   "id": "be7c09e7-bfad-4277-aab6-41b02bbb8b65",
   "metadata": {},
   "source": [
    "# SQLAlchemy"
   ]
  },
  {
   "cell_type": "code",
   "execution_count": 16,
   "id": "aa60914d-8a1c-47aa-a165-b0b948316468",
   "metadata": {},
   "outputs": [],
   "source": [
    "# Create an in-memory SQLite database\n",
    "engine = create_engine('sqlite:///dokumenti.db')\n",
    "\n",
    "metadata = MetaData()\n",
    "\n",
    "# Define the \"dokument\" table with specified columns\n",
    "dokument = Table('dokument', metadata,\n",
    "                 Column('sifra_dokumenta', Integer, primary_key=True, autoincrement=True),\n",
    "                 Column('naslov_dokumenta', String),\n",
    "                 Column('putanja_datoteke', String),\n",
    "                 Column('url_adresa', String),\n",
    "                 Column('datum', DateTime, default=datetime.datetime.utcnow),\n",
    "                 Column('tekstualni_sadrzaj', Text))\n",
    "\n",
    "# Create the table\n",
    "metadata.create_all(engine)"
   ]
  },
  {
   "cell_type": "code",
   "execution_count": 17,
   "id": "e05eee41-1e8c-44c5-baa8-a4f70fd079b6",
   "metadata": {},
   "outputs": [
    {
     "data": {
      "text/plain": [
       "['sifra_dokumenta',\n",
       " 'naslov_dokumenta',\n",
       " 'putanja_datoteke',\n",
       " 'url_adresa',\n",
       " 'datum',\n",
       " 'tekstualni_sadrzaj']"
      ]
     },
     "execution_count": 17,
     "metadata": {},
     "output_type": "execute_result"
    }
   ],
   "source": [
    "# Checking the created table\n",
    "dokument.columns.keys()"
   ]
  },
  {
   "cell_type": "markdown",
   "id": "ec2bd272-0b13-4389-bbb7-ceb513634cc3",
   "metadata": {},
   "source": [
    "# PDF text extraction"
   ]
  },
  {
   "cell_type": "code",
   "execution_count": 24,
   "id": "8caaa58d-775a-4f6d-9425-aebe80e4956f",
   "metadata": {},
   "outputs": [],
   "source": [
    "def is_scanned_pdf(file_path):\n",
    "    text = extract_text(file_path)\n",
    "    return len(text.strip()) == 0\n",
    "\n",
    "def extract_text_from_scanned_pdf(file_path):\n",
    "    document = fitz.open(file_path)\n",
    "    text = \"\"\n",
    "\n",
    "    for page_num in range(len(document)):\n",
    "        page = document.load_page(page_num)\n",
    "        pix = page.get_pixmap()\n",
    "        image = Image.open(BytesIO(pix.tobytes()))\n",
    "        text += pytesseract.image_to_string(image, lang = 'hrv')\n",
    "\n",
    "    document.close()\n",
    "    return text\n",
    "\n",
    "def extract_text_from_pdf(file_path):\n",
    "    if is_scanned_pdf(file_path):\n",
    "        return extract_text_from_scanned_pdf(file_path)\n",
    "    else:\n",
    "        return extract_text(file_path)"
   ]
  },
  {
   "cell_type": "code",
   "execution_count": 21,
   "id": "2eea1b21-4ccb-497f-b257-d7230671a4c6",
   "metadata": {},
   "outputs": [
    {
     "data": {
      "text/plain": [
       "True"
      ]
     },
     "execution_count": 21,
     "metadata": {},
     "output_type": "execute_result"
    }
   ],
   "source": [
    "# Example usage\n",
    "file_path = './data/dummy_data/scanned.pdf'\n",
    "is_scanned_pdf(file_path)"
   ]
  },
  {
   "cell_type": "code",
   "execution_count": 22,
   "id": "12a2146a-e227-4f9a-a58c-f5f6d35a6b5d",
   "metadata": {},
   "outputs": [
    {
     "data": {
      "text/plain": [
       "\"foi == =\\n\\nKLASA: 303-02/23-0272\\nLURBROJ: 2186-62.01-23-135\\nVara, 17. studenog 2023,\\n\\nTemeljem élanka 60. st. 2. to, 1. Zakona o javnoj nabavi (Narodne novine broj 120/2016, 14/2022),\\nFlaite organizacie informatike Varaddin, Pavinska 2, 0: 02024882310 objavjuje\\n\\nOPIS GOSPODARSKIH SUBJEKATA S KOJIMA NE SMUE SKLAPATI\\n‘UGOVORE 0 JAVNOJ NABAVI\\n\\nUsmis enka 76, Zakona ojanojnabai(Narodnenovine bro 12072018, 1142022) | Oke Fakta\\ncrganizaco | informatike Varaddin od dana 20.11.2018. godine, Klasa: 303-028-022, Urbo|: 218682.\\n08-1179, suob interesa posi se sledetim gospodarski subjektima\\n\\nTomisd.o0, E: Kvatemika 15, Varatdin, CIB: 05963033042\\n\\n(QGP ANALITIKA d.0.0, Draka uica 15, Vrain, O18: 68221757656\\n\\nAGROPROTEINKA dd, Strojarska cesta 11, Sesvete, OB: 60695452345\\n\\n'AGROPROTEINKA - ENERGUA do.0, Strojarska cesta 11, 10360 Sesvete, O18: 90174096121\\n\\nGoolfTech do‘, Ivana Ranger 18, 42000 Varain, OB: 32829800021\\n\\nMCS doo, Pojska 61, trahoninec, O1: 71383013024\\n\\n48}, cbt za informath, Ua T. Miskuina 26, Veradin, CIB: 61414676958\\n\\n‘ShinySoluions, cbt za informatike usige i projetino savotoanje, Nedelane, Varazdnska 23,\\n\\nVidoveo, O18: 39706577721\\n\\nInfo Job, cbt zainformaticheuslige, vl, Zatho Stapt, M. Vidowé 18, Veratin,O1B: 91319642231\\n\\n‘© Servam, obrt za knjgovodstvene ustuge, vi. Jelena Stapé, M. Vidowé 18, Varaidin, OIB:\\n98902778317\\n\\n‘+ DS Memorabia ort za rgovnu,v. Dario Stapit, Augusta Senoe 22, Zagreb, OB: 42087542861\\n\\n© Totka d0., Biskupetka 44b, Varatdin, O18: 82036412781\\n\\n‘Sukladno zakonskoj obvez ova se informaciia cbjavije se na internetskim stranicama naruétela\\n\\n       \\n\\npo KAMICA\\nPro, crane er Calopa\\n\\x0c\""
      ]
     },
     "execution_count": 22,
     "metadata": {},
     "output_type": "execute_result"
    }
   ],
   "source": [
    "text = extract_text_from_pdf(file_path)\n",
    "text"
   ]
  },
  {
   "cell_type": "code",
   "execution_count": 106,
   "id": "73eb7196-84f9-48f0-851a-280860a47a99",
   "metadata": {},
   "outputs": [],
   "source": [
    "df['text'] = None"
   ]
  },
  {
   "cell_type": "code",
   "execution_count": 95,
   "id": "d2d5540a-845f-484a-8e35-1d90069bd245",
   "metadata": {},
   "outputs": [
    {
     "name": "stdout",
     "output_type": "stream",
     "text": [
      "Success: ./data/dummy_data/odluka_o_izmjeni_odluke_pok_2023_10_12_0.pdf\n"
     ]
    }
   ],
   "source": [
    "# download pdf -> extract text -> put it the text field\n",
    "link = df.iloc[0].pdf_link\n",
    "download_pdf(link, './data/dummy_data')"
   ]
  },
  {
   "cell_type": "code",
   "execution_count": 96,
   "id": "06a97cd6-d979-4e86-89a3-9be36fe0928e",
   "metadata": {},
   "outputs": [
    {
     "data": {
      "text/plain": [
       "'./data/dummy_data/odluka_o_izmjeni_odluke_pok_2023_10_12_0.pdf'"
      ]
     },
     "execution_count": 96,
     "metadata": {},
     "output_type": "execute_result"
    }
   ],
   "source": [
    "file_path = './data/dummy_data/' + link.split('/')[-1]\n",
    "file_path"
   ]
  },
  {
   "cell_type": "code",
   "execution_count": 102,
   "id": "9fa44eb6-04df-47c2-82e5-21f51276bc87",
   "metadata": {},
   "outputs": [
    {
     "data": {
      "text/html": [
       "<div>\n",
       "<style scoped>\n",
       "    .dataframe tbody tr th:only-of-type {\n",
       "        vertical-align: middle;\n",
       "    }\n",
       "\n",
       "    .dataframe tbody tr th {\n",
       "        vertical-align: top;\n",
       "    }\n",
       "\n",
       "    .dataframe thead th {\n",
       "        text-align: right;\n",
       "    }\n",
       "</style>\n",
       "<table border=\"1\" class=\"dataframe\">\n",
       "  <thead>\n",
       "    <tr style=\"text-align: right;\">\n",
       "      <th></th>\n",
       "      <th>naziv_datoteke</th>\n",
       "      <th>pdf_link</th>\n",
       "      <th>datum</th>\n",
       "      <th>vrsta_dokumenta</th>\n",
       "      <th>kategorija_dokumenta</th>\n",
       "      <th>metadata_link</th>\n",
       "      <th>naslov_dokumenta</th>\n",
       "      <th>text</th>\n",
       "    </tr>\n",
       "  </thead>\n",
       "  <tbody>\n",
       "    <tr>\n",
       "      <th>0</th>\n",
       "      <td>odluka_o_izmjeni_odluke_pok_2023_10_12.pdf</td>\n",
       "      <td>https://www.foi.unizg.hr/sites/default/files/o...</td>\n",
       "      <td>18.12.2023</td>\n",
       "      <td>Odluka</td>\n",
       "      <td>Kvaliteta</td>\n",
       "      <td>/hr/dokument/izmjenjena-odluka-pok-2023</td>\n",
       "      <td>Izmjenjena odluka POK-a 2023.</td>\n",
       "      <td>KLASA: 602-04/23-06/1 \\nURBROJ: 2186-62-06-23-...</td>\n",
       "    </tr>\n",
       "    <tr>\n",
       "      <th>1</th>\n",
       "      <td>odluka-izvanredni_izbori_za_studentski_zbor-si...</td>\n",
       "      <td>https://www.foi.unizg.hr/sites/default/files/o...</td>\n",
       "      <td>12.12.2023</td>\n",
       "      <td>Odluka</td>\n",
       "      <td>Studentski zbor</td>\n",
       "      <td>/hr/dokument/odluka-o-raspisivanju-izvanrednih...</td>\n",
       "      <td>Odluka o raspisivanju izvanrednih izbora Stude...</td>\n",
       "      <td>None</td>\n",
       "    </tr>\n",
       "    <tr>\n",
       "      <th>6</th>\n",
       "      <td>fv_dnevni_red_2023-12-07_3._sjednica.pdf</td>\n",
       "      <td>https://www.foi.unizg.hr/sites/default/files/f...</td>\n",
       "      <td>07.12.2023</td>\n",
       "      <td>Dnevni red</td>\n",
       "      <td>Fakultetsko vijeće</td>\n",
       "      <td>/hr/dokument/dnevni-red-fakultetskog-vijeca-07...</td>\n",
       "      <td>Dnevni red Fakultetskog vijeća 07.12.2023.</td>\n",
       "      <td>None</td>\n",
       "    </tr>\n",
       "    <tr>\n",
       "      <th>7</th>\n",
       "      <td>politika-privatnosti-foi.pdf</td>\n",
       "      <td>https://www.foi.unizg.hr/sites/default/files/p...</td>\n",
       "      <td>24.11.2023</td>\n",
       "      <td>None</td>\n",
       "      <td>None</td>\n",
       "      <td>/hr/dokument/politika-privatnosti-foi-ja</td>\n",
       "      <td>Politika privatnosti FOI-ja</td>\n",
       "      <td>None</td>\n",
       "    </tr>\n",
       "    <tr>\n",
       "      <th>8</th>\n",
       "      <td>popis_gs_u_sukobu_interesa_2023.pdf</td>\n",
       "      <td>https://www.foi.unizg.hr/sites/default/files/p...</td>\n",
       "      <td>20.11.2023</td>\n",
       "      <td>Odluka</td>\n",
       "      <td>Javna nabava</td>\n",
       "      <td>/hr/dokument/popis-gospodarskih-subjekata-s-ko...</td>\n",
       "      <td>Popis gospodarskih subjekata s kojima se ne sm...</td>\n",
       "      <td>None</td>\n",
       "    </tr>\n",
       "  </tbody>\n",
       "</table>\n",
       "</div>"
      ],
      "text/plain": [
       "                                      naziv_datoteke  \\\n",
       "0         odluka_o_izmjeni_odluke_pok_2023_10_12.pdf   \n",
       "1  odluka-izvanredni_izbori_za_studentski_zbor-si...   \n",
       "6           fv_dnevni_red_2023-12-07_3._sjednica.pdf   \n",
       "7                       politika-privatnosti-foi.pdf   \n",
       "8                popis_gs_u_sukobu_interesa_2023.pdf   \n",
       "\n",
       "                                            pdf_link       datum  \\\n",
       "0  https://www.foi.unizg.hr/sites/default/files/o...  18.12.2023   \n",
       "1  https://www.foi.unizg.hr/sites/default/files/o...  12.12.2023   \n",
       "6  https://www.foi.unizg.hr/sites/default/files/f...  07.12.2023   \n",
       "7  https://www.foi.unizg.hr/sites/default/files/p...  24.11.2023   \n",
       "8  https://www.foi.unizg.hr/sites/default/files/p...  20.11.2023   \n",
       "\n",
       "  vrsta_dokumenta kategorija_dokumenta  \\\n",
       "0          Odluka            Kvaliteta   \n",
       "1          Odluka      Studentski zbor   \n",
       "6      Dnevni red   Fakultetsko vijeće   \n",
       "7            None                 None   \n",
       "8          Odluka         Javna nabava   \n",
       "\n",
       "                                       metadata_link  \\\n",
       "0            /hr/dokument/izmjenjena-odluka-pok-2023   \n",
       "1  /hr/dokument/odluka-o-raspisivanju-izvanrednih...   \n",
       "6  /hr/dokument/dnevni-red-fakultetskog-vijeca-07...   \n",
       "7           /hr/dokument/politika-privatnosti-foi-ja   \n",
       "8  /hr/dokument/popis-gospodarskih-subjekata-s-ko...   \n",
       "\n",
       "                                    naslov_dokumenta  \\\n",
       "0                      Izmjenjena odluka POK-a 2023.   \n",
       "1  Odluka o raspisivanju izvanrednih izbora Stude...   \n",
       "6         Dnevni red Fakultetskog vijeća 07.12.2023.   \n",
       "7                        Politika privatnosti FOI-ja   \n",
       "8  Popis gospodarskih subjekata s kojima se ne sm...   \n",
       "\n",
       "                                                text  \n",
       "0  KLASA: 602-04/23-06/1 \\nURBROJ: 2186-62-06-23-...  \n",
       "1                                               None  \n",
       "6                                               None  \n",
       "7                                               None  \n",
       "8                                               None  "
      ]
     },
     "execution_count": 102,
     "metadata": {},
     "output_type": "execute_result"
    }
   ],
   "source": [
    "text = extract_text_from_pdf(file_path)\n",
    "df.at[0, 'text'] = text\n",
    "df.head()"
   ]
  },
  {
   "cell_type": "code",
   "execution_count": 109,
   "id": "7b9d2dd5-fbd2-4a8f-b15b-69bc04e517ca",
   "metadata": {},
   "outputs": [
    {
     "data": {
      "text/plain": [
       "'KLASA: 602-04/23-06/1 \\nURBROJ: 2186-62-06-23-76 \\nVaraždin, 19. listopada 2023. \\n\\nNa temelju članka 53. Statuta Sveučilišta u Zagrebu Fakulteta organizacije i informatike (dalje u \\ntekstu: Fakultet) i članka 8. i 9. Pravilnika o sustavu osiguravanja kvalitete Sveučilišta u Zagrebu \\nFakulteta organizacije i informatike (u daljnjem tekstu: Pravilnik), Fakultetsko vijeće Fakulteta, \\nna sjednici održanoj 19. listopada 2023. godine, donosi \\n\\nO D L U K U  \\n\\nI. \\nProf. dr. sc. Renata Mekovec imenuje se za predsjednicu Povjerenstva za osiguravanje kvalitete \\nSveučilišta  u  Zagrebu  Fakulteta  organizacije  i  informatike  (u  daljnjem  tekstu:  Povjerenstvo) \\numjesto dosadašnjeg predsjednika prof. dr. sc. Zlatka Erjavca, a koji će kao član Uprave Fakulteta \\ndjelovati u Povjerenstvu kao predstavnik Uprave i koordinator Povjerenstva.  \\n\\nProf.  dr.  sc.  Sandra  Lovrenčić  imenuje  se  za  zamjenicu  predsjednice  Povjerenstva  umjesto \\ndosadašnje zamjenice predsjednika Povjerenstva prof. dr. sc. Renate Mekovec. \\n\\nStudentica Ana Novak imenuje se za članicu Povjerenstva umjesto Ivane Cindrić, studentice. \\n\\nPovjerenstvo djeluje u sljedećem sastavu:  \\n\\nII. \\n\\n1. \\n2. \\n3. \\n4. \\n5. \\n6. \\n7. \\n8. \\n9. \\n\\nProf. dr. sc. Renata Mekovec - predsjednica \\nProf. dr. sc. Sandra Lovrenčić – zamjenica predsjednice \\nProf. dr. sc. Valentina Kirinić, članica \\nIzv. prof. dr. sc. Goran Hajdin – član \\nIzv. prof. dr. sc. Iva Gregurec - članica  \\nDr. sc. Ivana Đunđek, viša asistentica - članica \\nMaja Šalamun, mag. oec. - članica \\nAna Novak, studentica - članica  \\nTanja Bulbuk Jergović, predstavnik vanjskih dionika (Infinum) – članica \\n\\nZadaci Povjerenstva definirani su članom 8. Pravilnika. \\n\\nMandat Predsjednika i članova Povjerenstva je četiri (4), a predstavnika studenata dvije (2) godine \\nsukladno odluci o imenovanju od 21. svibnja 2020. godine i odluci od 14. lipnja 2022. godine i \\ntraje do 21. svibnja 2024. godine. \\n\\nOsobom zaduženom za praćenje rada Povjerenstva imenovana je Nela Kivač, mag. iur. \\n\\n \\n \\n \\n \\n \\n \\n \\n \\n \\n \\n \\n \\n\\x0cIII. \\nOvom odlukom mijenja se odluka od 21. svibnja 2020. godine i odluka od dana 14. lipnja 2022. \\ngodine. \\n\\nO b r a z l o ž e n j e \\n\\nTemeljem  odredbi  Pravilnika  tijela  Fakulteta  odgovorna  za  sustav  osiguravanja  kvalitete  su \\nFakultetsko  vijeće  i  Povjerenstvo.  Ustroj  i  djelovanje  Povjerenstva  definirani  su  Pravilnikom. \\nOdlukom Fakultetskog vijeća od 21. svibnja 2020. godine bilo je imenovano Povjerenstvo te je \\n14.  lipnja  2022.  godine  prethodna  odluka  izmijenjena.  Budući  da  je  dosadašnji  predsjednik \\nPovjerenstva prof. dr. sc. Zlatko Erjavec postao član Uprave Fakulteta, nije više mogao, sukladno \\nPravilniku,  biti  član  Povjerenstva  te  je  došlo  do  potrebe  za  imenovanjem  nove  predsjednice \\nPovjerenstva prof. dr. sc. Renate Mekovec.  Nadalje, istekom mandata prodekanice prof. dr. sc. \\nSandre Lovrenčić bilo je potrebno imenovati novog predstavnika Uprave Fakulteta koji je  sada \\nujedno  i  koordinator  Povjerenstva.  Prof.  dr.  sc.  Sandra  Lovrenčić  imenovana  je  za  zamjenicu \\npredsjednice,  obzirom  da  je  dosadašnja  zamjenica  predsjednika  Povjerenstva  sada  imenovana \\npredsjednicom  Povjerenstva.  Budući  da  je  dosadašnjoj  članici  povjerenstva  studentici  Ivani \\nCindrić,  predstavnici  studenata,  prestao  mandat  došlo  je  do  potrebe  za  imenovanjem  novog \\npredstavnika studenata u Povjerenstvo. \\n\\nMandat članova povjerenstva traje sukladno prethodnim odlukama. \\n\\nTemeljem navedenog donijeta je odluka kao u dispozitivu. \\n\\n D E K A N I C A :  \\n\\n         Prof. dr. sc. Marina Klačmer Čalopa \\n\\nDostaviti: \\n\\n1.  Članovima povjerenstva \\n2.  Pismohrana'"
      ]
     },
     "execution_count": 109,
     "metadata": {},
     "output_type": "execute_result"
    }
   ],
   "source": [
    "text.strip()"
   ]
  },
  {
   "cell_type": "code",
   "execution_count": null,
   "id": "19de5699-c3eb-46ea-a8a0-e7ef45aec0cb",
   "metadata": {},
   "outputs": [],
   "source": []
  }
 ],
 "metadata": {
  "kernelspec": {
   "display_name": "Python 3 (ipykernel)",
   "language": "python",
   "name": "python3"
  },
  "language_info": {
   "codemirror_mode": {
    "name": "ipython",
    "version": 3
   },
   "file_extension": ".py",
   "mimetype": "text/x-python",
   "name": "python",
   "nbconvert_exporter": "python",
   "pygments_lexer": "ipython3",
   "version": "3.10.12"
  }
 },
 "nbformat": 4,
 "nbformat_minor": 5
}
