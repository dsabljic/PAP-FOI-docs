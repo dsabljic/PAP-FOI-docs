{
 "cells": [
  {
   "cell_type": "markdown",
   "id": "a41ead12-0d94-4d08-983d-b8b4320b353a",
   "metadata": {},
   "source": [
    "# Zadatak"
   ]
  },
  {
   "cell_type": "markdown",
   "id": "dcdaf0b4-0a8a-4728-bed8-418247dbc84c",
   "metadata": {},
   "source": [
    "Na adresi https://www.foi.unizg.hr/hr/dokumenti nalazi se baza dokumenata Fakulteta organizacije i informatike. Većina dokumenata zadana je u PDF formatu, no neki od dokumenata su čitki (vektorski format) dok su drugi skenirani (rasterski format). Potrebno je:\n",
    "1) Implementirati program koji će skinuti sve PDF dokumente na lokalno računalo (ili Google Colab / Drive direktorij)\n",
    "2) Kreirati bazu podataka (SQLite) koja će sadržavati jednu tablicu \"dokument\". Tablica treba sadržavati šifru dokumenta (autonumber), naslov dokumenta, putanju datoteke (path i filename na lokalnom računalu), URL adresu s koje je dokument skinut, datum, te tekstualni sadržaj dokumenta.\n",
    "3) Posebno za zadnje polje u tablici potrebno je svaki dokument učitati i ekstrahirati tekst (primjerice putem Python modula PDFMiner - https://github.com/pdfminer/pdfminer.six). Ukoliko je dokument skeniran potrebno je koristiti odgovarajući OCR modul za ekstrakciju teksta (npr. PyTesseract https://pypi.org/project/pytesseract/).\n",
    "4) Omogućiti pristup skupu podataka putem REST API-ja koji omogućuje isključivo pretraživanje podataka putem:(a) pretraživanja ključnih riječi u tekstu (npr. boolean search), (b) pretraživanje ključnih riječi u naslovu (c) pregled prema datumu (npr. dokumenti od DATUM do DATUM), (d) izlistavanje svih dokumenata."
   ]
  },
  {
   "cell_type": "markdown",
   "id": "2e68a3b4-55d3-479c-bf0f-1869abb1df82",
   "metadata": {},
   "source": [
    "# Prikupljanje podataka"
   ]
  },
  {
   "cell_type": "code",
   "execution_count": 1,
   "id": "64da7c03-2c3e-4e6a-b590-da1c9f01f41d",
   "metadata": {},
   "outputs": [],
   "source": [
    "!mkdir -p data/pdfs data/dummy_data"
   ]
  },
  {
   "cell_type": "code",
   "execution_count": 128,
   "id": "46496a2f-5af6-4bfa-b980-3a4c01a39a5d",
   "metadata": {},
   "outputs": [],
   "source": [
    "import os\n",
    "import sys\n",
    "import csv\n",
    "import datetime\n",
    "import time\n",
    "\n",
    "import requests\n",
    "from bs4 import BeautifulSoup\n",
    "from requests_html import HTMLSession\n",
    "\n",
    "import numpy as np\n",
    "import pandas as pd\n",
    "\n",
    "from sqlalchemy import (create_engine, MetaData, Table, Column, Integer, Text,\n",
    "                        String, Double, DateTime, insert, select, update, delete, text)\n",
    "\n",
    "import fitz\n",
    "import pytesseract\n",
    "from PIL import Image\n",
    "from io import BytesIO\n",
    "from pdfminer.high_level import extract_text"
   ]
  },
  {
   "cell_type": "code",
   "execution_count": 47,
   "id": "6f7a2ba9-6f05-4484-b76f-e4bd23d86640",
   "metadata": {},
   "outputs": [],
   "source": [
    "s = HTMLSession()\n",
    "\n",
    "def get_data(url, timeout=3, max_retries=3):\n",
    "    retries = 0\n",
    "    while retries < max_retries:\n",
    "        try:\n",
    "            response = s.get(url, timeout=timeout)\n",
    "            soup = BeautifulSoup(response.text, 'html.parser')\n",
    "            return soup\n",
    "        except requests.exceptions.Timeout:\n",
    "            print(f\"Request timed out for URL: {url}. Retrying ({retries + 1}/{max_retries})...\")\n",
    "            retries += 1\n",
    "        except requests.exceptions.RequestException as e:\n",
    "            print(f\"Error during request to {url}: {e}\")\n",
    "            break  # Break the loop on non-timeout errors\n",
    "\n",
    "    print(f\"Failed to fetch data from {url} after {max_retries} retries.\")\n",
    "    return None"
   ]
  },
  {
   "cell_type": "markdown",
   "id": "1d2ed276-74d2-403c-852f-a2d253fd7ef1",
   "metadata": {},
   "source": [
    "## Downloading PDF"
   ]
  },
  {
   "cell_type": "code",
   "execution_count": 100,
   "id": "f5175c09-6a23-4a7c-824e-d5bb3ae54e73",
   "metadata": {},
   "outputs": [],
   "source": [
    "def download_pdf2(url, path, max_retries=3):\n",
    "    '''\n",
    "    Download a document from a given URL to a specified directory.\n",
    "    URL format: /sites/default/files/[document_name].pdf\n",
    "    '''\n",
    "    file_path = None\n",
    "    retries = 0\n",
    "    while retries < max_retries:\n",
    "        try:\n",
    "            response = s.get(url, timeout = 3)\n",
    "            response.raise_for_status()  # Checks for HTTP errors\n",
    "\n",
    "            file_name = url.split('/')[-1]\n",
    "            file_path = os.path.join(path, file_name)\n",
    "\n",
    "            with open(file_path, 'wb') as f:\n",
    "                f.write(response.content)\n",
    "\n",
    "            print(f\"Success: {file_path}\")\n",
    "            break  # Exit loop on successful download\n",
    "        except requests.exceptions.RequestException as e:\n",
    "            print(f\"Attempt {retries + 1} failed: {e}\")\n",
    "            retries += 1\n",
    "\n",
    "    if retries == max_retries:\n",
    "        print(f\"Failed to download file from {url} after {max_retries} retries.\")\n",
    "\n",
    "    return file_path"
   ]
  },
  {
   "cell_type": "code",
   "execution_count": 5,
   "id": "ed5f10a8-4589-405a-8a06-d08e5f5cad0e",
   "metadata": {},
   "outputs": [],
   "source": [
    "# fixed version\n",
    "def download_pdf(url, path, max_retries=3, timeout=10):\n",
    "    '''\n",
    "    Download a document from a given URL to a specified directory.\n",
    "    URL format: /sites/default/files/[document_name].pdf\n",
    "    '''\n",
    "    retries = 0\n",
    "    backoff = 1  # Initial backoff duration in seconds\n",
    "\n",
    "    while retries < max_retries:\n",
    "        try:\n",
    "            # Check response headers before downloading the full content\n",
    "            with s.get(url, stream=True, timeout=timeout) as r:\n",
    "                r.raise_for_status()  # Checks for HTTP errors\n",
    "\n",
    "                file_name = url.split('/')[-1]\n",
    "                file_path = os.path.join(path, file_name)\n",
    "\n",
    "                with open(file_path, 'wb') as f:\n",
    "                    for chunk in r.iter_content(chunk_size=8192):\n",
    "                        if chunk:  # Filter out keep-alive chunks\n",
    "                            f.write(chunk)\n",
    "\n",
    "            print(f\"Success: {file_path}\")\n",
    "            break  # Exit loop on successful download\n",
    "        except requests.exceptions.RequestException as e:\n",
    "            print(f\"Attempt {retries + 1} failed: {e}\")\n",
    "            sleep(backoff)  # Wait before retrying\n",
    "            backoff *= 2  # Exponential backoff\n",
    "            retries += 1\n",
    "\n",
    "    if retries == max_retries:\n",
    "        print(f\"Failed to download file from {url} after {max_retries} retries.\")"
   ]
  },
  {
   "cell_type": "markdown",
   "id": "8308651a-c717-4ac1-b45a-cc4cb74b6d67",
   "metadata": {},
   "source": [
    "## Creating a CSV data entry/extracting useful fields"
   ]
  },
  {
   "cell_type": "code",
   "execution_count": 42,
   "id": "675f8d71-7ff9-41e4-8a1e-4611cff5b447",
   "metadata": {},
   "outputs": [],
   "source": [
    "# fixed version\n",
    "def get_metadata(url):\n",
    "    '''\n",
    "        Dohvaca meta podatke za zapis sa dane url adrese (/hr/dokument/[ime_dokumenta])\n",
    "    '''\n",
    "    soup = get_data(url)\n",
    "\n",
    "    if not soup:\n",
    "        return (None,) * 5\n",
    "\n",
    "    ime_datoteke, link1, datum, vrsta_dokumenta, kategorija_dokumenta = (None,) * 5\n",
    "\n",
    "    try:\n",
    "        link_element = soup.find('a', href=True, type=lambda value: value and 'application/pdf' in value)\n",
    "        if link_element:\n",
    "            link1 = link_element['href']\n",
    "\n",
    "        datum_element = soup.find('div', class_='datum')\n",
    "        if datum_element:\n",
    "            datum_text = datum_element.text.strip()\n",
    "            datum = datum_text.split('Kreirano: ')[1] if 'Kreirano: ' in datum_text else None\n",
    "\n",
    "        fields = soup.find_all('div', class_='field-item even')\n",
    "        if fields:\n",
    "            ime_datoteke = fields[0].text.strip() if len(fields) > 0 else None\n",
    "            vrsta_dokumenta = fields[1].text.strip() if len(fields) > 1 else None\n",
    "            kategorija_dokumenta = fields[2].text.strip() if len(fields) > 2 else None\n",
    "\n",
    "    except Exception as e:\n",
    "        print(\"Error while extracting data:\", e)\n",
    "\n",
    "    return ime_datoteke, link1, datum, vrsta_dokumenta, kategorija_dokumenta"
   ]
  },
  {
   "cell_type": "code",
   "execution_count": 43,
   "id": "4b9d7d4a-fc26-44c8-88a6-d8919d013d1e",
   "metadata": {},
   "outputs": [
    {
     "data": {
      "text/plain": [
       "('odluka_o_izmjeni_odluke_pok_2023_10_12.pdf',\n",
       " 'https://www.foi.unizg.hr/sites/default/files/odluka_o_izmjeni_odluke_pok_2023_10_12_0.pdf',\n",
       " '18.12.2023',\n",
       " 'Odluka',\n",
       " 'Kvaliteta')"
      ]
     },
     "execution_count": 43,
     "metadata": {},
     "output_type": "execute_result"
    }
   ],
   "source": [
    "metadata = get_metadata('https://www.foi.unizg.hr/hr/dokument/izmjenjena-odluka-pok-2023')\n",
    "metadata"
   ]
  },
  {
   "cell_type": "markdown",
   "id": "92f70302-add4-4419-9b37-01229f778025",
   "metadata": {},
   "source": [
    "## Handling pagination and going through document on the main pages"
   ]
  },
  {
   "cell_type": "code",
   "execution_count": 8,
   "id": "e0932608-d4e8-4351-be04-a9c7d88604d1",
   "metadata": {},
   "outputs": [],
   "source": [
    "def extract_links(span_list):\n",
    "    return [(span.find('a', href = True, target = False)['href'], span.text) for span in span_list]"
   ]
  },
  {
   "cell_type": "code",
   "execution_count": 9,
   "id": "df4698d7-3e74-43af-a599-2f40300b3342",
   "metadata": {},
   "outputs": [],
   "source": [
    "soup = get_data('https://www.foi.unizg.hr/hr/dokumenti')\n",
    "spans = soup.find_all('span', class_ = 'field-content') if soup else None"
   ]
  },
  {
   "cell_type": "code",
   "execution_count": 10,
   "id": "465347b3-9be8-4f6a-b13a-035c9b8aa1f3",
   "metadata": {
    "scrolled": true
   },
   "outputs": [
    {
     "data": {
      "text/plain": [
       "[('/hr/dokument/izmjenjena-odluka-pok-2023', 'Izmjenjena odluka POK-a 2023.'),\n",
       " ('/hr/dokument/odluka-o-raspisivanju-izvanrednih-izbora-studentskog-zbora-suzgfoi',\n",
       "  'Odluka o raspisivanju izvanrednih izbora Studentskog zbora SUZGFOI'),\n",
       " ('/hr/dokument/posebni-dio-financijskog-plana-2024-2026',\n",
       "  'Posebni dio financijskog plana 2024-2026'),\n",
       " ('/hr/dokument/opci-dio-prijedlog-financijskog-plana-2024-2026',\n",
       "  'Opći dio - prijedlog financijskog plana 2024-2026'),\n",
       " ('/hr/dokument/obrazlozenje-posebnog-dijela-financijskog-plana-2024-2026',\n",
       "  'Obrazloženje posebnog dijela financijskog plana 2024-2026'),\n",
       " ('/hr/dokument/obrazlozenje-opceg-dijela-financijskog-plana-2024-2026',\n",
       "  'Obrazloženje općeg dijela financijskog plana 2024-2026'),\n",
       " ('/hr/dokument/dnevni-red-fakultetskog-vijeca-07122023',\n",
       "  'Dnevni red Fakultetskog vijeća 07.12.2023.'),\n",
       " ('/hr/dokument/politika-privatnosti-foi-ja', 'Politika privatnosti FOI-ja'),\n",
       " ('/hr/dokument/popis-gospodarskih-subjekata-s-kojima-se-ne-smije-sklapati-ugovor-o-javnoj-nabavi',\n",
       "  'Popis gospodarskih subjekata s kojima se ne smije sklapati ugovor o javnoj nabavi'),\n",
       " ('/hr/dokument/zakljucak-fakultetskog-vijeca-16112023',\n",
       "  'Zaključak Fakultetskog vijeća 16.11.2023.')]"
      ]
     },
     "execution_count": 10,
     "metadata": {},
     "output_type": "execute_result"
    }
   ],
   "source": [
    "extract_links(spans)"
   ]
  },
  {
   "cell_type": "markdown",
   "id": "baec17c8-6de3-4d39-8c69-8d37e8e6e71f",
   "metadata": {},
   "source": [
    "### Handling pagination"
   ]
  },
  {
   "cell_type": "code",
   "execution_count": 11,
   "id": "b4b9aa5d-57cd-4737-8e13-fef4b730c137",
   "metadata": {},
   "outputs": [],
   "source": [
    "soup = get_data('https://www.foi.unizg.hr/hr/dokumenti')"
   ]
  },
  {
   "cell_type": "code",
   "execution_count": 12,
   "id": "545d96d0-20fa-42ed-8f57-d91b2c3cd90d",
   "metadata": {},
   "outputs": [],
   "source": [
    "def get_next_page(soup):\n",
    "    root_url = 'https://www.foi.unizg.hr'\n",
    "    page = soup.find('ul', class_ = 'pager')\n",
    "    next_btn = page.find('li', class_ = 'pager-next')\n",
    "    if next_btn:\n",
    "        url = root_url + str(next_btn.find('a')['href'])\n",
    "        return url\n",
    "    else:\n",
    "        return None"
   ]
  },
  {
   "cell_type": "code",
   "execution_count": 13,
   "id": "d9611501-5431-43d6-903b-31917c18b8f5",
   "metadata": {
    "scrolled": true
   },
   "outputs": [],
   "source": [
    "def get_urls(url):\n",
    "    urls = []\n",
    "\n",
    "    while True:\n",
    "\n",
    "        soup = get_data(url)\n",
    "\n",
    "        url = get_next_page(soup)\n",
    "        if not url:\n",
    "            break\n",
    "    \n",
    "        print(f'Appending {url}')\n",
    "        urls.append(url)\n",
    "        \n",
    "    return urls"
   ]
  },
  {
   "cell_type": "code",
   "execution_count": 14,
   "id": "8ffdb5c1-bbe6-4843-961d-37634eb24830",
   "metadata": {
    "scrolled": true
   },
   "outputs": [
    {
     "name": "stdout",
     "output_type": "stream",
     "text": [
      "Appending https://www.foi.unizg.hr/hr/dokumenti?page=1\n",
      "Appending https://www.foi.unizg.hr/hr/dokumenti?page=2\n",
      "Appending https://www.foi.unizg.hr/hr/dokumenti?page=3\n",
      "Appending https://www.foi.unizg.hr/hr/dokumenti?page=4\n",
      "Appending https://www.foi.unizg.hr/hr/dokumenti?page=5\n",
      "Appending https://www.foi.unizg.hr/hr/dokumenti?page=6\n",
      "Appending https://www.foi.unizg.hr/hr/dokumenti?page=7\n",
      "Appending https://www.foi.unizg.hr/hr/dokumenti?page=8\n",
      "Appending https://www.foi.unizg.hr/hr/dokumenti?page=9\n",
      "Appending https://www.foi.unizg.hr/hr/dokumenti?page=10\n",
      "Appending https://www.foi.unizg.hr/hr/dokumenti?page=11\n",
      "Appending https://www.foi.unizg.hr/hr/dokumenti?page=12\n",
      "Appending https://www.foi.unizg.hr/hr/dokumenti?page=13\n",
      "Appending https://www.foi.unizg.hr/hr/dokumenti?page=14\n",
      "Appending https://www.foi.unizg.hr/hr/dokumenti?page=15\n",
      "Appending https://www.foi.unizg.hr/hr/dokumenti?page=16\n",
      "Appending https://www.foi.unizg.hr/hr/dokumenti?page=17\n",
      "Appending https://www.foi.unizg.hr/hr/dokumenti?page=18\n",
      "Appending https://www.foi.unizg.hr/hr/dokumenti?page=19\n",
      "Appending https://www.foi.unizg.hr/hr/dokumenti?page=20\n",
      "Appending https://www.foi.unizg.hr/hr/dokumenti?page=21\n",
      "Appending https://www.foi.unizg.hr/hr/dokumenti?page=22\n",
      "Appending https://www.foi.unizg.hr/hr/dokumenti?page=23\n",
      "Appending https://www.foi.unizg.hr/hr/dokumenti?page=24\n",
      "Appending https://www.foi.unizg.hr/hr/dokumenti?page=25\n",
      "Appending https://www.foi.unizg.hr/hr/dokumenti?page=26\n",
      "Appending https://www.foi.unizg.hr/hr/dokumenti?page=27\n",
      "Appending https://www.foi.unizg.hr/hr/dokumenti?page=28\n",
      "Appending https://www.foi.unizg.hr/hr/dokumenti?page=29\n",
      "Appending https://www.foi.unizg.hr/hr/dokumenti?page=30\n",
      "Appending https://www.foi.unizg.hr/hr/dokumenti?page=31\n",
      "Appending https://www.foi.unizg.hr/hr/dokumenti?page=32\n",
      "Appending https://www.foi.unizg.hr/hr/dokumenti?page=33\n",
      "Appending https://www.foi.unizg.hr/hr/dokumenti?page=34\n",
      "Appending https://www.foi.unizg.hr/hr/dokumenti?page=35\n",
      "Appending https://www.foi.unizg.hr/hr/dokumenti?page=36\n",
      "Appending https://www.foi.unizg.hr/hr/dokumenti?page=37\n",
      "Appending https://www.foi.unizg.hr/hr/dokumenti?page=38\n",
      "Appending https://www.foi.unizg.hr/hr/dokumenti?page=39\n",
      "Appending https://www.foi.unizg.hr/hr/dokumenti?page=40\n",
      "Appending https://www.foi.unizg.hr/hr/dokumenti?page=41\n",
      "Appending https://www.foi.unizg.hr/hr/dokumenti?page=42\n",
      "Appending https://www.foi.unizg.hr/hr/dokumenti?page=43\n",
      "Appending https://www.foi.unizg.hr/hr/dokumenti?page=44\n",
      "Appending https://www.foi.unizg.hr/hr/dokumenti?page=45\n",
      "Appending https://www.foi.unizg.hr/hr/dokumenti?page=46\n",
      "Appending https://www.foi.unizg.hr/hr/dokumenti?page=47\n",
      "Appending https://www.foi.unizg.hr/hr/dokumenti?page=48\n",
      "Appending https://www.foi.unizg.hr/hr/dokumenti?page=49\n",
      "Appending https://www.foi.unizg.hr/hr/dokumenti?page=50\n",
      "Appending https://www.foi.unizg.hr/hr/dokumenti?page=51\n",
      "Appending https://www.foi.unizg.hr/hr/dokumenti?page=52\n",
      "Appending https://www.foi.unizg.hr/hr/dokumenti?page=53\n",
      "Appending https://www.foi.unizg.hr/hr/dokumenti?page=54\n",
      "Appending https://www.foi.unizg.hr/hr/dokumenti?page=55\n",
      "Appending https://www.foi.unizg.hr/hr/dokumenti?page=56\n",
      "Appending https://www.foi.unizg.hr/hr/dokumenti?page=57\n",
      "Appending https://www.foi.unizg.hr/hr/dokumenti?page=58\n",
      "Appending https://www.foi.unizg.hr/hr/dokumenti?page=59\n",
      "Appending https://www.foi.unizg.hr/hr/dokumenti?page=60\n",
      "Appending https://www.foi.unizg.hr/hr/dokumenti?page=61\n",
      "Appending https://www.foi.unizg.hr/hr/dokumenti?page=62\n",
      "Appending https://www.foi.unizg.hr/hr/dokumenti?page=63\n",
      "Appending https://www.foi.unizg.hr/hr/dokumenti?page=64\n",
      "Appending https://www.foi.unizg.hr/hr/dokumenti?page=65\n",
      "Appending https://www.foi.unizg.hr/hr/dokumenti?page=66\n",
      "Appending https://www.foi.unizg.hr/hr/dokumenti?page=67\n",
      "Appending https://www.foi.unizg.hr/hr/dokumenti?page=68\n",
      "Appending https://www.foi.unizg.hr/hr/dokumenti?page=69\n",
      "Appending https://www.foi.unizg.hr/hr/dokumenti?page=70\n",
      "Appending https://www.foi.unizg.hr/hr/dokumenti?page=71\n",
      "Appending https://www.foi.unizg.hr/hr/dokumenti?page=72\n",
      "Appending https://www.foi.unizg.hr/hr/dokumenti?page=73\n",
      "Appending https://www.foi.unizg.hr/hr/dokumenti?page=74\n",
      "Appending https://www.foi.unizg.hr/hr/dokumenti?page=75\n",
      "Appending https://www.foi.unizg.hr/hr/dokumenti?page=76\n",
      "Appending https://www.foi.unizg.hr/hr/dokumenti?page=77\n",
      "Appending https://www.foi.unizg.hr/hr/dokumenti?page=78\n",
      "Appending https://www.foi.unizg.hr/hr/dokumenti?page=79\n",
      "Appending https://www.foi.unizg.hr/hr/dokumenti?page=80\n",
      "Appending https://www.foi.unizg.hr/hr/dokumenti?page=81\n",
      "Appending https://www.foi.unizg.hr/hr/dokumenti?page=82\n",
      "Appending https://www.foi.unizg.hr/hr/dokumenti?page=83\n",
      "Appending https://www.foi.unizg.hr/hr/dokumenti?page=84\n",
      "Appending https://www.foi.unizg.hr/hr/dokumenti?page=85\n",
      "Appending https://www.foi.unizg.hr/hr/dokumenti?page=86\n",
      "Appending https://www.foi.unizg.hr/hr/dokumenti?page=87\n",
      "Appending https://www.foi.unizg.hr/hr/dokumenti?page=88\n",
      "Appending https://www.foi.unizg.hr/hr/dokumenti?page=89\n",
      "Appending https://www.foi.unizg.hr/hr/dokumenti?page=90\n",
      "Appending https://www.foi.unizg.hr/hr/dokumenti?page=91\n",
      "Appending https://www.foi.unizg.hr/hr/dokumenti?page=92\n",
      "Appending https://www.foi.unizg.hr/hr/dokumenti?page=93\n"
     ]
    }
   ],
   "source": [
    "urls = get_urls('https://www.foi.unizg.hr/hr/dokumenti')"
   ]
  },
  {
   "cell_type": "code",
   "execution_count": 15,
   "id": "0f06237c-9189-4724-9aed-f9e108eae8be",
   "metadata": {},
   "outputs": [
    {
     "data": {
      "text/plain": [
       "['https://www.foi.unizg.hr/hr/dokumenti?page=1',\n",
       " 'https://www.foi.unizg.hr/hr/dokumenti?page=2',\n",
       " 'https://www.foi.unizg.hr/hr/dokumenti?page=3',\n",
       " 'https://www.foi.unizg.hr/hr/dokumenti?page=4',\n",
       " 'https://www.foi.unizg.hr/hr/dokumenti?page=5']"
      ]
     },
     "execution_count": 15,
     "metadata": {},
     "output_type": "execute_result"
    }
   ],
   "source": [
    "urls[:5]"
   ]
  },
  {
   "cell_type": "markdown",
   "id": "e80ec81f-68ba-4cf5-98f7-42eef952924b",
   "metadata": {},
   "source": [
    "## Scraping main pages"
   ]
  },
  {
   "cell_type": "code",
   "execution_count": 16,
   "id": "71ae8f8a-3a27-4b0b-bde3-d414852d4940",
   "metadata": {},
   "outputs": [],
   "source": [
    "def scrape_page(url):\n",
    "    '''\n",
    "        Prolazi kroz linkove glavne stranice, ekstrahira /hr/dokument/ linkove i\n",
    "        dohvaca meta podatke za svaki dokument\n",
    "    '''\n",
    "    root_url = 'https://www.foi.unizg.hr'\n",
    "    print(f'Scraping {url}')\n",
    "    \n",
    "    soup = get_data(url)\n",
    "    spans = soup.find_all('span', class_ = 'field-content')\n",
    "\n",
    "    links = extract_links(spans)\n",
    "\n",
    "    metadata = [get_metadata(root_url + link[0]) for link in links]\n",
    "\n",
    "    df1 = pd.DataFrame(metadata, columns = ['naziv_datoteke', 'pdf_link', 'datum', 'vrsta_dokumenta', 'kategorija_dokumenta'])\n",
    "    df2 = pd.DataFrame(links, columns = ['metadata_link', 'naslov_dokumenta'])\n",
    "\n",
    "    return pd.concat([df1, df2], axis = 1)"
   ]
  },
  {
   "cell_type": "code",
   "execution_count": 153,
   "id": "5a88476f-4909-49d7-b746-3c4e55d2225e",
   "metadata": {
    "scrolled": true
   },
   "outputs": [
    {
     "name": "stdout",
     "output_type": "stream",
     "text": [
      "Scraping https://www.foi.unizg.hr/hr/dokumenti\n",
      "Scraping https://www.foi.unizg.hr/hr/dokumenti?page=1\n",
      "Scraping https://www.foi.unizg.hr/hr/dokumenti?page=2\n",
      "Scraping https://www.foi.unizg.hr/hr/dokumenti?page=3\n",
      "Scraping https://www.foi.unizg.hr/hr/dokumenti?page=4\n",
      "Scraping https://www.foi.unizg.hr/hr/dokumenti?page=5\n",
      "Scraping https://www.foi.unizg.hr/hr/dokumenti?page=6\n",
      "Scraping https://www.foi.unizg.hr/hr/dokumenti?page=7\n",
      "Scraping https://www.foi.unizg.hr/hr/dokumenti?page=8\n",
      "Scraping https://www.foi.unizg.hr/hr/dokumenti?page=9\n",
      "Scraping https://www.foi.unizg.hr/hr/dokumenti?page=10\n",
      "Scraping https://www.foi.unizg.hr/hr/dokumenti?page=11\n",
      "Scraping https://www.foi.unizg.hr/hr/dokumenti?page=12\n",
      "Scraping https://www.foi.unizg.hr/hr/dokumenti?page=13\n",
      "Scraping https://www.foi.unizg.hr/hr/dokumenti?page=14\n",
      "Scraping https://www.foi.unizg.hr/hr/dokumenti?page=15\n",
      "Scraping https://www.foi.unizg.hr/hr/dokumenti?page=16\n",
      "Scraping https://www.foi.unizg.hr/hr/dokumenti?page=17\n",
      "Scraping https://www.foi.unizg.hr/hr/dokumenti?page=18\n",
      "Scraping https://www.foi.unizg.hr/hr/dokumenti?page=19\n",
      "Scraping https://www.foi.unizg.hr/hr/dokumenti?page=20\n",
      "Scraping https://www.foi.unizg.hr/hr/dokumenti?page=21\n",
      "Scraping https://www.foi.unizg.hr/hr/dokumenti?page=22\n",
      "Scraping https://www.foi.unizg.hr/hr/dokumenti?page=23\n",
      "Scraping https://www.foi.unizg.hr/hr/dokumenti?page=24\n",
      "Scraping https://www.foi.unizg.hr/hr/dokumenti?page=25\n",
      "Scraping https://www.foi.unizg.hr/hr/dokumenti?page=26\n",
      "Scraping https://www.foi.unizg.hr/hr/dokumenti?page=27\n",
      "Scraping https://www.foi.unizg.hr/hr/dokumenti?page=28\n",
      "Scraping https://www.foi.unizg.hr/hr/dokumenti?page=29\n",
      "Scraping https://www.foi.unizg.hr/hr/dokumenti?page=30\n",
      "Scraping https://www.foi.unizg.hr/hr/dokumenti?page=31\n",
      "Scraping https://www.foi.unizg.hr/hr/dokumenti?page=32\n",
      "Scraping https://www.foi.unizg.hr/hr/dokumenti?page=33\n",
      "Scraping https://www.foi.unizg.hr/hr/dokumenti?page=34\n",
      "Scraping https://www.foi.unizg.hr/hr/dokumenti?page=35\n",
      "Scraping https://www.foi.unizg.hr/hr/dokumenti?page=36\n",
      "Scraping https://www.foi.unizg.hr/hr/dokumenti?page=37\n",
      "Scraping https://www.foi.unizg.hr/hr/dokumenti?page=38\n",
      "Scraping https://www.foi.unizg.hr/hr/dokumenti?page=39\n",
      "Scraping https://www.foi.unizg.hr/hr/dokumenti?page=40\n",
      "Scraping https://www.foi.unizg.hr/hr/dokumenti?page=41\n",
      "Scraping https://www.foi.unizg.hr/hr/dokumenti?page=42\n",
      "Scraping https://www.foi.unizg.hr/hr/dokumenti?page=43\n",
      "Scraping https://www.foi.unizg.hr/hr/dokumenti?page=44\n",
      "Scraping https://www.foi.unizg.hr/hr/dokumenti?page=45\n",
      "Scraping https://www.foi.unizg.hr/hr/dokumenti?page=46\n",
      "Scraping https://www.foi.unizg.hr/hr/dokumenti?page=47\n",
      "Scraping https://www.foi.unizg.hr/hr/dokumenti?page=48\n",
      "Scraping https://www.foi.unizg.hr/hr/dokumenti?page=49\n",
      "Scraping https://www.foi.unizg.hr/hr/dokumenti?page=50\n",
      "Scraping https://www.foi.unizg.hr/hr/dokumenti?page=51\n",
      "Scraping https://www.foi.unizg.hr/hr/dokumenti?page=52\n",
      "Scraping https://www.foi.unizg.hr/hr/dokumenti?page=53\n",
      "Scraping https://www.foi.unizg.hr/hr/dokumenti?page=54\n",
      "Scraping https://www.foi.unizg.hr/hr/dokumenti?page=55\n",
      "Scraping https://www.foi.unizg.hr/hr/dokumenti?page=56\n",
      "Scraping https://www.foi.unizg.hr/hr/dokumenti?page=57\n",
      "Scraping https://www.foi.unizg.hr/hr/dokumenti?page=58\n",
      "Scraping https://www.foi.unizg.hr/hr/dokumenti?page=59\n",
      "Scraping https://www.foi.unizg.hr/hr/dokumenti?page=60\n",
      "Scraping https://www.foi.unizg.hr/hr/dokumenti?page=61\n",
      "Scraping https://www.foi.unizg.hr/hr/dokumenti?page=62\n",
      "Scraping https://www.foi.unizg.hr/hr/dokumenti?page=63\n",
      "Scraping https://www.foi.unizg.hr/hr/dokumenti?page=64\n",
      "Scraping https://www.foi.unizg.hr/hr/dokumenti?page=65\n",
      "Scraping https://www.foi.unizg.hr/hr/dokumenti?page=66\n",
      "Scraping https://www.foi.unizg.hr/hr/dokumenti?page=67\n",
      "Scraping https://www.foi.unizg.hr/hr/dokumenti?page=68\n",
      "Scraping https://www.foi.unizg.hr/hr/dokumenti?page=69\n",
      "Scraping https://www.foi.unizg.hr/hr/dokumenti?page=70\n",
      "Scraping https://www.foi.unizg.hr/hr/dokumenti?page=71\n",
      "Scraping https://www.foi.unizg.hr/hr/dokumenti?page=72\n",
      "Scraping https://www.foi.unizg.hr/hr/dokumenti?page=73\n",
      "Scraping https://www.foi.unizg.hr/hr/dokumenti?page=74\n",
      "Scraping https://www.foi.unizg.hr/hr/dokumenti?page=75\n",
      "Scraping https://www.foi.unizg.hr/hr/dokumenti?page=76\n",
      "Scraping https://www.foi.unizg.hr/hr/dokumenti?page=77\n",
      "Scraping https://www.foi.unizg.hr/hr/dokumenti?page=78\n",
      "Scraping https://www.foi.unizg.hr/hr/dokumenti?page=79\n",
      "Scraping https://www.foi.unizg.hr/hr/dokumenti?page=80\n",
      "Scraping https://www.foi.unizg.hr/hr/dokumenti?page=81\n",
      "Scraping https://www.foi.unizg.hr/hr/dokumenti?page=82\n",
      "Scraping https://www.foi.unizg.hr/hr/dokumenti?page=83\n",
      "Scraping https://www.foi.unizg.hr/hr/dokumenti?page=84\n",
      "Scraping https://www.foi.unizg.hr/hr/dokumenti?page=85\n",
      "Scraping https://www.foi.unizg.hr/hr/dokumenti?page=86\n",
      "Scraping https://www.foi.unizg.hr/hr/dokumenti?page=87\n",
      "Scraping https://www.foi.unizg.hr/hr/dokumenti?page=88\n",
      "Scraping https://www.foi.unizg.hr/hr/dokumenti?page=89\n",
      "Scraping https://www.foi.unizg.hr/hr/dokumenti?page=90\n",
      "Scraping https://www.foi.unizg.hr/hr/dokumenti?page=91\n",
      "Scraping https://www.foi.unizg.hr/hr/dokumenti?page=92\n",
      "Scraping https://www.foi.unizg.hr/hr/dokumenti?page=93\n"
     ]
    }
   ],
   "source": [
    "df = scrape_page('https://www.foi.unizg.hr/hr/dokumenti')\n",
    "\n",
    "for url in urls:\n",
    "    new_df = scrape_page(url)\n",
    "    df = pd.concat([df, new_df], axis = 0, ignore_index = True)"
   ]
  },
  {
   "cell_type": "code",
   "execution_count": 154,
   "id": "f7af7d90-3685-4d03-974d-7f5fcfcdaf7b",
   "metadata": {},
   "outputs": [
    {
     "data": {
      "text/plain": [
       "(933, 7)"
      ]
     },
     "execution_count": 154,
     "metadata": {},
     "output_type": "execute_result"
    }
   ],
   "source": [
    "# Sanity check\n",
    "df.shape"
   ]
  },
  {
   "cell_type": "code",
   "execution_count": 177,
   "id": "8928eb60-c6d8-44da-a6c0-8066a955eb83",
   "metadata": {},
   "outputs": [],
   "source": [
    "# Ciscenje dataframea\n",
    "df.dropna(subset = ['pdf_link'], inplace = True)\n",
    "df.drop_duplicates(subset=['pdf_link'], inplace = True)\n",
    "df['datum'] = pd.to_datetime(df['datum'], format = '%d.%m.%Y')\n",
    "df.reset_index(drop = True, inplace = True)"
   ]
  },
  {
   "cell_type": "code",
   "execution_count": 178,
   "id": "0551ed25-b6cb-47a3-8b04-5881e5bb15b2",
   "metadata": {},
   "outputs": [
    {
     "data": {
      "text/plain": [
       "(849, 7)"
      ]
     },
     "execution_count": 178,
     "metadata": {},
     "output_type": "execute_result"
    }
   ],
   "source": [
    "df.shape"
   ]
  },
  {
   "cell_type": "code",
   "execution_count": 179,
   "id": "5803e722-1f2d-477c-803e-71b51eda621f",
   "metadata": {},
   "outputs": [
    {
     "data": {
      "text/html": [
       "<div>\n",
       "<style scoped>\n",
       "    .dataframe tbody tr th:only-of-type {\n",
       "        vertical-align: middle;\n",
       "    }\n",
       "\n",
       "    .dataframe tbody tr th {\n",
       "        vertical-align: top;\n",
       "    }\n",
       "\n",
       "    .dataframe thead th {\n",
       "        text-align: right;\n",
       "    }\n",
       "</style>\n",
       "<table border=\"1\" class=\"dataframe\">\n",
       "  <thead>\n",
       "    <tr style=\"text-align: right;\">\n",
       "      <th></th>\n",
       "      <th>naziv_datoteke</th>\n",
       "      <th>pdf_link</th>\n",
       "      <th>datum</th>\n",
       "      <th>vrsta_dokumenta</th>\n",
       "      <th>kategorija_dokumenta</th>\n",
       "      <th>metadata_link</th>\n",
       "      <th>naslov_dokumenta</th>\n",
       "    </tr>\n",
       "  </thead>\n",
       "  <tbody>\n",
       "    <tr>\n",
       "      <th>0</th>\n",
       "      <td>odluka_o_izmjeni_odluke_pok_2023_10_12.pdf</td>\n",
       "      <td>https://www.foi.unizg.hr/sites/default/files/o...</td>\n",
       "      <td>2023-12-18</td>\n",
       "      <td>Odluka</td>\n",
       "      <td>Kvaliteta</td>\n",
       "      <td>/hr/dokument/izmjenjena-odluka-pok-2023</td>\n",
       "      <td>Izmjenjena odluka POK-a 2023.</td>\n",
       "    </tr>\n",
       "    <tr>\n",
       "      <th>1</th>\n",
       "      <td>odluka-izvanredni_izbori_za_studentski_zbor-si...</td>\n",
       "      <td>https://www.foi.unizg.hr/sites/default/files/o...</td>\n",
       "      <td>2023-12-12</td>\n",
       "      <td>Odluka</td>\n",
       "      <td>Studentski zbor</td>\n",
       "      <td>/hr/dokument/odluka-o-raspisivanju-izvanrednih...</td>\n",
       "      <td>Odluka o raspisivanju izvanrednih izbora Stude...</td>\n",
       "    </tr>\n",
       "    <tr>\n",
       "      <th>2</th>\n",
       "      <td>fv_dnevni_red_2023-12-07_3._sjednica.pdf</td>\n",
       "      <td>https://www.foi.unizg.hr/sites/default/files/f...</td>\n",
       "      <td>2023-12-07</td>\n",
       "      <td>Dnevni red</td>\n",
       "      <td>Fakultetsko vijeće</td>\n",
       "      <td>/hr/dokument/dnevni-red-fakultetskog-vijeca-07...</td>\n",
       "      <td>Dnevni red Fakultetskog vijeća 07.12.2023.</td>\n",
       "    </tr>\n",
       "    <tr>\n",
       "      <th>3</th>\n",
       "      <td>politika-privatnosti-foi.pdf</td>\n",
       "      <td>https://www.foi.unizg.hr/sites/default/files/p...</td>\n",
       "      <td>2023-11-24</td>\n",
       "      <td>None</td>\n",
       "      <td>None</td>\n",
       "      <td>/hr/dokument/politika-privatnosti-foi-ja</td>\n",
       "      <td>Politika privatnosti FOI-ja</td>\n",
       "    </tr>\n",
       "    <tr>\n",
       "      <th>4</th>\n",
       "      <td>popis_gs_u_sukobu_interesa_2023.pdf</td>\n",
       "      <td>https://www.foi.unizg.hr/sites/default/files/p...</td>\n",
       "      <td>2023-11-20</td>\n",
       "      <td>Odluka</td>\n",
       "      <td>Javna nabava</td>\n",
       "      <td>/hr/dokument/popis-gospodarskih-subjekata-s-ko...</td>\n",
       "      <td>Popis gospodarskih subjekata s kojima se ne sm...</td>\n",
       "    </tr>\n",
       "  </tbody>\n",
       "</table>\n",
       "</div>"
      ],
      "text/plain": [
       "                                      naziv_datoteke  \\\n",
       "0         odluka_o_izmjeni_odluke_pok_2023_10_12.pdf   \n",
       "1  odluka-izvanredni_izbori_za_studentski_zbor-si...   \n",
       "2           fv_dnevni_red_2023-12-07_3._sjednica.pdf   \n",
       "3                       politika-privatnosti-foi.pdf   \n",
       "4                popis_gs_u_sukobu_interesa_2023.pdf   \n",
       "\n",
       "                                            pdf_link      datum  \\\n",
       "0  https://www.foi.unizg.hr/sites/default/files/o... 2023-12-18   \n",
       "1  https://www.foi.unizg.hr/sites/default/files/o... 2023-12-12   \n",
       "2  https://www.foi.unizg.hr/sites/default/files/f... 2023-12-07   \n",
       "3  https://www.foi.unizg.hr/sites/default/files/p... 2023-11-24   \n",
       "4  https://www.foi.unizg.hr/sites/default/files/p... 2023-11-20   \n",
       "\n",
       "  vrsta_dokumenta kategorija_dokumenta  \\\n",
       "0          Odluka            Kvaliteta   \n",
       "1          Odluka      Studentski zbor   \n",
       "2      Dnevni red   Fakultetsko vijeće   \n",
       "3            None                 None   \n",
       "4          Odluka         Javna nabava   \n",
       "\n",
       "                                       metadata_link  \\\n",
       "0            /hr/dokument/izmjenjena-odluka-pok-2023   \n",
       "1  /hr/dokument/odluka-o-raspisivanju-izvanrednih...   \n",
       "2  /hr/dokument/dnevni-red-fakultetskog-vijeca-07...   \n",
       "3           /hr/dokument/politika-privatnosti-foi-ja   \n",
       "4  /hr/dokument/popis-gospodarskih-subjekata-s-ko...   \n",
       "\n",
       "                                    naslov_dokumenta  \n",
       "0                      Izmjenjena odluka POK-a 2023.  \n",
       "1  Odluka o raspisivanju izvanrednih izbora Stude...  \n",
       "2         Dnevni red Fakultetskog vijeća 07.12.2023.  \n",
       "3                        Politika privatnosti FOI-ja  \n",
       "4  Popis gospodarskih subjekata s kojima se ne sm...  "
      ]
     },
     "execution_count": 179,
     "metadata": {},
     "output_type": "execute_result"
    }
   ],
   "source": [
    "df.head()"
   ]
  },
  {
   "cell_type": "code",
   "execution_count": 180,
   "id": "38d9149d-156a-4537-9ecb-80ea91b5226a",
   "metadata": {},
   "outputs": [
    {
     "data": {
      "text/plain": [
       "831"
      ]
     },
     "execution_count": 180,
     "metadata": {},
     "output_type": "execute_result"
    }
   ],
   "source": [
    "df.naslov_dokumenta.nunique()"
   ]
  },
  {
   "cell_type": "code",
   "execution_count": 181,
   "id": "bf6e39de-22aa-4e2b-bd14-030e68b55624",
   "metadata": {},
   "outputs": [
    {
     "data": {
      "text/plain": [
       "832"
      ]
     },
     "execution_count": 181,
     "metadata": {},
     "output_type": "execute_result"
    }
   ],
   "source": [
    "df.naziv_datoteke.nunique()"
   ]
  },
  {
   "cell_type": "markdown",
   "id": "9f221e85-1a56-44ed-8e72-664716bf71ff",
   "metadata": {},
   "source": [
    "Najbitniji su linkovi, datoteke kao dnevni red, odluke, modeli pracenja i sl. mogu imati iste nazive, ali pdf-ovi su naravno na drugim adresama"
   ]
  },
  {
   "cell_type": "code",
   "execution_count": 182,
   "id": "1cf41aec-7e65-4ef0-8ff3-60b129fb3a47",
   "metadata": {},
   "outputs": [
    {
     "data": {
      "text/html": [
       "<div>\n",
       "<style scoped>\n",
       "    .dataframe tbody tr th:only-of-type {\n",
       "        vertical-align: middle;\n",
       "    }\n",
       "\n",
       "    .dataframe tbody tr th {\n",
       "        vertical-align: top;\n",
       "    }\n",
       "\n",
       "    .dataframe thead th {\n",
       "        text-align: right;\n",
       "    }\n",
       "</style>\n",
       "<table border=\"1\" class=\"dataframe\">\n",
       "  <thead>\n",
       "    <tr style=\"text-align: right;\">\n",
       "      <th></th>\n",
       "      <th>naziv_datoteke</th>\n",
       "      <th>pdf_link</th>\n",
       "      <th>datum</th>\n",
       "      <th>vrsta_dokumenta</th>\n",
       "      <th>kategorija_dokumenta</th>\n",
       "      <th>metadata_link</th>\n",
       "      <th>naslov_dokumenta</th>\n",
       "    </tr>\n",
       "  </thead>\n",
       "  <tbody>\n",
       "    <tr>\n",
       "      <th>0</th>\n",
       "      <td>odluka_o_izmjeni_odluke_pok_2023_10_12.pdf</td>\n",
       "      <td>https://www.foi.unizg.hr/sites/default/files/o...</td>\n",
       "      <td>2023-12-18</td>\n",
       "      <td>Odluka</td>\n",
       "      <td>Kvaliteta</td>\n",
       "      <td>/hr/dokument/izmjenjena-odluka-pok-2023</td>\n",
       "      <td>Izmjenjena odluka POK-a 2023.</td>\n",
       "    </tr>\n",
       "    <tr>\n",
       "      <th>1</th>\n",
       "      <td>odluka-izvanredni_izbori_za_studentski_zbor-si...</td>\n",
       "      <td>https://www.foi.unizg.hr/sites/default/files/o...</td>\n",
       "      <td>2023-12-12</td>\n",
       "      <td>Odluka</td>\n",
       "      <td>Studentski zbor</td>\n",
       "      <td>/hr/dokument/odluka-o-raspisivanju-izvanrednih...</td>\n",
       "      <td>Odluka o raspisivanju izvanrednih izbora Stude...</td>\n",
       "    </tr>\n",
       "    <tr>\n",
       "      <th>2</th>\n",
       "      <td>fv_dnevni_red_2023-12-07_3._sjednica.pdf</td>\n",
       "      <td>https://www.foi.unizg.hr/sites/default/files/f...</td>\n",
       "      <td>2023-12-07</td>\n",
       "      <td>Dnevni red</td>\n",
       "      <td>Fakultetsko vijeće</td>\n",
       "      <td>/hr/dokument/dnevni-red-fakultetskog-vijeca-07...</td>\n",
       "      <td>Dnevni red Fakultetskog vijeća 07.12.2023.</td>\n",
       "    </tr>\n",
       "    <tr>\n",
       "      <th>3</th>\n",
       "      <td>politika-privatnosti-foi.pdf</td>\n",
       "      <td>https://www.foi.unizg.hr/sites/default/files/p...</td>\n",
       "      <td>2023-11-24</td>\n",
       "      <td>None</td>\n",
       "      <td>None</td>\n",
       "      <td>/hr/dokument/politika-privatnosti-foi-ja</td>\n",
       "      <td>Politika privatnosti FOI-ja</td>\n",
       "    </tr>\n",
       "    <tr>\n",
       "      <th>4</th>\n",
       "      <td>popis_gs_u_sukobu_interesa_2023.pdf</td>\n",
       "      <td>https://www.foi.unizg.hr/sites/default/files/p...</td>\n",
       "      <td>2023-11-20</td>\n",
       "      <td>Odluka</td>\n",
       "      <td>Javna nabava</td>\n",
       "      <td>/hr/dokument/popis-gospodarskih-subjekata-s-ko...</td>\n",
       "      <td>Popis gospodarskih subjekata s kojima se ne sm...</td>\n",
       "    </tr>\n",
       "  </tbody>\n",
       "</table>\n",
       "</div>"
      ],
      "text/plain": [
       "                                      naziv_datoteke  \\\n",
       "0         odluka_o_izmjeni_odluke_pok_2023_10_12.pdf   \n",
       "1  odluka-izvanredni_izbori_za_studentski_zbor-si...   \n",
       "2           fv_dnevni_red_2023-12-07_3._sjednica.pdf   \n",
       "3                       politika-privatnosti-foi.pdf   \n",
       "4                popis_gs_u_sukobu_interesa_2023.pdf   \n",
       "\n",
       "                                            pdf_link      datum  \\\n",
       "0  https://www.foi.unizg.hr/sites/default/files/o... 2023-12-18   \n",
       "1  https://www.foi.unizg.hr/sites/default/files/o... 2023-12-12   \n",
       "2  https://www.foi.unizg.hr/sites/default/files/f... 2023-12-07   \n",
       "3  https://www.foi.unizg.hr/sites/default/files/p... 2023-11-24   \n",
       "4  https://www.foi.unizg.hr/sites/default/files/p... 2023-11-20   \n",
       "\n",
       "  vrsta_dokumenta kategorija_dokumenta  \\\n",
       "0          Odluka            Kvaliteta   \n",
       "1          Odluka      Studentski zbor   \n",
       "2      Dnevni red   Fakultetsko vijeće   \n",
       "3            None                 None   \n",
       "4          Odluka         Javna nabava   \n",
       "\n",
       "                                       metadata_link  \\\n",
       "0            /hr/dokument/izmjenjena-odluka-pok-2023   \n",
       "1  /hr/dokument/odluka-o-raspisivanju-izvanrednih...   \n",
       "2  /hr/dokument/dnevni-red-fakultetskog-vijeca-07...   \n",
       "3           /hr/dokument/politika-privatnosti-foi-ja   \n",
       "4  /hr/dokument/popis-gospodarskih-subjekata-s-ko...   \n",
       "\n",
       "                                    naslov_dokumenta  \n",
       "0                      Izmjenjena odluka POK-a 2023.  \n",
       "1  Odluka o raspisivanju izvanrednih izbora Stude...  \n",
       "2         Dnevni red Fakultetskog vijeća 07.12.2023.  \n",
       "3                        Politika privatnosti FOI-ja  \n",
       "4  Popis gospodarskih subjekata s kojima se ne sm...  "
      ]
     },
     "execution_count": 182,
     "metadata": {},
     "output_type": "execute_result"
    }
   ],
   "source": [
    "df_test = df.head().copy()\n",
    "df_test"
   ]
  },
  {
   "cell_type": "code",
   "execution_count": 183,
   "id": "fe427ca4-5350-431f-8070-a3bfbd0926a8",
   "metadata": {},
   "outputs": [],
   "source": [
    "df_test['tekst'] = None\n",
    "df_test['putanja'] = None"
   ]
  },
  {
   "cell_type": "code",
   "execution_count": 186,
   "id": "fa3b6e47-b208-4653-9cbb-2ba2aad7a02e",
   "metadata": {},
   "outputs": [
    {
     "name": "stdout",
     "output_type": "stream",
     "text": [
      "Success: ./data/dummy_data/odluka_o_izmjeni_odluke_pok_2023_10_12_0.pdf\n",
      "Success: ./data/dummy_data/odluka-izvanredni_izbori_za_studentski_zbor-sijecanj_2024.pdf\n",
      "Success: ./data/dummy_data/fv_dnevni_red_2023-12-07_3._sjednica.pdf\n",
      "Success: ./data/dummy_data/politika-privatnosti-foi.pdf\n",
      "Success: ./data/dummy_data/popis_gs_u_sukobu_interesa_2023.pdf\n"
     ]
    }
   ],
   "source": [
    "for i in range(len(df_test)):\n",
    "    path = download_pdf2(df.iloc[i].pdf_link, './data/dummy_data')\n",
    "    text = extract_text_from_pdf(path)\n",
    "    df_test.at[i, 'tekst'] = text.strip()\n",
    "    df_test.at[i, 'putanja'] = path"
   ]
  },
  {
   "cell_type": "code",
   "execution_count": 187,
   "id": "753c1f13-fa4d-455e-ae0e-460da334a0f5",
   "metadata": {},
   "outputs": [
    {
     "data": {
      "text/html": [
       "<div>\n",
       "<style scoped>\n",
       "    .dataframe tbody tr th:only-of-type {\n",
       "        vertical-align: middle;\n",
       "    }\n",
       "\n",
       "    .dataframe tbody tr th {\n",
       "        vertical-align: top;\n",
       "    }\n",
       "\n",
       "    .dataframe thead th {\n",
       "        text-align: right;\n",
       "    }\n",
       "</style>\n",
       "<table border=\"1\" class=\"dataframe\">\n",
       "  <thead>\n",
       "    <tr style=\"text-align: right;\">\n",
       "      <th></th>\n",
       "      <th>naziv_datoteke</th>\n",
       "      <th>pdf_link</th>\n",
       "      <th>datum</th>\n",
       "      <th>vrsta_dokumenta</th>\n",
       "      <th>kategorija_dokumenta</th>\n",
       "      <th>metadata_link</th>\n",
       "      <th>naslov_dokumenta</th>\n",
       "      <th>tekst</th>\n",
       "      <th>putanja</th>\n",
       "    </tr>\n",
       "  </thead>\n",
       "  <tbody>\n",
       "    <tr>\n",
       "      <th>0</th>\n",
       "      <td>odluka_o_izmjeni_odluke_pok_2023_10_12.pdf</td>\n",
       "      <td>https://www.foi.unizg.hr/sites/default/files/o...</td>\n",
       "      <td>2023-12-18</td>\n",
       "      <td>Odluka</td>\n",
       "      <td>Kvaliteta</td>\n",
       "      <td>/hr/dokument/izmjenjena-odluka-pok-2023</td>\n",
       "      <td>Izmjenjena odluka POK-a 2023.</td>\n",
       "      <td>KLASA: 602-04/23-06/1 \\nURBROJ: 2186-62-06-23-...</td>\n",
       "      <td>./data/dummy_data/odluka_o_izmjeni_odluke_pok_...</td>\n",
       "    </tr>\n",
       "    <tr>\n",
       "      <th>1</th>\n",
       "      <td>odluka-izvanredni_izbori_za_studentski_zbor-si...</td>\n",
       "      <td>https://www.foi.unizg.hr/sites/default/files/o...</td>\n",
       "      <td>2023-12-12</td>\n",
       "      <td>Odluka</td>\n",
       "      <td>Studentski zbor</td>\n",
       "      <td>/hr/dokument/odluka-o-raspisivanju-izvanrednih...</td>\n",
       "      <td>Odluka o raspisivanju izvanrednih izbora Stude...</td>\n",
       "      <td>foj == =\\n\\nKLASA: 602-04/23-12/1\\nURBROJ: 218...</td>\n",
       "      <td>./data/dummy_data/odluka-izvanredni_izbori_za_...</td>\n",
       "    </tr>\n",
       "    <tr>\n",
       "      <th>2</th>\n",
       "      <td>fv_dnevni_red_2023-12-07_3._sjednica.pdf</td>\n",
       "      <td>https://www.foi.unizg.hr/sites/default/files/f...</td>\n",
       "      <td>2023-12-07</td>\n",
       "      <td>Dnevni red</td>\n",
       "      <td>Fakultetsko vijeće</td>\n",
       "      <td>/hr/dokument/dnevni-red-fakultetskog-vijeca-07...</td>\n",
       "      <td>Dnevni red Fakultetskog vijeća 07.12.2023.</td>\n",
       "      <td>SVEUČILIŠTE U ZAGREBU \\nFAKULTET ORGANIZACIJE ...</td>\n",
       "      <td>./data/dummy_data/fv_dnevni_red_2023-12-07_3._...</td>\n",
       "    </tr>\n",
       "    <tr>\n",
       "      <th>3</th>\n",
       "      <td>politika-privatnosti-foi.pdf</td>\n",
       "      <td>https://www.foi.unizg.hr/sites/default/files/p...</td>\n",
       "      <td>2023-11-24</td>\n",
       "      <td>None</td>\n",
       "      <td>None</td>\n",
       "      <td>/hr/dokument/politika-privatnosti-foi-ja</td>\n",
       "      <td>Politika privatnosti FOI-ja</td>\n",
       "      <td>VODITELJ OBRADE  \\n\\nPOLITIKA PRIVATNOSTI \\n\\n...</td>\n",
       "      <td>./data/dummy_data/politika-privatnosti-foi.pdf</td>\n",
       "    </tr>\n",
       "    <tr>\n",
       "      <th>4</th>\n",
       "      <td>popis_gs_u_sukobu_interesa_2023.pdf</td>\n",
       "      <td>https://www.foi.unizg.hr/sites/default/files/p...</td>\n",
       "      <td>2023-11-20</td>\n",
       "      <td>Odluka</td>\n",
       "      <td>Javna nabava</td>\n",
       "      <td>/hr/dokument/popis-gospodarskih-subjekata-s-ko...</td>\n",
       "      <td>Popis gospodarskih subjekata s kojima se ne sm...</td>\n",
       "      <td>foj s=&gt; =\\n\\nKLASA: 303.02/23.02/2\\n(URBROJ: 2...</td>\n",
       "      <td>./data/dummy_data/popis_gs_u_sukobu_interesa_2...</td>\n",
       "    </tr>\n",
       "  </tbody>\n",
       "</table>\n",
       "</div>"
      ],
      "text/plain": [
       "                                      naziv_datoteke  \\\n",
       "0         odluka_o_izmjeni_odluke_pok_2023_10_12.pdf   \n",
       "1  odluka-izvanredni_izbori_za_studentski_zbor-si...   \n",
       "2           fv_dnevni_red_2023-12-07_3._sjednica.pdf   \n",
       "3                       politika-privatnosti-foi.pdf   \n",
       "4                popis_gs_u_sukobu_interesa_2023.pdf   \n",
       "\n",
       "                                            pdf_link      datum  \\\n",
       "0  https://www.foi.unizg.hr/sites/default/files/o... 2023-12-18   \n",
       "1  https://www.foi.unizg.hr/sites/default/files/o... 2023-12-12   \n",
       "2  https://www.foi.unizg.hr/sites/default/files/f... 2023-12-07   \n",
       "3  https://www.foi.unizg.hr/sites/default/files/p... 2023-11-24   \n",
       "4  https://www.foi.unizg.hr/sites/default/files/p... 2023-11-20   \n",
       "\n",
       "  vrsta_dokumenta kategorija_dokumenta  \\\n",
       "0          Odluka            Kvaliteta   \n",
       "1          Odluka      Studentski zbor   \n",
       "2      Dnevni red   Fakultetsko vijeće   \n",
       "3            None                 None   \n",
       "4          Odluka         Javna nabava   \n",
       "\n",
       "                                       metadata_link  \\\n",
       "0            /hr/dokument/izmjenjena-odluka-pok-2023   \n",
       "1  /hr/dokument/odluka-o-raspisivanju-izvanrednih...   \n",
       "2  /hr/dokument/dnevni-red-fakultetskog-vijeca-07...   \n",
       "3           /hr/dokument/politika-privatnosti-foi-ja   \n",
       "4  /hr/dokument/popis-gospodarskih-subjekata-s-ko...   \n",
       "\n",
       "                                    naslov_dokumenta  \\\n",
       "0                      Izmjenjena odluka POK-a 2023.   \n",
       "1  Odluka o raspisivanju izvanrednih izbora Stude...   \n",
       "2         Dnevni red Fakultetskog vijeća 07.12.2023.   \n",
       "3                        Politika privatnosti FOI-ja   \n",
       "4  Popis gospodarskih subjekata s kojima se ne sm...   \n",
       "\n",
       "                                               tekst  \\\n",
       "0  KLASA: 602-04/23-06/1 \\nURBROJ: 2186-62-06-23-...   \n",
       "1  foj == =\\n\\nKLASA: 602-04/23-12/1\\nURBROJ: 218...   \n",
       "2  SVEUČILIŠTE U ZAGREBU \\nFAKULTET ORGANIZACIJE ...   \n",
       "3  VODITELJ OBRADE  \\n\\nPOLITIKA PRIVATNOSTI \\n\\n...   \n",
       "4  foj s=> =\\n\\nKLASA: 303.02/23.02/2\\n(URBROJ: 2...   \n",
       "\n",
       "                                             putanja  \n",
       "0  ./data/dummy_data/odluka_o_izmjeni_odluke_pok_...  \n",
       "1  ./data/dummy_data/odluka-izvanredni_izbori_za_...  \n",
       "2  ./data/dummy_data/fv_dnevni_red_2023-12-07_3._...  \n",
       "3     ./data/dummy_data/politika-privatnosti-foi.pdf  \n",
       "4  ./data/dummy_data/popis_gs_u_sukobu_interesa_2...  "
      ]
     },
     "execution_count": 187,
     "metadata": {},
     "output_type": "execute_result"
    }
   ],
   "source": [
    "df_test"
   ]
  },
  {
   "cell_type": "code",
   "execution_count": null,
   "id": "dcc54fc8-ab41-43f7-9e69-c7bb37508387",
   "metadata": {},
   "outputs": [],
   "source": []
  },
  {
   "cell_type": "code",
   "execution_count": null,
   "id": "55fdb1ab-fd4a-4f27-9323-91e767852a1d",
   "metadata": {},
   "outputs": [],
   "source": []
  },
  {
   "cell_type": "code",
   "execution_count": null,
   "id": "06d77096-1952-4f6c-9b01-45a719ad42a2",
   "metadata": {},
   "outputs": [],
   "source": []
  },
  {
   "cell_type": "code",
   "execution_count": null,
   "id": "36f0fad3-15cc-4275-a73c-f3c64f016854",
   "metadata": {},
   "outputs": [],
   "source": []
  },
  {
   "cell_type": "markdown",
   "id": "be7c09e7-bfad-4277-aab6-41b02bbb8b65",
   "metadata": {},
   "source": [
    "# SQLAlchemy"
   ]
  },
  {
   "cell_type": "code",
   "execution_count": 92,
   "id": "aa60914d-8a1c-47aa-a165-b0b948316468",
   "metadata": {},
   "outputs": [],
   "source": [
    "# Create an in-memory SQLite database\n",
    "engine = create_engine('sqlite:///dokumenti.db')\n",
    "\n",
    "metadata = MetaData()\n",
    "\n",
    "# Define the \"dokument\" table with specified columns\n",
    "dokument = Table('dokument', metadata,\n",
    "                 Column('sifra_dokumenta', Integer, primary_key=True, autoincrement=True),\n",
    "                 Column('naslov_dokumenta', String),\n",
    "                 Column('putanja_datoteke', String),\n",
    "                 Column('url_adresa', String),\n",
    "                 Column('datum', DateTime, default=datetime.datetime.utcnow),\n",
    "                 Column('tekstualni_sadrzaj', Text))\n",
    "\n",
    "# Create the table\n",
    "metadata.create_all(engine)"
   ]
  },
  {
   "cell_type": "code",
   "execution_count": 93,
   "id": "e05eee41-1e8c-44c5-baa8-a4f70fd079b6",
   "metadata": {},
   "outputs": [
    {
     "data": {
      "text/plain": [
       "['sifra_dokumenta',\n",
       " 'naslov_dokumenta',\n",
       " 'putanja_datoteke',\n",
       " 'url_adresa',\n",
       " 'datum',\n",
       " 'tekstualni_sadrzaj']"
      ]
     },
     "execution_count": 93,
     "metadata": {},
     "output_type": "execute_result"
    }
   ],
   "source": [
    "# Checking the created table\n",
    "dokument.columns.keys()"
   ]
  },
  {
   "cell_type": "markdown",
   "id": "ec2bd272-0b13-4389-bbb7-ceb513634cc3",
   "metadata": {},
   "source": [
    "# PDF text extraction"
   ]
  },
  {
   "cell_type": "code",
   "execution_count": 145,
   "id": "8caaa58d-775a-4f6d-9425-aebe80e4956f",
   "metadata": {},
   "outputs": [],
   "source": [
    "def is_scanned_pdf(file_path):\n",
    "    text = extract_text(file_path)\n",
    "    return len(text.strip()) == 0\n",
    "\n",
    "def extract_text_from_scanned_pdf(file_path):\n",
    "    document = fitz.open(file_path)\n",
    "    text = \"\"\n",
    "\n",
    "    for page_num in range(len(document)):\n",
    "        page = document.load_page(page_num)\n",
    "        pix = page.get_pixmap()\n",
    "        image = Image.open(BytesIO(pix.tobytes()))\n",
    "        text += pytesseract.image_to_string(image, lang = 'hrv')\n",
    "\n",
    "    document.close()\n",
    "    return text\n",
    "\n",
    "def extract_text_from_pdf(file_path):\n",
    "    if is_scanned_pdf(file_path):\n",
    "        return extract_text_from_scanned_pdf(file_path)\n",
    "    else:\n",
    "        return extract_text(file_path)"
   ]
  },
  {
   "cell_type": "code",
   "execution_count": 150,
   "id": "2eea1b21-4ccb-497f-b257-d7230671a4c6",
   "metadata": {},
   "outputs": [
    {
     "data": {
      "text/plain": [
       "False"
      ]
     },
     "execution_count": 150,
     "metadata": {},
     "output_type": "execute_result"
    }
   ],
   "source": [
    "# Example usage\n",
    "file_path = './data/dummy_data/politika-privatnosti-foi.pdf'\n",
    "is_scanned_pdf(file_path)"
   ]
  },
  {
   "cell_type": "code",
   "execution_count": 151,
   "id": "12a2146a-e227-4f9a-a58c-f5f6d35a6b5d",
   "metadata": {},
   "outputs": [
    {
     "data": {
      "text/plain": [
       "'VODITELJ OBRADE  \\n\\nPOLITIKA PRIVATNOSTI \\n\\nFakultet organizacije i informatike Sveučilišta u Zagrebu, Pavlinska 2, Varaždin (dalje u tekstu: \\nFakultet), telefon: +38542 390 800, fax: +38542 213 413, e-mail:  ured-dekana@foi.unizg.hr \\nMolimo vas da ovu Politiku privatnosti pročitate pažljivo kako biste saznali kako prikupljamo, \\nobrađujemo,  štitimo  ili  na  bilo  koji  drugi  način  koristimo  vaše  osobne  podatke.  Detaljnije \\npoveznici: \\nna \\ninformacije \\nhttps://www.foi.unizg.hr/hr/fakultet/zastita-op  \\n\\ninternetskoj \\n\\nsljedećoj \\n\\npronaći \\n\\nmožete \\n\\n1. PODACI O SLUŽBENIKU ZA ZAŠTITU OSOBNIH PODATAKA  \\n\\ntelefon:  +38542  390  806; \\npodataka@foi.unizg.hr \\n\\nfax:  +38542  213  413,  e-mail: \\n\\nsluzbenik-za-zastitu-\\n\\n2. SVRHA I PRAVNI TEMELJI ZA OBRADU OSOBNIH PODATAKA  \\n\\nOsobni podatak jest svaki podatak koji se odnosi na pojedinca čiji je identitet poznat ili se može \\nutvrditi. Pojedinac čiji se identitet može utvrditi jest osoba koja se može identificirati izravno \\nili  neizravno,  osobito  uz  pomoć  identifikatora  kao  što  su  ime, identifikacijski  broj,  podaci  o \\nlokaciji  i  mrežni  identifikator  ili  uz  pomoć  jednog  ili  više  čimbenika  svojstvenih  za  fizički, \\nfiziološki, genetski, mentalni, ekonomski, kulturni ili socijalni identitet tog pojedinca.  \\n\\nVaše  osobne  podatke  koji  su  nužni  za  obavljanje  i  registriranje  djelatnosti  Fakulteta \\norganizacije  i  informatike  obrađujemo u  smislu  članka  6.,  stavka  1.,  točaka  (a),  (c), (e) i (f) \\nUREDBE (EU) 2016/679 EUROPSKOG PARLAMENTA I VIJEĆA od 27. travnja 2016. o \\nzaštiti pojedinaca u vezi s obradom osobnih podataka i o slobodnom kretanju takvih podataka \\nte o stavljanju izvan snage Direktive 95/46/EZ (dalje u tekstu: Opća Uredba) u svrhu:  \\n\\n•  studiranja,  pohađanja  programa \\n\\nsudjelovanja  na \\norganiziranim  predavanjima,  radionicama,  savjetovanjima,  simpozijima  i  sličnim \\ndogađanjima koje organizira Fakultet  \\n\\ncjeloživotnog  učenja, \\n\\n•  zaposlenja na Fakultetu  \\n•  videonadzora u svrhu zaštite osoba i imovine  \\n•  kvalitetnijeg i sveobuhvatnijeg sadržaja internetskih stranica i omogućavanja boljeg \\n\\nkorisničkog iskustva. \\n\\n3. OBRADA OSOBNIH PODATAKA PUTEM VIDEONADZORA  \\n\\n•  svrha: zaštita osoba i imovine  \\n•  pravni temelj: legitiman interes Fakulteta kao voditelja obrade osobnih podataka  \\n•  primatelji: videosnimke možemo dostaviti na zahtjev nadležnim tijelima (policija, \\nsud) ako je to potrebno za provođenje postupaka na temelju posebnih propisa  \\n•  čuvanje: snimke dobivene putem videonadzornog sustava čuvamo najviše trideset \\ndana ili dulje ako su one izuzete kao dokaz u sudskom, upravnom, arbitražnom ili \\ndrugom postupku  \\n\\n \\n \\n\\x0c4. KORIŠTENJE KOLAČIĆA (COOKIES) \\n\\nKako  bio  posjet  i  korištenje  službene  internetske  stranice  Fakulteta  bilo  što  ugodnije, \\nfunkcionalnije  i  praktičnije,  naša  internetska  stranica  sprema  na  vaše  računalo  određenu \\nkoličinu informacija, tzv. cookies (kolačići). Kolačići služe da bi internetska stranica radila što \\nbolje te u svrhu poboljšanja vašeg iskustva pregledavanja i korištenja.  \\nKorištenjem i posjetom službene stranice Fakultet dajete svoj pristanak na upotrebu kolačića. \\nUpotrebu kolačića možete i blokirati, što ne utječe na mogućnost pregledavanja naše internetske \\nstranice, no naglašavamo da neke funkcionalnosti stranice možda neće biti dostupne.  \\n\\nDa biste razumjeli što su to kolačići, ljubazno vas molimo da pročitate sljedeće. Kolačić je dio \\ninformacija spremljenih na vaše računalo, mobitel ili tablet (dalje u tekstu: „uređaj“), koje mogu \\nbiti dostavljene neposredno od strane internetske stranice koju posjetite (kolačići od prve strane) \\nili u suradnji i za potrebe internetske stranice od treće strane (kolačići treće strane). Kolačići u \\npravilu spremaju vaše postavke, postavke za internetsku stranicu i sl. Nakon što opet otvorite \\ninternetsku stranicu, vaš internetski preglednik šalje natrag kolačiće koji pripadaju ovoj web \\nstranici. To omogućuje stranici da prikaže informacije prilagođene vašim potrebama. Kolačići \\nmogu imati širok raspon informacija, uključujući i dio osobnih informacija. Takve informacije \\nmogu  biti  spremljene  jedino  ako  vi  to  omogućite.  Sama  internetska  stranica  ne  može  dobiti \\npristup  informacijama  koje  im  niste  dali  te  ne  mogu  pristupiti  niti  jednoj  drugoj  datoteci  na \\nvašem računalu. \\n\\nAko želite onemogućiti spremanje kolačića na vaš uređaj, možete to učiniti samostalno. Primite \\nna  znanje  kako  bi  isto  moglo  imati  negativan  učinak  na  korištenje  internetske  stranice.  \\nKako  biste  isključili  kolačiće,  potrebno  je  namjestiti  postavke  i  konfiguracije  vašeg \\ninternetskog preglednika. U izborniku preglednika odaberite pomoć i informacije o kolačićima \\nte slijedite upute. \\n\\n5. KOJA SU VAŠA PRAVA U VEZI S OBRADOM OSOBNIH PODATAKA  \\n\\nZa ostvarivanje svojih prava možete se obratiti službeniku za zaštitu osobnih podataka iz točke \\n1.  ove  Politike koji  će  vam  uputiti  unaprijed  pripremljen  obrazac  za  zahtjev  za  ostvarivanje \\nodređenog  prava.  Navedeni  zahtjev  dostavljate  ispunjen  i  potpisan,  u  obliku  elektroničke \\nisprave ili na papiru pri čemu se morate identificirati.  \\n\\nVaša prava su sljedeća:  \\n\\n5.1. Pravo na pristup osobnim podacima  \\n\\nImate pravo na pristup svojim osobnim podacima koje obrađujemo o vama i možete zatražiti \\ndetaljne  informacije,  osobito  o  njihovoj  svrsi  obrade,  o  vrsti/kategorijama  osobnih  podataka \\nkoji  se  obrađuju,  uključujući  i  uvid  u  svoje  osobne  podatke,  o  primateljima  ili  kategorijama \\nprimatelja  te  o  predviđenom  razdoblju  u  kojem  će  osobni  podaci  biti  pohranjeni.  Pristup \\nosobnim podacima može biti ograničen samo u slučajevima propisanim pravom Unije ili našim \\nnacionalnim  zakonodavstvom,  odnosno  kada  se  takvim  ograničenjem  poštuje  bit  temeljnih \\nprava i sloboda drugih.  \\n\\n \\n \\n \\n \\n\\x0c5.2. Pravo na ispravak osobnih podataka  \\n\\nImate pravo zatražiti ispravljanje ili dopunjavanje osobnih podataka ako vaši podaci nisu točni, \\npotpuni  i  ažurni.  U  zahtjevu  je  potrebno  specificirati  što  konkretno  nije  točno,  potpuno  ili \\nažurno i u kojem bi smislu navedeno trebalo ispraviti te dostaviti potrebnu dokumentaciju u \\nprilog svojih navoda.  \\n\\n5.3. Pravo na brisanje  \\n\\nImate pravo tražiti brisanje osobnih podataka koje se odnose na vas ako je ispunjen jedan od \\nsljedećih uvjeta: \\n\\n•  vaši osobni podaci više nisu nužni u odnosu na svrhu za koju smo ih prikupili ili \\n\\nobradili  \\n\\n•  povukli ste privolu na kojoj se obrada temelji u skladu s člankom 6., stavkom 1., \\ntočkom  (a)  ili  člankom  9.,  stavkom  2.,  točkom  (a)  i  ako  ne  postoji  druga  pravna \\nosnova za obradu  \\n\\n•  uložili  ste  prigovor  na  obradu  svojih  osobnih  podataka  u  skladu  sa  člankom  21., \\nstavkom  1.  Opće  uredbe  o  zaštiti  podataka  te  ako  ne  postoje  naši  jači  legitimni \\nrazlozi za obradu  \\n\\n•  osobni podaci nezakonito su obrađeni  \\n•  osobni  podaci  moraju  se  brisati  radi  poštivanja  pravne  obveze  iz  prava  Unije  ili \\n\\nprava države kojoj podliježe voditelj obrade. \\n\\nIznimke vezane uz ostvarivanje prava brisanja predviđene su člankom 17., stavkom 3. Opće \\nuredbe i ona nisu primjenjiva u mjeri u kojoj je obrada nužna:  \\n\\n• \\n• \\n\\nradi ostvarivanja prava na slobodu izražavanja i informiranja \\nradi  poštivanja  pravne  obveze  kojom  se  zahtijeva  obrada  u  pravu  Unije  ili  pravu \\ndržave članice kojem podliježe voditelj obrade ili za izvršavanje zadaće od javnog \\ninteresa ili pri izvršavanju službene ovlasti voditelja obrade  \\n\\n•  u  svrhe  arhiviranja  u  javnom  interesu,  u  svrhe  znanstvenog  ili  povijesnog \\nistraživanja ili u statističke svrhe u skladu s člankom 89., stavkom 1. u mjeri u kojoj \\nje  vjerojatno  da  se  pravom  na  brisanje  može  onemogućiti  ili  ozbiljno  ugroziti \\npostizanje ciljeva te obrade ili  \\nradi postavljanja, ostvarivanja ili obrane pravnih zahtjeva.  \\n\\n• \\n\\n5.4. Pravo na ograničavanje obrade osobnih podataka  \\n\\nPravo na ograničavanje obrade možete ishoditi ako:  \\n\\n•  osporavate njihovu točnost \\n•  ako je obrada nezakonita, a protivite se njihovu brisanju  \\n•  ako voditelj obrade više ne treba osobne podatke, ali ste ih zatražili radi postavljanja, \\n\\nostvarivanja ili obrane pravnih zahtjeva  \\n\\n•  ako ste uložili prigovor na obradu vaših osobnih podataka.  \\n\\n \\n \\n\\x0c5.5. Pravo na prigovor  \\n\\nAko vaše podatke obrađujemo u svrhe izvršavanja zadaća od javnog interesa ili pri izvršavanju \\nsvojih  službenih  ovlasti  ili  se  prilikom  njihove  obrade  pozivamo  na  naše  legitimne  interese, \\nmožete  podnijeti  prigovor  protiv  takve  obrade  Agenciji  za  zaštitu  osobnih  podataka,  Selska \\ncesta 136, 10 000 Zagreb. \\n\\n6. DAVANJE NA KORIŠTENJE OSOBNIH PODATAKA  \\n\\nVaše  osobne  podatke  možemo  proslijediti  na  korištenje  pružateljima \\ninformatičko-\\nkomunikacijskih rješenja i usluga koji djeluju kao izvršitelji obrade. S navedenim izvršiteljima \\nobrade sklopili smo ugovore u kojima je detaljno propisano postupanje s osobnim podacima, te \\nstoga oni nisu u mogućnosti obrađivati vaše osobne podatke bez našeg naloga i prosljeđivati ih \\ntrećim  stranama.  U  određenim  okolnostima  imamo  pravnu  obvezu  proslijediti  vaše  osobne \\npodatke,  a  obradom  osobnih  podataka  može  biti  obuhvaćen  i  njihov  međunarodni  prijenos. \\nPravna obveza može proizlaziti iz nacionalnih propisa ili iz propisa EU. Vaši podaci prosljeđuju \\nse  drugim  primateljima  kad  nas  obvezuju  određeni  propisi  u  opsegu  koji  je  potreban  za \\nostvarenje  utvrđene  svrhe.  Vaši  osobni  podaci  neće  se  prosljeđivati  trećim  stranama  u  svrhe \\nizravnog marketinga.  \\n\\n7. SIGURNOST OSOBNIH PODATAKA  \\n\\nPrikupljamo i obrađujemo osobne podatke na način kojim se osigurava odgovarajuća sigurnost \\ni povjerljivost u njihovoj obradi te omogućavanje učinkovite primjene načela zaštite podataka, \\nsmanjenje  količine  podataka,  opseg  njihove  obrade,  razdoblje  pohrane  i  njihova  dostupnost. \\nPoduzimamo  sve  odgovarajuće  tehničke  i  organizacijske  mjere  zaštite  kako  bismo  spriječili \\nslučajno ili nezakonito uništavanje, gubitak, izmjene, neovlašteno korištenje, otkrivanje, uvid \\nili pristup podacima. Naši zaposlenici obvezuju se na čuvanje svih osobnih podataka. Dekan, \\nprodekani i zaposlenici Fakulteta organizacije i informatike dužni su kao profesionalnu tajnu, \\nsukladno  zakonu  kojim  se  uređuje  tajnost  podataka,  čuvati  sve  osobne  i  druge  povjerljive \\npodatke koje saznaju u obavljanju svojih dužnosti. Navedena obveza traje i nakon prestanka \\nobnašanja  dužnosti  dekana  i  prodekana,  odnosno  nakon  prestanka  rada  na  Fakultetu \\norganizacije i informatike.  \\n\\n8. VREMENSKO RAZDOBLJE ČUVANJA OSOBNIH PODATAKA  \\n\\nVaše  osobne  podatke  obrađujemo  dok  se  ne  ispuni  svrha  obrade  osobnih  podataka.  Nakon \\nprestanka svrhe u koju su prikupljeni, vaše osobne podatke više ne koristimo te oni ostaju u \\nnašem sustavu pohrane i čuvamo ih koliko nas obvezuju zakonski propisi o čuvanju arhivskog \\ngradiva.  \\n\\n9. PROMJENE POLITIKE PRIVATNOSTI  \\n\\nPolitiku privatnosti redovito ažuriramo kako bi ona bila točna i ažurna te zadržavamo pravo \\npromjene  sadržaja  ako  smatramo  da  je  to  nužno.  O  svim  izmjenama  i  dopunama  bit  ćete \\npravovremeno informirani putem naše internetske stranice, u skladu s načelom transparentnosti.'"
      ]
     },
     "execution_count": 151,
     "metadata": {},
     "output_type": "execute_result"
    }
   ],
   "source": [
    "text = extract_text_from_pdf(file_path)\n",
    "text.strip()"
   ]
  },
  {
   "cell_type": "code",
   "execution_count": null,
   "id": "6f7d768f-c9e6-4177-952e-0126f0c727ff",
   "metadata": {},
   "outputs": [],
   "source": []
  }
 ],
 "metadata": {
  "kernelspec": {
   "display_name": "Python 3 (ipykernel)",
   "language": "python",
   "name": "python3"
  },
  "language_info": {
   "codemirror_mode": {
    "name": "ipython",
    "version": 3
   },
   "file_extension": ".py",
   "mimetype": "text/x-python",
   "name": "python",
   "nbconvert_exporter": "python",
   "pygments_lexer": "ipython3",
   "version": "3.10.12"
  }
 },
 "nbformat": 4,
 "nbformat_minor": 5
}
