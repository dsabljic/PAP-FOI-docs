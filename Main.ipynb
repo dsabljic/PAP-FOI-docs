{
 "cells": [
  {
   "cell_type": "markdown",
   "id": "a41ead12-0d94-4d08-983d-b8b4320b353a",
   "metadata": {},
   "source": [
    "# Zadatak"
   ]
  },
  {
   "cell_type": "markdown",
   "id": "dcdaf0b4-0a8a-4728-bed8-418247dbc84c",
   "metadata": {},
   "source": [
    "Na adresi https://www.foi.unizg.hr/hr/dokumenti nalazi se baza dokumenata Fakulteta organizacije i informatike. Većina dokumenata zadana je u PDF formatu, no neki od dokumenata su čitki (vektorski format) dok su drugi skenirani (rasterski format). Potrebno je:\n",
    "1) Implementirati program koji će skinuti sve PDF dokumente na lokalno računalo (ili Google Colab / Drive direktorij)\n",
    "2) Kreirati bazu podataka (SQLite) koja će sadržavati jednu tablicu \"dokument\". Tablica treba sadržavati šifru dokumenta (autonumber), naslov dokumenta, putanju datoteke (path i filename na lokalnom računalu), URL adresu s koje je dokument skinut, datum, te tekstualni sadržaj dokumenta.\n",
    "3) Posebno za zadnje polje u tablici potrebno je svaki dokument učitati i ekstrahirati tekst (primjerice putem Python modula PDFMiner - https://github.com/pdfminer/pdfminer.six). Ukoliko je dokument skeniran potrebno je koristiti odgovarajući OCR modul za ekstrakciju teksta (npr. PyTesseract https://pypi.org/project/pytesseract/).\n",
    "4) Omogućiti pristup skupu podataka putem REST API-ja koji omogućuje isključivo pretraživanje podataka putem:(a) pretraživanja ključnih riječi u tekstu (npr. boolean search), (b) pretraživanje ključnih riječi u naslovu (c) pregled prema datumu (npr. dokumenti od DATUM do DATUM), (d) izlistavanje svih dokumenata."
   ]
  },
  {
   "cell_type": "markdown",
   "id": "2e68a3b4-55d3-479c-bf0f-1869abb1df82",
   "metadata": {},
   "source": [
    "# Prikupljanje podataka"
   ]
  },
  {
   "cell_type": "code",
   "execution_count": 1,
   "id": "64da7c03-2c3e-4e6a-b590-da1c9f01f41d",
   "metadata": {},
   "outputs": [],
   "source": [
    "!mkdir -p data/pdfs data/dummy_data"
   ]
  },
  {
   "cell_type": "code",
   "execution_count": 128,
   "id": "46496a2f-5af6-4bfa-b980-3a4c01a39a5d",
   "metadata": {},
   "outputs": [],
   "source": [
    "import os\n",
    "import sys\n",
    "import csv\n",
    "import datetime\n",
    "import time\n",
    "\n",
    "import requests\n",
    "from bs4 import BeautifulSoup\n",
    "from requests_html import HTMLSession\n",
    "\n",
    "import numpy as np\n",
    "import pandas as pd\n",
    "\n",
    "from sqlalchemy import (create_engine, MetaData, Table, Column, Integer, Text,\n",
    "                        String, Double, DateTime, insert, select, update, delete, text)\n",
    "\n",
    "import fitz\n",
    "import pytesseract\n",
    "from PIL import Image\n",
    "from io import BytesIO\n",
    "from pdfminer.high_level import extract_text"
   ]
  },
  {
   "cell_type": "code",
   "execution_count": 47,
   "id": "6f7a2ba9-6f05-4484-b76f-e4bd23d86640",
   "metadata": {},
   "outputs": [],
   "source": [
    "s = HTMLSession()\n",
    "\n",
    "def get_data(url, timeout=3, max_retries=3):\n",
    "    retries = 0\n",
    "    while retries < max_retries:\n",
    "        try:\n",
    "            response = s.get(url, timeout=timeout)\n",
    "            soup = BeautifulSoup(response.text, 'html.parser')\n",
    "            return soup\n",
    "        except requests.exceptions.Timeout:\n",
    "            print(f\"Request timed out for URL: {url}. Retrying ({retries + 1}/{max_retries})...\")\n",
    "            retries += 1\n",
    "        except requests.exceptions.RequestException as e:\n",
    "            print(f\"Error during request to {url}: {e}\")\n",
    "            break  # Break the loop on non-timeout errors\n",
    "\n",
    "    print(f\"Failed to fetch data from {url} after {max_retries} retries.\")\n",
    "    return None"
   ]
  },
  {
   "cell_type": "markdown",
   "id": "1d2ed276-74d2-403c-852f-a2d253fd7ef1",
   "metadata": {},
   "source": [
    "## Downloading PDF"
   ]
  },
  {
   "cell_type": "code",
   "execution_count": 100,
   "id": "f5175c09-6a23-4a7c-824e-d5bb3ae54e73",
   "metadata": {},
   "outputs": [],
   "source": [
    "def download_pdf2(url, path, max_retries=3):\n",
    "    '''\n",
    "    Download a document from a given URL to a specified directory.\n",
    "    URL format: /sites/default/files/[document_name].pdf\n",
    "    '''\n",
    "    file_path = None\n",
    "    retries = 0\n",
    "    while retries < max_retries:\n",
    "        try:\n",
    "            response = s.get(url, timeout = 3)\n",
    "            response.raise_for_status()  # Checks for HTTP errors\n",
    "\n",
    "            file_name = url.split('/')[-1]\n",
    "            file_path = os.path.join(path, file_name)\n",
    "\n",
    "            with open(file_path, 'wb') as f:\n",
    "                f.write(response.content)\n",
    "\n",
    "            print(f\"Success: {file_path}\")\n",
    "            break  # Exit loop on successful download\n",
    "        except requests.exceptions.RequestException as e:\n",
    "            print(f\"Attempt {retries + 1} failed: {e}\")\n",
    "            retries += 1\n",
    "\n",
    "    if retries == max_retries:\n",
    "        print(f\"Failed to download file from {url} after {max_retries} retries.\")\n",
    "\n",
    "    return file_path"
   ]
  },
  {
   "cell_type": "code",
   "execution_count": 5,
   "id": "ed5f10a8-4589-405a-8a06-d08e5f5cad0e",
   "metadata": {},
   "outputs": [],
   "source": [
    "# fixed version\n",
    "def download_pdf(url, path, max_retries=3, timeout=10):\n",
    "    '''\n",
    "    Download a document from a given URL to a specified directory.\n",
    "    URL format: /sites/default/files/[document_name].pdf\n",
    "    '''\n",
    "    retries = 0\n",
    "    backoff = 1  # Initial backoff duration in seconds\n",
    "\n",
    "    while retries < max_retries:\n",
    "        try:\n",
    "            # Check response headers before downloading the full content\n",
    "            with s.get(url, stream=True, timeout=timeout) as r:\n",
    "                r.raise_for_status()  # Checks for HTTP errors\n",
    "\n",
    "                file_name = url.split('/')[-1]\n",
    "                file_path = os.path.join(path, file_name)\n",
    "\n",
    "                with open(file_path, 'wb') as f:\n",
    "                    for chunk in r.iter_content(chunk_size=8192):\n",
    "                        if chunk:  # Filter out keep-alive chunks\n",
    "                            f.write(chunk)\n",
    "\n",
    "            print(f\"Success: {file_path}\")\n",
    "            break  # Exit loop on successful download\n",
    "        except requests.exceptions.RequestException as e:\n",
    "            print(f\"Attempt {retries + 1} failed: {e}\")\n",
    "            sleep(backoff)  # Wait before retrying\n",
    "            backoff *= 2  # Exponential backoff\n",
    "            retries += 1\n",
    "\n",
    "    if retries == max_retries:\n",
    "        print(f\"Failed to download file from {url} after {max_retries} retries.\")"
   ]
  },
  {
   "cell_type": "markdown",
   "id": "8308651a-c717-4ac1-b45a-cc4cb74b6d67",
   "metadata": {},
   "source": [
    "## Creating a CSV data entry/extracting useful fields"
   ]
  },
  {
   "cell_type": "code",
   "execution_count": 42,
   "id": "675f8d71-7ff9-41e4-8a1e-4611cff5b447",
   "metadata": {},
   "outputs": [],
   "source": [
    "# fixed version\n",
    "def get_metadata(url):\n",
    "    '''\n",
    "        Dohvaca meta podatke za zapis sa dane url adrese (/hr/dokument/[ime_dokumenta])\n",
    "    '''\n",
    "    soup = get_data(url)\n",
    "\n",
    "    if not soup:\n",
    "        return (None,) * 5\n",
    "\n",
    "    ime_datoteke, link1, datum, vrsta_dokumenta, kategorija_dokumenta = (None,) * 5\n",
    "\n",
    "    try:\n",
    "        link_element = soup.find('a', href=True, type=lambda value: value and 'application/pdf' in value)\n",
    "        if link_element:\n",
    "            link1 = link_element['href']\n",
    "\n",
    "        datum_element = soup.find('div', class_='datum')\n",
    "        if datum_element:\n",
    "            datum_text = datum_element.text.strip()\n",
    "            datum = datum_text.split('Kreirano: ')[1] if 'Kreirano: ' in datum_text else None\n",
    "\n",
    "        fields = soup.find_all('div', class_='field-item even')\n",
    "        if fields:\n",
    "            ime_datoteke = fields[0].text.strip() if len(fields) > 0 else None\n",
    "            vrsta_dokumenta = fields[1].text.strip() if len(fields) > 1 else None\n",
    "            kategorija_dokumenta = fields[2].text.strip() if len(fields) > 2 else None\n",
    "\n",
    "    except Exception as e:\n",
    "        print(\"Error while extracting data:\", e)\n",
    "\n",
    "    return ime_datoteke, link1, datum, vrsta_dokumenta, kategorija_dokumenta"
   ]
  },
  {
   "cell_type": "code",
   "execution_count": 43,
   "id": "4b9d7d4a-fc26-44c8-88a6-d8919d013d1e",
   "metadata": {},
   "outputs": [
    {
     "data": {
      "text/plain": [
       "('odluka_o_izmjeni_odluke_pok_2023_10_12.pdf',\n",
       " 'https://www.foi.unizg.hr/sites/default/files/odluka_o_izmjeni_odluke_pok_2023_10_12_0.pdf',\n",
       " '18.12.2023',\n",
       " 'Odluka',\n",
       " 'Kvaliteta')"
      ]
     },
     "execution_count": 43,
     "metadata": {},
     "output_type": "execute_result"
    }
   ],
   "source": [
    "metadata = get_metadata('https://www.foi.unizg.hr/hr/dokument/izmjenjena-odluka-pok-2023')\n",
    "metadata"
   ]
  },
  {
   "cell_type": "markdown",
   "id": "92f70302-add4-4419-9b37-01229f778025",
   "metadata": {},
   "source": [
    "## Handling pagination and going through document on the main pages"
   ]
  },
  {
   "cell_type": "code",
   "execution_count": 8,
   "id": "e0932608-d4e8-4351-be04-a9c7d88604d1",
   "metadata": {},
   "outputs": [],
   "source": [
    "def extract_links(span_list):\n",
    "    return [(span.find('a', href = True, target = False)['href'], span.text) for span in span_list]"
   ]
  },
  {
   "cell_type": "code",
   "execution_count": 9,
   "id": "df4698d7-3e74-43af-a599-2f40300b3342",
   "metadata": {},
   "outputs": [],
   "source": [
    "soup = get_data('https://www.foi.unizg.hr/hr/dokumenti')\n",
    "spans = soup.find_all('span', class_ = 'field-content') if soup else None"
   ]
  },
  {
   "cell_type": "code",
   "execution_count": 10,
   "id": "465347b3-9be8-4f6a-b13a-035c9b8aa1f3",
   "metadata": {
    "scrolled": true
   },
   "outputs": [
    {
     "data": {
      "text/plain": [
       "[('/hr/dokument/izmjenjena-odluka-pok-2023', 'Izmjenjena odluka POK-a 2023.'),\n",
       " ('/hr/dokument/odluka-o-raspisivanju-izvanrednih-izbora-studentskog-zbora-suzgfoi',\n",
       "  'Odluka o raspisivanju izvanrednih izbora Studentskog zbora SUZGFOI'),\n",
       " ('/hr/dokument/posebni-dio-financijskog-plana-2024-2026',\n",
       "  'Posebni dio financijskog plana 2024-2026'),\n",
       " ('/hr/dokument/opci-dio-prijedlog-financijskog-plana-2024-2026',\n",
       "  'Opći dio - prijedlog financijskog plana 2024-2026'),\n",
       " ('/hr/dokument/obrazlozenje-posebnog-dijela-financijskog-plana-2024-2026',\n",
       "  'Obrazloženje posebnog dijela financijskog plana 2024-2026'),\n",
       " ('/hr/dokument/obrazlozenje-opceg-dijela-financijskog-plana-2024-2026',\n",
       "  'Obrazloženje općeg dijela financijskog plana 2024-2026'),\n",
       " ('/hr/dokument/dnevni-red-fakultetskog-vijeca-07122023',\n",
       "  'Dnevni red Fakultetskog vijeća 07.12.2023.'),\n",
       " ('/hr/dokument/politika-privatnosti-foi-ja', 'Politika privatnosti FOI-ja'),\n",
       " ('/hr/dokument/popis-gospodarskih-subjekata-s-kojima-se-ne-smije-sklapati-ugovor-o-javnoj-nabavi',\n",
       "  'Popis gospodarskih subjekata s kojima se ne smije sklapati ugovor o javnoj nabavi'),\n",
       " ('/hr/dokument/zakljucak-fakultetskog-vijeca-16112023',\n",
       "  'Zaključak Fakultetskog vijeća 16.11.2023.')]"
      ]
     },
     "execution_count": 10,
     "metadata": {},
     "output_type": "execute_result"
    }
   ],
   "source": [
    "extract_links(spans)"
   ]
  },
  {
   "cell_type": "markdown",
   "id": "baec17c8-6de3-4d39-8c69-8d37e8e6e71f",
   "metadata": {},
   "source": [
    "### Handling pagination"
   ]
  },
  {
   "cell_type": "code",
   "execution_count": 11,
   "id": "b4b9aa5d-57cd-4737-8e13-fef4b730c137",
   "metadata": {},
   "outputs": [],
   "source": [
    "soup = get_data('https://www.foi.unizg.hr/hr/dokumenti')"
   ]
  },
  {
   "cell_type": "code",
   "execution_count": 12,
   "id": "545d96d0-20fa-42ed-8f57-d91b2c3cd90d",
   "metadata": {},
   "outputs": [],
   "source": [
    "def get_next_page(soup):\n",
    "    root_url = 'https://www.foi.unizg.hr'\n",
    "    page = soup.find('ul', class_ = 'pager')\n",
    "    next_btn = page.find('li', class_ = 'pager-next')\n",
    "    if next_btn:\n",
    "        url = root_url + str(next_btn.find('a')['href'])\n",
    "        return url\n",
    "    else:\n",
    "        return None"
   ]
  },
  {
   "cell_type": "code",
   "execution_count": 13,
   "id": "d9611501-5431-43d6-903b-31917c18b8f5",
   "metadata": {
    "scrolled": true
   },
   "outputs": [],
   "source": [
    "def get_urls(url):\n",
    "    urls = []\n",
    "\n",
    "    while True:\n",
    "\n",
    "        soup = get_data(url)\n",
    "\n",
    "        url = get_next_page(soup)\n",
    "        if not url:\n",
    "            break\n",
    "    \n",
    "        print(f'Appending {url}')\n",
    "        urls.append(url)\n",
    "        \n",
    "    return urls"
   ]
  },
  {
   "cell_type": "code",
   "execution_count": 14,
   "id": "8ffdb5c1-bbe6-4843-961d-37634eb24830",
   "metadata": {
    "scrolled": true
   },
   "outputs": [
    {
     "name": "stdout",
     "output_type": "stream",
     "text": [
      "Appending https://www.foi.unizg.hr/hr/dokumenti?page=1\n",
      "Appending https://www.foi.unizg.hr/hr/dokumenti?page=2\n",
      "Appending https://www.foi.unizg.hr/hr/dokumenti?page=3\n",
      "Appending https://www.foi.unizg.hr/hr/dokumenti?page=4\n",
      "Appending https://www.foi.unizg.hr/hr/dokumenti?page=5\n",
      "Appending https://www.foi.unizg.hr/hr/dokumenti?page=6\n",
      "Appending https://www.foi.unizg.hr/hr/dokumenti?page=7\n",
      "Appending https://www.foi.unizg.hr/hr/dokumenti?page=8\n",
      "Appending https://www.foi.unizg.hr/hr/dokumenti?page=9\n",
      "Appending https://www.foi.unizg.hr/hr/dokumenti?page=10\n",
      "Appending https://www.foi.unizg.hr/hr/dokumenti?page=11\n",
      "Appending https://www.foi.unizg.hr/hr/dokumenti?page=12\n",
      "Appending https://www.foi.unizg.hr/hr/dokumenti?page=13\n",
      "Appending https://www.foi.unizg.hr/hr/dokumenti?page=14\n",
      "Appending https://www.foi.unizg.hr/hr/dokumenti?page=15\n",
      "Appending https://www.foi.unizg.hr/hr/dokumenti?page=16\n",
      "Appending https://www.foi.unizg.hr/hr/dokumenti?page=17\n",
      "Appending https://www.foi.unizg.hr/hr/dokumenti?page=18\n",
      "Appending https://www.foi.unizg.hr/hr/dokumenti?page=19\n",
      "Appending https://www.foi.unizg.hr/hr/dokumenti?page=20\n",
      "Appending https://www.foi.unizg.hr/hr/dokumenti?page=21\n",
      "Appending https://www.foi.unizg.hr/hr/dokumenti?page=22\n",
      "Appending https://www.foi.unizg.hr/hr/dokumenti?page=23\n",
      "Appending https://www.foi.unizg.hr/hr/dokumenti?page=24\n",
      "Appending https://www.foi.unizg.hr/hr/dokumenti?page=25\n",
      "Appending https://www.foi.unizg.hr/hr/dokumenti?page=26\n",
      "Appending https://www.foi.unizg.hr/hr/dokumenti?page=27\n",
      "Appending https://www.foi.unizg.hr/hr/dokumenti?page=28\n",
      "Appending https://www.foi.unizg.hr/hr/dokumenti?page=29\n",
      "Appending https://www.foi.unizg.hr/hr/dokumenti?page=30\n",
      "Appending https://www.foi.unizg.hr/hr/dokumenti?page=31\n",
      "Appending https://www.foi.unizg.hr/hr/dokumenti?page=32\n",
      "Appending https://www.foi.unizg.hr/hr/dokumenti?page=33\n",
      "Appending https://www.foi.unizg.hr/hr/dokumenti?page=34\n",
      "Appending https://www.foi.unizg.hr/hr/dokumenti?page=35\n",
      "Appending https://www.foi.unizg.hr/hr/dokumenti?page=36\n",
      "Appending https://www.foi.unizg.hr/hr/dokumenti?page=37\n",
      "Appending https://www.foi.unizg.hr/hr/dokumenti?page=38\n",
      "Appending https://www.foi.unizg.hr/hr/dokumenti?page=39\n",
      "Appending https://www.foi.unizg.hr/hr/dokumenti?page=40\n",
      "Appending https://www.foi.unizg.hr/hr/dokumenti?page=41\n",
      "Appending https://www.foi.unizg.hr/hr/dokumenti?page=42\n",
      "Appending https://www.foi.unizg.hr/hr/dokumenti?page=43\n",
      "Appending https://www.foi.unizg.hr/hr/dokumenti?page=44\n",
      "Appending https://www.foi.unizg.hr/hr/dokumenti?page=45\n",
      "Appending https://www.foi.unizg.hr/hr/dokumenti?page=46\n",
      "Appending https://www.foi.unizg.hr/hr/dokumenti?page=47\n",
      "Appending https://www.foi.unizg.hr/hr/dokumenti?page=48\n",
      "Appending https://www.foi.unizg.hr/hr/dokumenti?page=49\n",
      "Appending https://www.foi.unizg.hr/hr/dokumenti?page=50\n",
      "Appending https://www.foi.unizg.hr/hr/dokumenti?page=51\n",
      "Appending https://www.foi.unizg.hr/hr/dokumenti?page=52\n",
      "Appending https://www.foi.unizg.hr/hr/dokumenti?page=53\n",
      "Appending https://www.foi.unizg.hr/hr/dokumenti?page=54\n",
      "Appending https://www.foi.unizg.hr/hr/dokumenti?page=55\n",
      "Appending https://www.foi.unizg.hr/hr/dokumenti?page=56\n",
      "Appending https://www.foi.unizg.hr/hr/dokumenti?page=57\n",
      "Appending https://www.foi.unizg.hr/hr/dokumenti?page=58\n",
      "Appending https://www.foi.unizg.hr/hr/dokumenti?page=59\n",
      "Appending https://www.foi.unizg.hr/hr/dokumenti?page=60\n",
      "Appending https://www.foi.unizg.hr/hr/dokumenti?page=61\n",
      "Appending https://www.foi.unizg.hr/hr/dokumenti?page=62\n",
      "Appending https://www.foi.unizg.hr/hr/dokumenti?page=63\n",
      "Appending https://www.foi.unizg.hr/hr/dokumenti?page=64\n",
      "Appending https://www.foi.unizg.hr/hr/dokumenti?page=65\n",
      "Appending https://www.foi.unizg.hr/hr/dokumenti?page=66\n",
      "Appending https://www.foi.unizg.hr/hr/dokumenti?page=67\n",
      "Appending https://www.foi.unizg.hr/hr/dokumenti?page=68\n",
      "Appending https://www.foi.unizg.hr/hr/dokumenti?page=69\n",
      "Appending https://www.foi.unizg.hr/hr/dokumenti?page=70\n",
      "Appending https://www.foi.unizg.hr/hr/dokumenti?page=71\n",
      "Appending https://www.foi.unizg.hr/hr/dokumenti?page=72\n",
      "Appending https://www.foi.unizg.hr/hr/dokumenti?page=73\n",
      "Appending https://www.foi.unizg.hr/hr/dokumenti?page=74\n",
      "Appending https://www.foi.unizg.hr/hr/dokumenti?page=75\n",
      "Appending https://www.foi.unizg.hr/hr/dokumenti?page=76\n",
      "Appending https://www.foi.unizg.hr/hr/dokumenti?page=77\n",
      "Appending https://www.foi.unizg.hr/hr/dokumenti?page=78\n",
      "Appending https://www.foi.unizg.hr/hr/dokumenti?page=79\n",
      "Appending https://www.foi.unizg.hr/hr/dokumenti?page=80\n",
      "Appending https://www.foi.unizg.hr/hr/dokumenti?page=81\n",
      "Appending https://www.foi.unizg.hr/hr/dokumenti?page=82\n",
      "Appending https://www.foi.unizg.hr/hr/dokumenti?page=83\n",
      "Appending https://www.foi.unizg.hr/hr/dokumenti?page=84\n",
      "Appending https://www.foi.unizg.hr/hr/dokumenti?page=85\n",
      "Appending https://www.foi.unizg.hr/hr/dokumenti?page=86\n",
      "Appending https://www.foi.unizg.hr/hr/dokumenti?page=87\n",
      "Appending https://www.foi.unizg.hr/hr/dokumenti?page=88\n",
      "Appending https://www.foi.unizg.hr/hr/dokumenti?page=89\n",
      "Appending https://www.foi.unizg.hr/hr/dokumenti?page=90\n",
      "Appending https://www.foi.unizg.hr/hr/dokumenti?page=91\n",
      "Appending https://www.foi.unizg.hr/hr/dokumenti?page=92\n",
      "Appending https://www.foi.unizg.hr/hr/dokumenti?page=93\n"
     ]
    }
   ],
   "source": [
    "urls = get_urls('https://www.foi.unizg.hr/hr/dokumenti')"
   ]
  },
  {
   "cell_type": "code",
   "execution_count": 15,
   "id": "0f06237c-9189-4724-9aed-f9e108eae8be",
   "metadata": {},
   "outputs": [
    {
     "data": {
      "text/plain": [
       "['https://www.foi.unizg.hr/hr/dokumenti?page=1',\n",
       " 'https://www.foi.unizg.hr/hr/dokumenti?page=2',\n",
       " 'https://www.foi.unizg.hr/hr/dokumenti?page=3',\n",
       " 'https://www.foi.unizg.hr/hr/dokumenti?page=4',\n",
       " 'https://www.foi.unizg.hr/hr/dokumenti?page=5']"
      ]
     },
     "execution_count": 15,
     "metadata": {},
     "output_type": "execute_result"
    }
   ],
   "source": [
    "urls[:5]"
   ]
  },
  {
   "cell_type": "markdown",
   "id": "e80ec81f-68ba-4cf5-98f7-42eef952924b",
   "metadata": {},
   "source": [
    "## Scraping main pages"
   ]
  },
  {
   "cell_type": "code",
   "execution_count": 203,
   "id": "71ae8f8a-3a27-4b0b-bde3-d414852d4940",
   "metadata": {},
   "outputs": [],
   "source": [
    "def scrape_page(url):\n",
    "    '''\n",
    "        Prolazi kroz linkove glavne stranice, ekstrahira /hr/dokument/ linkove i\n",
    "        dohvaca meta podatke za svaki dokument\n",
    "    '''\n",
    "    root_url = 'https://www.foi.unizg.hr'\n",
    "    print(f'Scraping {url}')\n",
    "    \n",
    "    soup = get_data(url)\n",
    "    spans = soup.find_all('span', class_ = 'field-content')\n",
    "\n",
    "    links = extract_links(spans)\n",
    "\n",
    "    metadata = [get_metadata(root_url + link[0]) for link in links]\n",
    "\n",
    "    df1 = pd.DataFrame(metadata, columns = ['naziv_datoteke', 'url', 'datum', 'vrsta_dokumenta', 'kategorija_dokumenta'])\n",
    "    df2 = pd.DataFrame(links, columns = ['metadata_link', 'naslov_dokumenta'])\n",
    "\n",
    "    return pd.concat([df1, df2], axis = 1)"
   ]
  },
  {
   "cell_type": "code",
   "execution_count": 204,
   "id": "5a88476f-4909-49d7-b746-3c4e55d2225e",
   "metadata": {
    "scrolled": true
   },
   "outputs": [
    {
     "name": "stdout",
     "output_type": "stream",
     "text": [
      "Scraping https://www.foi.unizg.hr/hr/dokumenti\n",
      "Scraping https://www.foi.unizg.hr/hr/dokumenti?page=1\n",
      "Scraping https://www.foi.unizg.hr/hr/dokumenti?page=2\n",
      "Scraping https://www.foi.unizg.hr/hr/dokumenti?page=3\n",
      "Scraping https://www.foi.unizg.hr/hr/dokumenti?page=4\n",
      "Scraping https://www.foi.unizg.hr/hr/dokumenti?page=5\n",
      "Scraping https://www.foi.unizg.hr/hr/dokumenti?page=6\n",
      "Scraping https://www.foi.unizg.hr/hr/dokumenti?page=7\n",
      "Scraping https://www.foi.unizg.hr/hr/dokumenti?page=8\n",
      "Scraping https://www.foi.unizg.hr/hr/dokumenti?page=9\n",
      "Scraping https://www.foi.unizg.hr/hr/dokumenti?page=10\n",
      "Scraping https://www.foi.unizg.hr/hr/dokumenti?page=11\n",
      "Scraping https://www.foi.unizg.hr/hr/dokumenti?page=12\n",
      "Scraping https://www.foi.unizg.hr/hr/dokumenti?page=13\n",
      "Scraping https://www.foi.unizg.hr/hr/dokumenti?page=14\n",
      "Scraping https://www.foi.unizg.hr/hr/dokumenti?page=15\n",
      "Scraping https://www.foi.unizg.hr/hr/dokumenti?page=16\n",
      "Scraping https://www.foi.unizg.hr/hr/dokumenti?page=17\n",
      "Scraping https://www.foi.unizg.hr/hr/dokumenti?page=18\n",
      "Scraping https://www.foi.unizg.hr/hr/dokumenti?page=19\n",
      "Scraping https://www.foi.unizg.hr/hr/dokumenti?page=20\n",
      "Scraping https://www.foi.unizg.hr/hr/dokumenti?page=21\n",
      "Scraping https://www.foi.unizg.hr/hr/dokumenti?page=22\n",
      "Scraping https://www.foi.unizg.hr/hr/dokumenti?page=23\n",
      "Scraping https://www.foi.unizg.hr/hr/dokumenti?page=24\n",
      "Scraping https://www.foi.unizg.hr/hr/dokumenti?page=25\n",
      "Scraping https://www.foi.unizg.hr/hr/dokumenti?page=26\n",
      "Scraping https://www.foi.unizg.hr/hr/dokumenti?page=27\n",
      "Scraping https://www.foi.unizg.hr/hr/dokumenti?page=28\n",
      "Scraping https://www.foi.unizg.hr/hr/dokumenti?page=29\n",
      "Scraping https://www.foi.unizg.hr/hr/dokumenti?page=30\n",
      "Scraping https://www.foi.unizg.hr/hr/dokumenti?page=31\n",
      "Scraping https://www.foi.unizg.hr/hr/dokumenti?page=32\n",
      "Scraping https://www.foi.unizg.hr/hr/dokumenti?page=33\n",
      "Scraping https://www.foi.unizg.hr/hr/dokumenti?page=34\n",
      "Scraping https://www.foi.unizg.hr/hr/dokumenti?page=35\n",
      "Scraping https://www.foi.unizg.hr/hr/dokumenti?page=36\n",
      "Scraping https://www.foi.unizg.hr/hr/dokumenti?page=37\n",
      "Scraping https://www.foi.unizg.hr/hr/dokumenti?page=38\n",
      "Scraping https://www.foi.unizg.hr/hr/dokumenti?page=39\n",
      "Scraping https://www.foi.unizg.hr/hr/dokumenti?page=40\n",
      "Scraping https://www.foi.unizg.hr/hr/dokumenti?page=41\n",
      "Scraping https://www.foi.unizg.hr/hr/dokumenti?page=42\n",
      "Scraping https://www.foi.unizg.hr/hr/dokumenti?page=43\n",
      "Scraping https://www.foi.unizg.hr/hr/dokumenti?page=44\n",
      "Scraping https://www.foi.unizg.hr/hr/dokumenti?page=45\n",
      "Scraping https://www.foi.unizg.hr/hr/dokumenti?page=46\n",
      "Scraping https://www.foi.unizg.hr/hr/dokumenti?page=47\n",
      "Request timed out for URL: https://www.foi.unizg.hr/hr/dokument/izvodenje-izbornih-predmeta-za-pitup-krizevci-zabok-i-sisak-u-ak-god-201718. Retrying (1/3)...\n",
      "Scraping https://www.foi.unizg.hr/hr/dokumenti?page=48\n",
      "Scraping https://www.foi.unizg.hr/hr/dokumenti?page=49\n",
      "Scraping https://www.foi.unizg.hr/hr/dokumenti?page=50\n",
      "Scraping https://www.foi.unizg.hr/hr/dokumenti?page=51\n",
      "Scraping https://www.foi.unizg.hr/hr/dokumenti?page=52\n",
      "Scraping https://www.foi.unizg.hr/hr/dokumenti?page=53\n",
      "Scraping https://www.foi.unizg.hr/hr/dokumenti?page=54\n",
      "Scraping https://www.foi.unizg.hr/hr/dokumenti?page=55\n",
      "Scraping https://www.foi.unizg.hr/hr/dokumenti?page=56\n",
      "Scraping https://www.foi.unizg.hr/hr/dokumenti?page=57\n",
      "Scraping https://www.foi.unizg.hr/hr/dokumenti?page=58\n",
      "Scraping https://www.foi.unizg.hr/hr/dokumenti?page=59\n",
      "Scraping https://www.foi.unizg.hr/hr/dokumenti?page=60\n",
      "Scraping https://www.foi.unizg.hr/hr/dokumenti?page=61\n",
      "Scraping https://www.foi.unizg.hr/hr/dokumenti?page=62\n",
      "Scraping https://www.foi.unizg.hr/hr/dokumenti?page=63\n",
      "Scraping https://www.foi.unizg.hr/hr/dokumenti?page=64\n",
      "Scraping https://www.foi.unizg.hr/hr/dokumenti?page=65\n",
      "Scraping https://www.foi.unizg.hr/hr/dokumenti?page=66\n",
      "Scraping https://www.foi.unizg.hr/hr/dokumenti?page=67\n",
      "Request timed out for URL: https://www.foi.unizg.hr/hr/dokument/zakljucci-s-4-sjednice-fakultetskog-vijeca-fakulteta-organizacije-i-informatike-varazdin-0. Retrying (1/3)...\n",
      "Scraping https://www.foi.unizg.hr/hr/dokumenti?page=68\n",
      "Scraping https://www.foi.unizg.hr/hr/dokumenti?page=69\n",
      "Scraping https://www.foi.unizg.hr/hr/dokumenti?page=70\n",
      "Scraping https://www.foi.unizg.hr/hr/dokumenti?page=71\n",
      "Scraping https://www.foi.unizg.hr/hr/dokumenti?page=72\n",
      "Scraping https://www.foi.unizg.hr/hr/dokumenti?page=73\n",
      "Scraping https://www.foi.unizg.hr/hr/dokumenti?page=74\n",
      "Scraping https://www.foi.unizg.hr/hr/dokumenti?page=75\n",
      "Scraping https://www.foi.unizg.hr/hr/dokumenti?page=76\n",
      "Scraping https://www.foi.unizg.hr/hr/dokumenti?page=77\n",
      "Scraping https://www.foi.unizg.hr/hr/dokumenti?page=78\n",
      "Scraping https://www.foi.unizg.hr/hr/dokumenti?page=79\n",
      "Scraping https://www.foi.unizg.hr/hr/dokumenti?page=80\n",
      "Scraping https://www.foi.unizg.hr/hr/dokumenti?page=81\n",
      "Scraping https://www.foi.unizg.hr/hr/dokumenti?page=82\n",
      "Scraping https://www.foi.unizg.hr/hr/dokumenti?page=83\n",
      "Scraping https://www.foi.unizg.hr/hr/dokumenti?page=84\n",
      "Scraping https://www.foi.unizg.hr/hr/dokumenti?page=85\n",
      "Scraping https://www.foi.unizg.hr/hr/dokumenti?page=86\n",
      "Scraping https://www.foi.unizg.hr/hr/dokumenti?page=87\n",
      "Scraping https://www.foi.unizg.hr/hr/dokumenti?page=88\n",
      "Scraping https://www.foi.unizg.hr/hr/dokumenti?page=89\n",
      "Scraping https://www.foi.unizg.hr/hr/dokumenti?page=90\n",
      "Scraping https://www.foi.unizg.hr/hr/dokumenti?page=91\n",
      "Scraping https://www.foi.unizg.hr/hr/dokumenti?page=92\n",
      "Scraping https://www.foi.unizg.hr/hr/dokumenti?page=93\n"
     ]
    }
   ],
   "source": [
    "df = scrape_page('https://www.foi.unizg.hr/hr/dokumenti')\n",
    "\n",
    "for url in urls:\n",
    "    new_df = scrape_page(url)\n",
    "    df = pd.concat([df, new_df], axis = 0, ignore_index = True)"
   ]
  },
  {
   "cell_type": "code",
   "execution_count": 205,
   "id": "f7af7d90-3685-4d03-974d-7f5fcfcdaf7b",
   "metadata": {},
   "outputs": [
    {
     "data": {
      "text/plain": [
       "(933, 7)"
      ]
     },
     "execution_count": 205,
     "metadata": {},
     "output_type": "execute_result"
    }
   ],
   "source": [
    "# Sanity check\n",
    "df.shape"
   ]
  },
  {
   "cell_type": "code",
   "execution_count": 206,
   "id": "8928eb60-c6d8-44da-a6c0-8066a955eb83",
   "metadata": {},
   "outputs": [],
   "source": [
    "# Ciscenje dataframea\n",
    "df.drop(['naziv_datoteke', 'vrsta_dokumenta', 'kategorija_dokumenta', 'metadata_link'], axis = 1, inplace = True)\n",
    "df.dropna(subset = ['url'], inplace = True)\n",
    "df.drop_duplicates(subset=['url'], inplace = True)\n",
    "df['datum'] = pd.to_datetime(df['datum'], format = '%d.%m.%Y')\n",
    "df.reset_index(drop = True, inplace = True)"
   ]
  },
  {
   "cell_type": "code",
   "execution_count": 207,
   "id": "0551ed25-b6cb-47a3-8b04-5881e5bb15b2",
   "metadata": {},
   "outputs": [
    {
     "data": {
      "text/plain": [
       "(849, 3)"
      ]
     },
     "execution_count": 207,
     "metadata": {},
     "output_type": "execute_result"
    }
   ],
   "source": [
    "df.shape"
   ]
  },
  {
   "cell_type": "code",
   "execution_count": 208,
   "id": "5803e722-1f2d-477c-803e-71b51eda621f",
   "metadata": {},
   "outputs": [
    {
     "data": {
      "text/html": [
       "<div>\n",
       "<style scoped>\n",
       "    .dataframe tbody tr th:only-of-type {\n",
       "        vertical-align: middle;\n",
       "    }\n",
       "\n",
       "    .dataframe tbody tr th {\n",
       "        vertical-align: top;\n",
       "    }\n",
       "\n",
       "    .dataframe thead th {\n",
       "        text-align: right;\n",
       "    }\n",
       "</style>\n",
       "<table border=\"1\" class=\"dataframe\">\n",
       "  <thead>\n",
       "    <tr style=\"text-align: right;\">\n",
       "      <th></th>\n",
       "      <th>url</th>\n",
       "      <th>datum</th>\n",
       "      <th>naslov_dokumenta</th>\n",
       "    </tr>\n",
       "  </thead>\n",
       "  <tbody>\n",
       "    <tr>\n",
       "      <th>0</th>\n",
       "      <td>https://www.foi.unizg.hr/sites/default/files/o...</td>\n",
       "      <td>2023-12-18</td>\n",
       "      <td>Izmjenjena odluka POK-a 2023.</td>\n",
       "    </tr>\n",
       "    <tr>\n",
       "      <th>1</th>\n",
       "      <td>https://www.foi.unizg.hr/sites/default/files/o...</td>\n",
       "      <td>2023-12-12</td>\n",
       "      <td>Odluka o raspisivanju izvanrednih izbora Stude...</td>\n",
       "    </tr>\n",
       "    <tr>\n",
       "      <th>2</th>\n",
       "      <td>https://www.foi.unizg.hr/sites/default/files/f...</td>\n",
       "      <td>2023-12-07</td>\n",
       "      <td>Dnevni red Fakultetskog vijeća 07.12.2023.</td>\n",
       "    </tr>\n",
       "    <tr>\n",
       "      <th>3</th>\n",
       "      <td>https://www.foi.unizg.hr/sites/default/files/p...</td>\n",
       "      <td>2023-11-24</td>\n",
       "      <td>Politika privatnosti FOI-ja</td>\n",
       "    </tr>\n",
       "    <tr>\n",
       "      <th>4</th>\n",
       "      <td>https://www.foi.unizg.hr/sites/default/files/p...</td>\n",
       "      <td>2023-11-20</td>\n",
       "      <td>Popis gospodarskih subjekata s kojima se ne sm...</td>\n",
       "    </tr>\n",
       "  </tbody>\n",
       "</table>\n",
       "</div>"
      ],
      "text/plain": [
       "                                                 url      datum  \\\n",
       "0  https://www.foi.unizg.hr/sites/default/files/o... 2023-12-18   \n",
       "1  https://www.foi.unizg.hr/sites/default/files/o... 2023-12-12   \n",
       "2  https://www.foi.unizg.hr/sites/default/files/f... 2023-12-07   \n",
       "3  https://www.foi.unizg.hr/sites/default/files/p... 2023-11-24   \n",
       "4  https://www.foi.unizg.hr/sites/default/files/p... 2023-11-20   \n",
       "\n",
       "                                    naslov_dokumenta  \n",
       "0                      Izmjenjena odluka POK-a 2023.  \n",
       "1  Odluka o raspisivanju izvanrednih izbora Stude...  \n",
       "2         Dnevni red Fakultetskog vijeća 07.12.2023.  \n",
       "3                        Politika privatnosti FOI-ja  \n",
       "4  Popis gospodarskih subjekata s kojima se ne sm...  "
      ]
     },
     "execution_count": 208,
     "metadata": {},
     "output_type": "execute_result"
    }
   ],
   "source": [
    "df.head()"
   ]
  },
  {
   "cell_type": "code",
   "execution_count": 209,
   "id": "38d9149d-156a-4537-9ecb-80ea91b5226a",
   "metadata": {},
   "outputs": [
    {
     "data": {
      "text/plain": [
       "831"
      ]
     },
     "execution_count": 209,
     "metadata": {},
     "output_type": "execute_result"
    }
   ],
   "source": [
    "df.naslov_dokumenta.nunique()"
   ]
  },
  {
   "cell_type": "markdown",
   "id": "9f221e85-1a56-44ed-8e72-664716bf71ff",
   "metadata": {},
   "source": [
    "Najbitniji su linkovi, datoteke kao dnevni red, odluke, modeli pracenja i sl. mogu imati iste nazive, ali pdf-ovi su naravno na drugim adresama"
   ]
  },
  {
   "cell_type": "markdown",
   "id": "f44f904f-2159-45da-ad2e-f2e02a0336b4",
   "metadata": {},
   "source": [
    "## Text & path pipeline"
   ]
  },
  {
   "cell_type": "code",
   "execution_count": 210,
   "id": "1cf41aec-7e65-4ef0-8ff3-60b129fb3a47",
   "metadata": {},
   "outputs": [
    {
     "data": {
      "text/html": [
       "<div>\n",
       "<style scoped>\n",
       "    .dataframe tbody tr th:only-of-type {\n",
       "        vertical-align: middle;\n",
       "    }\n",
       "\n",
       "    .dataframe tbody tr th {\n",
       "        vertical-align: top;\n",
       "    }\n",
       "\n",
       "    .dataframe thead th {\n",
       "        text-align: right;\n",
       "    }\n",
       "</style>\n",
       "<table border=\"1\" class=\"dataframe\">\n",
       "  <thead>\n",
       "    <tr style=\"text-align: right;\">\n",
       "      <th></th>\n",
       "      <th>url</th>\n",
       "      <th>datum</th>\n",
       "      <th>naslov_dokumenta</th>\n",
       "    </tr>\n",
       "  </thead>\n",
       "  <tbody>\n",
       "    <tr>\n",
       "      <th>0</th>\n",
       "      <td>https://www.foi.unizg.hr/sites/default/files/o...</td>\n",
       "      <td>2023-12-18</td>\n",
       "      <td>Izmjenjena odluka POK-a 2023.</td>\n",
       "    </tr>\n",
       "    <tr>\n",
       "      <th>1</th>\n",
       "      <td>https://www.foi.unizg.hr/sites/default/files/o...</td>\n",
       "      <td>2023-12-12</td>\n",
       "      <td>Odluka o raspisivanju izvanrednih izbora Stude...</td>\n",
       "    </tr>\n",
       "    <tr>\n",
       "      <th>2</th>\n",
       "      <td>https://www.foi.unizg.hr/sites/default/files/f...</td>\n",
       "      <td>2023-12-07</td>\n",
       "      <td>Dnevni red Fakultetskog vijeća 07.12.2023.</td>\n",
       "    </tr>\n",
       "    <tr>\n",
       "      <th>3</th>\n",
       "      <td>https://www.foi.unizg.hr/sites/default/files/p...</td>\n",
       "      <td>2023-11-24</td>\n",
       "      <td>Politika privatnosti FOI-ja</td>\n",
       "    </tr>\n",
       "    <tr>\n",
       "      <th>4</th>\n",
       "      <td>https://www.foi.unizg.hr/sites/default/files/p...</td>\n",
       "      <td>2023-11-20</td>\n",
       "      <td>Popis gospodarskih subjekata s kojima se ne sm...</td>\n",
       "    </tr>\n",
       "  </tbody>\n",
       "</table>\n",
       "</div>"
      ],
      "text/plain": [
       "                                                 url      datum  \\\n",
       "0  https://www.foi.unizg.hr/sites/default/files/o... 2023-12-18   \n",
       "1  https://www.foi.unizg.hr/sites/default/files/o... 2023-12-12   \n",
       "2  https://www.foi.unizg.hr/sites/default/files/f... 2023-12-07   \n",
       "3  https://www.foi.unizg.hr/sites/default/files/p... 2023-11-24   \n",
       "4  https://www.foi.unizg.hr/sites/default/files/p... 2023-11-20   \n",
       "\n",
       "                                    naslov_dokumenta  \n",
       "0                      Izmjenjena odluka POK-a 2023.  \n",
       "1  Odluka o raspisivanju izvanrednih izbora Stude...  \n",
       "2         Dnevni red Fakultetskog vijeća 07.12.2023.  \n",
       "3                        Politika privatnosti FOI-ja  \n",
       "4  Popis gospodarskih subjekata s kojima se ne sm...  "
      ]
     },
     "execution_count": 210,
     "metadata": {},
     "output_type": "execute_result"
    }
   ],
   "source": [
    "df_test = df.head().copy()\n",
    "df_test"
   ]
  },
  {
   "cell_type": "code",
   "execution_count": 211,
   "id": "fe427ca4-5350-431f-8070-a3bfbd0926a8",
   "metadata": {},
   "outputs": [],
   "source": [
    "df_test['tekst'] = None\n",
    "df_test['putanja'] = None"
   ]
  },
  {
   "cell_type": "code",
   "execution_count": 212,
   "id": "fa3b6e47-b208-4653-9cbb-2ba2aad7a02e",
   "metadata": {},
   "outputs": [
    {
     "name": "stdout",
     "output_type": "stream",
     "text": [
      "Success: ./data/dummy_data/odluka_o_izmjeni_odluke_pok_2023_10_12_0.pdf\n",
      "Success: ./data/dummy_data/odluka-izvanredni_izbori_za_studentski_zbor-sijecanj_2024.pdf\n",
      "Success: ./data/dummy_data/fv_dnevni_red_2023-12-07_3._sjednica.pdf\n",
      "Success: ./data/dummy_data/politika-privatnosti-foi.pdf\n",
      "Success: ./data/dummy_data/popis_gs_u_sukobu_interesa_2023.pdf\n"
     ]
    }
   ],
   "source": [
    "for i in range(len(df_test)):\n",
    "    path = download_pdf2(df.iloc[i].url, './data/dummy_data')\n",
    "    text = extract_text_from_pdf(path)\n",
    "    df_test.at[i, 'tekst'] = text.strip()\n",
    "    df_test.at[i, 'putanja'] = path"
   ]
  },
  {
   "cell_type": "code",
   "execution_count": 213,
   "id": "753c1f13-fa4d-455e-ae0e-460da334a0f5",
   "metadata": {},
   "outputs": [
    {
     "data": {
      "text/html": [
       "<div>\n",
       "<style scoped>\n",
       "    .dataframe tbody tr th:only-of-type {\n",
       "        vertical-align: middle;\n",
       "    }\n",
       "\n",
       "    .dataframe tbody tr th {\n",
       "        vertical-align: top;\n",
       "    }\n",
       "\n",
       "    .dataframe thead th {\n",
       "        text-align: right;\n",
       "    }\n",
       "</style>\n",
       "<table border=\"1\" class=\"dataframe\">\n",
       "  <thead>\n",
       "    <tr style=\"text-align: right;\">\n",
       "      <th></th>\n",
       "      <th>url</th>\n",
       "      <th>datum</th>\n",
       "      <th>naslov_dokumenta</th>\n",
       "      <th>tekst</th>\n",
       "      <th>putanja</th>\n",
       "    </tr>\n",
       "  </thead>\n",
       "  <tbody>\n",
       "    <tr>\n",
       "      <th>0</th>\n",
       "      <td>https://www.foi.unizg.hr/sites/default/files/o...</td>\n",
       "      <td>2023-12-18</td>\n",
       "      <td>Izmjenjena odluka POK-a 2023.</td>\n",
       "      <td>KLASA: 602-04/23-06/1 \\nURBROJ: 2186-62-06-23-...</td>\n",
       "      <td>./data/dummy_data/odluka_o_izmjeni_odluke_pok_...</td>\n",
       "    </tr>\n",
       "    <tr>\n",
       "      <th>1</th>\n",
       "      <td>https://www.foi.unizg.hr/sites/default/files/o...</td>\n",
       "      <td>2023-12-12</td>\n",
       "      <td>Odluka o raspisivanju izvanrednih izbora Stude...</td>\n",
       "      <td>foj == =\\n\\nKLASA: 602-04/23-12/1\\nURBROJ: 218...</td>\n",
       "      <td>./data/dummy_data/odluka-izvanredni_izbori_za_...</td>\n",
       "    </tr>\n",
       "    <tr>\n",
       "      <th>2</th>\n",
       "      <td>https://www.foi.unizg.hr/sites/default/files/f...</td>\n",
       "      <td>2023-12-07</td>\n",
       "      <td>Dnevni red Fakultetskog vijeća 07.12.2023.</td>\n",
       "      <td>SVEUČILIŠTE U ZAGREBU \\nFAKULTET ORGANIZACIJE ...</td>\n",
       "      <td>./data/dummy_data/fv_dnevni_red_2023-12-07_3._...</td>\n",
       "    </tr>\n",
       "    <tr>\n",
       "      <th>3</th>\n",
       "      <td>https://www.foi.unizg.hr/sites/default/files/p...</td>\n",
       "      <td>2023-11-24</td>\n",
       "      <td>Politika privatnosti FOI-ja</td>\n",
       "      <td>VODITELJ OBRADE  \\n\\nPOLITIKA PRIVATNOSTI \\n\\n...</td>\n",
       "      <td>./data/dummy_data/politika-privatnosti-foi.pdf</td>\n",
       "    </tr>\n",
       "    <tr>\n",
       "      <th>4</th>\n",
       "      <td>https://www.foi.unizg.hr/sites/default/files/p...</td>\n",
       "      <td>2023-11-20</td>\n",
       "      <td>Popis gospodarskih subjekata s kojima se ne sm...</td>\n",
       "      <td>foj s=&gt; =\\n\\nKLASA: 303.02/23.02/2\\n(URBROJ: 2...</td>\n",
       "      <td>./data/dummy_data/popis_gs_u_sukobu_interesa_2...</td>\n",
       "    </tr>\n",
       "  </tbody>\n",
       "</table>\n",
       "</div>"
      ],
      "text/plain": [
       "                                                 url      datum  \\\n",
       "0  https://www.foi.unizg.hr/sites/default/files/o... 2023-12-18   \n",
       "1  https://www.foi.unizg.hr/sites/default/files/o... 2023-12-12   \n",
       "2  https://www.foi.unizg.hr/sites/default/files/f... 2023-12-07   \n",
       "3  https://www.foi.unizg.hr/sites/default/files/p... 2023-11-24   \n",
       "4  https://www.foi.unizg.hr/sites/default/files/p... 2023-11-20   \n",
       "\n",
       "                                    naslov_dokumenta  \\\n",
       "0                      Izmjenjena odluka POK-a 2023.   \n",
       "1  Odluka o raspisivanju izvanrednih izbora Stude...   \n",
       "2         Dnevni red Fakultetskog vijeća 07.12.2023.   \n",
       "3                        Politika privatnosti FOI-ja   \n",
       "4  Popis gospodarskih subjekata s kojima se ne sm...   \n",
       "\n",
       "                                               tekst  \\\n",
       "0  KLASA: 602-04/23-06/1 \\nURBROJ: 2186-62-06-23-...   \n",
       "1  foj == =\\n\\nKLASA: 602-04/23-12/1\\nURBROJ: 218...   \n",
       "2  SVEUČILIŠTE U ZAGREBU \\nFAKULTET ORGANIZACIJE ...   \n",
       "3  VODITELJ OBRADE  \\n\\nPOLITIKA PRIVATNOSTI \\n\\n...   \n",
       "4  foj s=> =\\n\\nKLASA: 303.02/23.02/2\\n(URBROJ: 2...   \n",
       "\n",
       "                                             putanja  \n",
       "0  ./data/dummy_data/odluka_o_izmjeni_odluke_pok_...  \n",
       "1  ./data/dummy_data/odluka-izvanredni_izbori_za_...  \n",
       "2  ./data/dummy_data/fv_dnevni_red_2023-12-07_3._...  \n",
       "3     ./data/dummy_data/politika-privatnosti-foi.pdf  \n",
       "4  ./data/dummy_data/popis_gs_u_sukobu_interesa_2...  "
      ]
     },
     "execution_count": 213,
     "metadata": {},
     "output_type": "execute_result"
    }
   ],
   "source": [
    "df_test"
   ]
  },
  {
   "cell_type": "markdown",
   "id": "be7c09e7-bfad-4277-aab6-41b02bbb8b65",
   "metadata": {},
   "source": [
    "# SQLAlchemy"
   ]
  },
  {
   "cell_type": "code",
   "execution_count": 214,
   "id": "aa60914d-8a1c-47aa-a165-b0b948316468",
   "metadata": {},
   "outputs": [],
   "source": [
    "# Create an in-memory SQLite database\n",
    "engine = create_engine('sqlite:///dokumenti.db')\n",
    "\n",
    "metadata = MetaData()\n",
    "\n",
    "# Define the \"dokument\" table with specified columns\n",
    "dokument = Table('dokument', metadata,\n",
    "                 Column('sifra_dokumenta', Integer, primary_key=True, autoincrement=True),\n",
    "                 Column('url_adresa', String),\n",
    "                 Column('datum', DateTime),\n",
    "                 Column('naslov_dokumenta', String),\n",
    "                 Column('tekstualni_sadrzaj', Text),\n",
    "                 Column('putanja_datoteke', String))\n",
    "\n",
    "# Create the table\n",
    "metadata.create_all(engine)"
   ]
  },
  {
   "cell_type": "code",
   "execution_count": 215,
   "id": "e05eee41-1e8c-44c5-baa8-a4f70fd079b6",
   "metadata": {},
   "outputs": [
    {
     "data": {
      "text/plain": [
       "['sifra_dokumenta',\n",
       " 'url_adresa',\n",
       " 'datum',\n",
       " 'naslov_dokumenta',\n",
       " 'tekstualni_sadrzaj',\n",
       " 'putanja_datoteke']"
      ]
     },
     "execution_count": 215,
     "metadata": {},
     "output_type": "execute_result"
    }
   ],
   "source": [
    "# Checking the created table\n",
    "dokument.columns.keys()"
   ]
  },
  {
   "cell_type": "markdown",
   "id": "ec2bd272-0b13-4389-bbb7-ceb513634cc3",
   "metadata": {},
   "source": [
    "# PDF text extraction"
   ]
  },
  {
   "cell_type": "code",
   "execution_count": 145,
   "id": "8caaa58d-775a-4f6d-9425-aebe80e4956f",
   "metadata": {},
   "outputs": [],
   "source": [
    "def is_scanned_pdf(file_path):\n",
    "    text = extract_text(file_path)\n",
    "    return len(text.strip()) == 0\n",
    "\n",
    "def extract_text_from_scanned_pdf(file_path):\n",
    "    document = fitz.open(file_path)\n",
    "    text = \"\"\n",
    "\n",
    "    for page_num in range(len(document)):\n",
    "        page = document.load_page(page_num)\n",
    "        pix = page.get_pixmap()\n",
    "        image = Image.open(BytesIO(pix.tobytes()))\n",
    "        text += pytesseract.image_to_string(image, lang = 'hrv')\n",
    "\n",
    "    document.close()\n",
    "    return text\n",
    "\n",
    "def extract_text_from_pdf(file_path):\n",
    "    if is_scanned_pdf(file_path):\n",
    "        return extract_text_from_scanned_pdf(file_path)\n",
    "    else:\n",
    "        return extract_text(file_path)"
   ]
  },
  {
   "cell_type": "code",
   "execution_count": null,
   "id": "3266aed8-c3bd-4cab-b36c-5fe0ab69b091",
   "metadata": {},
   "outputs": [],
   "source": []
  }
 ],
 "metadata": {
  "kernelspec": {
   "display_name": "Python 3 (ipykernel)",
   "language": "python",
   "name": "python3"
  },
  "language_info": {
   "codemirror_mode": {
    "name": "ipython",
    "version": 3
   },
   "file_extension": ".py",
   "mimetype": "text/x-python",
   "name": "python",
   "nbconvert_exporter": "python",
   "pygments_lexer": "ipython3",
   "version": "3.10.12"
  }
 },
 "nbformat": 4,
 "nbformat_minor": 5
}
