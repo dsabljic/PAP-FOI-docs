{
 "cells": [
  {
   "cell_type": "markdown",
   "id": "10c263a7",
   "metadata": {},
   "source": [
    "# Automatizirano prikupljanje i pretraga PDF dokumenata Fakulteta organizacije i informatike"
   ]
  },
  {
   "cell_type": "markdown",
   "id": "8471c2c5",
   "metadata": {},
   "source": [
    "## Uvod"
   ]
  },
  {
   "cell_type": "markdown",
   "id": "bfba861e",
   "metadata": {},
   "source": [
    "### Motivacija\n",
    "U današnjem digitalnom dobu, sposobnost brze i učinkovite pretrage velike količine podataka postala je ključna komponenta u mnogim područjima, uključujući akademsku zajednicu i istraživačke institucije. Fakultet organizacije i informatike (FOI) predstavlja bogat izvor raznovrsnih akademskih materijala, posebice u obliku PDF dokumenata. Ovi dokumenti sadrže vrijedne informacije koje su ključne za studente, istraživače i djelatnike Fakulteta. Međutim, izazov leži u tome što su ti dokumenti raspršeni i nisu jednostavno pretraživi, što otežava njihovo korištenje i analizu.\n",
    "\n",
    "### Cilj projekta\n",
    "Cilj ovog projekta je razviti sustav koji automatizira proces prikupljanja PDF dokumenata s web stranice FOI-a, ekstrakciju i obradu njihovog sadržaja, te stvaranje pristupačne baze podataka koja omogućava jednostavno pretraživanje i analizu tih dokumenata putem REST servisa. Sustav kombinira tehnike *web scrapinga*, obrade tekstualnih i skeniranih PDF dokumenata, optičkog prepoznavanja znakova (OCR), i stvaranja baze podataka kako bi se olakšalo upravljanje i pristup informacijama sadržanim u tim dokumentima.\n",
    "\n",
    "### Struktura dokumentacije\n",
    "Dokumentacija ovog projekta sastoji se od sljedećih dijelova:\n",
    "\n",
    "**Opis implementacije:** Detaljan opis svake komponente implementiranog sustava, uključujući metode prikupljanja podataka, ekstrakciju teksta, te izgradnju baze podataka i REST servisa.\n",
    "\n",
    "**Prikaz rada aplikacije:** Demonstracija funkcionalnosti aplikacije kroz primjere korištenja, uključujući pretraživanje podataka i interakciju s bazom podataka.\n",
    "\n",
    "**Kritički osvrt:** Analiza efikasnosti, izazova i mogućih poboljšanja sustava, s posebnim naglaskom na praktičnu izvedivost i primjenjivost u stvarnom svijetu.\n",
    "\n",
    "**Zaključak:** Sažetak postignutih rezultata, važnosti projekta i potencijalnih smjernica za budući rad.\n",
    "\n",
    "**Literatura:** Popis referenci i izvora koji su korišteni tijekom razvoja projekta."
   ]
  },
  {
   "cell_type": "markdown",
   "id": "b181b4c3",
   "metadata": {},
   "source": [
    "## Opis implementacije"
   ]
  },
  {
   "cell_type": "markdown",
   "id": "a2754d92",
   "metadata": {},
   "source": [
    "### Prikupljanje podataka"
   ]
  },
  {
   "cell_type": "markdown",
   "id": "b654fc0f",
   "metadata": {},
   "source": [
    "Prvi korak je priprema okruženja za pohranu preuzetih PDF dokumenata (direktorij *pdfs*)."
   ]
  },
  {
   "cell_type": "code",
   "execution_count": 1,
   "id": "4f4d1124",
   "metadata": {},
   "outputs": [],
   "source": [
    "!mkdir -p data/pdfs"
   ]
  },
  {
   "cell_type": "markdown",
   "id": "eca1f6ec",
   "metadata": {},
   "source": [
    "#### Potrebni moduli/biblioteke"
   ]
  },
  {
   "cell_type": "code",
   "execution_count": 2,
   "id": "ac353652-b4e2-42ce-adab-47790b25ab0e",
   "metadata": {},
   "outputs": [
    {
     "name": "stdout",
     "output_type": "stream",
     "text": [
      "Requirement already satisfied: requests==2.31.0 in ./env/lib/python3.10/site-packages (2.31.0)\n",
      "Requirement already satisfied: certifi>=2017.4.17 in ./env/lib/python3.10/site-packages (from requests==2.31.0) (2023.11.17)\n",
      "Requirement already satisfied: charset-normalizer<4,>=2 in ./env/lib/python3.10/site-packages (from requests==2.31.0) (3.3.2)\n",
      "Requirement already satisfied: urllib3<3,>=1.21.1 in ./env/lib/python3.10/site-packages (from requests==2.31.0) (2.2.0)\n",
      "Requirement already satisfied: idna<4,>=2.5 in ./env/lib/python3.10/site-packages (from requests==2.31.0) (3.6)\n",
      "Collecting beautifulsoup4==4.12.2\n",
      "  Using cached beautifulsoup4-4.12.2-py3-none-any.whl (142 kB)\n",
      "Requirement already satisfied: soupsieve>1.2 in ./env/lib/python3.10/site-packages (from beautifulsoup4==4.12.2) (2.5)\n",
      "Installing collected packages: beautifulsoup4\n",
      "  Attempting uninstall: beautifulsoup4\n",
      "    Found existing installation: beautifulsoup4 4.12.3\n",
      "    Uninstalling beautifulsoup4-4.12.3:\n",
      "      Successfully uninstalled beautifulsoup4-4.12.3\n",
      "Successfully installed beautifulsoup4-4.12.2\n",
      "Collecting numpy==1.26.2\n",
      "  Using cached numpy-1.26.2-cp310-cp310-manylinux_2_17_x86_64.manylinux2014_x86_64.whl (18.2 MB)\n",
      "Installing collected packages: numpy\n",
      "Successfully installed numpy-1.26.2\n",
      "Collecting pandas==2.1.4\n",
      "  Using cached pandas-2.1.4-cp310-cp310-manylinux_2_17_x86_64.manylinux2014_x86_64.whl (12.3 MB)\n",
      "Collecting pytz>=2020.1\n",
      "  Using cached pytz-2023.4-py2.py3-none-any.whl (506 kB)\n",
      "Requirement already satisfied: numpy<2,>=1.22.4 in ./env/lib/python3.10/site-packages (from pandas==2.1.4) (1.26.2)\n",
      "Requirement already satisfied: python-dateutil>=2.8.2 in ./env/lib/python3.10/site-packages (from pandas==2.1.4) (2.8.2)\n",
      "Collecting tzdata>=2022.1\n",
      "  Using cached tzdata-2023.4-py2.py3-none-any.whl (346 kB)\n",
      "Requirement already satisfied: six>=1.5 in ./env/lib/python3.10/site-packages (from python-dateutil>=2.8.2->pandas==2.1.4) (1.16.0)\n",
      "Installing collected packages: pytz, tzdata, pandas\n",
      "Successfully installed pandas-2.1.4 pytz-2023.4 tzdata-2023.4\n",
      "Collecting matplotlib==3.5.1\n",
      "  Using cached matplotlib-3.5.1-cp310-cp310-manylinux_2_17_x86_64.manylinux2014_x86_64.whl (11.9 MB)\n",
      "Collecting kiwisolver>=1.0.1\n",
      "  Using cached kiwisolver-1.4.5-cp310-cp310-manylinux_2_12_x86_64.manylinux2010_x86_64.whl (1.6 MB)\n",
      "Collecting fonttools>=4.22.0\n",
      "  Using cached fonttools-4.47.2-cp310-cp310-manylinux_2_17_x86_64.manylinux2014_x86_64.whl (4.6 MB)\n",
      "Collecting pillow>=6.2.0\n",
      "  Using cached pillow-10.2.0-cp310-cp310-manylinux_2_28_x86_64.whl (4.5 MB)\n",
      "Collecting pyparsing>=2.2.1\n",
      "  Using cached pyparsing-3.1.1-py3-none-any.whl (103 kB)\n",
      "Requirement already satisfied: python-dateutil>=2.7 in ./env/lib/python3.10/site-packages (from matplotlib==3.5.1) (2.8.2)\n",
      "Requirement already satisfied: numpy>=1.17 in ./env/lib/python3.10/site-packages (from matplotlib==3.5.1) (1.26.2)\n",
      "Requirement already satisfied: packaging>=20.0 in ./env/lib/python3.10/site-packages (from matplotlib==3.5.1) (23.2)\n",
      "Collecting cycler>=0.10\n",
      "  Using cached cycler-0.12.1-py3-none-any.whl (8.3 kB)\n",
      "Requirement already satisfied: six>=1.5 in ./env/lib/python3.10/site-packages (from python-dateutil>=2.7->matplotlib==3.5.1) (1.16.0)\n",
      "Installing collected packages: pyparsing, pillow, kiwisolver, fonttools, cycler, matplotlib\n",
      "Successfully installed cycler-0.12.1 fonttools-4.47.2 kiwisolver-1.4.5 matplotlib-3.5.1 pillow-10.2.0 pyparsing-3.1.1\n",
      "Collecting sqlalchemy==2.0.24\n",
      "  Using cached SQLAlchemy-2.0.24-cp310-cp310-manylinux_2_17_x86_64.manylinux2014_x86_64.whl (3.1 MB)\n",
      "Requirement already satisfied: typing-extensions>=4.2.0 in ./env/lib/python3.10/site-packages (from sqlalchemy==2.0.24) (4.9.0)\n",
      "Collecting greenlet!=0.4.17\n",
      "  Using cached greenlet-3.0.3-cp310-cp310-manylinux_2_24_x86_64.manylinux_2_28_x86_64.whl (616 kB)\n",
      "Installing collected packages: greenlet, sqlalchemy\n",
      "Successfully installed greenlet-3.0.3 sqlalchemy-2.0.24\n",
      "Collecting PyMuPDF==1.23.8\n",
      "  Using cached PyMuPDF-1.23.8-cp310-none-manylinux2014_x86_64.whl (4.4 MB)\n",
      "Collecting PyMuPDFb==1.23.7\n",
      "  Using cached PyMuPDFb-1.23.7-py3-none-manylinux2014_x86_64.manylinux_2_17_x86_64.whl (30.6 MB)\n",
      "Installing collected packages: PyMuPDFb, PyMuPDF\n",
      "Successfully installed PyMuPDF-1.23.8 PyMuPDFb-1.23.7\n",
      "Collecting pytesseract==0.3.10\n",
      "  Using cached pytesseract-0.3.10-py3-none-any.whl (14 kB)\n",
      "Requirement already satisfied: Pillow>=8.0.0 in ./env/lib/python3.10/site-packages (from pytesseract==0.3.10) (10.2.0)\n",
      "Requirement already satisfied: packaging>=21.3 in ./env/lib/python3.10/site-packages (from pytesseract==0.3.10) (23.2)\n",
      "Installing collected packages: pytesseract\n",
      "Successfully installed pytesseract-0.3.10\n",
      "Collecting Pillow==10.1.0\n",
      "  Using cached Pillow-10.1.0-cp310-cp310-manylinux_2_28_x86_64.whl (3.6 MB)\n",
      "Installing collected packages: Pillow\n",
      "  Attempting uninstall: Pillow\n",
      "    Found existing installation: pillow 10.2.0\n",
      "    Uninstalling pillow-10.2.0:\n",
      "      Successfully uninstalled pillow-10.2.0\n",
      "Successfully installed Pillow-10.1.0\n",
      "Collecting pdfminer.six==20231228\n",
      "  Using cached pdfminer.six-20231228-py3-none-any.whl (5.6 MB)\n",
      "Collecting cryptography>=36.0.0\n",
      "  Using cached cryptography-42.0.2-cp39-abi3-manylinux_2_28_x86_64.whl (4.7 MB)\n",
      "Requirement already satisfied: charset-normalizer>=2.0.0 in ./env/lib/python3.10/site-packages (from pdfminer.six==20231228) (3.3.2)\n",
      "Requirement already satisfied: cffi>=1.12 in ./env/lib/python3.10/site-packages (from cryptography>=36.0.0->pdfminer.six==20231228) (1.16.0)\n",
      "Requirement already satisfied: pycparser in ./env/lib/python3.10/site-packages (from cffi>=1.12->cryptography>=36.0.0->pdfminer.six==20231228) (2.21)\n",
      "Installing collected packages: cryptography, pdfminer.six\n",
      "Successfully installed cryptography-42.0.2 pdfminer.six-20231228\n",
      "Collecting Flask==3.0.0\n",
      "  Using cached flask-3.0.0-py3-none-any.whl (99 kB)\n",
      "Requirement already satisfied: Jinja2>=3.1.2 in ./env/lib/python3.10/site-packages (from Flask==3.0.0) (3.1.3)\n",
      "Collecting Werkzeug>=3.0.0\n",
      "  Using cached werkzeug-3.0.1-py3-none-any.whl (226 kB)\n",
      "Collecting blinker>=1.6.2\n",
      "  Using cached blinker-1.7.0-py3-none-any.whl (13 kB)\n",
      "Collecting itsdangerous>=2.1.2\n",
      "  Using cached itsdangerous-2.1.2-py3-none-any.whl (15 kB)\n",
      "Collecting click>=8.1.3\n",
      "  Using cached click-8.1.7-py3-none-any.whl (97 kB)\n",
      "Requirement already satisfied: MarkupSafe>=2.0 in ./env/lib/python3.10/site-packages (from Jinja2>=3.1.2->Flask==3.0.0) (2.1.4)\n",
      "Installing collected packages: Werkzeug, itsdangerous, click, blinker, Flask\n",
      "Successfully installed Flask-3.0.0 Werkzeug-3.0.1 blinker-1.7.0 click-8.1.7 itsdangerous-2.1.2\n",
      "Collecting scikit-learn==1.3.2\n",
      "  Using cached scikit_learn-1.3.2-cp310-cp310-manylinux_2_17_x86_64.manylinux2014_x86_64.whl (10.8 MB)\n",
      "Requirement already satisfied: numpy<2.0,>=1.17.3 in ./env/lib/python3.10/site-packages (from scikit-learn==1.3.2) (1.26.2)\n",
      "Collecting joblib>=1.1.1\n",
      "  Using cached joblib-1.3.2-py3-none-any.whl (302 kB)\n",
      "Collecting scipy>=1.5.0\n",
      "  Using cached scipy-1.12.0-cp310-cp310-manylinux_2_17_x86_64.manylinux2014_x86_64.whl (38.4 MB)\n",
      "Collecting threadpoolctl>=2.0.0\n",
      "  Using cached threadpoolctl-3.2.0-py3-none-any.whl (15 kB)\n",
      "Installing collected packages: threadpoolctl, scipy, joblib, scikit-learn\n",
      "Successfully installed joblib-1.3.2 scikit-learn-1.3.2 scipy-1.12.0 threadpoolctl-3.2.0\n",
      "Collecting requests-html==0.10.0\n",
      "  Using cached requests_html-0.10.0-py3-none-any.whl (13 kB)\n",
      "Collecting pyppeteer>=0.0.14\n",
      "  Using cached pyppeteer-1.0.2-py3-none-any.whl (83 kB)\n",
      "Collecting fake-useragent\n",
      "  Using cached fake_useragent-1.4.0-py3-none-any.whl (15 kB)\n",
      "Requirement already satisfied: requests in ./env/lib/python3.10/site-packages (from requests-html==0.10.0) (2.31.0)\n",
      "Collecting w3lib\n",
      "  Using cached w3lib-2.1.2-py3-none-any.whl (21 kB)\n",
      "Collecting parse\n",
      "  Downloading parse-1.20.1-py2.py3-none-any.whl (20 kB)\n",
      "Collecting pyquery\n",
      "  Using cached pyquery-2.0.0-py3-none-any.whl (22 kB)\n",
      "Collecting bs4\n",
      "  Downloading bs4-0.0.2-py2.py3-none-any.whl (1.2 kB)\n",
      "Collecting websockets<11.0,>=10.0\n",
      "  Using cached websockets-10.4-cp310-cp310-manylinux_2_5_x86_64.manylinux1_x86_64.manylinux_2_17_x86_64.manylinux2014_x86_64.whl (106 kB)\n",
      "Requirement already satisfied: certifi>=2021 in ./env/lib/python3.10/site-packages (from pyppeteer>=0.0.14->requests-html==0.10.0) (2023.11.17)\n",
      "Collecting pyee<9.0.0,>=8.1.0\n",
      "  Using cached pyee-8.2.2-py2.py3-none-any.whl (12 kB)\n",
      "Collecting urllib3<2.0.0,>=1.25.8\n",
      "  Using cached urllib3-1.26.18-py2.py3-none-any.whl (143 kB)\n",
      "Collecting tqdm<5.0.0,>=4.42.1\n",
      "  Using cached tqdm-4.66.1-py3-none-any.whl (78 kB)\n",
      "Collecting importlib-metadata>=1.4\n",
      "  Using cached importlib_metadata-7.0.1-py3-none-any.whl (23 kB)\n",
      "Collecting appdirs<2.0.0,>=1.4.3\n",
      "  Using cached appdirs-1.4.4-py2.py3-none-any.whl (9.6 kB)\n",
      "Requirement already satisfied: beautifulsoup4 in ./env/lib/python3.10/site-packages (from bs4->requests-html==0.10.0) (4.12.2)\n",
      "Collecting cssselect>=1.2.0\n",
      "  Using cached cssselect-1.2.0-py2.py3-none-any.whl (18 kB)\n",
      "Collecting lxml>=2.1\n",
      "  Downloading lxml-5.1.0-cp310-cp310-manylinux_2_17_x86_64.manylinux2014_x86_64.whl (8.0 MB)\n",
      "\u001b[2K     \u001b[90m━━━━━━━━━━━━━━━━━━━━━━━━━━━━━━━━━━━━━━━━\u001b[0m \u001b[32m8.0/8.0 MB\u001b[0m \u001b[31m11.0 MB/s\u001b[0m eta \u001b[36m0:00:00\u001b[0m00:01\u001b[0m00:01\u001b[0m\n",
      "\u001b[?25hRequirement already satisfied: idna<4,>=2.5 in ./env/lib/python3.10/site-packages (from requests->requests-html==0.10.0) (3.6)\n",
      "Requirement already satisfied: charset-normalizer<4,>=2 in ./env/lib/python3.10/site-packages (from requests->requests-html==0.10.0) (3.3.2)\n",
      "Collecting zipp>=0.5\n",
      "  Using cached zipp-3.17.0-py3-none-any.whl (7.4 kB)\n",
      "Requirement already satisfied: soupsieve>1.2 in ./env/lib/python3.10/site-packages (from beautifulsoup4->bs4->requests-html==0.10.0) (2.5)\n",
      "Installing collected packages: pyee, parse, fake-useragent, appdirs, zipp, websockets, w3lib, urllib3, tqdm, lxml, cssselect, pyquery, importlib-metadata, bs4, pyppeteer, requests-html\n",
      "  Attempting uninstall: urllib3\n",
      "    Found existing installation: urllib3 2.2.0\n",
      "    Uninstalling urllib3-2.2.0:\n",
      "      Successfully uninstalled urllib3-2.2.0\n",
      "Successfully installed appdirs-1.4.4 bs4-0.0.2 cssselect-1.2.0 fake-useragent-1.4.0 importlib-metadata-7.0.1 lxml-5.1.0 parse-1.20.1 pyee-8.2.2 pyppeteer-1.0.2 pyquery-2.0.0 requests-html-0.10.0 tqdm-4.66.1 urllib3-1.26.18 w3lib-2.1.2 websockets-10.4 zipp-3.17.0\n"
     ]
    }
   ],
   "source": [
    "!pip3 install requests==2.31.0\n",
    "!pip3 install beautifulsoup4==4.12.2\n",
    "!pip3 install numpy==1.26.2\n",
    "!pip3 install pandas==2.1.4\n",
    "!pip3 install matplotlib==3.5.1\n",
    "!pip3 install sqlalchemy==2.0.24\n",
    "!pip3 install PyMuPDF==1.23.8\n",
    "!pip3 install pytesseract==0.3.10\n",
    "!pip3 install Pillow==10.1.0\n",
    "!pip3 install pdfminer.six==20231228\n",
    "!pip3 install Flask==3.0.0\n",
    "!pip3 install scikit-learn==1.3.2\n",
    "!pip3 install requests-html==0.10.0"
   ]
  },
  {
   "cell_type": "markdown",
   "id": "a841650a",
   "metadata": {},
   "source": [
    "Nakon što je struktura direktorija spremna za pohranu dokumenata, uvode se potrebni moduli.\n",
    "\n",
    "**Standardni Python moduli:**\n",
    "\n",
    "`os`: Omogućava interakciju s operativnim sustavom, kao što je upravljanje datotečnim putanjama\n",
    "\n",
    "`re`: Pruža podršku za rad s regularnim izrazima\n",
    "\n",
    "`time`: Omogućuje manipulaciju vremenom i datumom\n",
    "\n",
    "`datetime`: Pruža funkcionalnosti za rad s datumima\n",
    "\n",
    "`concurrent.futures`: Omogućava paralelno izvođenje zadataka pomoću dretvi\n",
    "\n",
    "**HTTP zahtjevi i web scraping:**\n",
    "\n",
    "`requests`: Omogućava slanje HTTP zahtjeva\n",
    "\n",
    "`bs4 (BeautifulSoup)`: Koristi se za web scraping, odnosno izvlačenje podataka iz HTML i XML datoteka\n",
    "\n",
    "`requests_html`: Naprednija biblioteka za izradu HTTP zahtjeva i obradu HTML sadržaja\n",
    "\n",
    "**Moduli za analizu i vizualizaciju podataka:**\n",
    "\n",
    "`numpy`: Osnovna biblioteka za numeričke izračune u Pythonu\n",
    "\n",
    "`pandas`: Pruža strukture podataka i alate za efikasnu manipulaciju i analizu podataka\n",
    "\n",
    "`matplotlib`: Pruža niz alata za vizualizaciju podataka\n",
    "\n",
    "**SQLAlchemy:**\n",
    "\n",
    "Funkcije iz SQLAlchemy-a omogućuju interakciju s bazom podataka, stvaranje tablica, definiranje stupaca, i izvođenje SQL upita\n",
    "\n",
    "**Obrada PDF dokumenata i OCR:**\n",
    "\n",
    "`fitz`: Biblioteka za rad s PDF i drugim dokumentima\n",
    "\n",
    "`pytesseract`: Python wrapper za Tesseract OCR koji omogućuje ekstrakciju teksta iz slika\n",
    "\n",
    "`PIL (Python Imaging Library)`: Omogućava obradu slika\n",
    "\n",
    "`io.BytesIO`: Pruža podršku za rad s binarnim tokovima podataka\n",
    "\n",
    "`pdfminer`: Koristi se za ekstrakciju teksta iz PDF dokumenata\n",
    "\n",
    "\n",
    "**Flask i threading:**\n",
    "\n",
    "`Flask`: Mikro web framework za Python koji se koristi za izgradnju web aplikacija\n",
    "\n",
    "`threading`: Omogućava stvaranje i upravljanje dretvama\n",
    "\n",
    "**Obrada teksta**\n",
    "\n",
    "`sklearn.feature_extraction.text.TfidfVectorizer`: Alat iz scikit-learn-a za pretvaranje teksta u vektorski oblik, koristeći TF-IDF metodu\n",
    "\n",
    "Svaki od ovih modula ključan je za različite aspekte ovog projekta, od web scrapinga i obrade podataka, preko rada s bazama podataka, do \n",
    "izgradnje web servisa i obrade prirodnog jezika."
   ]
  },
  {
   "cell_type": "code",
   "execution_count": 2,
   "id": "c29fd715",
   "metadata": {},
   "outputs": [],
   "source": [
    "import os\n",
    "import re\n",
    "import sys\n",
    "import csv\n",
    "import time\n",
    "from datetime import datetime\n",
    "from concurrent.futures import ThreadPoolExecutor\n",
    "\n",
    "import requests\n",
    "from bs4 import BeautifulSoup\n",
    "from requests_html import HTMLSession\n",
    "\n",
    "import numpy as np\n",
    "import pandas as pd\n",
    "import matplotlib.pyplot as plt\n",
    "\n",
    "from sqlalchemy import (create_engine, MetaData, Table, Column, Integer, Text,\n",
    "                        String, Double, DateTime, insert, select, update, delete, text)\n",
    "\n",
    "import fitz\n",
    "import pytesseract\n",
    "from PIL import Image\n",
    "from io import BytesIO\n",
    "from pdfminer.high_level import extract_text\n",
    "\n",
    "from flask import Flask, jsonify, request\n",
    "import threading\n",
    "\n",
    "from sklearn.feature_extraction.text import TfidfVectorizer"
   ]
  },
  {
   "cell_type": "markdown",
   "id": "c1100a8b",
   "metadata": {},
   "source": [
    "#### Struktura stranice s podacima"
   ]
  },
  {
   "cell_type": "markdown",
   "id": "7228f0ad",
   "metadata": {},
   "source": [
    "Podaci će se dohvaćati iz baze dokumenata Fakulteta organizacije i informatike (https://www.foi.unizg.hr/hr/dokumenti). Na glavnoj stranici su izlistane poveznice koje vode na stranice dokumenata. Na početnoj stranici nisu izlistani svi dokumenti (postoji paginacija, 93 stranice sa 10 poveznica, i jedna stranica s tri). Na stranici pojedinog dokumenta (https://www.foi.unizg.hr/hr/dokument/ [ime dokumenta]) imamo podatke kao što su vrsta i kategorija dokumenta, datum te poveznica na PDF datoteku.\n",
    "\n",
    "Dakle trebamo proći kroz sve ove glavne stranice poveznica i sa svake od njih dohvatiti izlistane poveznice kako bi mogli prikupiti podatke o svakom dokumentu."
   ]
  },
  {
   "cell_type": "markdown",
   "id": "0ee19a83",
   "metadata": {},
   "source": [
    "#### Dohvaćanje i parsiranje sadržaja stranice"
   ]
  },
  {
   "cell_type": "markdown",
   "id": "48d02d51",
   "metadata": {},
   "source": [
    "Funkcija `get_data` dohvaća web stranice koristeći biblioteku requests_html i parsira sadržaj pomoću BeautifulSoup modula.\n",
    "\n",
    "Sa `s = HTMLSession()` stvara se instanca `HTMLSession` iz biblioteke `requests_html`. Ovo omogućava slanje HTTP zahtjeva i dohvaćanje web stranica.\n",
    "\n",
    "**Parametri**\n",
    "\n",
    "- `url`: Parametar koji predstavlja URL adresu web stranice koja se dohvaća\n",
    "\n",
    "- `timeout`: Vremensko ograničenje za HTTP zahtjev. Ako server ne odgovori unutar ovog vremena, zahtjev će se smatrati neuspješnim\n",
    "\n",
    "- `max_retries`: Maksimalan broj pokušaja za dohvaćanje stranice prije odustajanja\n",
    "\n",
    "**Funkcionalnost**\n",
    "\n",
    "1. **Pokušaj dohvaćanja stranice**:\n",
    "\n",
    "    Unutar petlje, pokušava se dohvatiti sadržaj s navedene URL adrese koristeći `s.get(url, timeout=timeout)`\n",
    "\n",
    "2. **Obrada iznimaka (*exceptions*)**:\n",
    "\n",
    "    Ako dođe do vremenskog prekoračenja (*timeout*), ispisuje se poruka i povećava se brojač pokušaja (`retries`).\n",
    "    U slučaju druge vrste greške pri zahtjevu (npr. problemi s mrežom), ispisuje se greška i petlja se prekida.\n",
    "\n",
    "3. **Parsiranje sadržaja**:\n",
    "\n",
    "    Ako je zahtjev uspješan, sadržaj stranice (HTML) se parsira pomoću BeautifulSoup\n",
    "\n",
    "**Povratna vrijednost**\n",
    "\n",
    "Ako je zahtjev uspješan, funkcija vraća parsirani HTML (`soup`).\n",
    "Ako su svi pokušaji neuspješni, funkcija vraća `None`."
   ]
  },
  {
   "cell_type": "code",
   "execution_count": 3,
   "id": "bc4773ba",
   "metadata": {},
   "outputs": [],
   "source": [
    "s = HTMLSession()\n",
    "\n",
    "def get_data(url, timeout=3, max_retries=3):\n",
    "    retries = 0\n",
    "    while retries < max_retries:\n",
    "        try:\n",
    "            response = s.get(url, timeout=timeout)\n",
    "            soup = BeautifulSoup(response.text, 'html.parser')\n",
    "            return soup\n",
    "        except requests.exceptions.Timeout:\n",
    "            print(f\"Request timed out for URL: {url}. Retrying ({retries + 1}/{max_retries})...\")\n",
    "            retries += 1\n",
    "        except requests.exceptions.RequestException as e:\n",
    "            print(f\"Error during request to {url}: {e}\")\n",
    "            break\n",
    "\n",
    "    print(f\"Failed to fetch data from {url} after {max_retries} retries.\")\n",
    "    return None"
   ]
  },
  {
   "cell_type": "markdown",
   "id": "a41e9be4",
   "metadata": {},
   "source": [
    "#### Preuzimanje PDF dokumenta"
   ]
  },
  {
   "cell_type": "markdown",
   "id": "63403f9b",
   "metadata": {},
   "source": [
    "Funkcija `download_pdf` služi za preuzimanje PDF dokumenata s interneta i spremanje istih u lokalni direktorij.\n",
    "\n",
    "**Parametri**\n",
    "- `url`: URL adresa PDF dokumenta koji treba preuzeti\n",
    "\n",
    "- `path`: Putanja do direktorija u kojem će se spremati preuzeti dokument\n",
    "\n",
    "- `max_retries`: Maksimalan broj pokušaja preuzimanja dokumenta\n",
    "\n",
    "**Funkcionalnost**\n",
    "1. **Inicijalizacija varijabli**:\n",
    "\n",
    "    `file_path`: koristi za čuvanje putanje do preuzetog dokumenta\n",
    "   \n",
    "    `retries`: prati broj pokušaja preuzimanja\n",
    "   \n",
    "3. **Preuzimanje dokumenta**:\n",
    "   \n",
    "    Koristi `HTMLSession` za slanje HTTP GET zahtjeva.\n",
    "   \n",
    "    Provjerava HTTP greške pomoću `response.raise_for_status()`.\n",
    "   \n",
    "5. **Spremanje dokumenta**:\n",
    "   \n",
    "    Izvlači se naziv datoteke iz URL-a i spaja ga s putanjom za stvaranje konačne putanje datoteke.\n",
    "   \n",
    "    Zapisuje sadržaj odgovora u datoteku otvorenu u binarnom modu.\n",
    "   \n",
    "7. **Obrada iznimki i ponovni pokušaji**:\n",
    "   \n",
    "    U slučaju grešaka (npr. vremensko ograničenje, problemi s mrežom), povećava se brojač `retries`\n",
    "<br>\n",
    "\n",
    "**Povratna vrijednost**\n",
    "    \n",
    "Vraća putanju do preuzete datoteke ako je preuzimanje uspješno, `None` ako svi pokušaji propadnu"
   ]
  },
  {
   "cell_type": "code",
   "execution_count": 4,
   "id": "63236880",
   "metadata": {},
   "outputs": [],
   "source": [
    "def download_pdf(url, path, max_retries=3):\n",
    "    file_path = None\n",
    "    retries = 0\n",
    "    while retries < max_retries:\n",
    "        try:\n",
    "            response = s.get(url, timeout = 3)\n",
    "            response.raise_for_status()\n",
    "\n",
    "            file_name = url.split('/')[-1]\n",
    "            file_path = os.path.join(path, file_name)\n",
    "\n",
    "            with open(file_path, 'wb') as f:\n",
    "                f.write(response.content)\n",
    "\n",
    "            print(f\"Success: {file_path}\")\n",
    "            break\n",
    "        except requests.exceptions.RequestException as e:\n",
    "            print(f\"Attempt {retries + 1} failed: {e}\")\n",
    "            retries += 1\n",
    "\n",
    "    if retries == max_retries:\n",
    "        print(f\"Failed to download file from {url} after {max_retries} retries.\")\n",
    "\n",
    "    return file_path"
   ]
  },
  {
   "cell_type": "markdown",
   "id": "f99c5568",
   "metadata": {},
   "source": [
    "#### Ekstrakcija podataka o dokumentu"
   ]
  },
  {
   "cell_type": "markdown",
   "id": "0eca29a6",
   "metadata": {},
   "source": [
    "Funkcija `get_metadata` dohvaća sve podatke vezane za dani PDF kao što su datum kreiranja/postavljanja u bazu, kategorija i \n",
    "vrsta dokumenta te poveznica na kojoj se nalazi dokument.\n",
    "\n",
    "**Parametri**\n",
    "\n",
    "- `url`: URL na kojem se nalaze podaci o dokumentu (https://www.foi.unizg.hr/hr/dokument/ [ime datoteke])\n",
    "    \n",
    "**Funkcionalnost**\n",
    "  \n",
    "1. **Dohvaćanje i obrada web stranice**:\n",
    "   \n",
    "    Koristi funkciju `get_data` za dohvaćanje sadržaja stranice.\n",
    "    Ako `get_data` ne vrati rezultat, funkcija vraća pet `None` vrijednosti (kako bi i u slučaju neuspjeha mogli\n",
    "    koristiti izlaz u DataFrame-u) kao signal da nije pronašla metapodatke.\n",
    "\n",
    "3. **Inicijalizacija varijabli**:\n",
    "   \n",
    "    `ime_datoteke`, `link`, `datum`, `vrsta_dokumenta`, `kategorija_dokumenta` se inicijaliziraju kao `None`\n",
    "\n",
    "4. **Ekstrakcija poveznice na PDF**:\n",
    "   \n",
    "    Traži element koji sadrži poveznicu na PDF (`<a href = \"...\" type = \"application/pdf ...\">`)\n",
    "\n",
    "5. **Ekstrakcija datuma kreiranja**:\n",
    "   \n",
    "    Traži `<div>` element koji sadrži datum kreiranja dokumenta (klasa 'datum') i izdvaja relevantan tekst\n",
    "\n",
    "6. **Ekstrakcija dodatnih metapodataka**:\n",
    "   \n",
    "    Analizira strukturu stranice kako bi pronašla i izdvojila ime datoteke, vrstu i kategoriju dokumenta. Sva ova polja se nalaze u `<div>` elementu\n",
    "    s klasom 'field-item even'. U većini slučajeva na stranici s metapodacima imamo tri takva elementa, ali u nekim\n",
    "    situacijama pronalazimo i više takvih elemenata pa moramo provjeriti duljinu liste koju vraća metoda `find_all`.\n",
    "\n",
    "8. **Obrada iznimki**:\n",
    "   \n",
    "    Ako dođe do greške u procesu ekstrakcije, ispisuje se poruka o grešci\n",
    "\n",
    "**Povratna vrijednost**\n",
    "\n",
    "Vraća tuple s metapodacima: ime datoteke, link, datum kreiranja, vrstu i kategoriju dokumenta. U slučaju neuspjeha, vraća tuple s `None` vrijednostima"
   ]
  },
  {
   "cell_type": "code",
   "execution_count": 5,
   "id": "81fcbb75",
   "metadata": {},
   "outputs": [],
   "source": [
    "def get_metadata(url):\n",
    "    \n",
    "    soup = get_data(url)\n",
    "\n",
    "    if not soup:\n",
    "        return (None,) * 5\n",
    "\n",
    "    ime_datoteke, link, datum, vrsta_dokumenta, kategorija_dokumenta = (None,) * 5\n",
    "\n",
    "    try:\n",
    "        link_element = soup.find('a', href=True, type=lambda value: value and 'application/pdf' in value)\n",
    "        if link_element:\n",
    "            link = link_element['href']\n",
    "\n",
    "        datum_element = soup.find('div', class_='datum')\n",
    "        if datum_element:\n",
    "            datum_text = datum_element.text.strip()\n",
    "            datum = datum_text.split('Kreirano: ')[1] if 'Kreirano: ' in datum_text else None\n",
    "\n",
    "        fields = soup.find_all('div', class_='field-item even')\n",
    "        if len(fields) <= 3:\n",
    "            ime_datoteke = fields[0].text.strip() if len(fields) > 0 else None\n",
    "            vrsta_dokumenta = fields[1].text.strip() if len(fields) > 1 else None\n",
    "            kategorija_dokumenta = fields[2].text.strip() if len(fields) > 2 else None\n",
    "        elif len(fields) > 3:\n",
    "            ime_datoteke = fields[1].text.strip() if len(fields) > 1 else None\n",
    "            vrsta_dokumenta = fields[2].text.strip() if len(fields) > 2 else None\n",
    "            kategorija_dokumenta = fields[3].text.strip() if len(fields) > 3 else None\n",
    "\n",
    "    except Exception as e:\n",
    "        print(\"Error while extracting data:\", e)\n",
    "\n",
    "    return ime_datoteke, link, datum, vrsta_dokumenta, kategorija_dokumenta"
   ]
  },
  {
   "cell_type": "code",
   "execution_count": 6,
   "id": "28957f34",
   "metadata": {},
   "outputs": [
    {
     "data": {
      "text/plain": [
       "('zakljucci_2019-2020_02-sjednica.pdf',\n",
       " 'https://www.foi.unizg.hr/sites/default/files/zakljucci_2019-2020_02-sjednica.pdf',\n",
       " '21.02.2020',\n",
       " 'Zaključak',\n",
       " 'FOI, Fakultetsko vijeće')"
      ]
     },
     "execution_count": 6,
     "metadata": {},
     "output_type": "execute_result"
    }
   ],
   "source": [
    "# Primjer dohvaćanja podataka o dokumentu\n",
    "get_metadata('https://www.foi.unizg.hr/hr/dokument/zakljucci-2-sjednice-fakultetskog-vijeca-fakulteta-organizacije-i-infromatike')"
   ]
  },
  {
   "cell_type": "markdown",
   "id": "f31d544f",
   "metadata": {},
   "source": [
    "#### Ekstrakcija linkova"
   ]
  },
  {
   "cell_type": "markdown",
   "id": "0f3df426",
   "metadata": {},
   "source": [
    "Kako bi došli do linkova koje ćemo poslati kao argumente funkciji `get_metadata` moramo proći kroz glavnu stranicu na kojoj se nalaze izlistani svi dokumenti (poveznice na stranicu s podacima o dokumentu). \n",
    "\n",
    "**Parametri**\n",
    "\n",
    "- `span_list`: iterabilni `bs4` objekt koji sadrži sve `<span class = \"field-content\">` elemente sa dane stranice (može se shvatiti kao lista `<span>` elemenata neke stranice).\n",
    "  \n",
    "**Funkcionalnost**\n",
    "\n",
    "1. **Dohvaćanje putanja do stranice s metapodacima i naslova dokumenta**\n",
    "   \n",
    "    U svakom `<span>` elementu koji se dobije u listi `span_list` traži se link (`<a>` oznaka) koji nema atribut `target` i vrijednost \n",
    "    njegovog atributa `href` stavljamo zajedno sa tekstom span-a u *tuple* koji predtavlja element liste koja se vraća kao rezultat obrade.\n",
    "\n",
    "**Povratna vrijednost**\n",
    "\n",
    "Vraća listu uređenih parova (*list of tuples*): (relativna putanja do stranice dokumenata, naslov dokumenta)"
   ]
  },
  {
   "cell_type": "code",
   "execution_count": 7,
   "id": "33678e3b",
   "metadata": {},
   "outputs": [],
   "source": [
    "def extract_links(span_list):\n",
    "    return [(span.find('a', href = True, target = False)['href'], span.text) for span in span_list]"
   ]
  },
  {
   "cell_type": "code",
   "execution_count": 8,
   "id": "5f1b47eb",
   "metadata": {},
   "outputs": [],
   "source": [
    "# Ekstrakcija linkova sa https://www.foi.unizg.hr/hr/dokumenti\n",
    "\n",
    "# Dohvaćamo i parsiramo stranicu\n",
    "soup = get_data('https://www.foi.unizg.hr/hr/dokumenti')\n",
    "\n",
    "# Kreiramo span_list koji ćemo poslati funkciji extract_links tako što u parsiranom\n",
    "# HTML-u tražimo sve span elemente sa klasom 'field-content'\n",
    "span_list = soup.find_all('span', class_ = 'field-content') if soup else None"
   ]
  },
  {
   "cell_type": "code",
   "execution_count": 9,
   "id": "d302ad58",
   "metadata": {
    "scrolled": true
   },
   "outputs": [
    {
     "data": {
      "text/plain": [
       "[('/hr/dokument/putovnica-zasto-kamo-i-kako-otici-na-razmjenu',\n",
       "  'PUTOVNICA: Zašto, kamo i kako otići na razmjenu?'),\n",
       " ('/hr/dokument/erasmus-info-dan-2024-studijski-boravak-sveucilista-bip-ovi-i-strucna-praksa',\n",
       "  'Erasmus+ info dan 2024 - studijski boravak, sveučilišta, BIP-ovi i stručna praksa'),\n",
       " ('/hr/dokument/odluka-o-imenovanju-povjerenika-za-zastitu-dostojanstva-radnikadodatak',\n",
       "  'Odluka o imenovanju Povjerenika za zaštitu dostojanstva radnika_dodatak'),\n",
       " ('/hr/dokument/odluka-povjerenik-za-rodnu-ravnopravnost-za-djelatnike-i-studente',\n",
       "  'Odluka - Povjerenik za rodnu ravnopravnost za djelatnike i studente'),\n",
       " ('/hr/dokument/pravilnik-o-stegovnoj-odgovornosti-zaposlenika-18012024',\n",
       "  'Pravilnik o stegovnoj odgovornosti zaposlenika 18.01.2024.'),\n",
       " ('/hr/dokument/dnevni-red-fakultetskog-vijeca-18012024',\n",
       "  'Dnevni red fakultetskog vijeća 18.01.2024.'),\n",
       " ('/hr/dokument/popis-gospodarskih-subjekata-u-sukobu-interesa-2024',\n",
       "  'Popis Gospodarskih subjekata u sukobu interesa 2024.'),\n",
       " ('/hr/dokument/pravilnik-o-izmjenama-pravilnika-o-koristenju-sluzbenih-vozila-te-otvaranju-obracunu-i',\n",
       "  'Pravilnik o izmjenama Pravilnika o korištenju službenih vozila te otvaranju obračunu i isplati putnih naloga - 8.1.2024.'),\n",
       " ('/hr/dokument/pravilnik-o-koristenju-sluzbenih-vozila-te-otvaranju-obracunu-i-isplati-putnih-naloga-0',\n",
       "  'Pravilnik o korištenju službenih vozila te otvaranju obračunu i isplati putnih naloga - pročišćeni tekst - 8.1.2024.'),\n",
       " ('/hr/dokument/izmjenjena-odluka-pok-2023', 'Izmjenjena odluka POK-a 2023.')]"
      ]
     },
     "execution_count": 9,
     "metadata": {},
     "output_type": "execute_result"
    }
   ],
   "source": [
    "extract_links(span_list)"
   ]
  },
  {
   "cell_type": "markdown",
   "id": "dfbcdd1f",
   "metadata": {},
   "source": [
    "#### Rukovanje paginacijom (*pagination*)<sup>[3]</sup>"
   ]
  },
  {
   "cell_type": "markdown",
   "id": "1c0d72ce",
   "metadata": {},
   "source": [
    "U ovom slučaju imamo više stranica na kojima se nalaze linkovi na stranice s podacima o PDF-ovima pa je sljedeći korak implementacija\n",
    "rješenja za prikupljanje svih stranica na kojima se nalaze nama potrebne poveznice. U tu su svrhu definirane funkcije `get_next_page` i `get_urls`."
   ]
  },
  {
   "cell_type": "markdown",
   "id": "e3b467bc",
   "metadata": {},
   "source": [
    "Funkcija `get_next_page` dohvaća poveznicu na sljedeću stranicu u nizu (paginacijskoj 'traci').\n",
    "\n",
    "**Parametri**\n",
    "- `soup`: parsirana stranica, `bs4` objekt\n",
    "\n",
    "**Funkcionalnost**\n",
    "1. **Inicijalizacija varijabli**:\n",
    "\n",
    "    `root_url`: korijenski URL stranice\n",
    "   \n",
    "    `page`: nesređena lista (`<ul class = \"pager\">`) koja predstavlja traku traku paginacije\n",
    "   \n",
    "    `next_btn`: element liste (`<li class = \"pager-next\">`), koji predstavlja gumb za prelazak na sljedeću stranicu određen klasom 'pager-next',\n",
    "    unutar kojeg imamo `<a>` oznaku s relativnom poveznicom na sljedeću stranicu\n",
    "   \n",
    "3. **Traženje URL-a sljedeće stranice**:\n",
    "\n",
    "    Ukoliko postoji gumb za prelazak na sljedeću stranicu (na posljednjoj stranici to neće biti slučaj) tada vraćamo `url` koji\n",
    "    je konkatenacija korijenskog URL-a koji smo ranije inicijalizirali te vrijednosti `href` atributa elementa unutar gumba za prelazak na sljedeću\n",
    "    stranicu (ranije spomenuta `<a>` oznaka). Ako gumb za prelazak ne postoji vraća se `None`.\n",
    "\n",
    "**Povratna vrijednost**\n",
    "    \n",
    "Vraća poveznicu na sljedeću stranicu ukoliko ona postoji"
   ]
  },
  {
   "cell_type": "code",
   "execution_count": 10,
   "id": "1f193d59",
   "metadata": {},
   "outputs": [],
   "source": [
    "def get_next_page(soup):\n",
    "    root_url = 'https://www.foi.unizg.hr'\n",
    "    page = soup.find('ul', class_ = 'pager')\n",
    "    next_btn = page.find('li', class_ = 'pager-next')\n",
    "    if next_btn:\n",
    "        url = root_url + str(next_btn.find('a')['href'])\n",
    "        return url\n",
    "    else:\n",
    "        return None"
   ]
  },
  {
   "cell_type": "markdown",
   "id": "a82873ba",
   "metadata": {},
   "source": [
    "Funkcija `get_urls` omogućava pristup svim potrebnim stranicama preko njihovih poveznica.\n",
    "\n",
    "**Parametri**\n",
    "- `url`: URL stranice od koje počinje pretraga (prva stranica u paginaciji)\n",
    "\n",
    "**Funkcionalnost**\n",
    "1. **Inicijalizacija varijabli**:\n",
    "\n",
    "    `urls`: lista u koje će se spremati URL-ove paginiranih stranica, odmah na početku u nju stavljamu URL koji smo poslali kao argument\n",
    "   \n",
    "3. **Dodavanje URL-ova u listu**:\n",
    "\n",
    "    Pokrećemo beskonačni *while loop* gdje prvo parsiramo i spremamo sadržaj sa URL-a koji je poslan kao argument funkcije u varijablu `soup`, zatim\n",
    "    u varijablu `url` pohranjujemo poveznicu na sljedeću stranicu u nizu i ako je funkcija `get_next_page` vratila `None` (sljedeća stranica ne postoji)\n",
    "    tada izlazimo iz petlje. Ukoliko sljedeća stranica postoji, dodamo poveznicu na nju u listu `urls` i nastavljamo s procesom kretanja kroz niz\n",
    "    paginiranih  stranica dok ne dođemo do posljednje stranice kada izlazimo iz petlje i vraćamo listu `urls`.\n",
    "\n",
    "**Povratna vrijednost**\n",
    "    \n",
    "Vraća listu poveznica na svaku paginiranu stranicu"
   ]
  },
  {
   "cell_type": "code",
   "execution_count": 11,
   "id": "7b0b9e82",
   "metadata": {
    "scrolled": true
   },
   "outputs": [],
   "source": [
    "def get_urls(url):\n",
    "    urls = [url]\n",
    "\n",
    "    while True:\n",
    "\n",
    "        soup = get_data(url)\n",
    "\n",
    "        url = get_next_page(soup)\n",
    "        if not url:\n",
    "            break\n",
    "    \n",
    "        print(f'Appending {url}')\n",
    "        urls.append(url)\n",
    "        \n",
    "    return urls"
   ]
  },
  {
   "cell_type": "code",
   "execution_count": 12,
   "id": "a85d9288",
   "metadata": {
    "scrolled": true
   },
   "outputs": [
    {
     "name": "stdout",
     "output_type": "stream",
     "text": [
      "Appending https://www.foi.unizg.hr/hr/dokumenti?page=1\n",
      "Appending https://www.foi.unizg.hr/hr/dokumenti?page=2\n",
      "Appending https://www.foi.unizg.hr/hr/dokumenti?page=3\n",
      "Appending https://www.foi.unizg.hr/hr/dokumenti?page=4\n",
      "Appending https://www.foi.unizg.hr/hr/dokumenti?page=5\n",
      "Appending https://www.foi.unizg.hr/hr/dokumenti?page=6\n",
      "Appending https://www.foi.unizg.hr/hr/dokumenti?page=7\n",
      "Appending https://www.foi.unizg.hr/hr/dokumenti?page=8\n",
      "Appending https://www.foi.unizg.hr/hr/dokumenti?page=9\n",
      "Appending https://www.foi.unizg.hr/hr/dokumenti?page=10\n",
      "Appending https://www.foi.unizg.hr/hr/dokumenti?page=11\n",
      "Appending https://www.foi.unizg.hr/hr/dokumenti?page=12\n",
      "Appending https://www.foi.unizg.hr/hr/dokumenti?page=13\n",
      "Appending https://www.foi.unizg.hr/hr/dokumenti?page=14\n",
      "Appending https://www.foi.unizg.hr/hr/dokumenti?page=15\n",
      "Appending https://www.foi.unizg.hr/hr/dokumenti?page=16\n",
      "Appending https://www.foi.unizg.hr/hr/dokumenti?page=17\n",
      "Appending https://www.foi.unizg.hr/hr/dokumenti?page=18\n",
      "Appending https://www.foi.unizg.hr/hr/dokumenti?page=19\n",
      "Appending https://www.foi.unizg.hr/hr/dokumenti?page=20\n",
      "Appending https://www.foi.unizg.hr/hr/dokumenti?page=21\n",
      "Appending https://www.foi.unizg.hr/hr/dokumenti?page=22\n",
      "Appending https://www.foi.unizg.hr/hr/dokumenti?page=23\n",
      "Appending https://www.foi.unizg.hr/hr/dokumenti?page=24\n",
      "Appending https://www.foi.unizg.hr/hr/dokumenti?page=25\n",
      "Appending https://www.foi.unizg.hr/hr/dokumenti?page=26\n",
      "Appending https://www.foi.unizg.hr/hr/dokumenti?page=27\n",
      "Appending https://www.foi.unizg.hr/hr/dokumenti?page=28\n",
      "Appending https://www.foi.unizg.hr/hr/dokumenti?page=29\n",
      "Appending https://www.foi.unizg.hr/hr/dokumenti?page=30\n",
      "Appending https://www.foi.unizg.hr/hr/dokumenti?page=31\n",
      "Appending https://www.foi.unizg.hr/hr/dokumenti?page=32\n",
      "Appending https://www.foi.unizg.hr/hr/dokumenti?page=33\n",
      "Appending https://www.foi.unizg.hr/hr/dokumenti?page=34\n",
      "Appending https://www.foi.unizg.hr/hr/dokumenti?page=35\n",
      "Appending https://www.foi.unizg.hr/hr/dokumenti?page=36\n",
      "Appending https://www.foi.unizg.hr/hr/dokumenti?page=37\n",
      "Appending https://www.foi.unizg.hr/hr/dokumenti?page=38\n",
      "Appending https://www.foi.unizg.hr/hr/dokumenti?page=39\n",
      "Appending https://www.foi.unizg.hr/hr/dokumenti?page=40\n",
      "Appending https://www.foi.unizg.hr/hr/dokumenti?page=41\n",
      "Appending https://www.foi.unizg.hr/hr/dokumenti?page=42\n",
      "Appending https://www.foi.unizg.hr/hr/dokumenti?page=43\n",
      "Appending https://www.foi.unizg.hr/hr/dokumenti?page=44\n",
      "Appending https://www.foi.unizg.hr/hr/dokumenti?page=45\n",
      "Appending https://www.foi.unizg.hr/hr/dokumenti?page=46\n",
      "Appending https://www.foi.unizg.hr/hr/dokumenti?page=47\n",
      "Appending https://www.foi.unizg.hr/hr/dokumenti?page=48\n",
      "Appending https://www.foi.unizg.hr/hr/dokumenti?page=49\n",
      "Appending https://www.foi.unizg.hr/hr/dokumenti?page=50\n",
      "Appending https://www.foi.unizg.hr/hr/dokumenti?page=51\n",
      "Appending https://www.foi.unizg.hr/hr/dokumenti?page=52\n",
      "Appending https://www.foi.unizg.hr/hr/dokumenti?page=53\n",
      "Appending https://www.foi.unizg.hr/hr/dokumenti?page=54\n",
      "Appending https://www.foi.unizg.hr/hr/dokumenti?page=55\n",
      "Appending https://www.foi.unizg.hr/hr/dokumenti?page=56\n",
      "Appending https://www.foi.unizg.hr/hr/dokumenti?page=57\n",
      "Appending https://www.foi.unizg.hr/hr/dokumenti?page=58\n",
      "Appending https://www.foi.unizg.hr/hr/dokumenti?page=59\n",
      "Appending https://www.foi.unizg.hr/hr/dokumenti?page=60\n",
      "Appending https://www.foi.unizg.hr/hr/dokumenti?page=61\n",
      "Appending https://www.foi.unizg.hr/hr/dokumenti?page=62\n",
      "Appending https://www.foi.unizg.hr/hr/dokumenti?page=63\n",
      "Appending https://www.foi.unizg.hr/hr/dokumenti?page=64\n",
      "Appending https://www.foi.unizg.hr/hr/dokumenti?page=65\n",
      "Appending https://www.foi.unizg.hr/hr/dokumenti?page=66\n",
      "Appending https://www.foi.unizg.hr/hr/dokumenti?page=67\n",
      "Appending https://www.foi.unizg.hr/hr/dokumenti?page=68\n",
      "Appending https://www.foi.unizg.hr/hr/dokumenti?page=69\n",
      "Appending https://www.foi.unizg.hr/hr/dokumenti?page=70\n",
      "Appending https://www.foi.unizg.hr/hr/dokumenti?page=71\n",
      "Appending https://www.foi.unizg.hr/hr/dokumenti?page=72\n",
      "Appending https://www.foi.unizg.hr/hr/dokumenti?page=73\n",
      "Appending https://www.foi.unizg.hr/hr/dokumenti?page=74\n",
      "Appending https://www.foi.unizg.hr/hr/dokumenti?page=75\n",
      "Appending https://www.foi.unizg.hr/hr/dokumenti?page=76\n",
      "Appending https://www.foi.unizg.hr/hr/dokumenti?page=77\n",
      "Appending https://www.foi.unizg.hr/hr/dokumenti?page=78\n",
      "Appending https://www.foi.unizg.hr/hr/dokumenti?page=79\n",
      "Appending https://www.foi.unizg.hr/hr/dokumenti?page=80\n",
      "Appending https://www.foi.unizg.hr/hr/dokumenti?page=81\n",
      "Appending https://www.foi.unizg.hr/hr/dokumenti?page=82\n",
      "Appending https://www.foi.unizg.hr/hr/dokumenti?page=83\n",
      "Appending https://www.foi.unizg.hr/hr/dokumenti?page=84\n",
      "Appending https://www.foi.unizg.hr/hr/dokumenti?page=85\n",
      "Appending https://www.foi.unizg.hr/hr/dokumenti?page=86\n",
      "Appending https://www.foi.unizg.hr/hr/dokumenti?page=87\n",
      "Appending https://www.foi.unizg.hr/hr/dokumenti?page=88\n",
      "Appending https://www.foi.unizg.hr/hr/dokumenti?page=89\n",
      "Appending https://www.foi.unizg.hr/hr/dokumenti?page=90\n",
      "Appending https://www.foi.unizg.hr/hr/dokumenti?page=91\n",
      "Appending https://www.foi.unizg.hr/hr/dokumenti?page=92\n",
      "Appending https://www.foi.unizg.hr/hr/dokumenti?page=93\n"
     ]
    }
   ],
   "source": [
    "# Dohvaćanje i spremanje svih potrebnih stranica u listu urls\n",
    "urls = get_urls('https://www.foi.unizg.hr/hr/dokumenti')"
   ]
  },
  {
   "cell_type": "code",
   "execution_count": 13,
   "id": "0ad6ce42",
   "metadata": {},
   "outputs": [
    {
     "data": {
      "text/plain": [
       "['https://www.foi.unizg.hr/hr/dokumenti',\n",
       " 'https://www.foi.unizg.hr/hr/dokumenti?page=1',\n",
       " 'https://www.foi.unizg.hr/hr/dokumenti?page=2',\n",
       " 'https://www.foi.unizg.hr/hr/dokumenti?page=3',\n",
       " 'https://www.foi.unizg.hr/hr/dokumenti?page=4']"
      ]
     },
     "execution_count": 13,
     "metadata": {},
     "output_type": "execute_result"
    }
   ],
   "source": [
    "# Prvih 5 stranica\n",
    "urls[:5]"
   ]
  },
  {
   "cell_type": "markdown",
   "id": "f59cfc8f",
   "metadata": {},
   "source": [
    "#### Povlačenje podataka sa stranice"
   ]
  },
  {
   "cell_type": "markdown",
   "id": "d3ef45cc",
   "metadata": {},
   "source": [
    "Funkcija `scrape_page` povlači podatke o PDF-ovima sa stranice (koja izlistava poveznice na stranice o dokumentima) objedinjavanjem do sad kreiranih funkcija.\n",
    "\n",
    "**Parametri**\n",
    "\n",
    "- `url`: URL stranice s poveznicama na stranice o dokumentima ('https://www.foi.unizg.hr/hr/dokumenti?page=n', n = 0, ..., 93)\n",
    "\n",
    "**Funkcionalnost**\n",
    "1. **Inicijalizacija varijabli**:\n",
    "\n",
    "    `root_url`: korijenski URL stranice\n",
    "   \n",
    "    `soup`: parsirani HTML stranice čiji je URL proslijeđen kao argument funkcije\n",
    "   \n",
    "    `spans`: iterabilni `bs4` objekt koji sadrži sve `<span class = \"field-content\">` elemente sa dane stranice\n",
    "   \n",
    "2. **Ekstrakcija linkova sa stranice**:\n",
    "\n",
    "    Sljedeći korak uključuje pozivanje `extract_links` funkcije kako bi dohvatili sve '/hr/dokument/[ime datoteke]' linkove i naslove dokumenata te\n",
    "    pohranili ih u listu `links`\n",
    "\n",
    "3. **Prikupljanje podataka o svakom PDF-u**\n",
    "\n",
    "    Za svaki link u listi `links` dohvaćamo podatke o dokumentu koji se nalaze na URL-u koji dobivamo spajanjem `root_url`-a i prvog dijela uređenog\n",
    "    para koji vraća funkcija (relativna putanja do stranice s podacima o dokumentu). Rezultat tog spajanja je URL:\n",
    "    https://www.foi.unizg.hr/hr/dokument/[ime datoteke], a podaci prikupljeni s tog URL-a se spremaju u listu uređenih petorki `metadata` gdje svaka\n",
    "    petorka sadrži podatke o jednom dokumentu.\n",
    "\n",
    "5. **Spremanje dohvaćenih podataka u DataFrame-ove**\n",
    "\n",
    "    Liste uređenih *n*-torki se zatim pohranjuju u DataFrame obliku u varijable `df1` i `df2`\n",
    "\n",
    "**Povratna vrijednost**\n",
    "\n",
    "`df1` i `df2` se horizontalno spajaju<sup>[4]</sup> i vraćaju kao rezultat prikupljanja podataka o dokumentima sa dane stranice"
   ]
  },
  {
   "cell_type": "code",
   "execution_count": 14,
   "id": "bea000e3",
   "metadata": {},
   "outputs": [],
   "source": [
    "def scrape_page(url):\n",
    "    root_url = 'https://www.foi.unizg.hr'\n",
    "    print(f'Scraping {url}')\n",
    "    \n",
    "    soup = get_data(url)\n",
    "    spans = soup.find_all('span', class_ = 'field-content')\n",
    "\n",
    "    links = extract_links(spans)\n",
    "\n",
    "    metadata = [get_metadata(root_url + link[0]) for link in links]\n",
    "\n",
    "    df1 = pd.DataFrame(metadata, columns = ['naziv_datoteke', 'url', 'datum', 'vrsta_dokumenta', 'kategorija_dokumenta'])\n",
    "    df2 = pd.DataFrame(links, columns = ['metadata_link', 'naslov_dokumenta'])\n",
    "\n",
    "    return pd.concat([df1, df2], axis = 1)"
   ]
  },
  {
   "cell_type": "markdown",
   "id": "595380c1",
   "metadata": {},
   "source": [
    "Funkcija `scrape_page` povlači podatke o dokumentima koji su izlistani na trenutnoj stranici, pa kako bi dohvatili podatke za sve dokumente moramo kreirati prazan DataFrame, iterirati kroz ranije kreiranu list `urls` i za svaki element liste (URL) pozvati `scrape_page` te na kreirani DataFrame dodati rezultate obrade za trenutni URL."
   ]
  },
  {
   "cell_type": "code",
   "execution_count": 15,
   "id": "d7929ec4",
   "metadata": {
    "scrolled": true
   },
   "outputs": [
    {
     "name": "stdout",
     "output_type": "stream",
     "text": [
      "Scraping https://www.foi.unizg.hr/hr/dokumenti\n",
      "Scraping https://www.foi.unizg.hr/hr/dokumenti?page=1\n",
      "Scraping https://www.foi.unizg.hr/hr/dokumenti?page=2\n",
      "Scraping https://www.foi.unizg.hr/hr/dokumenti?page=3\n",
      "Scraping https://www.foi.unizg.hr/hr/dokumenti?page=4\n",
      "Scraping https://www.foi.unizg.hr/hr/dokumenti?page=5\n",
      "Scraping https://www.foi.unizg.hr/hr/dokumenti?page=6\n",
      "Scraping https://www.foi.unizg.hr/hr/dokumenti?page=7\n",
      "Scraping https://www.foi.unizg.hr/hr/dokumenti?page=8\n",
      "Scraping https://www.foi.unizg.hr/hr/dokumenti?page=9\n",
      "Scraping https://www.foi.unizg.hr/hr/dokumenti?page=10\n",
      "Scraping https://www.foi.unizg.hr/hr/dokumenti?page=11\n",
      "Scraping https://www.foi.unizg.hr/hr/dokumenti?page=12\n",
      "Scraping https://www.foi.unizg.hr/hr/dokumenti?page=13\n",
      "Scraping https://www.foi.unizg.hr/hr/dokumenti?page=14\n",
      "Scraping https://www.foi.unizg.hr/hr/dokumenti?page=15\n",
      "Scraping https://www.foi.unizg.hr/hr/dokumenti?page=16\n",
      "Scraping https://www.foi.unizg.hr/hr/dokumenti?page=17\n",
      "Scraping https://www.foi.unizg.hr/hr/dokumenti?page=18\n",
      "Scraping https://www.foi.unizg.hr/hr/dokumenti?page=19\n",
      "Scraping https://www.foi.unizg.hr/hr/dokumenti?page=20\n",
      "Scraping https://www.foi.unizg.hr/hr/dokumenti?page=21\n",
      "Scraping https://www.foi.unizg.hr/hr/dokumenti?page=22\n",
      "Scraping https://www.foi.unizg.hr/hr/dokumenti?page=23\n",
      "Scraping https://www.foi.unizg.hr/hr/dokumenti?page=24\n",
      "Scraping https://www.foi.unizg.hr/hr/dokumenti?page=25\n",
      "Scraping https://www.foi.unizg.hr/hr/dokumenti?page=26\n",
      "Scraping https://www.foi.unizg.hr/hr/dokumenti?page=27\n",
      "Scraping https://www.foi.unizg.hr/hr/dokumenti?page=28\n",
      "Scraping https://www.foi.unizg.hr/hr/dokumenti?page=29\n",
      "Scraping https://www.foi.unizg.hr/hr/dokumenti?page=30\n",
      "Scraping https://www.foi.unizg.hr/hr/dokumenti?page=31\n",
      "Scraping https://www.foi.unizg.hr/hr/dokumenti?page=32\n",
      "Scraping https://www.foi.unizg.hr/hr/dokumenti?page=33\n",
      "Scraping https://www.foi.unizg.hr/hr/dokumenti?page=34\n",
      "Scraping https://www.foi.unizg.hr/hr/dokumenti?page=35\n",
      "Scraping https://www.foi.unizg.hr/hr/dokumenti?page=36\n",
      "Scraping https://www.foi.unizg.hr/hr/dokumenti?page=37\n",
      "Scraping https://www.foi.unizg.hr/hr/dokumenti?page=38\n",
      "Scraping https://www.foi.unizg.hr/hr/dokumenti?page=39\n",
      "Scraping https://www.foi.unizg.hr/hr/dokumenti?page=40\n",
      "Scraping https://www.foi.unizg.hr/hr/dokumenti?page=41\n",
      "Scraping https://www.foi.unizg.hr/hr/dokumenti?page=42\n",
      "Scraping https://www.foi.unizg.hr/hr/dokumenti?page=43\n",
      "Scraping https://www.foi.unizg.hr/hr/dokumenti?page=44\n",
      "Scraping https://www.foi.unizg.hr/hr/dokumenti?page=45\n",
      "Scraping https://www.foi.unizg.hr/hr/dokumenti?page=46\n",
      "Scraping https://www.foi.unizg.hr/hr/dokumenti?page=47\n",
      "Scraping https://www.foi.unizg.hr/hr/dokumenti?page=48\n",
      "Scraping https://www.foi.unizg.hr/hr/dokumenti?page=49\n",
      "Scraping https://www.foi.unizg.hr/hr/dokumenti?page=50\n",
      "Scraping https://www.foi.unizg.hr/hr/dokumenti?page=51\n",
      "Scraping https://www.foi.unizg.hr/hr/dokumenti?page=52\n",
      "Scraping https://www.foi.unizg.hr/hr/dokumenti?page=53\n",
      "Scraping https://www.foi.unizg.hr/hr/dokumenti?page=54\n",
      "Scraping https://www.foi.unizg.hr/hr/dokumenti?page=55\n",
      "Scraping https://www.foi.unizg.hr/hr/dokumenti?page=56\n",
      "Scraping https://www.foi.unizg.hr/hr/dokumenti?page=57\n",
      "Scraping https://www.foi.unizg.hr/hr/dokumenti?page=58\n",
      "Scraping https://www.foi.unizg.hr/hr/dokumenti?page=59\n",
      "Scraping https://www.foi.unizg.hr/hr/dokumenti?page=60\n",
      "Scraping https://www.foi.unizg.hr/hr/dokumenti?page=61\n",
      "Scraping https://www.foi.unizg.hr/hr/dokumenti?page=62\n",
      "Scraping https://www.foi.unizg.hr/hr/dokumenti?page=63\n",
      "Scraping https://www.foi.unizg.hr/hr/dokumenti?page=64\n",
      "Scraping https://www.foi.unizg.hr/hr/dokumenti?page=65\n",
      "Scraping https://www.foi.unizg.hr/hr/dokumenti?page=66\n",
      "Scraping https://www.foi.unizg.hr/hr/dokumenti?page=67\n",
      "Scraping https://www.foi.unizg.hr/hr/dokumenti?page=68\n",
      "Scraping https://www.foi.unizg.hr/hr/dokumenti?page=69\n",
      "Scraping https://www.foi.unizg.hr/hr/dokumenti?page=70\n",
      "Scraping https://www.foi.unizg.hr/hr/dokumenti?page=71\n",
      "Scraping https://www.foi.unizg.hr/hr/dokumenti?page=72\n",
      "Scraping https://www.foi.unizg.hr/hr/dokumenti?page=73\n",
      "Scraping https://www.foi.unizg.hr/hr/dokumenti?page=74\n",
      "Scraping https://www.foi.unizg.hr/hr/dokumenti?page=75\n",
      "Scraping https://www.foi.unizg.hr/hr/dokumenti?page=76\n",
      "Scraping https://www.foi.unizg.hr/hr/dokumenti?page=77\n",
      "Scraping https://www.foi.unizg.hr/hr/dokumenti?page=78\n",
      "Scraping https://www.foi.unizg.hr/hr/dokumenti?page=79\n",
      "Scraping https://www.foi.unizg.hr/hr/dokumenti?page=80\n",
      "Scraping https://www.foi.unizg.hr/hr/dokumenti?page=81\n",
      "Scraping https://www.foi.unizg.hr/hr/dokumenti?page=82\n",
      "Scraping https://www.foi.unizg.hr/hr/dokumenti?page=83\n",
      "Request timed out for URL: https://www.foi.unizg.hr/hr/dokument/pravilnik-o-upisniku-znanstvenika. Retrying (1/3)...\n",
      "Scraping https://www.foi.unizg.hr/hr/dokumenti?page=84\n",
      "Scraping https://www.foi.unizg.hr/hr/dokumenti?page=85\n",
      "Scraping https://www.foi.unizg.hr/hr/dokumenti?page=86\n",
      "Scraping https://www.foi.unizg.hr/hr/dokumenti?page=87\n",
      "Scraping https://www.foi.unizg.hr/hr/dokumenti?page=88\n",
      "Scraping https://www.foi.unizg.hr/hr/dokumenti?page=89\n",
      "Scraping https://www.foi.unizg.hr/hr/dokumenti?page=90\n",
      "Scraping https://www.foi.unizg.hr/hr/dokumenti?page=91\n",
      "Scraping https://www.foi.unizg.hr/hr/dokumenti?page=92\n",
      "Scraping https://www.foi.unizg.hr/hr/dokumenti?page=93\n"
     ]
    }
   ],
   "source": [
    "df = pd.DataFrame()\n",
    "\n",
    "for url in urls:\n",
    "    new_df = scrape_page(url)\n",
    "    df = pd.concat([df, new_df], axis = 0, ignore_index = True)"
   ]
  },
  {
   "cell_type": "markdown",
   "id": "cd49ad21",
   "metadata": {},
   "source": [
    "##### **Analiza rezultata<sup>[1]</sup>**"
   ]
  },
  {
   "cell_type": "markdown",
   "id": "73c5d6bd",
   "metadata": {},
   "source": [
    "Pregledom dimenzija `df`-a vidimo da ima 933 zapisa što odgovara broju dokumenata u FOI bazi (93 stranice * 10 dokumenata + 1 stranica * 3 dokumenta)."
   ]
  },
  {
   "cell_type": "code",
   "execution_count": 16,
   "id": "222c4b1b",
   "metadata": {},
   "outputs": [
    {
     "data": {
      "text/plain": [
       "(939, 7)"
      ]
     },
     "execution_count": 16,
     "metadata": {},
     "output_type": "execute_result"
    }
   ],
   "source": [
    "df.shape"
   ]
  },
  {
   "cell_type": "code",
   "execution_count": 17,
   "id": "be052ff3",
   "metadata": {},
   "outputs": [
    {
     "data": {
      "text/html": [
       "<div>\n",
       "<style scoped>\n",
       "    .dataframe tbody tr th:only-of-type {\n",
       "        vertical-align: middle;\n",
       "    }\n",
       "\n",
       "    .dataframe tbody tr th {\n",
       "        vertical-align: top;\n",
       "    }\n",
       "\n",
       "    .dataframe thead th {\n",
       "        text-align: right;\n",
       "    }\n",
       "</style>\n",
       "<table border=\"1\" class=\"dataframe\">\n",
       "  <thead>\n",
       "    <tr style=\"text-align: right;\">\n",
       "      <th></th>\n",
       "      <th>naziv_datoteke</th>\n",
       "      <th>url</th>\n",
       "      <th>datum</th>\n",
       "      <th>vrsta_dokumenta</th>\n",
       "      <th>kategorija_dokumenta</th>\n",
       "      <th>metadata_link</th>\n",
       "      <th>naslov_dokumenta</th>\n",
       "    </tr>\n",
       "  </thead>\n",
       "  <tbody>\n",
       "    <tr>\n",
       "      <th>0</th>\n",
       "      <td>ums_putovnica_-_web.pdf</td>\n",
       "      <td>https://www.foi.unizg.hr/sites/default/files/u...</td>\n",
       "      <td>30.01.2024</td>\n",
       "      <td>Dokumenti mobilnosti, Studenti</td>\n",
       "      <td>None</td>\n",
       "      <td>/hr/dokument/putovnica-zasto-kamo-i-kako-otici...</td>\n",
       "      <td>PUTOVNICA: Zašto, kamo i kako otići na razmjenu?</td>\n",
       "    </tr>\n",
       "    <tr>\n",
       "      <th>1</th>\n",
       "      <td>Erasmus+ info dan 2024 - studijski boravak, sv...</td>\n",
       "      <td>https://www.foi.unizg.hr/sites/default/files/e...</td>\n",
       "      <td>29.01.2024</td>\n",
       "      <td>Dokumenti mobilnosti</td>\n",
       "      <td>None</td>\n",
       "      <td>/hr/dokument/erasmus-info-dan-2024-studijski-b...</td>\n",
       "      <td>Erasmus+ info dan 2024 - studijski boravak, sv...</td>\n",
       "    </tr>\n",
       "    <tr>\n",
       "      <th>2</th>\n",
       "      <td>Odluka o imenovanju Povjerenika za zaštitu dos...</td>\n",
       "      <td>https://www.foi.unizg.hr/sites/default/files/o...</td>\n",
       "      <td>22.01.2024</td>\n",
       "      <td>Odluka</td>\n",
       "      <td>FOI</td>\n",
       "      <td>/hr/dokument/odluka-o-imenovanju-povjerenika-z...</td>\n",
       "      <td>Odluka o imenovanju Povjerenika za zaštitu dos...</td>\n",
       "    </tr>\n",
       "    <tr>\n",
       "      <th>3</th>\n",
       "      <td>Odluka - Povjerenik za rodnu ravnopravnost za ...</td>\n",
       "      <td>https://www.foi.unizg.hr/sites/default/files/o...</td>\n",
       "      <td>22.01.2024</td>\n",
       "      <td>Odluka</td>\n",
       "      <td>FOI</td>\n",
       "      <td>/hr/dokument/odluka-povjerenik-za-rodnu-ravnop...</td>\n",
       "      <td>Odluka - Povjerenik za rodnu ravnopravnost za ...</td>\n",
       "    </tr>\n",
       "    <tr>\n",
       "      <th>4</th>\n",
       "      <td>pravilnik_o_stegovnoj_zaposlenika_foi_-_fv_202...</td>\n",
       "      <td>https://www.foi.unizg.hr/sites/default/files/p...</td>\n",
       "      <td>19.01.2024</td>\n",
       "      <td>Pravilnik</td>\n",
       "      <td>FOI, Fakultetsko vijeće</td>\n",
       "      <td>/hr/dokument/pravilnik-o-stegovnoj-odgovornost...</td>\n",
       "      <td>Pravilnik o stegovnoj odgovornosti zaposlenika...</td>\n",
       "    </tr>\n",
       "  </tbody>\n",
       "</table>\n",
       "</div>"
      ],
      "text/plain": [
       "                                      naziv_datoteke  \\\n",
       "0                            ums_putovnica_-_web.pdf   \n",
       "1  Erasmus+ info dan 2024 - studijski boravak, sv...   \n",
       "2  Odluka o imenovanju Povjerenika za zaštitu dos...   \n",
       "3  Odluka - Povjerenik za rodnu ravnopravnost za ...   \n",
       "4  pravilnik_o_stegovnoj_zaposlenika_foi_-_fv_202...   \n",
       "\n",
       "                                                 url       datum  \\\n",
       "0  https://www.foi.unizg.hr/sites/default/files/u...  30.01.2024   \n",
       "1  https://www.foi.unizg.hr/sites/default/files/e...  29.01.2024   \n",
       "2  https://www.foi.unizg.hr/sites/default/files/o...  22.01.2024   \n",
       "3  https://www.foi.unizg.hr/sites/default/files/o...  22.01.2024   \n",
       "4  https://www.foi.unizg.hr/sites/default/files/p...  19.01.2024   \n",
       "\n",
       "                  vrsta_dokumenta     kategorija_dokumenta  \\\n",
       "0  Dokumenti mobilnosti, Studenti                     None   \n",
       "1            Dokumenti mobilnosti                     None   \n",
       "2                          Odluka                      FOI   \n",
       "3                          Odluka                      FOI   \n",
       "4                       Pravilnik  FOI, Fakultetsko vijeće   \n",
       "\n",
       "                                       metadata_link  \\\n",
       "0  /hr/dokument/putovnica-zasto-kamo-i-kako-otici...   \n",
       "1  /hr/dokument/erasmus-info-dan-2024-studijski-b...   \n",
       "2  /hr/dokument/odluka-o-imenovanju-povjerenika-z...   \n",
       "3  /hr/dokument/odluka-povjerenik-za-rodnu-ravnop...   \n",
       "4  /hr/dokument/pravilnik-o-stegovnoj-odgovornost...   \n",
       "\n",
       "                                    naslov_dokumenta  \n",
       "0   PUTOVNICA: Zašto, kamo i kako otići na razmjenu?  \n",
       "1  Erasmus+ info dan 2024 - studijski boravak, sv...  \n",
       "2  Odluka o imenovanju Povjerenika za zaštitu dos...  \n",
       "3  Odluka - Povjerenik za rodnu ravnopravnost za ...  \n",
       "4  Pravilnik o stegovnoj odgovornosti zaposlenika...  "
      ]
     },
     "execution_count": 17,
     "metadata": {},
     "output_type": "execute_result"
    }
   ],
   "source": [
    "df.head()"
   ]
  },
  {
   "attachments": {
    "21773029-e60d-489c-bda1-417d1a7032d3.png": {
     "image/png": "[encoded data removed]"
    }
   },
   "cell_type": "markdown",
   "id": "5f2633b0",
   "metadata": {},
   "source": [
    "Već iz prvih nekoliko zapisa vidimo da `df` ima vrijednosti koje nedostaju u stupcu `url`. To je očekivano jer taj stupac dolazi iz funkcije `get_metadata` gdje tražimo samo one linkove koji su oblika `<a href = \"...\" type = \"application/pdf ...\">`, odnosno one linkove koji vode na PDF-ove. Iz ovog možemo zaključiti da postoje linkovi koji ne vode na PDF dokumente što se da lako provjeriti na stranici s koje povlačimo podatke. Brza provjera pruža dokaz za ovaj zaključak i vidimo da se u bazi dokumenata nalaze dokumenti različitih formata.\n",
    "<br><br>\n",
    "![image.png](attachment:21773029-e60d-489c-bda1-417d1a7032d3.png)"
   ]
  },
  {
   "cell_type": "markdown",
   "id": "841a3330",
   "metadata": {},
   "source": [
    "###### **Broj PDF-ova i ostalih tipova datoteka**"
   ]
  },
  {
   "cell_type": "code",
   "execution_count": 18,
   "id": "2c5a9d6e",
   "metadata": {},
   "outputs": [
    {
     "data": {
      "image/png": "[encoded data removed]",
      "text/plain": [
       "<Figure size 800x600 with 1 Axes>"
      ]
     },
     "metadata": {},
     "output_type": "display_data"
    }
   ],
   "source": [
    "pdf_count = df['url'].notna().sum()\n",
    "non_pdf_count = df['url'].isna().sum()\n",
    "\n",
    "labels = ['PDF', 'Drugi formati']\n",
    "sizes = [pdf_count, non_pdf_count]\n",
    "\n",
    "# Pie chart\n",
    "plt.figure(figsize=(8, 6))\n",
    "plt.pie(sizes, labels=labels, autopct='%1.1f%%', startangle=140)\n",
    "plt.axis('equal')\n",
    "plt.title('Odnos PDF-ova i drugih formata')\n",
    "plt.show()"
   ]
  },
  {
   "cell_type": "markdown",
   "id": "a53f1833",
   "metadata": {},
   "source": [
    "Kako nas zanimaju samo PDF dokumenti možemo izbaciti sve redove koji u stupcu `url` imaju `None`. Nakon izbacivanja ne-PDF dokumenata resetirat ćemo indeks i konvertirati vrijednosti u stupcu `datum` u `datetime` objekte."
   ]
  },
  {
   "cell_type": "code",
   "execution_count": 19,
   "id": "84560997",
   "metadata": {},
   "outputs": [],
   "source": [
    "df.dropna(subset = ['url'], inplace = True)\n",
    "df.reset_index(drop = True, inplace = True)\n",
    "df['datum'] = pd.to_datetime(df['datum'], format = '%d.%m.%Y') "
   ]
  },
  {
   "cell_type": "markdown",
   "id": "8cb00efb",
   "metadata": {},
   "source": [
    "###### **Najčešće vrste i kategorije dokumenata**"
   ]
  },
  {
   "cell_type": "markdown",
   "id": "058aaa9e",
   "metadata": {},
   "source": [
    "Dokument ponekad spada u više vrsta/kategorija pa ih moramo razdvojiti prije analize."
   ]
  },
  {
   "cell_type": "code",
   "execution_count": 20,
   "id": "ba4da7c3",
   "metadata": {},
   "outputs": [
    {
     "data": {
      "image/png": "[encoded data removed]",
      "text/plain": [
       "<Figure size 1200x800 with 1 Axes>"
      ]
     },
     "metadata": {},
     "output_type": "display_data"
    }
   ],
   "source": [
    "# Konvertiranje stupca 'kategorija_dokumenta' u listu kategorija\n",
    "types_list = df['vrsta_dokumenta'].dropna().str.split(',').sum()\n",
    "types_list = [type.strip() for type in types_list] \n",
    "\n",
    "# Pregled pojavljivanja kategorija\n",
    "type_counts = pd.Series(types_list).value_counts()\n",
    "\n",
    "# Uzimanje top 10 kategorija\n",
    "top_10_types = type_counts.head(10)\n",
    "\n",
    "# Bar chart\n",
    "plt.figure(figsize=(12, 8))\n",
    "top_10_types.plot(kind='bar', color='lightblue')\n",
    "plt.title('Top 10 vrsta dokumenata')\n",
    "plt.xlabel('Vrsta dokumenta')\n",
    "plt.ylabel('Broj dokumenata')\n",
    "plt.xticks(rotation=45)\n",
    "plt.show()"
   ]
  },
  {
   "cell_type": "code",
   "execution_count": 21,
   "id": "b34e36ff",
   "metadata": {},
   "outputs": [
    {
     "data": {
      "image/png": "[encoded data removed]",
      "text/plain": [
       "<Figure size 1200x800 with 1 Axes>"
      ]
     },
     "metadata": {},
     "output_type": "display_data"
    }
   ],
   "source": [
    "# Konvertiranje stupca 'kategorija_dokumenta' u listu kategorija\n",
    "categories_list = df['kategorija_dokumenta'].dropna().str.split(',').sum()\n",
    "categories_list = [category.strip() for category in categories_list]\n",
    "\n",
    "# Pregled pojavljivanja kategorija\n",
    "category_counts = pd.Series(categories_list).value_counts()\n",
    "\n",
    "# Uzimanje top 10 kategorija\n",
    "top_10_categories = category_counts.head(10)\n",
    "\n",
    "# Bar chart\n",
    "plt.figure(figsize=(12, 8))\n",
    "top_10_categories.plot(kind='bar', color='lightgreen')\n",
    "plt.title('Top 10 kategorija dokumenata')\n",
    "plt.xlabel('Kategorija dokumenta')\n",
    "plt.ylabel('Broj dokumenata')\n",
    "plt.xticks(rotation=45)\n",
    "plt.show()"
   ]
  },
  {
   "cell_type": "markdown",
   "id": "e80fc8f4",
   "metadata": {},
   "source": [
    "###### **Broj dokumenata po godini**"
   ]
  },
  {
   "cell_type": "code",
   "execution_count": 22,
   "id": "d303a1f7",
   "metadata": {},
   "outputs": [
    {
     "data": {
      "image/png": "[encoded data removed]",
      "text/plain": [
       "<Figure size 1200x800 with 1 Axes>"
      ]
     },
     "metadata": {},
     "output_type": "display_data"
    }
   ],
   "source": [
    "# Broj dokumenata po godini\n",
    "documents_per_year = df['datum'].dt.year.value_counts().sort_index()\n",
    "\n",
    "# Bar chart\n",
    "plt.figure(figsize=(12, 8))\n",
    "documents_per_year.plot(kind='bar', color='purple')\n",
    "plt.title('Broj dokumenata po godini')\n",
    "plt.xlabel('Godina')\n",
    "plt.ylabel('Broj dokumenata')\n",
    "plt.xticks(rotation=45)\n",
    "plt.show()"
   ]
  },
  {
   "cell_type": "markdown",
   "id": "8a13c2b0",
   "metadata": {},
   "source": [
    "Za daljnju upotrebu nam ne trebaju svi stupci pa ih možemo izbaciti."
   ]
  },
  {
   "cell_type": "code",
   "execution_count": 23,
   "id": "2abe1757",
   "metadata": {},
   "outputs": [],
   "source": [
    "df.drop(['naziv_datoteke', 'vrsta_dokumenta', 'kategorija_dokumenta', 'metadata_link'], axis = 1, inplace = True) # izbacivanje nepotrebnih stupaca"
   ]
  },
  {
   "cell_type": "code",
   "execution_count": 24,
   "id": "7c7c1484",
   "metadata": {},
   "outputs": [
    {
     "data": {
      "text/plain": [
       "(874, 3)"
      ]
     },
     "execution_count": 24,
     "metadata": {},
     "output_type": "execute_result"
    }
   ],
   "source": [
    "df.shape"
   ]
  },
  {
   "cell_type": "code",
   "execution_count": 25,
   "id": "3e7d898a",
   "metadata": {},
   "outputs": [
    {
     "data": {
      "text/html": [
       "<div>\n",
       "<style scoped>\n",
       "    .dataframe tbody tr th:only-of-type {\n",
       "        vertical-align: middle;\n",
       "    }\n",
       "\n",
       "    .dataframe tbody tr th {\n",
       "        vertical-align: top;\n",
       "    }\n",
       "\n",
       "    .dataframe thead th {\n",
       "        text-align: right;\n",
       "    }\n",
       "</style>\n",
       "<table border=\"1\" class=\"dataframe\">\n",
       "  <thead>\n",
       "    <tr style=\"text-align: right;\">\n",
       "      <th></th>\n",
       "      <th>url</th>\n",
       "      <th>datum</th>\n",
       "      <th>naslov_dokumenta</th>\n",
       "    </tr>\n",
       "  </thead>\n",
       "  <tbody>\n",
       "    <tr>\n",
       "      <th>0</th>\n",
       "      <td>https://www.foi.unizg.hr/sites/default/files/u...</td>\n",
       "      <td>2024-01-30</td>\n",
       "      <td>PUTOVNICA: Zašto, kamo i kako otići na razmjenu?</td>\n",
       "    </tr>\n",
       "    <tr>\n",
       "      <th>1</th>\n",
       "      <td>https://www.foi.unizg.hr/sites/default/files/e...</td>\n",
       "      <td>2024-01-29</td>\n",
       "      <td>Erasmus+ info dan 2024 - studijski boravak, sv...</td>\n",
       "    </tr>\n",
       "    <tr>\n",
       "      <th>2</th>\n",
       "      <td>https://www.foi.unizg.hr/sites/default/files/o...</td>\n",
       "      <td>2024-01-22</td>\n",
       "      <td>Odluka o imenovanju Povjerenika za zaštitu dos...</td>\n",
       "    </tr>\n",
       "    <tr>\n",
       "      <th>3</th>\n",
       "      <td>https://www.foi.unizg.hr/sites/default/files/o...</td>\n",
       "      <td>2024-01-22</td>\n",
       "      <td>Odluka - Povjerenik za rodnu ravnopravnost za ...</td>\n",
       "    </tr>\n",
       "    <tr>\n",
       "      <th>4</th>\n",
       "      <td>https://www.foi.unizg.hr/sites/default/files/p...</td>\n",
       "      <td>2024-01-19</td>\n",
       "      <td>Pravilnik o stegovnoj odgovornosti zaposlenika...</td>\n",
       "    </tr>\n",
       "  </tbody>\n",
       "</table>\n",
       "</div>"
      ],
      "text/plain": [
       "                                                 url      datum  \\\n",
       "0  https://www.foi.unizg.hr/sites/default/files/u... 2024-01-30   \n",
       "1  https://www.foi.unizg.hr/sites/default/files/e... 2024-01-29   \n",
       "2  https://www.foi.unizg.hr/sites/default/files/o... 2024-01-22   \n",
       "3  https://www.foi.unizg.hr/sites/default/files/o... 2024-01-22   \n",
       "4  https://www.foi.unizg.hr/sites/default/files/p... 2024-01-19   \n",
       "\n",
       "                                    naslov_dokumenta  \n",
       "0   PUTOVNICA: Zašto, kamo i kako otići na razmjenu?  \n",
       "1  Erasmus+ info dan 2024 - studijski boravak, sv...  \n",
       "2  Odluka o imenovanju Povjerenika za zaštitu dos...  \n",
       "3  Odluka - Povjerenik za rodnu ravnopravnost za ...  \n",
       "4  Pravilnik o stegovnoj odgovornosti zaposlenika...  "
      ]
     },
     "execution_count": 25,
     "metadata": {},
     "output_type": "execute_result"
    }
   ],
   "source": [
    "df.head()"
   ]
  },
  {
   "cell_type": "markdown",
   "id": "01e0f1fd",
   "metadata": {},
   "source": [
    "#### Ekstrakcija teksta iz dokumenata"
   ]
  },
  {
   "cell_type": "markdown",
   "id": "d7039e6e",
   "metadata": {},
   "source": [
    "Ekstrakcija teksta iz PDF dokumenata će se obavljati koristeći biblioteke kao što su `fitz`, `pytesseract`, `PIL`, `io`, i `pdfminer`.\n",
    "Sljedeće tri funkcije su dizajnirane za izvlačenje teksta iz običnih i skeniranih PDF datoteka.\n",
    "\n",
    "**Funkcije**\n",
    "\n",
    "##### `is_scanned_pdf(file_path)`\n",
    "\n",
    "Provjerava je li PDF skenirani dokument.\n",
    "\n",
    "- Koristi `extract_text` za pokušaj izvlačenja teksta\n",
    "- Ako nema teksta, zaključuje da je PDF skeniran\n",
    "\n",
    "##### `extract_text_from_scanned_pdf(file_path)`\n",
    "\n",
    "Izvlači tekst iz skeniranog PDF-a.\n",
    "\n",
    "- Otvora PDF s `fitz.open`.\n",
    "- Za svaku stranicu:\n",
    "  - Učitava stranicu i dobiva pixmap\n",
    "  - Pretvara pixmap u PIL sliku\n",
    "  - Koristi `pytesseract.image_to_string` za OCR\n",
    "  - Konkatenira tekst svake stranice\n",
    "- Zatvara dokument i vraća tekst\n",
    "\n",
    "##### `extract_text_from_pdf(file_path)`\n",
    "\n",
    "Određuje metodu izvlačenja teksta na osnovu tipa PDF-a.\n",
    "\n",
    "- Ako je PDF skeniran (provjereno s `is_scanned_pdf`), koristi `extract_text_from_scanned_pdf`\n",
    "- Inače, koristi `extract_text` za izvlačenje teksta"
   ]
  },
  {
   "cell_type": "code",
   "execution_count": 26,
   "id": "7cf6def7",
   "metadata": {},
   "outputs": [],
   "source": [
    "def is_scanned_pdf(file_path):\n",
    "    text = extract_text(file_path)\n",
    "    return len(text.strip()) == 0\n",
    "\n",
    "def extract_text_from_scanned_pdf(file_path):\n",
    "    document = fitz.open(file_path)\n",
    "    text = \"\"\n",
    "\n",
    "    for page_num in range(len(document)):\n",
    "        page = document.load_page(page_num)\n",
    "        pix = page.get_pixmap()\n",
    "        image = Image.open(BytesIO(pix.tobytes()))\n",
    "        text += pytesseract.image_to_string(image, lang = 'hrv')\n",
    "\n",
    "    document.close()\n",
    "    return text\n",
    "\n",
    "def extract_text_from_pdf(file_path):\n",
    "    if is_scanned_pdf(file_path):\n",
    "        return extract_text_from_scanned_pdf(file_path)\n",
    "    else:\n",
    "        return extract_text(file_path)"
   ]
  },
  {
   "cell_type": "markdown",
   "id": "68e45baf",
   "metadata": {},
   "source": [
    "#### Preuzimanje dokumenata i pohranjivanje tekstualnog sadržaja u `df`"
   ]
  },
  {
   "cell_type": "markdown",
   "id": "8471ff05",
   "metadata": {},
   "source": [
    "Ovaj dio koda koristi se za obradu dokumenata i primjenjuje se paralelno na svaki redak DataFrame-a `df` koristeći `ThreadPoolExecutor`<sup>[2]</sup>.\n",
    "\n",
    "**Funkcija `process_document(row)`**\n",
    "\n",
    "Ova funkcija obrađuje jedan redak DataFrame-a.\n",
    "\n",
    "- Preuzima PDF s URL-a navedenog u retku i sprema ga u direktorij\n",
    "- Ako je preuzimanje uspješno, izvlači tekst iz PDF-a\n",
    "- Čisti tekst i vraća tekst zajedno s putanjom datoteke\n",
    "- Ako preuzimanje nije uspješno, vraća `None, None`\n",
    "\n",
    "**Primjena `process_document` Funkcije**\n",
    "\n",
    "Korištenjem `ThreadPoolExecutor` s najviše *N* radnih dretvi:\n",
    "\n",
    "- `with ThreadPoolExecutor(max_workers=10) as executor`: Stvara pool radnih dretvi za paralelno izvršavanje\n",
    "      - kreira se `results` lista uz `executor.map` koji primjenjuje `process_document` funkciju na svaki red dataframe-a\n",
    "\n",
    "Rezultati se dodjeljuju novim stupcima `df[['tekstualni_sadrzaj', 'putanja_datoteke']]`."
   ]
  },
  {
   "cell_type": "code",
   "execution_count": 27,
   "id": "caa0f2bf-1ddf-402d-8028-9bc9a7992461",
   "metadata": {
    "scrolled": true
   },
   "outputs": [
    {
     "name": "stdout",
     "output_type": "stream",
     "text": [
      "Success: ./data/pdfs/popis_gs_u_sukobu_interesa_2024.pdf\n",
      "Success: ./data/pdfs/fv_dnevni_red_2023-11-16.pdf\n",
      "Success: ./data/pdfs/odluka_-_povjerenik_za_rodnu_ravnopravnost_za_djelatnike_i_studente.pdf\n",
      "Success: ./data/pdfs/odluka-izvanredni_izbori_za_studentski_zbor-sijecanj_2024.pdf\n",
      "Success: ./data/pdfs/odluka_o_imenovanju_povjerenika_za_zastitu_dostojanstva_radnika-2.pdf\n",
      "Success: ./data/pdfs/fv_dnevni_red_2023-12-07_3._sjednica.pdf\n",
      "Success: ./data/pdfs/odluka_o_izmjeni_odluke_pok_2023_10_12_0.pdf\n",
      "Success: ./data/pdfs/politika-privatnosti-foi.pdf\n",
      "Success: ./data/pdfs/fv_zakljucci_2023-11-16_2._sjednica.pdf\n",
      "Success: ./data/pdfs/odluka_studentski_pravobranitelj.pdf\n",
      "Success: ./data/pdfs/01._zakljucci_13._sjednice_fv-final-uz_izmjene.pdf\n",
      "Success: ./data/pdfs/odluka_izvanredni_ispitni_rokovi_2023_2024.pdf\n",
      "Success: ./data/pdfs/zakljucci_1._sjednice_fv_16.11.2023.pdf\n",
      "Success: ./data/pdfs/fv_dnevni_red_2023-10-19.pdf\n",
      "Success: ./data/pdfs/odluka_upisni_kriteriji_za_prijediplomske_studije_2024_2025.pdf\n",
      "Success: ./data/pdfs/odluka-podnosenje_zamolbi_za_ispis_s_fakulteta.pdf\n",
      "Success: ./data/pdfs/odluka_o_imenovanju_povjerenika_za_zastitu_dostojanstva_radnika-1.pdf\n",
      "Success: ./data/pdfs/plan_rodne_ravnopravnosti_foi_2023_prilozi.pdf\n",
      "Success: ./data/pdfs/pravilnik_o_stegovnoj_zaposlenika_foi_-_fv_2024-01-18.pdf\n",
      "Success: ./data/pdfs/pravilnik_o_izmjenama_pravilnika_o_koristenju_sluzbenih_vozila_te_otvaranju_obracunu_i_isplati_putnih_naloga_-_8.1.2024.pdf\n",
      "Success: ./data/pdfs/fv_dnevni_red_2024-01-18_4_sjednica.pdf\n",
      "Success: ./data/pdfs/popis_gs_u_sukobu_interesa_2023.pdf\n",
      "Success: ./data/pdfs/fv_zakljucci_2023-12-07_3_sjednica.pdf\n",
      "Success: ./data/pdfs/pravilnik_o_koristenju_sluzbenih_vozila_te_otvaranju_obracunu_i_isplati_putnih_naloga_-_procisceni_tekst_-_8.1.2024.pdf\n",
      "Success: ./data/pdfs/odluka-povjerenstvo_za_prigovore-izvanredni_izbori_za_sz_0.pdf\n",
      "Success: ./data/pdfs/odluka-izborno_povjerenstvo-izvanredni_izbori_za_sz.pdf\n",
      "Success: ./data/pdfs/plan_rodne_ravnopravnosti_foi_2023_bez_priloga.pdf\n",
      "Success: ./data/pdfs/erasmus_info_dan_2024.pdf\n",
      "Success: ./data/pdfs/odluka_o_raspisivanju_izvanrednih_izbora_za_sz_1.pdf\n",
      "Success: ./data/pdfs/upute_za_organizaciju_i_provodenje_nastave_-_itdp_zagreb.pdf\n",
      "Success: ./data/pdfs/01._zakljucci_12._sjednice_fv.pdf\n",
      "Success: ./data/pdfs/upute_za_organizaciju_i_provodenje_nastave_-_itdp_zagreb.pdf\n",
      "Success: ./data/pdfs/upute_za_organizaciju_i_provodenje_nastave_-_itdp_sisak.pdf\n",
      "Success: ./data/pdfs/odluka-o_uvjetima_upisa_pds_ep_verzija_1.2_0.pdf\n",
      "Success: ./data/pdfs/odluka-o_uvjetima_upisa_kolegija_upisa_u_semestre_i_vise_godine_studija_studenata_sveucilisnih_diplomskih_studija_informatike_verzija_1.4_0.pdf\n",
      "Success: ./data/pdfs/odluka-o_pocetku_izvodenja_sveucilisnih_diplomskih_studija_informatike_verzija_1.4_1.pdf\n",
      "Success: ./data/pdfs/odluka-izvodenje_nastave_itdp_centri_1.pdf\n",
      "Success: ./data/pdfs/odluka-eticko_povjerenstvo_foi-2020.pdf\n",
      "Success: ./data/pdfs/fv_dnevni_red_2023-09-14.pdf\n",
      "Success: ./data/pdfs/registar_priznavanja_kolegija_-_magistri_primarnog_obrazovanja_i_informatika_na_ds_iuo.pdf\n",
      "Success: ./data/pdfs/01_zakljucci_11._sjednice_fv.pdf\n",
      "Success: ./data/pdfs/pravilnik_o_poslovanju_kase_uzajamne_pomoci_rujan_2023.pdf\n",
      "Success: ./data/pdfs/odluka_-_izmjene_u_registrima_kolegija_razlikovne_godine_-_2023n2.pdf\n",
      "Success: ./data/pdfs/odluka-isps_i_pitup-nastavci_studija_-_broj_ects-a.pdf\n",
      "Success: ./data/pdfs/upute_korisnnicima_knjiznice_2023.pdf\n",
      "Success: ./data/pdfs/troskovnik_studija_2023_2024.pdf\n",
      "Success: ./data/pdfs/foi_akademski_kalendar_2023-2024_fin_0.pdf\n",
      "Success: ./data/pdfs/odluka-usvajanje_akademskog_kalendara_2023-2024.pdf\n",
      "Success: ./data/pdfs/odluka_o_nacinu_izvodenja_nastave_za_kolegije_sveucilisnih_prijediplomskih_studija_informacijski_sustavi_i_poslovni_sustavi_verzija_1.1._-_2023_2025.pdf\n",
      "Success: ./data/pdfs/odluka_o_nacinu_izvodenja_nastave_za_kolegije_strucnog_prijediplomskog_studija_pitup_verzija_1.2._-_2023_2026.pdf\n",
      "Success: ./data/pdfs/odluka_-_kvote_po_modulima.pdf\n",
      "Success: ./data/pdfs/fv_dnevni_red_2023-07-13.pdf\n",
      "Success: ./data/pdfs/odluka-upis_razlikovne_godine_-_magistri_primarnog_obrazovanja_i_informatika_-_fin.pdf\n",
      "Success: ./data/pdfs/odluka-o_uvjetima_upisa_u_i._godinu_diplomskih_studija.pdf\n",
      "Success: ./data/pdfs/odluka_o_uvjetima_upisa_razlikovne_godine.pdf\n",
      "Success: ./data/pdfs/01._zakljucci_10._sjednice_fv_1.pdf\n",
      "Success: ./data/pdfs/02._zakljucci_9._sjednice_fv.pdf\n",
      "Success: ./data/pdfs/01._zakljucci_8._sjednice_fv_0.pdf\n",
      "Success: ./data/pdfs/fv_dnevni_red_2023-06-15.pdf\n",
      "Success: ./data/pdfs/2023-16-05_odluka-statut_foi_1.pdf\n",
      "Success: ./data/pdfs/statut_foi_2023_0.pdf\n",
      "Success: ./data/pdfs/fv_dnevni_red_2023-05-18.pdf\n",
      "Success: ./data/pdfs/statut_foi_2023_0.pdf\n",
      "Success: ./data/pdfs/odluka_-_izmjene_u_registrima_predmeta_razlikovne_godine_-_2023n.pdf\n",
      "Success: ./data/pdfs/fv_dnevni_red_2023-05-04.pdf\n",
      "Success: ./data/pdfs/02._zakljucci_7._sjednice_fv.pdf\n",
      "Success: ./data/pdfs/01._zakljucci_6._sjednice_fv_0.pdf\n",
      "Success: ./data/pdfs/fv_dnevni_red_2023-04-20.pdf\n",
      "Success: ./data/pdfs/fv_dnevni_red_2023-04-13.pdf\n",
      "Success: ./data/pdfs/foi_godisnje_izvjesce_o_osiguravanju_kvalitete_2021-22.pdf\n",
      "Success: ./data/pdfs/foi_plan_aktivnosti_za_osiguravanje_kvalitete_2022-23.pdf\n",
      "Success: ./data/pdfs/odluka-povjerenstvo_za_osiguravanje_kvalitete.pdf\n",
      "Success: ./data/pdfs/01._zakljucci_5._sjednice.pdf\n",
      "Success: ./data/pdfs/fv_dnevni_red_2023-03-16.pdf\n",
      "Success: ./data/pdfs/odluka-povjerenstvo_za_prigovore-redoviti_izbori_za_sz_1.pdf\n",
      "Success: ./data/pdfs/odluka-izborno_povjerenstvo-redovni_izbori_za_sz_1.pdf\n",
      "Success: ./data/pdfs/pravilnik-izmjene_2023-_o_provedbi_postupaka_jednostavne_nabave_2023_02_09_nk_final_procisceno.pdf\n",
      "Success: ./data/pdfs/odluka-dodatni_ispitni_termi_za_predmete_ljetnog_semestra.pdf\n",
      "Success: ./data/pdfs/odluka-upisne_kvote_diplomski_studiji_2023-2024.pdf\n",
      "Success: ./data/pdfs/odluka-upisne_kvote_prijediplomski_studiji_2023-2024.pdf\n",
      "Success: ./data/pdfs/fv_dnevni_red_2023-02-16.pdf\n",
      "Success: ./data/pdfs/01._zakljucci_4._sjednice_fv_0.pdf\n",
      "Success: ./data/pdfs/popis_gs_u_sukobu_interesa_2022.pdf\n",
      "Success: ./data/pdfs/procedura_naplate_potrazivanja_2023.pdf\n",
      "Success: ./data/pdfs/financijski_izvjestaji_za_razdoblje_1._sijecanj_-_31._prosinac_2022._referentna_stranica.pdf\n",
      "Success: ./data/pdfs/erasmus_bip-ovi_opcenito_0.pdf\n",
      "Success: ./data/pdfs/01._zakljucci_3._sjednice_fv_0.pdf\n",
      "Success: ./data/pdfs/fv_dnevni_red_2023-01-19.pdf\n",
      "Success: ./data/pdfs/procedura_blagajnickog_poslovanja_01.01.2023.pdf\n",
      "Success: ./data/pdfs/odluka-povjerenstvo_za_prigovore-izvanredni_izbori_za_sz.pdf\n",
      "Success: ./data/pdfs/odluka-izborno_povjerenstvo-izvanredni_studentski_izbori.pdf\n",
      "Success: ./data/pdfs/odluka_o_raspisivanju_izvanrednih_izbora_za_sz_0.pdf\n",
      "Success: ./data/pdfs/01._zakljucci_2._sjednice_fv.pdf\n",
      "Success: ./data/pdfs/fv_dnevni_red_2022-12-08.pdf\n",
      "Success: ./data/pdfs/odluka_o_upisnim_kriterijima_2023-2024_matura_do_2022.pdf\n",
      "Success: ./data/pdfs/vu_hsz_reguliranje_prava_iz_studentskog_standarda.pdf\n",
      "Success: ./data/pdfs/01._zakljucci_1._sjednice_fv_1.pdf\n",
      "Success: ./data/pdfs/fv_dnevni_red_2022-11-17.pdf\n",
      "Success: ./data/pdfs/odluka_o_upisnim_kriterijima_na_preddiplomske_studije_u_akademskoj_godini_2023.-2024.pdf\n",
      "Success: ./data/pdfs/odluka_o_pocetku_izvodenja_ep_revidirani_i_zavrsetku_izvodenja_ep.pdf\n",
      "Success: ./data/pdfs/01._zakljucci_11._sjednice_fv.pdf\n",
      "Success: ./data/pdfs/fv_dnevni_red_2022-10-20.pdf\n",
      "Success: ./data/pdfs/ums_putovnica_-_web.pdf\n",
      "Success: ./data/pdfs/01._zakljucci_10._sjednice_fv_0.pdf\n",
      "Success: ./data/pdfs/fv_dnevni_red_2022-09-15.pdf\n",
      "Success: ./data/pdfs/odluka-upis_do_40_ects-a_u_v._i_vi._semestru.pdf\n",
      "Success: ./data/pdfs/foi_akademski_kalendar_2022-2023_foi.pdf\n",
      "Success: ./data/pdfs/pravilnik_o_raspodjeli_vlastitih_prihoda_fv_14062022-procisceni_tekst.pdf\n",
      "Success: ./data/pdfs/odluka-usvajanje_akademskog_kalendara_2022-2023.pdf\n",
      "Success: ./data/pdfs/odluka-pitup-_peti_upis_3._godine.pdf\n",
      "Success: ./data/pdfs/odluka-ispitni_rokovi_-_2022.pdf\n",
      "Success: ./data/pdfs/odluka_o_nacinu_izvodenja_nastave_za_predmete_preddiplomskih_sveucilisnih_studija_informacijski_sustavi_i_poslovni_sustavi_verzija_1.1._-_2022_2023.pdf\n",
      "Success: ./data/pdfs/odluka_o_nacinu_izvodenja_nastave_za_predmete_i._godine_preddiplomskog_strucnog_studija_pitup_verzija_1.2._-_2022_2023_002.pdf\n",
      "Success: ./data/pdfs/odluka_o_dopuni_odluke_o_kvotama_po_modulima_i_izbornim_predmetima_modula_ips.pdf\n",
      "Success: ./data/pdfs/01._zakljucci_9._sjednice_fv-final.pdf\n",
      "Success: ./data/pdfs/fv_dnevni_red_2022-07-14.pdf\n",
      "Success: ./data/pdfs/odluka-imenovanje_povjerljive_osobe_i_zamjenika.pdf\n",
      "Success: ./data/pdfs/registar_priznavanje_predmeta_ips_v1.2_na_pitup_v1.2_0.pdf\n",
      "Success: ./data/pdfs/pravilnik_o_izmjenama_i_dopunama_pravilnika_o_raspodjeli_vlastitih_prihoda_i_prihoda_za_posebne_namjene_fakulteta_organizacije_i_informatike_14062022.pdf\n",
      "Success: ./data/pdfs/01._zakljucci_8._sjednice_fv.pdf\n",
      "Success: ./data/pdfs/pravilnik_o_zastiti_prijavitelja_nepravilnosti_-_15.6.2022.pdf\n",
      "Success: ./data/pdfs/fv_dnevni_red_2022-06-14.pdf\n",
      "Success: ./data/pdfs/01._zakljucci_7._sjednice_fv.pdf\n",
      "Success: ./data/pdfs/poslovnik_o_radu_fakultetskog_vijeca_-_procisceni_tekst_26052022.pdf\n",
      "Success: ./data/pdfs/pravilnik_o_izmjenama_i_dopunama_pravilnika_itdp_v1.3.pdf\n",
      "Success: ./data/pdfs/pravilnik_o_izmjenama_i_dopunama_pravilnika_o_preddiplomskom_sveucilisnom_studiju_ips_v1.1.pdf\n",
      "Success: ./data/pdfs/pravilnik_itdp_-_procisceni_tekst.pdf\n",
      "Success: ./data/pdfs/pravilnik_o_preddiplomskom_sveucilisnom_studiju_informacijski_i_poslovni_sustavi_v_1.2-_procisceni_tekst.pdf\n",
      "Success: ./data/pdfs/foi_odluka-uvjeti_upisa_u_i._godinu_diplomskih_studija.pdf\n",
      "Success: ./data/pdfs/odluka-posebna_kvota_za_upis-kandidati_iz_ukrajine.pdf\n",
      "Success: ./data/pdfs/fv_dnevni_red_2022-05-26.pdf\n",
      "Success: ./data/pdfs/odluka_-_kvote_po_modulima_i_izbornim_predmetima_modula_za_studij_ips.pdf\n",
      "Success: ./data/pdfs/odluka-isps_i_pitup-nastavci_studija-broj_ects-a.pdf\n",
      "Success: ./data/pdfs/01._zakljucci_6._sjednice_fv.pdf\n",
      "Success: ./data/pdfs/pravilnik_o_izmjenama_pravilnika_pitup_-_28.4.2022.pdf\n",
      "Success: ./data/pdfs/pravilnik_itdp_-_procisceni_tekst_-_28.4.2022.pdf\n",
      "Success: ./data/pdfs/fv_dnevni_red_2022-04-28.pdf\n",
      "Success: ./data/pdfs/01._zakljucci_5._sjednice_fv.pdf\n",
      "Success: ./data/pdfs/fv_dnevni_red_2022-03-17.pdf\n",
      "Success: ./data/pdfs/odluka_-_o_kvotama_na_izbornim_predmetima_na_studijskim_programima_diplomskih_studija_informatike.pdf\n",
      "Success: ./data/pdfs/odluka-stalno_povjerenstvo-jn-2022.pdf\n",
      "Success: ./data/pdfs/foi_plan_aktivnosti_za_osiguravanje_kvalitete_2021-22.pdf\n",
      "Success: ./data/pdfs/foi_plan_aktivnosti_za_osiguravanje_kvalitete_2020-21.pdf\n",
      "Success: ./data/pdfs/foi_godisnje_izvjesce_o_osiguravanju_kvalitete_2020-21.pdf\n",
      "Success: ./data/pdfs/foi_godisnje_izvjesce_o_osiguravanju_kvalitete_2019_2020.pdf\n",
      "Success: ./data/pdfs/fv_dnevni_red_2022-02-24.pdfSuccess: ./data/pdfs/01._zakljucci_4._sjednice_fv.pdf\n",
      "\n",
      "Success: ./data/pdfs/financijski_izvjestaj_1_12_21_fina_potvrda.pdf\n",
      "Success: ./data/pdfs/financijski_izvjestaj_1_12_2021_referentna_stranica_0.pdf\n",
      "Success: ./data/pdfs/pravilnik_o_nagradama_i_priznanjima_2021_10_19.pdf\n",
      "Success: ./data/pdfs/01._zakljucci_3._sjednice_fv.pdf\n",
      "Success: ./data/pdfs/fv_dnevni_red_2022-01-20.pdf\n",
      "Success: ./data/pdfs/01._zakljucci_02._sjednice_fv_1_0.pdf\n",
      "Success: ./data/pdfs/odluka_izvodjenjenastaveljetnisemestar2021_22_20210912.pdf\n",
      "Success: ./data/pdfs/upute_prilogodluci_ljetnisemestar_2021_22.pdf\n",
      "Success: ./data/pdfs/odluka-izvodenje_nastave_od_13._prosinca_2021._do_27._veljace_2022.pdf\n",
      "Success: ./data/pdfs/odlukastozera_zastudente_od2022_02_28.pdf\n",
      "Success: ./data/pdfs/foi_akademski_kalendar_2021_20221.pdf\n",
      "Success: ./data/pdfs/odluka-neradni_dan_i_promjena_akademskog_kalendara.pdf\n",
      "Success: ./data/pdfs/fv_dnevni_red_2021-12-09.pdfSuccess: ./data/pdfs/popis_gs_u_sukobu_interesa_2021.pdf\n",
      "\n",
      "Success: ./data/pdfs/01._zakljucci_1._sjednice_fv.pdf\n",
      "Success: ./data/pdfs/fv_dnevni_red_2021-11-25.pdfSuccess: ./data/pdfs/smjernice_znanstvenog_istrazivanja_na_foi_-_2021-2023.pdf\n",
      "\n",
      "Success: ./data/pdfs/odluka-izvodenje_nastave_od_22.11._do_12.12.2021.-za_web.pdf\n",
      "Success: ./data/pdfs/odluka_-_kriteriji_rangiranja_-_akademska_mobilnost.pdf\n",
      "Success: ./data/pdfs/odluka-izvodenje_nastave_od_15._do_21.11.2021.pdf\n",
      "Success: ./data/pdfs/odluka-izvodenje_nastave_od_2._do_14._11._2021.pdf\n",
      "Success: ./data/pdfs/foi_pravilnik_o_zavrsnom-diplomskom_radu_-_izmjene_2021_10_18.pdf\n",
      "Success: ./data/pdfs/02._zakljucci_15._sjednice_fv.pdf\n",
      "Success: ./data/pdfs/fv_dnevni_red_2021-10-21.pdf\n",
      "Success: ./data/pdfs/01._zakljucci_14._sjednice.pdf\n",
      "Success: ./data/pdfs/odluka_o_nacinu_izvodenja_nastave_za_predmete_i._godine_preddiplomskog_strucnog_studija_pitup_verzija_1.2.pdf\n",
      "Success: ./data/pdfs/odluka_strucna_praksa_dsio.pdf\n",
      "Success: ./data/pdfs/registar_priznavanje_predmeta_isps_v1.1_na_pitup_v1.3.pdf\n",
      "Success: ./data/pdfs/odluka-izvanredni_ispitni_rokovi_2021_2022.pdf\n",
      "Success: ./data/pdfs/odlukaizvodjenjenastavesveucilisnistudiji2021_22.pdf\n",
      "Success: ./data/pdfs/odlukaizvodjenjenastavepitup_2021_22.pdf\n",
      "Success: ./data/pdfs/uputezaorganizacijuprovodenjenastave-zimskisemestar_2021_2022.pdf\n",
      "Success: ./data/pdfs/pravilnik_pitup_2021.pdf\n",
      "Success: ./data/pdfs/registar_priznavanje_predmeta_pitup_v1.2_na_pitup_v1.3.pdf\n",
      "Success: ./data/pdfs/registar_priznavanje_predmeta_ips_v1.2_na_pitup_v1.3.pdf\n",
      "Success: ./data/pdfs/odluka_o_pocetku_izvodenja_pitup_v_1.3_.pdf\n",
      "Success: ./data/pdfs/odluka_o_nacinu_izvodenja_nastave_za_predmete_i._i_ii._godine_preddiplomskih_sveucilisnih_studija_informacijski_sustavi_i_poslovni_sustavi_verzija_1.1._-_sl.pdf\n",
      "Success: ./data/pdfs/odluka_-_pitup_-_peti_upis_3._godine.pdf\n",
      "Success: ./data/pdfs/registar_priznavanje_predmeta_ips_v1.2_na_pitup_v1.2.pdf\n",
      "Success: ./data/pdfs/zakljucci_13._sjednice_fv_izv_final.pdf\n",
      "Success: ./data/pdfs/zakljucci_12._sjednice_fv_nastava_final.pdf\n",
      "Success: ./data/pdfs/zakljucci_11._sjednice_fv_final.pdf\n",
      "Success: ./data/pdfs/01_pravilnik_o_izmjenama_i_dopunama_pravilnika_o_radu_knjiznice_-_09.06.2021.pdf\n",
      "Success: ./data/pdfs/01._zakljucci_10._sjednice_fv.pdf\n",
      "Success: ./data/pdfs/02_pravilnik_o_radu_knjiznice_foi_-_procisceni_tekst_-_09.06.2021.pdf\n",
      "Success: ./data/pdfs/01.3._zakljucci_9._sjednice_fv-znanost.pdf\n",
      "Success: ./data/pdfs/01.2._zakljucci_8._sjednice_fv_izbori.pdf\n",
      "Success: ./data/pdfs/01.1._zakljucci_7._sjednice_fv.pdf\n",
      "Success: ./data/pdfs/foi_odluka-uvjeti_upisa_razlikovna_godina_2020_2021_.pdf\n",
      "Success: ./data/pdfs/01_zakljucci_6._sjednice_fv.pdf\n",
      "Success: ./data/pdfs/odluka_upisne_kvote_diplomski_studiji_2021-2022.pdf\n",
      "Success: ./data/pdfs/04.1._foi_odluka-uvjeti_upisa_u_i._godinu_diplomskih_studija_2021_2022.pdf\n",
      "Success: ./data/pdfs/04.2._odluka_o_ulaznim_kompetencijama_za_upis_na_diplomske_studije.pdf\n",
      "Success: ./data/pdfs/odluka-izdavanje_potvrda_o_odlusanim_predmetima_stranog_jezika.pdf\n",
      "Success: ./data/pdfs/pravilnik_o_raspodjeli_vlastitih_prihoda_fv_27052021.pdf\n",
      "Success: ./data/pdfs/statut_sz_foi_0.pdf\n",
      "Success: ./data/pdfs/odluka-raspisivanje_dopunskih_izbora_za_sz_foi-ja.pdf\n",
      "Success: ./data/pdfs/izmjena_plana_0620.pdf\n",
      "Success: ./data/pdfs/izmjena_plana_0420.pdf\n",
      "Success: ./data/pdfs/04_zakljucci_5._sjednice_fv.pdf\n",
      "Success: ./data/pdfs/uredeno2021-uputa_za_promatrace.pdf\n",
      "Success: ./data/pdfs/01_zakljucci_4._sjednice_fv.pdf\n",
      "Success: ./data/pdfs/financijski_plan_2021_2023_obrazlozenje.pdf\n",
      "Success: ./data/pdfs/odluka-izborno_povjerenstvo-redovni_izbori_za_sz_0.pdf\n",
      "Success: ./data/pdfs/odluka_stalno_povjerenstvo_jn_2021.pdf\n",
      "Success: ./data/pdfs/odluka-povjerenstvo_za_prigovore-redoviti_izbori_za_sz_0.pdf\n",
      "Success: ./data/pdfs/02_odluka_-_zavrsni_i_diplomski_radovi_do_30.04.2021_.pdf\n",
      "Success: ./data/pdfs/odluka-povjerenica_za_zastitu_dostojanstva_studenata.pdf\n",
      "Success: ./data/pdfs/imenovanje_povjerenstva_za_prigovore-studentski_izbori.pdf\n",
      "Success: ./data/pdfs/imenovanje_izbornog_povjerenstva-studentski_izbori.pdf\n",
      "Success: ./data/pdfs/odluka_rektora_o_raspisivanju_studentskih_izbora_2021_.pdf\n",
      "Success: ./data/pdfs/01_zakljucci_3._sjednice_fv.pdf\n",
      "Success: ./data/pdfs/biljeske_uz_financijska_izvjesca_311220.pdf\n",
      "Success: ./data/pdfs/izvjestaji_proracuna_proracunskih_korisnika_i_izvanproracunskih_korisnika_od_010120_do_311220.pdf\n",
      "Success: ./data/pdfs/web_odluka_o_provodenju_i_priznavanju_strucne_prakse_2020-2021_-_pitup.pdf\n",
      "Success: ./data/pdfs/web_odluka_o_provodenju_i_priznavanju_strucne_prakse_2020-2021_-_ds.pdf\n",
      "Success: ./data/pdfs/web_odluka_o_provodenju_nastave_na_strucnom_studiju_pitup_u_ljetnom_semestru_2020-2021.pdf\n",
      "Success: ./data/pdfs/odluka_o_provodenju_nastave_na_sveucilisnim_studijima_u_ljetnom_semestru_akademske_godine_2020.-2021._za_vrijeme_pandemije_covid-19.pdf\n",
      "Success: ./data/pdfs/info_tribina_za_erasmus_strucnu_praksu_studeni_2023.pdf\n",
      "Success: ./data/pdfs/godisnje_izvjesce_1.pdf\n",
      "Success: ./data/pdfs/odluka-organizacija_studiranja_studenata_iz_podrucja_sisacko-moslavacke_zupanije_0.pdf\n",
      "Success: ./data/pdfs/odluka_izvodenje_nastave_7.1.-31.1.2021.-web.pdf\n",
      "Success: ./data/pdfs/01_zakljucci_2._sjednice.pdf\n",
      "Success: ./data/pdfs/1_plan_nabave.pdf\n",
      "Success: ./data/pdfs/01_zakljucci_1._sjednice_fv.pdf\n",
      "Success: ./data/pdfs/odluka_o_izvodenju_nastave_30.11._do_23.12.2020.pdf\n",
      "Success: ./data/pdfs/pravilnik_o_strucnoj_praksi_studenata_na_studijima_fakulteta_organizacije_i_informatike.pdf\n",
      "Success: ./data/pdfs/popis_gs.pdf\n",
      "Success: ./data/pdfs/odluka_o_izvodenju_nastave_od_16._do_29.11.2020.pdf\n",
      "Success: ./data/pdfs/odluka_produzetak_roka_za_obranu_radova_do_31012021_0.pdf\n",
      "Success: ./data/pdfs/odluka_o_provodenju_nastave_21-10-20.pdf\n",
      "Success: ./data/pdfs/01_zakljucci_11._fv.pdf\n",
      "Success: ./data/pdfs/odluka_o_nacinu_izvodenja_nastave_za_ponavljace_i._godine_sveucilisnog_preddiplomskog_studija_informacijski_sustavi_i_poslovni_sustavi_0.pdf\n",
      "Success: ./data/pdfs/odluka-pocetak_izvodenja_ips_1.2._i_zavrsetak_ips_1.1_1.pdf\n",
      "Success: ./data/pdfs/odluka_o_sluzbenoj_komunikaciji_0.pdf\n",
      "Success: ./data/pdfs/pravilnik_o_stegovnoj_i_materijalnoj_odgovornosti_studenata_i_drugih_polaznika_foi_-_procisceni_tekst.pdf\n"
     ]
    },
    {
     "name": "stderr",
     "output_type": "stream",
     "text": [
      "\n",
      "KeyboardInterrupt\n",
      "\n"
     ]
    }
   ],
   "source": [
    "# Obrada dokumenta\n",
    "def process_document(row):\n",
    "    file_path = download_pdf(row['url'], './data/pdfs')\n",
    "    if file_path:\n",
    "        text = extract_text_from_pdf(file_path)\n",
    "        return text.strip(), file_path\n",
    "    return None, None\n",
    "\n",
    "# Paralelna obrada\n",
    "with ThreadPoolExecutor(max_workers=16) as executor:\n",
    "    # Mapiranje funkcije process_document na svaki red DataFrame-a\n",
    "    results = list(executor.map(process_document, [row for _, row in df.iterrows()]))\n",
    "\n",
    "# Konveritanje rezultata u DataFrame i spajanje sa originalnim DataFrame-om\n",
    "result_df = pd.DataFrame(results, columns=['tekstualni_sadrzaj', 'putanja_datoteke'])\n",
    "df = pd.concat([df.reset_index(drop=True), result_df], axis=1)"
   ]
  },
  {
   "cell_type": "code",
   "execution_count": 1,
   "id": "1cf82763-8b39-4b9a-8180-bf9a97f5b787",
   "metadata": {},
   "outputs": [],
   "source": [
    "# Spremanje dataframe-a u datoteku\n",
    "# df.to_csv('data.csv', index=False)"
   ]
  },
  {
   "cell_type": "code",
   "execution_count": 4,
   "id": "8b1f66bc-6be2-43b8-9f8a-64af57858fd0",
   "metadata": {},
   "outputs": [],
   "source": [
    "# Ucitavanje podataka iz datoteke\n",
    "# df = pd.read_csv('./data.csv')\n",
    "# df['datum'] = pd.to_datetime(df['datum'])"
   ]
  },
  {
   "cell_type": "markdown",
   "id": "8857b3a8",
   "metadata": {},
   "source": [
    "#### Kreiranje baze podataka"
   ]
  },
  {
   "cell_type": "markdown",
   "id": "878c10e1",
   "metadata": {},
   "source": [
    "Stvara se SQLite baza podataka s nazivom `docs.db` i u njoj se kreira tablica dokument."
   ]
  },
  {
   "cell_type": "code",
   "execution_count": 5,
   "id": "1b9552e8",
   "metadata": {},
   "outputs": [],
   "source": [
    "engine = create_engine('sqlite:///docs.db')\n",
    "\n",
    "metadata = MetaData()\n",
    "\n",
    "# Definiranje tablice 'dokument'\n",
    "dokument = Table('dokument', metadata,\n",
    "                 Column('sifra_dokumenta', Integer, primary_key=True),\n",
    "                 Column('url', String),\n",
    "                 Column('datum', DateTime),\n",
    "                 Column('naslov_dokumenta', String),\n",
    "                 Column('tekstualni_sadrzaj', Text),\n",
    "                 Column('putanja_datoteke', String))\n",
    "\n",
    "# Kreiranje tablice\n",
    "metadata.create_all(engine)"
   ]
  },
  {
   "cell_type": "markdown",
   "id": "314b5d05",
   "metadata": {},
   "source": [
    "Zatim iteriramo po zapisima `df`-a, te za svaki od njih kreiramo odgovarajući *insert statement* koji se na kraju izvršava (zapis se pohranjuje u bazu podataka)."
   ]
  },
  {
   "cell_type": "code",
   "execution_count": 6,
   "id": "59fef27e",
   "metadata": {},
   "outputs": [],
   "source": [
    "for index, row in df.iterrows():\n",
    "    # Insert za pojedini zapis\n",
    "    insert_stmt = insert(dokument).values(\n",
    "        url = row['url'],\n",
    "        datum = row['datum'],\n",
    "        naslov_dokumenta = row['naslov_dokumenta'],\n",
    "        tekstualni_sadrzaj = row['tekstualni_sadrzaj'],\n",
    "        putanja_datoteke = row['putanja_datoteke']\n",
    "    )\n",
    "\n",
    "    # Izvršavanje insert-a\n",
    "    with engine.connect() as conn:\n",
    "        conn.execute(insert_stmt)\n",
    "        conn.commit()"
   ]
  },
  {
   "cell_type": "code",
   "execution_count": 11,
   "id": "cf53ccaf-277f-4404-9e2c-4743e9e2e047",
   "metadata": {},
   "outputs": [],
   "source": [
    "# Ucitavanje podataka iz baze\n",
    "# df = pd.read_sql('dokument', 'sqlite:///docs.db')"
   ]
  },
  {
   "cell_type": "markdown",
   "id": "20e9a867",
   "metadata": {},
   "source": [
    "### REST servis demo"
   ]
  },
  {
   "cell_type": "markdown",
   "id": "26f1e66e",
   "metadata": {},
   "source": [
    "Svrha ovog REST servisa je pretraga ključnih riječi u naslovu/tekstu dokumenta, pregled dokumenata po datumu te izlistavanje svih dokumenata."
   ]
  },
  {
   "cell_type": "markdown",
   "id": "a50be0c7",
   "metadata": {},
   "source": [
    "#### Potporne funkcije"
   ]
  },
  {
   "cell_type": "markdown",
   "id": "12794336",
   "metadata": {},
   "source": [
    "##### Pregled dokumenata po datumu"
   ]
  },
  {
   "cell_type": "markdown",
   "id": "d44e0913",
   "metadata": {},
   "source": [
    "Funkcija `list_docs_in_period` je dizajnirana da pregleda i izlista dokumente unutar određenog vremenskog razdoblja iz baze podataka.\n",
    "\n",
    "**Parametri**\n",
    "- `table`: Tablica baze podataka iz koje se preuzimaju dokumenti\n",
    "- `e`: SQLAlchemy *engine* objekt, koji upravlja vezom s bazom podataka\n",
    "- `start_date`: Početni datum raspona (u formatu 'YYYY-MM-DD')\n",
    "- `end_date`: Krajnji datum raspona (u formatu 'YYYY-MM-DD')\n",
    "\n",
    "**Funkcionalnost**\n",
    "1. **Priprema za pretragu**:\n",
    "   \n",
    "    Funkcija priprema listu imena stupaca iz tablice baze podataka, te pretvara stringove `start_date` i `end_date` u `datetime` objekte.\n",
    "\n",
    "2. **Izgradnja SQL upita**:\n",
    "   \n",
    "    Kreira se SQL upit koji selektira sve redove iz tablice čiji su datumi unutar zadanog raspona.\n",
    "\n",
    "3. **Izvršavanje upita i prikupljanje rezultata**:\n",
    "   \n",
    "    Otvora se veza s bazom podataka i izvršava pripremljeni SQL upit.\n",
    "    Za svaki redak u rezultatu, stvara se rječnik s podacima koji se dodaje u listu.\n",
    "\n",
    "**Povratna vrijednost**\n",
    "    \n",
    "Vraća listu rječnika gdje svaki rječnik sadrži podatke jednog dokumenta unutar zadanog datumskog raspona."
   ]
  },
  {
   "cell_type": "markdown",
   "id": "d5a60868",
   "metadata": {},
   "source": [
    "Funkcija `valid_date` provjerava je li dani string valjan datum u formatu 'YYYY-MM-DD'.\n",
    "\n",
    "**Parametri**\n",
    "- `date_str`: String koji predstavlja datum koji se provjerava\n",
    "\n",
    "**Funkcionalnost**\n",
    "1. **Provjera valjanosti datuma**:\n",
    "   \n",
    "    Pokušava pretvoriti `date_str` u `datetime` objekt koristeći format 'YYYY-MM-DD'.\n",
    "    Ako je konverzija uspješna, datum je valjan i funkcija vraća `True`.\n",
    "    Ukoliko konverzija ne uspije i izazove `ValueError`, to znači da je format datuma neispravan, i funkcija vraća `False`.\n",
    "\n",
    "**Povratna vrijednost**\n",
    "\n",
    "Vraća `True` ako je datum valjan, ili `False` ako nije."
   ]
  },
  {
   "cell_type": "code",
   "execution_count": 34,
   "id": "c3dc02de",
   "metadata": {},
   "outputs": [],
   "source": [
    "# Pregled prema datumu\n",
    "def list_docs_in_period(table, e, start_date, end_date):\n",
    "    rows = []\n",
    "    column_names = [column.name for column in table.columns]\n",
    "\n",
    "    # Pretvaranje stringova u datetime objekte\n",
    "    start = datetime.strptime(start_date, \"%Y-%m-%d\")\n",
    "    end = datetime.strptime(end_date, \"%Y-%m-%d\")\n",
    "\n",
    "    select_stmt = select(table).where(table.c.datum.between(start, end))\n",
    "    \n",
    "    with e.connect() as conn:\n",
    "        result = conn.execute(select_stmt)\n",
    "        for row in result:\n",
    "            row_dict = {column: getattr(row, column) for column in column_names}\n",
    "            rows.append(row_dict)\n",
    "\n",
    "    return rows\n",
    "\n",
    "# Validacija datuma\n",
    "def valid_date(date_str):\n",
    "    try:\n",
    "        datetime.strptime(date_str, \"%Y-%m-%d\")\n",
    "        return True\n",
    "    except ValueError:\n",
    "        return False"
   ]
  },
  {
   "cell_type": "markdown",
   "id": "b5703f25",
   "metadata": {},
   "source": [
    "##### Izlistavanje svih dokumenata"
   ]
  },
  {
   "cell_type": "markdown",
   "id": "83edbe0a",
   "metadata": {},
   "source": [
    "Funkcija `list_all_docs` izlistava sve dokumente iz zadane tablice u bazi podataka.\n",
    "\n",
    "**Parametri**\n",
    "- `table`: Tablica baze podataka iz koje se izlistavaju dokumentiu\n",
    "- `e`: SQLAlchemy *engine* objekt, koji upravlja vezom s bazom podataka\n",
    "\n",
    "**Funkcionalnost**\n",
    "1. **Priprema za izlistavanje**:\n",
    "\n",
    "    Imena stupaca u tablici se spremaju u listu kako bi se podaci točno mapirali\n",
    "\n",
    "3. **Izgradnja SQL upita**:\n",
    "\n",
    "    Kreira se SQL upit koji selektira sve zapise iz tablice\n",
    "\n",
    "5. **Izvršavanje upita i prikupljanje podataka**:\n",
    "\n",
    "    Otvora se vezu s bazom podataka i izvršava pripremljeni SQL upit.\n",
    "    Za svaki zapis iz tablice, funkcija kreira rječnik koji sadrži sve podatke tog redaka i dodaje ga u listu `rows`.\n",
    "\n",
    "**Povratna vrijednost**\n",
    "    \n",
    "Vraća listu rječnika, gdje svaki rječnik predstavlja jedan dokument iz tablice."
   ]
  },
  {
   "cell_type": "code",
   "execution_count": 35,
   "id": "3ef4d8f2",
   "metadata": {},
   "outputs": [],
   "source": [
    "# Izlistavanje svih dokumenata\n",
    "def list_all_docs(table, e):\n",
    "    rows = []\n",
    "    column_names = [column.name for column in table.columns]\n",
    "\n",
    "    select_stmt = select(table)\n",
    "    with e.connect() as conn:\n",
    "        result = conn.execute(select_stmt)\n",
    "        for row in result:\n",
    "            # Izgradnja rječnika za svaki redak\n",
    "            row_dict = {column: getattr(row, column) for column in column_names}\n",
    "            rows.append(row_dict)\n",
    "\n",
    "    return rows"
   ]
  },
  {
   "cell_type": "markdown",
   "id": "534a509c",
   "metadata": {},
   "source": [
    "Zbog preglednosti korišten je *for loop* za dodavanje elemenata u listu `rows`, ali mogao se iskoristiti i *list comprehension* \n",
    "(`rows = [{column: getattr(row, column) for column in column_names} for row in result]`)."
   ]
  },
  {
   "cell_type": "markdown",
   "id": "4edc47cd",
   "metadata": {},
   "source": [
    "##### Pretprocesiranje teksta i pretraga"
   ]
  },
  {
   "cell_type": "markdown",
   "id": "db3bb7a3",
   "metadata": {},
   "source": [
    "Funkcija `preprocess` je namijenjena za procesiranje i čišćenje teksta.\n",
    "\n",
    "**Parametri**\n",
    "- `text`: String koji želimo očistiti/procesirati\n",
    "\n",
    "**Funkcionalnost**\n",
    "1. **Uklanjanje nepotrebnih znakova**:\n",
    "\n",
    "    Funkcija primjenjuje regularni izraz za uklanjanje svih znakova koji nisu slova ili brojevi (`\\W`), zamjenjujući ih razmakom. Ovaj korak uklanja\n",
    "    interpunkcijske i specijalne znakove iz teksta.\n",
    "\n",
    "3. **Normalizacija teksta**:\n",
    "\n",
    "    Nadalje, tekst se pretvara u mala slova koristeći metodu `lower()`. Ovo osigurava da veličina slova ne utječe na kasniju analizu teksta.\n",
    "\n",
    "**Povratna vrijednost**\n",
    "\n",
    "Pretprocesirani tekst bez interpunkcijskih i specijalnih znakova."
   ]
  },
  {
   "cell_type": "markdown",
   "id": "7632eef6",
   "metadata": {},
   "source": [
    "Funkcija `load_and_preprocess_data` zadužena je za učitavanje i pretprocesiranje podataka potrebnih za daljnje analize. Funkcija integrira nekoliko ključnih koraka u jednom procesu, uključujući učitavanje podataka, njihovo pretprocesiranje, i vektorizaciju.\n",
    "\n",
    "**Funkcionalnost**\n",
    "1. **Učitavanje podataka iz baze**:\n",
    "   \n",
    "    Podaci se učitavaju iz baze podataka koristeći funkciju `list_all_docs`, koja vraća sve dokumente iz tablice `dokument`. Rezultat se zatim\n",
    "    pretvara u pandas DataFrame.\n",
    "\n",
    "3. **Pretprocesiranje teksta**:\n",
    "   \n",
    "    Primjenjuje funkciju `preprocess` na stupce `naslov_dokumenta` i `tekstualni_sadrzaj` DataFrame-a kako bi se tekst standardizirao.\n",
    "    Rezultat se pohranjuje u nove stupce `processed_naslov` i `processed_tekst`.\n",
    "\n",
    "5. **Vektorizacija teksta**:\n",
    "   \n",
    "    Koristi `TfidfVectorizer` za pretvaranje naslova i tekstova dokumenata u TF-IDF vektore. Ovaj korak je ključan za pretvaranje\n",
    "    teksta u numerički oblik koji se može koristiti u daljnjoj analizi.\n",
    "\n",
    "**Povratna vrijednost**\n",
    "    \n",
    "Vraća pandas DataFrame s pretprocesiranim podacima, dva objekta `TfidfVectorizer` (za naslove i tekstove), te TF-IDF matrice za naslove i tekstove."
   ]
  },
  {
   "cell_type": "markdown",
   "id": "6ca2d69e",
   "metadata": {},
   "source": [
    "Funkcija `multi_word_search_or` dizajnirana je za pretragu dokumenata koji sadrže bilo koju od zadanih riječi. Ova funkcija koristi vektorski prikaz dokumenata i vektorizer za identifikaciju dokumenata koji odgovaraju kriterijima pretrage.\n",
    "\n",
    "**Parametri**\n",
    "- `document_matrix`: Matrica dokumenata, gdje je svaki redak vektorski prikaz jednog dokumenta\n",
    "- `vectorizer`: Objekt `TfidfVectorizer` koji se koristio za vektorizaciju dokumenata\n",
    "- `words`: Niz riječi odvojenih razmakom koje se traže u dokumentima\n",
    "\n",
    "**Funkcionalnost**\n",
    "1. **Dobivanje indeksa riječi**:\n",
    "   \n",
    "    Funkcija prvo pretvara svaku riječ iz niza `words` u njezin odgovarajući indeks u vokabularu koji je kreiran pomoću `TfidfVectorizer`.\n",
    "\n",
    "2. **Pretraga dokumenta**:\n",
    "   \n",
    "    Zatim prolazi kroz svaki redak u `document_matrix` (koji predstavlja jedan dokument) i provjerava sadrži li bilo koji od indeksa (riječi)\n",
    "    s ne-nul vrijednostima.\n",
    "\n",
    "4. **Identifikacija relevantnih dokumenata**:\n",
    "   \n",
    "    Ako redak (dokument) sadrži bilo koju od traženih riječi, indeks tog reda se dodaje u listu `found_docs`.\n",
    "\n",
    "**Povratna vrijednost**\n",
    "    \n",
    "Vraća listu indeksa dokumenata koji zadovoljavaju uvjete pretrage."
   ]
  },
  {
   "cell_type": "code",
   "execution_count": 36,
   "id": "8289b74f",
   "metadata": {},
   "outputs": [],
   "source": [
    "# Funkcija za pretprocesiranje teksta\n",
    "def preprocess(text):\n",
    "    text = re.sub(r'\\W', ' ', text)\n",
    "    text = text.lower()\n",
    "    return text\n",
    "\n",
    "def load_and_preprocess_data():\n",
    "    # Učitavanje podataka iz baze\n",
    "    documents = list_all_docs(dokument, engine)\n",
    "    df = pd.DataFrame(documents)\n",
    "\n",
    "    # Pretprocesiranje\n",
    "    df['processed_naslov'] = df['naslov_dokumenta'].apply(preprocess)\n",
    "    df['processed_tekst'] = df['tekstualni_sadrzaj'].apply(preprocess)\n",
    "\n",
    "    # Vektorizacija\n",
    "    vectorizer_naslovi = TfidfVectorizer()\n",
    "    vectorizer_tekstovi = TfidfVectorizer()\n",
    "    naslovi_tfidf = vectorizer_naslovi.fit_transform(df['processed_naslov'])\n",
    "    tekstovi_tfidf = vectorizer_tekstovi.fit_transform(df['processed_tekst'])\n",
    "\n",
    "    return df, vectorizer_naslovi, vectorizer_tekstovi, naslovi_tfidf, tekstovi_tfidf\n",
    "\n",
    "def multi_word_search_or(document_matrix, vectorizer, words):\n",
    "    indices = [vectorizer.vocabulary_.get(word.lower()) for word in words.split()]\n",
    "    found_docs = []\n",
    "    for index, row in enumerate(document_matrix.toarray()):\n",
    "        if any(row[i] > 0 for i in indices if i is not None):\n",
    "            found_docs.append(index)\n",
    "    return found_docs"
   ]
  },
  {
   "cell_type": "markdown",
   "id": "c905babb",
   "metadata": {},
   "source": [
    "##### REST API"
   ]
  },
  {
   "cell_type": "markdown",
   "id": "07ffb01f",
   "metadata": {},
   "source": [
    "Ovaj REST servis implementiran je korištenjem Flask frameworka i nudi širok spektar funkcionalnosti za pristup i upravljanje dokumentima Fakulteta organizacije i informatike (FOI). Servis pruža specifične funkcionalnosti pretrage i pregleda dokumenata:\n",
    "\n",
    "a) Pretraživanje ključnih riječi u tekstu i b) Pretraživanje ključnih riječi u naslovu\n",
    "- `GET` `/search`\n",
    "- Funkcija `search_documents` omogućava korisnicima da pretražuju dokumente koristeći ključne riječi. Moguće je specificirati da li pretraga treba biti izvedena unutar teksta dokumenta ili unutar naslova. Učitava se i pretprocesira skup podataka, nakon čega se izvodi pretraga pomoću funkcije `multi_word_search_or`.\n",
    "\n",
    "c) Pregled prema datumu\n",
    "- `GET` `/documents/<date_from>/<date_to>`\n",
    "- Funkcija `get_documents_date_range` omogućava korisnicima da pregledaju dokumente unutar određenog vremenskog razdoblja. Korisnici specificiraju početni (`date_from`) i krajnji datum (`date_to`) za pretragu. Prije izvršavanja pretrage izvršava se validacija datuma.\n",
    "\n",
    "d) Izlistavanje svih dokumenata\n",
    "- `GET` `/documents`\n",
    "- Funkcija `get_documents` omogućava korisnicima da dobiju listu svih dostupnih dokumenata u bazi.\n",
    "\n",
    "Osim navedenih funkcionalnosti, servis također podržava dodavanje, ažuriranje i brisanje dokumenata, kao i dohvaćanje pojedinačnih dokumenata prema njihovom identifikatoru (šifra dokumenta)."
   ]
  },
  {
   "cell_type": "code",
   "execution_count": 37,
   "id": "ca86570e",
   "metadata": {},
   "outputs": [
    {
     "name": "stdout",
     "output_type": "stream",
     "text": [
      " * Serving Flask app '__main__'\n",
      " * Debug mode: off\n"
     ]
    },
    {
     "name": "stderr",
     "output_type": "stream",
     "text": [
      "\u001b[31m\u001b[1mWARNING: This is a development server. Do not use it in a production deployment. Use a production WSGI server instead.\u001b[0m\n",
      " * Running on http://127.0.0.1:5000\n",
      "\u001b[33mPress CTRL+C to quit\u001b[0m\n",
      "127.0.0.1 - - [31/Jan/2024 23:38:31] \"GET /search?query=politika+privatnosti&in=naslov HTTP/1.1\" 200 -\n"
     ]
    }
   ],
   "source": [
    "app = Flask(__name__)\n",
    "\n",
    "@app.route('/')\n",
    "def start():\n",
    "    return 'Flask REST API za FOI dokumente'\n",
    "\n",
    "# a) pretraživanja ključnih riječi u tekstu (npr. boolean search) &\n",
    "# b) pretraživanje ključnih riječi u naslovu\n",
    "@app.route('/search', methods=['GET'])\n",
    "def search_documents():\n",
    "    query = request.args.get('query')\n",
    "    search_in = request.args.get('in')\n",
    "\n",
    "    if not query or not search_in:\n",
    "        return jsonify({\"error\": \"Query and search field are required\"}), 400\n",
    "\n",
    "    # Učitavanje i preprocesiranje podataka\n",
    "    df, vectorizer_naslovi, vectorizer_tekstovi, naslovi_tfidf, tekstovi_tfidf = load_and_preprocess_data()\n",
    "\n",
    "    matrix = naslovi_tfidf if search_in == 'naslov' else tekstovi_tfidf\n",
    "    vectorizer = vectorizer_naslovi if search_in == 'naslov' else vectorizer_tekstovi\n",
    "\n",
    "    found_indices = multi_word_search_or(matrix, vectorizer, query)\n",
    "\n",
    "    if not found_indices:\n",
    "        return jsonify({\"message\": \"No documents found\"}), 404\n",
    "\n",
    "    columns_to_return = ['sifra_dokumenta', 'url', 'datum', 'naslov_dokumenta', 'tekstualni_sadrzaj', 'putanja_datoteke']\n",
    "    found_documents = df.iloc[found_indices][columns_to_return]\n",
    "    return jsonify(found_documents.to_dict(orient='records'))\n",
    "\n",
    "# c) pregled prema datumu (npr. dokumenti od DATUM do DATUM)\n",
    "@app.route('/documents/<date_from>/<date_to>', methods=['GET'])\n",
    "def get_documents_date_range(date_from, date_to):\n",
    "    if not valid_date(date_from) or not valid_date(date_to):\n",
    "        return jsonify({\"error\": \"Invalid date format, should be YYYY-MM-DD\"}), 400\n",
    "\n",
    "    documents = list_docs_in_period(dokument, engine, date_from, date_to)\n",
    "    return jsonify(documents)\n",
    "    \n",
    "# d) izlistavanje svih dokumenata\n",
    "@app.route('/documents', methods=['GET'])\n",
    "def get_documents():\n",
    "    documents = list_all_docs(dokument, engine)\n",
    "    return jsonify(documents)\n",
    "\n",
    "@app.route('/document/<int:doc_id>', methods=['GET'])\n",
    "def get_document(doc_id):\n",
    "    select_stmt = select(dokument).where(dokument.c.sifra_dokumenta == doc_id)\n",
    "    with engine.connect() as conn:\n",
    "        result = conn.execute(select_stmt).fetchone()\n",
    "        if result:\n",
    "            document_dict = {column.name: getattr(result, column.name) for column in dokument.columns}\n",
    "            return jsonify(document_dict)\n",
    "        else:\n",
    "            return jsonify({\"error\": \"Document not found\"}), 404\n",
    "\n",
    "@app.route('/documents', methods=['POST'])\n",
    "def add_document():\n",
    "    data = request.json\n",
    "    # Pretvaranje datuma iz stringa u datetime objekt\n",
    "    if 'datum' in data:\n",
    "        try:\n",
    "            data['datum'] = datetime.fromisoformat(data['datum'])\n",
    "        except ValueError:\n",
    "            return jsonify({\"error\": \"Invalid date format\"}), 400\n",
    "\n",
    "    insert_stmt = insert(dokument).values(data)\n",
    "    with engine.connect() as conn:\n",
    "        conn.execute(insert_stmt)\n",
    "        conn.commit()\n",
    "    return jsonify({\"message\": \"Document added successfully\"}), 201\n",
    "\n",
    "@app.route('/documents/<int:doc_id>', methods=['PUT'])\n",
    "def update_document(doc_id):\n",
    "    data = request.json\n",
    "\n",
    "    # Convert 'datum' from string to datetime object\n",
    "    if 'datum' in data:\n",
    "        try:\n",
    "            data['datum'] = datetime.fromisoformat(data['datum'])\n",
    "        except ValueError:\n",
    "            return jsonify({\"error\": \"Invalid date format\"}), 400\n",
    "\n",
    "    update_stmt = update(dokument).where(dokument.c.sifra_dokumenta == doc_id).values(data)\n",
    "    with engine.connect() as conn:\n",
    "        result = conn.execute(update_stmt)\n",
    "        conn.commit()\n",
    "        if result.rowcount:\n",
    "            return jsonify({\"message\": \"Document updated successfully\"})\n",
    "        else:\n",
    "            return jsonify({\"error\": \"Document not found\"}), 404\n",
    "\n",
    "@app.route('/documents/<int:doc_id>', methods=['DELETE'])\n",
    "def delete_document(doc_id):\n",
    "    delete_stmt = delete(dokument).where(dokument.c.sifra_dokumenta == doc_id)\n",
    "    with engine.connect() as conn:\n",
    "        result = conn.execute(delete_stmt)\n",
    "        conn.commit()\n",
    "        if result.rowcount:\n",
    "            return jsonify({\"message\": \"Document deleted successfully\"})\n",
    "        else:\n",
    "            return jsonify({\"error\": \"Document not found\"}), 404\n",
    "    \n",
    "# Pokretanje aplikacije\n",
    "def run_app():\n",
    "    app.run(port=5000, use_reloader=False)\n",
    "    \n",
    "flask_thread = threading.Thread(target=run_app)\n",
    "flask_thread.start()\n",
    "# gasenje servera - Kernel -> Restart kernel"
   ]
  },
  {
   "cell_type": "markdown",
   "id": "d9ee20b2",
   "metadata": {},
   "source": [
    "## Prikaz rada REST servisa"
   ]
  },
  {
   "cell_type": "markdown",
   "id": "182474f4",
   "metadata": {},
   "source": [
    "### Izlistavanje svih dokumenata"
   ]
  },
  {
   "cell_type": "code",
   "execution_count": 38,
   "id": "7460911e",
   "metadata": {
    "scrolled": true
   },
   "outputs": [],
   "source": [
    "# komentirano zbog preglednosti biljeznice\n",
    "# !curl http://127.0.0.1:5000/documents"
   ]
  },
  {
   "cell_type": "markdown",
   "id": "b39e938c",
   "metadata": {},
   "source": [
    "### Pretraga po ključnim riječima u naslovu"
   ]
  },
  {
   "cell_type": "code",
   "execution_count": 39,
   "id": "4b14cc43",
   "metadata": {
    "scrolled": true
   },
   "outputs": [
    {
     "name": "stdout",
     "output_type": "stream",
     "text": [
      "[{\"datum\":\"Fri, 24 Nov 2023 00:00:00 GMT\",\"naslov_dokumenta\":\"Politika privatnosti FOI-ja\",\"putanja_datoteke\":\"./data/pdfs/politika-privatnosti-foi.pdf\",\"sifra_dokumenta\":14,\"tekstualni_sadrzaj\":\"VODITELJ OBRADE  \\n\\nPOLITIKA PRIVATNOSTI \\n\\nFakultet organizacije i informatike Sveu\\u010dili\\u0161ta u Zagrebu, Pavlinska 2, Vara\\u017edin (dalje u tekstu: \\nFakultet), telefon: +38542 390 800, fax: +38542 213 413, e-mail:  ured-dekana@foi.unizg.hr \\nMolimo vas da ovu Politiku privatnosti pro\\u010ditate pa\\u017eljivo kako biste saznali kako prikupljamo, \\nobra\\u0111ujemo,  \\u0161titimo  ili  na  bilo  koji  drugi  na\\u010din  koristimo  va\\u0161e  osobne  podatke.  Detaljnije \\npoveznici: \\nna \\ninformacije \\nhttps://www.foi.unizg.hr/hr/fakultet/zastita-op  \\n\\ninternetskoj \\n\\nsljede\\u0107oj \\n\\nprona\\u0107i \\n\\nmo\\u017eete \\n\\n1. PODACI O SLU\\u017dBENIKU ZA ZA\\u0160TITU OSOBNIH PODATAKA  \\n\\ntelefon:  +38542  390  806; \\npodataka@foi.unizg.hr \\n\\nfax:  +38542  213  413,  e-mail: \\n\\nsluzbenik-za-zastitu-\\n\\n2. SVRHA I PRAVNI TEMELJI ZA OBRADU OSOBNIH PODATAKA  \\n\\nOsobni podatak jest svaki podatak koji se odnosi na pojedinca \\u010diji je identitet poznat ili se mo\\u017ee \\nutvrditi. Pojedinac \\u010diji se identitet mo\\u017ee utvrditi jest osoba koja se mo\\u017ee identificirati izravno \\nili  neizravno,  osobito  uz  pomo\\u0107  identifikatora  kao  \\u0161to  su  ime, identifikacijski  broj,  podaci  o \\nlokaciji  i  mre\\u017eni  identifikator  ili  uz  pomo\\u0107  jednog  ili  vi\\u0161e  \\u010dimbenika  svojstvenih  za  fizi\\u010dki, \\nfiziolo\\u0161ki, genetski, mentalni, ekonomski, kulturni ili socijalni identitet tog pojedinca.  \\n\\nVa\\u0161e  osobne  podatke  koji  su  nu\\u017eni  za  obavljanje  i  registriranje  djelatnosti  Fakulteta \\norganizacije  i  informatike  obra\\u0111ujemo u  smislu  \\u010dlanka  6.,  stavka  1.,  to\\u010daka  (a),  (c), (e) i (f) \\nUREDBE (EU) 2016/679 EUROPSKOG PARLAMENTA I VIJE\\u0106A od 27. travnja 2016. o \\nza\\u0161titi pojedinaca u vezi s obradom osobnih podataka i o slobodnom kretanju takvih podataka \\nte o stavljanju izvan snage Direktive 95/46/EZ (dalje u tekstu: Op\\u0107a Uredba) u svrhu:  \\n\\n\\u2022  studiranja,  poha\\u0111anja  programa \\n\\nsudjelovanja  na \\norganiziranim  predavanjima,  radionicama,  savjetovanjima,  simpozijima  i  sli\\u010dnim \\ndoga\\u0111anjima koje organizira Fakultet  \\n\\ncjelo\\u017eivotnog  u\\u010denja, \\n\\n\\u2022  zaposlenja na Fakultetu  \\n\\u2022  videonadzora u svrhu za\\u0161tite osoba i imovine  \\n\\u2022  kvalitetnijeg i sveobuhvatnijeg sadr\\u017eaja internetskih stranica i omogu\\u0107avanja boljeg \\n\\nkorisni\\u010dkog iskustva. \\n\\n3. OBRADA OSOBNIH PODATAKA PUTEM VIDEONADZORA  \\n\\n\\u2022  svrha: za\\u0161tita osoba i imovine  \\n\\u2022  pravni temelj: legitiman interes Fakulteta kao voditelja obrade osobnih podataka  \\n\\u2022  primatelji: videosnimke mo\\u017eemo dostaviti na zahtjev nadle\\u017enim tijelima (policija, \\nsud) ako je to potrebno za provo\\u0111enje postupaka na temelju posebnih propisa  \\n\\u2022  \\u010duvanje: snimke dobivene putem videonadzornog sustava \\u010duvamo najvi\\u0161e trideset \\ndana ili dulje ako su one izuzete kao dokaz u sudskom, upravnom, arbitra\\u017enom ili \\ndrugom postupku  \\n\\n \\n \\n\\f4. KORI\\u0160TENJE KOLA\\u010cI\\u0106A (COOKIES) \\n\\nKako  bio  posjet  i  kori\\u0161tenje  slu\\u017ebene  internetske  stranice  Fakulteta  bilo  \\u0161to  ugodnije, \\nfunkcionalnije  i  prakti\\u010dnije,  na\\u0161a  internetska  stranica  sprema  na  va\\u0161e  ra\\u010dunalo  odre\\u0111enu \\nkoli\\u010dinu informacija, tzv. cookies (kola\\u010di\\u0107i). Kola\\u010di\\u0107i slu\\u017ee da bi internetska stranica radila \\u0161to \\nbolje te u svrhu pobolj\\u0161anja va\\u0161eg iskustva pregledavanja i kori\\u0161tenja.  \\nKori\\u0161tenjem i posjetom slu\\u017ebene stranice Fakultet dajete svoj pristanak na upotrebu kola\\u010di\\u0107a. \\nUpotrebu kola\\u010di\\u0107a mo\\u017eete i blokirati, \\u0161to ne utje\\u010de na mogu\\u0107nost pregledavanja na\\u0161e internetske \\nstranice, no nagla\\u0161avamo da neke funkcionalnosti stranice mo\\u017eda ne\\u0107e biti dostupne.  \\n\\nDa biste razumjeli \\u0161to su to kola\\u010di\\u0107i, ljubazno vas molimo da pro\\u010ditate sljede\\u0107e. Kola\\u010di\\u0107 je dio \\ninformacija spremljenih na va\\u0161e ra\\u010dunalo, mobitel ili tablet (dalje u tekstu: \\u201eure\\u0111aj\\u201c), koje mogu \\nbiti dostavljene neposredno od strane internetske stranice koju posjetite (kola\\u010di\\u0107i od prve strane) \\nili u suradnji i za potrebe internetske stranice od tre\\u0107e strane (kola\\u010di\\u0107i tre\\u0107e strane). Kola\\u010di\\u0107i u \\npravilu spremaju va\\u0161e postavke, postavke za internetsku stranicu i sl. Nakon \\u0161to opet otvorite \\ninternetsku stranicu, va\\u0161 internetski preglednik \\u0161alje natrag kola\\u010di\\u0107e koji pripadaju ovoj web \\nstranici. To omogu\\u0107uje stranici da prika\\u017ee informacije prilago\\u0111ene va\\u0161im potrebama. Kola\\u010di\\u0107i \\nmogu imati \\u0161irok raspon informacija, uklju\\u010duju\\u0107i i dio osobnih informacija. Takve informacije \\nmogu  biti  spremljene  jedino  ako  vi  to  omogu\\u0107ite.  Sama  internetska  stranica  ne  mo\\u017ee  dobiti \\npristup  informacijama  koje  im  niste  dali  te  ne  mogu  pristupiti  niti  jednoj  drugoj  datoteci  na \\nva\\u0161em ra\\u010dunalu. \\n\\nAko \\u017eelite onemogu\\u0107iti spremanje kola\\u010di\\u0107a na va\\u0161 ure\\u0111aj, mo\\u017eete to u\\u010diniti samostalno. Primite \\nna  znanje  kako  bi  isto  moglo  imati  negativan  u\\u010dinak  na  kori\\u0161tenje  internetske  stranice.  \\nKako  biste  isklju\\u010dili  kola\\u010di\\u0107e,  potrebno  je  namjestiti  postavke  i  konfiguracije  va\\u0161eg \\ninternetskog preglednika. U izborniku preglednika odaberite pomo\\u0107 i informacije o kola\\u010di\\u0107ima \\nte slijedite upute. \\n\\n5. KOJA SU VA\\u0160A PRAVA U VEZI S OBRADOM OSOBNIH PODATAKA  \\n\\nZa ostvarivanje svojih prava mo\\u017eete se obratiti slu\\u017ebeniku za za\\u0161titu osobnih podataka iz to\\u010dke \\n1.  ove  Politike koji  \\u0107e  vam  uputiti  unaprijed  pripremljen  obrazac  za  zahtjev  za  ostvarivanje \\nodre\\u0111enog  prava.  Navedeni  zahtjev  dostavljate  ispunjen  i  potpisan,  u  obliku  elektroni\\u010dke \\nisprave ili na papiru pri \\u010demu se morate identificirati.  \\n\\nVa\\u0161a prava su sljede\\u0107a:  \\n\\n5.1. Pravo na pristup osobnim podacima  \\n\\nImate pravo na pristup svojim osobnim podacima koje obra\\u0111ujemo o vama i mo\\u017eete zatra\\u017eiti \\ndetaljne  informacije,  osobito  o  njihovoj  svrsi  obrade,  o  vrsti/kategorijama  osobnih  podataka \\nkoji  se  obra\\u0111uju,  uklju\\u010duju\\u0107i  i  uvid  u  svoje  osobne  podatke,  o  primateljima  ili  kategorijama \\nprimatelja  te  o  predvi\\u0111enom  razdoblju  u  kojem  \\u0107e  osobni  podaci  biti  pohranjeni.  Pristup \\nosobnim podacima mo\\u017ee biti ograni\\u010den samo u slu\\u010dajevima propisanim pravom Unije ili na\\u0161im \\nnacionalnim  zakonodavstvom,  odnosno  kada  se  takvim  ograni\\u010denjem  po\\u0161tuje  bit  temeljnih \\nprava i sloboda drugih.  \\n\\n \\n \\n \\n \\n\\f5.2. Pravo na ispravak osobnih podataka  \\n\\nImate pravo zatra\\u017eiti ispravljanje ili dopunjavanje osobnih podataka ako va\\u0161i podaci nisu to\\u010dni, \\npotpuni  i  a\\u017eurni.  U  zahtjevu  je  potrebno  specificirati  \\u0161to  konkretno  nije  to\\u010dno,  potpuno  ili \\na\\u017eurno i u kojem bi smislu navedeno trebalo ispraviti te dostaviti potrebnu dokumentaciju u \\nprilog svojih navoda.  \\n\\n5.3. Pravo na brisanje  \\n\\nImate pravo tra\\u017eiti brisanje osobnih podataka koje se odnose na vas ako je ispunjen jedan od \\nsljede\\u0107ih uvjeta: \\n\\n\\u2022  va\\u0161i osobni podaci vi\\u0161e nisu nu\\u017eni u odnosu na svrhu za koju smo ih prikupili ili \\n\\nobradili  \\n\\n\\u2022  povukli ste privolu na kojoj se obrada temelji u skladu s \\u010dlankom 6., stavkom 1., \\nto\\u010dkom  (a)  ili  \\u010dlankom  9.,  stavkom  2.,  to\\u010dkom  (a)  i  ako  ne  postoji  druga  pravna \\nosnova za obradu  \\n\\n\\u2022  ulo\\u017eili  ste  prigovor  na  obradu  svojih  osobnih  podataka  u  skladu  sa  \\u010dlankom  21., \\nstavkom  1.  Op\\u0107e  uredbe  o  za\\u0161titi  podataka  te  ako  ne  postoje  na\\u0161i  ja\\u010di  legitimni \\nrazlozi za obradu  \\n\\n\\u2022  osobni podaci nezakonito su obra\\u0111eni  \\n\\u2022  osobni  podaci  moraju  se  brisati  radi  po\\u0161tivanja  pravne  obveze  iz  prava  Unije  ili \\n\\nprava dr\\u017eave kojoj podlije\\u017ee voditelj obrade. \\n\\nIznimke vezane uz ostvarivanje prava brisanja predvi\\u0111ene su \\u010dlankom 17., stavkom 3. Op\\u0107e \\nuredbe i ona nisu primjenjiva u mjeri u kojoj je obrada nu\\u017ena:  \\n\\n\\u2022 \\n\\u2022 \\n\\nradi ostvarivanja prava na slobodu izra\\u017eavanja i informiranja \\nradi  po\\u0161tivanja  pravne  obveze  kojom  se  zahtijeva  obrada  u  pravu  Unije  ili  pravu \\ndr\\u017eave \\u010dlanice kojem podlije\\u017ee voditelj obrade ili za izvr\\u0161avanje zada\\u0107e od javnog \\ninteresa ili pri izvr\\u0161avanju slu\\u017ebene ovlasti voditelja obrade  \\n\\n\\u2022  u  svrhe  arhiviranja  u  javnom  interesu,  u  svrhe  znanstvenog  ili  povijesnog \\nistra\\u017eivanja ili u statisti\\u010dke svrhe u skladu s \\u010dlankom 89., stavkom 1. u mjeri u kojoj \\nje  vjerojatno  da  se  pravom  na  brisanje  mo\\u017ee  onemogu\\u0107iti  ili  ozbiljno  ugroziti \\npostizanje ciljeva te obrade ili  \\nradi postavljanja, ostvarivanja ili obrane pravnih zahtjeva.  \\n\\n\\u2022 \\n\\n5.4. Pravo na ograni\\u010davanje obrade osobnih podataka  \\n\\nPravo na ograni\\u010davanje obrade mo\\u017eete ishoditi ako:  \\n\\n\\u2022  osporavate njihovu to\\u010dnost \\n\\u2022  ako je obrada nezakonita, a protivite se njihovu brisanju  \\n\\u2022  ako voditelj obrade vi\\u0161e ne treba osobne podatke, ali ste ih zatra\\u017eili radi postavljanja, \\n\\nostvarivanja ili obrane pravnih zahtjeva  \\n\\n\\u2022  ako ste ulo\\u017eili prigovor na obradu va\\u0161ih osobnih podataka.  \\n\\n \\n \\n\\f5.5. Pravo na prigovor  \\n\\nAko va\\u0161e podatke obra\\u0111ujemo u svrhe izvr\\u0161avanja zada\\u0107a od javnog interesa ili pri izvr\\u0161avanju \\nsvojih  slu\\u017ebenih  ovlasti  ili  se  prilikom  njihove  obrade  pozivamo  na  na\\u0161e  legitimne  interese, \\nmo\\u017eete  podnijeti  prigovor  protiv  takve  obrade  Agenciji  za  za\\u0161titu  osobnih  podataka,  Selska \\ncesta 136, 10 000 Zagreb. \\n\\n6. DAVANJE NA KORI\\u0160TENJE OSOBNIH PODATAKA  \\n\\nVa\\u0161e  osobne  podatke  mo\\u017eemo  proslijediti  na  kori\\u0161tenje  pru\\u017eateljima \\ninformati\\u010dko-\\nkomunikacijskih rje\\u0161enja i usluga koji djeluju kao izvr\\u0161itelji obrade. S navedenim izvr\\u0161iteljima \\nobrade sklopili smo ugovore u kojima je detaljno propisano postupanje s osobnim podacima, te \\nstoga oni nisu u mogu\\u0107nosti obra\\u0111ivati va\\u0161e osobne podatke bez na\\u0161eg naloga i proslje\\u0111ivati ih \\ntre\\u0107im  stranama.  U  odre\\u0111enim  okolnostima  imamo  pravnu  obvezu  proslijediti  va\\u0161e  osobne \\npodatke,  a  obradom  osobnih  podataka  mo\\u017ee  biti  obuhva\\u0107en  i  njihov  me\\u0111unarodni  prijenos. \\nPravna obveza mo\\u017ee proizlaziti iz nacionalnih propisa ili iz propisa EU. Va\\u0161i podaci proslje\\u0111uju \\nse  drugim  primateljima  kad  nas  obvezuju  odre\\u0111eni  propisi  u  opsegu  koji  je  potreban  za \\nostvarenje  utvr\\u0111ene  svrhe.  Va\\u0161i  osobni  podaci  ne\\u0107e  se  proslje\\u0111ivati  tre\\u0107im  stranama  u  svrhe \\nizravnog marketinga.  \\n\\n7. SIGURNOST OSOBNIH PODATAKA  \\n\\nPrikupljamo i obra\\u0111ujemo osobne podatke na na\\u010din kojim se osigurava odgovaraju\\u0107a sigurnost \\ni povjerljivost u njihovoj obradi te omogu\\u0107avanje u\\u010dinkovite primjene na\\u010dela za\\u0161tite podataka, \\nsmanjenje  koli\\u010dine  podataka,  opseg  njihove  obrade,  razdoblje  pohrane  i  njihova  dostupnost. \\nPoduzimamo  sve  odgovaraju\\u0107e  tehni\\u010dke  i  organizacijske  mjere  za\\u0161tite  kako  bismo  sprije\\u010dili \\nslu\\u010dajno ili nezakonito uni\\u0161tavanje, gubitak, izmjene, neovla\\u0161teno kori\\u0161tenje, otkrivanje, uvid \\nili pristup podacima. Na\\u0161i zaposlenici obvezuju se na \\u010duvanje svih osobnih podataka. Dekan, \\nprodekani i zaposlenici Fakulteta organizacije i informatike du\\u017eni su kao profesionalnu tajnu, \\nsukladno  zakonu  kojim  se  ure\\u0111uje  tajnost  podataka,  \\u010duvati  sve  osobne  i  druge  povjerljive \\npodatke koje saznaju u obavljanju svojih du\\u017enosti. Navedena obveza traje i nakon prestanka \\nobna\\u0161anja  du\\u017enosti  dekana  i  prodekana,  odnosno  nakon  prestanka  rada  na  Fakultetu \\norganizacije i informatike.  \\n\\n8. VREMENSKO RAZDOBLJE \\u010cUVANJA OSOBNIH PODATAKA  \\n\\nVa\\u0161e  osobne  podatke  obra\\u0111ujemo  dok  se  ne  ispuni  svrha  obrade  osobnih  podataka.  Nakon \\nprestanka svrhe u koju su prikupljeni, va\\u0161e osobne podatke vi\\u0161e ne koristimo te oni ostaju u \\nna\\u0161em sustavu pohrane i \\u010duvamo ih koliko nas obvezuju zakonski propisi o \\u010duvanju arhivskog \\ngradiva.  \\n\\n9. PROMJENE POLITIKE PRIVATNOSTI  \\n\\nPolitiku privatnosti redovito a\\u017euriramo kako bi ona bila to\\u010dna i a\\u017eurna te zadr\\u017eavamo pravo \\npromjene  sadr\\u017eaja  ako  smatramo  da  je  to  nu\\u017eno.  O  svim  izmjenama  i  dopunama  bit  \\u0107ete \\npravovremeno informirani putem na\\u0161e internetske stranice, u skladu s na\\u010delom transparentnosti.\",\"url\":\"https://www.foi.unizg.hr/sites/default/files/politika-privatnosti-foi.pdf\"},{\"datum\":\"Thu, 09 Jan 2020 00:00:00 GMT\",\"naslov_dokumenta\":\"Donatorska politika Knji\\u017enice\",\"putanja_datoteke\":\"./data/pdfs/donatorska_politika_2023.pdf\",\"sifra_dokumenta\":298,\"tekstualni_sadrzaj\":\"foj s=- =\\n\\nKnji\\u017enica\\n\\n \\n\\n \\n\\nURBROJ: 2186-62-14-23-4\\nVara\\u017edin, 6. velja\\u010de 2023.\\n\\nDonatorska politika Knji\\u017enice\\n\\nKnji\\u017enica Fakulteta organizacije | informatike Sveu\\u010dili\\u0161ta u Zagrebu (u daljnjem tekstu\\nKnji\\u017enica), temeljem Zakona o knji\\u017enicama i knji\\u017eni\\u010dnoj djelatnosti (NN 17/2019) i\\nZakona o izmjenama Zakona o knji\\u017enicama i knji\\u017eni\\u010dnoj djelatnosti (NN_98/2019),\\nprihva\\u0107a donacije knji\\u017eni\\u010dne gra\\u0111e (darove) koja se uklapa u fond knji\\u017enice i njezine.\\nknji\\u017eni\\u010dne zbirke. Knji\\u017enica ne prihva\\u0107a zastarjelu i dotrajalu knji\\u017eni\\u010dnu gra\\u0111u.\\n\\nPotencijalni donatori Knji\\u017enici dostavljaju Pismo namjere s popisom i koli\\u010dinom gra\\u0111e.\\n\\nStru\\u010dni knji\\u017eni\\u010darski djelatnici analiziraju popis gra\\u0111e i odabiru gra\\u0111u za prihvat.\\nVoditeljica knji\\u017enice odluku priop\\u0107ava donatoru.\\n\\nNakon zaprimanja darovane gra\\u0111e voditeljica knji\\u017enice donatoru upu\\u0107uje Pismo:\\nzahvale.\\n\\nDarovana gra\\u0111a postaje vlasni\\u0161tvo knji\\u017enice Fakulteta. Knji\\u017enica ima pravo raspolagati\\nzaprimljenom gra\\u0111om na na\\u010din koji smatra prikladnim.\\n\\nKontal\\n\\nSveu\\u010dili\\u0161te u Zagrebu\\nFakultet organizacije 1 informatike\\nVoditeljica knji\\u017enice.\\n\\nPavlinska 2, HR-42000 Vara\\u017edin\\n\\ntel: +385 42390 877.\\n\\ne-mail: knjiznicaafol.uniza.hr\\n\\n \\n\\n \\n\\nVoditeljica Knji\\u017eni\\n\\nPenn\\nGenaraa, RRRAZDIN\\nBernarda Kos, mag. inf., vi\\u0161a knji\\u017eni\\u010darka\",\"url\":\"https://www.foi.unizg.hr/sites/default/files/donatorska_politika_2023.pdf\"},{\"datum\":\"Thu, 29 Sep 2011 00:00:00 GMT\",\"naslov_dokumenta\":\"Politika kvalitete\",\"putanja_datoteke\":\"./data/pdfs/politika_kvalitete_2011.pdf\",\"sifra_dokumenta\":748,\"tekstualni_sadrzaj\":\"Politika kvalitete\\n\\nVara\\u017edin, srpanj 2011.\\n\\n\\fPolitika\\u00a0kvalitete\\u00a0FOI\\u2010a                                                                                        \\n\\nFakultet\\u00a0organizacije\\u00a0i\\u00a0informatike\\u00a0Sveu\\u010dili\\u0161ta\\u00a0u\\u00a0Zagrebu\\u00a0svoj\\u00a0svakodnevni\\u00a0rad\\u00a0i\\u00a0daljnji\\u00a0razvoj\\u00a0\\u00a0\\ntemelji\\u00a0 na\\u00a0 visokoj\\u00a0 kulturi\\u00a0 kvalitete\\u00a0 koju\\u00a0 ostvaruje\\u00a0 primjenom\\u00a0 vode\\u0107ih\\u00a0 svjetskih\\u00a0 standarda\\u00a0\\nkvalitete.\\u00a0Na\\u00a0taj\\u00a0na\\u010din\\u00a0kvaliteta\\u00a0je\\u00a0na\\u0161a\\u00a0temeljna\\u00a0vrijednost\\u00a0u\\u00a0svim\\u00a0segmentima\\u00a0na\\u0161eg\\u00a0rada,\\u00a0\\nna\\u010din\\u00a0promi\\u0161ljanja,\\u00a0obavljanja\\u00a0svakodnevnih\\u00a0poslova\\u00a0i\\u00a0orijentacija\\u00a0za\\u00a0\\u00a0na\\u0161u\\u00a0budu\\u0107nost.\\u00a0\\u00a0\\u00a0\\n\\nNa\\u0161a\\u00a0predanost\\u00a0kvaliteti\\u00a0vidljiva\\u00a0je\\u00a0u:\\u00a0\\n\\n\\u2022  misiji,\\u00a0viziji,\\u00a0strategiji,\\u00a0na\\u0161im\\u00a0strate\\u0161kim\\u00a0ciljevima\\u00a0i\\u00a0na\\u010dinima\\u00a0njihovog\\u00a0ostvarenja,\\u00a0\\n\\n\\u2022 \\n\\nsustavu\\u00a0 upravljanja\\u00a0 kvalitetom\\u00a0 koji\\u00a0 se\\u00a0 temelji\\u00a0 na\\u00a0 Standardima\\u00a0 i\\u00a0 smjernicama\\u00a0 za\\u00a0\\nosiguravanje\\u00a0 kvalitete\\u00a0 u\\u00a0 Europskom\\u00a0 prostoru\\u00a0 visokog\\u00a0 obrazovanja,\\u00a0 me\\u0111unarodnom\\u00a0\\nstandardu\\u00a0 ISO\\u00a0 9001:2008\\u00a0 i\\u00a0 drugim\\u00a0 standardima\\u00a0 koji\\u00a0 su\\u00a0 potpora\\u00a0 na\\u0161oj\\u00a0 djelatnosti\\u00a0\\n(standardima\\u00a0 za\\u00a0 informacijsko\\u00a0 i\\u00a0 programsko\\u00a0 in\\u017eenjerstvo,\\u00a0 informacijsku\\u00a0 sigurnost,\\u00a0\\nupravljanje\\u00a0ICT\\u00a0uslugama\\u00a0itd.),\\u00a0\\n\\n\\u2022  postupcima\\u00a0vanjskih\\u00a0periodi\\u010dkih\\u00a0neovisnih\\u00a0prosudbi\\u00a0i\\u00a0vrednovanja\\u00a0na\\u0161eg\\u00a0fakulteta\\u00a0\\u2010\\u00a0\\u00a0\\nreakreditacijskim\\u00a0 prosudbama\\u00a0 i\\u00a0 neovisnim\\u00a0 periodi\\u010dkim\\u00a0 prosudbama\\u00a0 unutarnjeg\\u00a0\\nsustava\\u00a0 osiguravanja\\u00a0 kvalitete\\u00a0 u\\u00a0 skladu\\u00a0 sa\\u00a0 Smjernicama\\u00a0 za\\u00a0 vanjsko\\u00a0 vrednovanje\\u00a0 te\\u00a0\\nna\\u0161im\\u00a0internim\\u00a0prosudbama,\\u00a0\\n\\n\\u2022  neprekidnim\\u00a0 naporima\\u00a0 na\\u00a0 pobolj\\u0161avanju\\u00a0 na\\u0161eg\\u00a0 rada\\u00a0 u\\u00a0 nastavi,\\u00a0 znanstvenim\\u00a0\\n\\nistra\\u017eivanjima,\\u00a0transferu\\u00a0znanja\\u00a0u\\u00a0primjenu\\u00a0i\\u00a0u\\u00a0svim\\u00a0na\\u0161im\\u00a0logisti\\u010dkim\\u00a0djelatnostima,\\u00a0\\n\\n\\u2022  uskoj\\u00a0suradnji\\u00a0s\\u00a0na\\u0161im\\u00a0dionicima:\\u00a0studentima,\\u00a0poslodavcima,\\u00a0lokalnom\\u00a0i\\u00a0nacionalnom\\u00a0\\n\\ndru\\u0161tvenom\\u00a0zajednicom,\\u00a0nadle\\u017enim\\u00a0ministarstvom\\u00a0i\\u00a0nacionalnim\\u00a0agencijama.\\u00a0\\u00a0\\n\\nNa\\u0161\\u00a0sustav\\u00a0kvalitete\\u00a0usmjeren\\u00a0je\\u00a0prema\\u00a0izvrsnosti\\u00a0obrazovnog\\u00a0i\\u00a0znanstveno\\u2010istra\\u017eiva\\u010dkog\\u00a0rada\\u00a0\\nte\\u00a0me\\u0111unarodnoj\\u00a0prepoznatljivosti,\\u00a0\\u0161to\\u00a0je\\u00a0kao\\u00a0na\\u0161a\\u00a0doktrina\\u00a0pona\\u0161anja\\u00a0prihva\\u0107eno\\u00a0od\\u00a0strane\\u00a0\\nUprave\\u00a0 i\\u00a0 svih\\u00a0 djelatnika\\u00a0 FOI\\u2010a,\\u00a0 a\\u00a0 za\\u00a0 ostvarenje\\u00a0 ove\\u00a0 politike\\u00a0 imamo\\u00a0 formalne\\u00a0 mehanizme\\u00a0\\nkontinuiranog\\u00a0nadzora\\u00a0i\\u00a0prilagodbi.\\u00a0\\n\\nOva\\u00a0politika\\u00a0temeljni\\u00a0je\\u00a0okvir\\u00a0za\\u00a0odre\\u0111ivanje\\u00a0na\\u0161e\\u00a0strategije\\u00a0kvalitete\\u00a0i\\u00a0na\\u0161ih\\u00a0ciljeva\\u00a0kvalitete\\u00a0s\\u00a0\\n\\u010dime\\u00a0 su\\u00a0 upoznati\\u00a0 svi\\u00a0 na\\u0161i\\u00a0 djelatnici,\\u00a0 a\\u00a0 njihovom\\u00a0 prosudbom\\u00a0 provjerava\\u00a0 se\\u00a0 \\u00a0da \\u00a0 li\\u00a0 se\\u00a0 ona\\u00a0 i\\u00a0\\nostvaruje.\\u00a0\\u00a0\\n\\nPolitika\\u00a0kvalitete\\u00a0FOI\\u2010a\\u00a0redovito\\u00a0se\\u00a0pregledava\\u00a0i\\u00a0po\\u00a0potrebi\\u00a0prilago\\u0111ava\\u00a0novim\\u00a0potrebama.\\u00a0\\n\\n\\u00a0\\u00a0\\u00a0\\u00a0\\u00a0\\u00a0\\u00a0\\u00a0\\u00a0\\u00a0\\u00a0\\u00a0\\u00a0\\u00a0\\u00a0\\u00a0\\u00a0\\u00a0\\u00a0\\u00a0\\u00a0\\u00a0\\u00a0\\u00a0\\u00a0\\u00a0\\u00a0\\u00a0\\u00a0\\u00a0\\u00a0\\u00a0\\u00a0\\u00a0\\u00a0\\u00a0\\u00a0\\u00a0\\u00a0\\u00a0\\u00a0\\u00a0\\u00a0\\u00a0\\u00a0\\u00a0\\u00a0\\u00a0\\u00a0\\u00a0\\u00a0\\u00a0\\u00a0\\u00a0\\u00a0\\u00a0\\u00a0\\u00a0\\u00a0\\u00a0\\u00a0\\u00a0\\u00a0\\u00a0\\u00a0\\u00a0\\u00a0\\u00a0\\u00a0\\u00a0\\u00a0\\u00a0\\u00a0\\u00a0\\u00a0\\u00a0\\u00a0\\u00a0\\u00a0\\u00a0\\u00a0\\u00a0\\u00a0\\u00a0\\u00a0\\u00a0\\u00a0\\u00a0\\u00a0\\u00a0\\u00a0\\u00a0\\u00a0\\u00a0\\u00a0\\u00a0\\u00a0\\u00a0\\u00a0\\u00a0\\u00a0\\u00a0\\u00a0\\u00a0\\u00a0\\u00a0\\u00a0\\u00a0\\u00a0\\u00a0\\u00a0Dekan\\u00a0\\n\\nVara\\u017edin,\\u00a019.\\u00a0srpnja\\u00a02011.\\u00a0g.\\u00a0\\u00a0\\n\\n\\u00a0\\u00a0\\u00a0\\u00a0\\u00a0\\u00a0\\u00a0\\u00a0\\u00a0\\u00a0\\u00a0\\u00a0\\u00a0\\u00a0\\u00a0\\u00a0\\u00a0\\u00a0\\u00a0\\u00a0\\u00a0\\u00a0\\u00a0\\u00a0\\u00a0\\u00a0\\u00a0\\u00a0\\u00a0\\u00a0\\u00a0\\u00a0\\u00a0\\u00a0\\u00a0\\u00a0\\u00a0\\u00a0\\u00a0\\u00a0\\u00a0\\u00a0\\u00a0\\u00a0\\u00a0\\u00a0\\u00a0\\u00a0\\u00a0\\u00a0\\u00a0\\u00a0\\u00a0\\u00a0\\u00a0\\u00a0\\u00a0\\u00a0\\u00a0\\u00a0\\u00a0\\u00a0\\u00a0\\u00a0Prof.dr.sc.\\u00a0Tihomir\\u00a0Hunjak\",\"url\":\"https://www.foi.unizg.hr/sites/default/files/politika_kvalitete_2011.pdf\"}]\n"
     ]
    }
   ],
   "source": [
    "!curl 'http://127.0.0.1:5000/search?query=politika+privatnosti&in=naslov'"
   ]
  },
  {
   "cell_type": "markdown",
   "id": "41dc97aa",
   "metadata": {},
   "source": [
    "### Pretraga po ključnim riječima u tekstu"
   ]
  },
  {
   "cell_type": "code",
   "execution_count": 41,
   "id": "e748dcf3",
   "metadata": {
    "scrolled": true
   },
   "outputs": [],
   "source": [
    "# !curl 'http://127.0.0.1:5000/search?query=popis&in=tekst'"
   ]
  },
  {
   "cell_type": "markdown",
   "id": "14a79d70",
   "metadata": {},
   "source": [
    "### Pretraga po datumu"
   ]
  },
  {
   "cell_type": "code",
   "execution_count": 42,
   "id": "45da5bee",
   "metadata": {
    "scrolled": true
   },
   "outputs": [
    {
     "name": "stderr",
     "output_type": "stream",
     "text": [
      "127.0.0.1 - - [04/Jan/2024 14:20:57] \"GET /documents/2023-12-01/2024-01-01 HTTP/1.1\" 200 -\n"
     ]
    },
    {
     "name": "stdout",
     "output_type": "stream",
     "text": [
      "[{\"datum\":\"Mon, 18 Dec 2023 00:00:00 GMT\",\"naslov_dokumenta\":\"Izmjenjena odluka POK-a 2023.\",\"putanja_datoteke\":\"./data/pdfs/odluka_o_izmjeni_odluke_pok_2023_10_12_0.pdf\",\"sifra_dokumenta\":1,\"tekstualni_sadrzaj\":\"KLASA: 602-04/23-06/1 \\nURBROJ: 2186-62-06-23-76 \\nVara\\u017edin, 19. listopada 2023. \\n\\nNa temelju \\u010dlanka 53. Statuta Sveu\\u010dili\\u0161ta u Zagrebu Fakulteta organizacije i informatike (dalje u \\ntekstu: Fakultet) i \\u010dlanka 8. i 9. Pravilnika o sustavu osiguravanja kvalitete Sveu\\u010dili\\u0161ta u Zagrebu \\nFakulteta organizacije i informatike (u daljnjem tekstu: Pravilnik), Fakultetsko vije\\u0107e Fakulteta, \\nna sjednici odr\\u017eanoj 19. listopada 2023. godine, donosi \\n\\nO D L U K U  \\n\\nI. \\nProf. dr. sc. Renata Mekovec imenuje se za predsjednicu Povjerenstva za osiguravanje kvalitete \\nSveu\\u010dili\\u0161ta  u  Zagrebu  Fakulteta  organizacije  i  informatike  (u  daljnjem  tekstu:  Povjerenstvo) \\numjesto dosada\\u0161njeg predsjednika prof. dr. sc. Zlatka Erjavca, a koji \\u0107e kao \\u010dlan Uprave Fakulteta \\ndjelovati u Povjerenstvu kao predstavnik Uprave i koordinator Povjerenstva.  \\n\\nProf.  dr.  sc.  Sandra  Lovren\\u010di\\u0107  imenuje  se  za  zamjenicu  predsjednice  Povjerenstva  umjesto \\ndosada\\u0161nje zamjenice predsjednika Povjerenstva prof. dr. sc. Renate Mekovec. \\n\\nStudentica Ana Novak imenuje se za \\u010dlanicu Povjerenstva umjesto Ivane Cindri\\u0107, studentice. \\n\\nPovjerenstvo djeluje u sljede\\u0107em sastavu:  \\n\\nII. \\n\\n1. \\n2. \\n3. \\n4. \\n5. \\n6. \\n7. \\n8. \\n9. \\n\\nProf. dr. sc. Renata Mekovec - predsjednica \\nProf. dr. sc. Sandra Lovren\\u010di\\u0107 \\u2013 zamjenica predsjednice \\nProf. dr. sc. Valentina Kirini\\u0107, \\u010dlanica \\nIzv. prof. dr. sc. Goran Hajdin \\u2013 \\u010dlan \\nIzv. prof. dr. sc. Iva Gregurec - \\u010dlanica  \\nDr. sc. Ivana \\u0110un\\u0111ek, vi\\u0161a asistentica - \\u010dlanica \\nMaja \\u0160alamun, mag. oec. - \\u010dlanica \\nAna Novak, studentica - \\u010dlanica  \\nTanja Bulbuk Jergovi\\u0107, predstavnik vanjskih dionika (Infinum) \\u2013 \\u010dlanica \\n\\nZadaci Povjerenstva definirani su \\u010dlanom 8. Pravilnika. \\n\\nMandat Predsjednika i \\u010dlanova Povjerenstva je \\u010detiri (4), a predstavnika studenata dvije (2) godine \\nsukladno odluci o imenovanju od 21. svibnja 2020. godine i odluci od 14. lipnja 2022. godine i \\ntraje do 21. svibnja 2024. godine. \\n\\nOsobom zadu\\u017eenom za pra\\u0107enje rada Povjerenstva imenovana je Nela Kiva\\u010d, mag. iur. \\n\\n \\n \\n \\n \\n \\n \\n \\n \\n \\n \\n \\n \\n\\fIII. \\nOvom odlukom mijenja se odluka od 21. svibnja 2020. godine i odluka od dana 14. lipnja 2022. \\ngodine. \\n\\nO b r a z l o \\u017e e n j e \\n\\nTemeljem  odredbi  Pravilnika  tijela  Fakulteta  odgovorna  za  sustav  osiguravanja  kvalitete  su \\nFakultetsko  vije\\u0107e  i  Povjerenstvo.  Ustroj  i  djelovanje  Povjerenstva  definirani  su  Pravilnikom. \\nOdlukom Fakultetskog vije\\u0107a od 21. svibnja 2020. godine bilo je imenovano Povjerenstvo te je \\n14.  lipnja  2022.  godine  prethodna  odluka  izmijenjena.  Budu\\u0107i  da  je  dosada\\u0161nji  predsjednik \\nPovjerenstva prof. dr. sc. Zlatko Erjavec postao \\u010dlan Uprave Fakulteta, nije vi\\u0161e mogao, sukladno \\nPravilniku,  biti  \\u010dlan  Povjerenstva  te  je  do\\u0161lo  do  potrebe  za  imenovanjem  nove  predsjednice \\nPovjerenstva prof. dr. sc. Renate Mekovec.  Nadalje, istekom mandata prodekanice prof. dr. sc. \\nSandre Lovren\\u010di\\u0107 bilo je potrebno imenovati novog predstavnika Uprave Fakulteta koji je  sada \\nujedno  i  koordinator  Povjerenstva.  Prof.  dr.  sc.  Sandra  Lovren\\u010di\\u0107  imenovana  je  za  zamjenicu \\npredsjednice,  obzirom  da  je  dosada\\u0161nja  zamjenica  predsjednika  Povjerenstva  sada  imenovana \\npredsjednicom  Povjerenstva.  Budu\\u0107i  da  je  dosada\\u0161njoj  \\u010dlanici  povjerenstva  studentici  Ivani \\nCindri\\u0107,  predstavnici  studenata,  prestao  mandat  do\\u0161lo  je  do  potrebe  za  imenovanjem  novog \\npredstavnika studenata u Povjerenstvo. \\n\\nMandat \\u010dlanova povjerenstva traje sukladno prethodnim odlukama. \\n\\nTemeljem navedenog donijeta je odluka kao u dispozitivu. \\n\\n D E K A N I C A :  \\n\\n         Prof. dr. sc. Marina Kla\\u010dmer \\u010calopa \\n\\nDostaviti: \\n\\n1.  \\u010clanovima povjerenstva \\n2.  Pismohrana\",\"url\":\"https://www.foi.unizg.hr/sites/default/files/odluka_o_izmjeni_odluke_pok_2023_10_12_0.pdf\"},{\"datum\":\"Tue, 12 Dec 2023 00:00:00 GMT\",\"naslov_dokumenta\":\"Odluka o raspisivanju izvanrednih izbora Studentskog zbora SUZGFOI\",\"putanja_datoteke\":\"./data/pdfs/odluka-izvanredni_izbori_za_studentski_zbor-sijecanj_2024.pdf\",\"sifra_dokumenta\":2,\"tekstualni_sadrzaj\":\"foj == =\\n\\nKLASA: 602-04/23-12/1\\nURBROJ: 2186-62.01-23-116\\nU Vara\\u017edinu, 11. prosinca 2023.\\n\\nTemeljem \\u010dlanka 14. stavak 4. Zakona o studentskom zboru i drugim studentskim\\norganizacijama (NN 71/2007) i \\u010dlanka 22. Statuta Sveu\\u010dili\\u0161ta u Zagrebu Fakulteta organizacije:\\ni informatike, donosi se sljede\\u0107a\\n\\nODLUKA\\no raspisivanju izvanrednih izbora za Studentski zbor Sveu\\u010dili\\u0161ta u Zagrebu Fakulteta\\norganizacije i informatike\\n\\nh\\nIzvanredni izbori za studentski zbor Sveu\\u010dili\\u0161ta u Zagrebu Fakulteta organizacije i informatike.\\nodr\\u017eat \\u0107e se u srijedu 17, sije\\u010dnja 2024. | u \\u010detvrtak 18. sije\\u010dnja 2024. godine.\\n\\nm\\nnje glasovanja odre\\u0111uje se svaki dan u vremenu od 8 do 20 sati\\n\\n \\n\\nOstali uvjeti | postupak izbora za studentski zbor utvr\\u0111eni su Pravilnikom o izborima za\\nStudentski zbor Sveu\\u010dili\\u0161ta u Zagrebu | studentske zborove njegovih sastavnica koji je donijela\\nSkup\\u0161tina studentskog zbora na sjednici odr\\u017eanoj 26. o\\u017eujka 2010. godine.\\n\\nm\\nOva Odluka stupa na snagu danom dono\\u0161enja,\\n\\nDostaviti:\\n1. Oglasna plo\\u010da\\n\\n2. Slu\\u017ebene web stranice Fakulteta\\n3. Pismohrana.\",\"url\":\"https://www.foi.unizg.hr/sites/default/files/odluka-izvanredni_izbori_za_studentski_zbor-sijecanj_2024.pdf\"},{\"datum\":\"Thu, 07 Dec 2023 00:00:00 GMT\",\"naslov_dokumenta\":\"Dnevni red Fakultetskog vije\\u0107a 07.12.2023.\",\"putanja_datoteke\":\"./data/pdfs/fv_dnevni_red_2023-12-07_3._sjednica.pdf\",\"sifra_dokumenta\":3,\"tekstualni_sadrzaj\":\"SVEU\\u010cILI\\u0160TE U ZAGREBU \\nFAKULTET ORGANIZACIJE I INFORMATIKE \\n\\nU Vara\\u017edinu, 30. studenoga 2023. \\n\\nNa  osnovi  \\u010dlanka  22.  Statuta  Sveu\\u010dili\\u0161ta  u  Zagrebu  Fakulteta  organizacije  i  informatike, \\nsazivam 3. sjednicu Fakultetskog vije\\u0107a u ak. god. 2023./2024. za: \\n\\n\\u010cETVRTAK, 07. prosinca 2023. \\n\\nSjednica \\u0107e se odr\\u017eati u dvorani 1 (FOI 1), s po\\u010detkom u 12:00 sati. \\n\\nZa sjednicu predla\\u017eem sljede\\u0107i \\n\\n1.  Verifikacija zaklju\\u010daka 2. sjednice FV \\n\\nDNEVNI RED: \\n\\n2.  Informacije dekanice \\n\\n3.  Nastava i studenti \\n\\nreferent: dr. sc. Zlatko Stapi\\u0107 \\n\\n4.  Studijski programi \\n\\nreferent: dr. sc. Zlatko Erjavec \\n\\n5.  Doktorski studiji \\n\\nreferentica: dr. sc. Diana \\u0160imi\\u0107 \\n\\n6.  Znanstvenoistra\\u017eiva\\u010dka djelatnost, projekti i me\\u0111unarodna suradnja \\n\\nreferentica: dr. sc. Marina Kla\\u010dmer \\u010calopa \\n\\n7.  Poslovanje i ljudski potencijali \\n\\n7.1. Imenovanje mentora suradnicima Fakulteta \\nreferent: dr. sc. Ivan Malba\\u0161i\\u0107 \\n\\n8.  Sustav osiguravanja kvalitete \\n\\nreferentica: dr. sc. Renata Mekovec \\n\\n9.  Odluka o imenovanju povjerenstva za izradu Strategije razvoja Fakulteta organizacije i \\n\\ninformatike  \\nreferentica: dr. sc. Marina Kla\\u010dmer \\u010calopa \\n\\n10. Informacije Studentskog zbora SUZG FOI-ja \\n\\nreferentica: Gloria Gali\\u0107  \\n\\n11. Imenovanje  Povjerenstva  za  ocjenu  podobnosti  kandidatkinje  i  pogodnosti  prijavljene \\n\\nteme doktorskog rada Snje\\u017eane Kri\\u017eani\\u0107 \\nreferentica: dr. sc. Marina Kla\\u010dmer \\u010calopa \\n\\n12. Izvje\\u0161\\u0107e s javnog razgovora Marinele Mokri\\u0161 \\n\\nreferentica: dr. sc. Jasminka Dob\\u0161a \\n\\n13. Pokretanje  postupka  reizbora  dr.  sc.  Bojana  \\u017dugeca  na  znanstveno\\u2013nastavno  radno \\nmjesto  docenta  za  podru\\u010dje  prirodnih  znanosti,  polje  matematika,  za  grupu  kolegija \\nvezanih uz podru\\u010dje matematike na Katedri za kvantitativne metode \\nreferentica: dr. sc. Marina Kla\\u010dmer \\u010calopa \\n\\n \\n \\n \\n \\n \\n \\n \\n \\n \\n \\n \\n \\n \\n \\n \\n \\n \\n \\n \\n \\n\\f14. Izvje\\u0161\\u0107e stru\\u010dnog povjerenstva za izbor dr. sc. Gorana Buba\\u0161a na znanstveno-nastavno \\nradno  mjesto  redovitog  profesora  u  trajnom  izboru  za  podru\\u010dje  dru\\u0161tvenih  znanosti, \\npolje  informacijske  i  komunikacijske  znanosti,  za  grupu  kolegija  vezanih  uz  podru\\u010dje \\nposlovnog komuniciranja na Katedri za organizaciju \\nreferent: dr. sc. Robert Fabac \\n\\n15. Izvje\\u0161\\u0107e stru\\u010dnog povjerenstva za izbor jednog nastavnika na znanstveno\\u2013nastavno radno \\nmjesto docenta za podru\\u010dje dru\\u0161tvenih  znanosti,  polje informacijske i komunikacijske \\nznanosti, za grupu kolegija vezanih uz podru\\u010dje programskog in\\u017eenjerstva na Katedri za \\nrazvoj informacijskih sustava \\nreferent: dr. sc. Zlatko Stapi\\u0107 \\n\\n16. Prihva\\u0107anje  teme  zavr\\u0161nog  specijalisti\\u010dkog  rada  i  imenovanje  Povjerenstva  za  ocjenu \\n\\nrada Luke Kobija (USIRIS) \\nreferentica: dr. sc. Renata Mekovec \\n\\n17. Ostala pitanja \\n\\nD E K A N I C A :  \\n\\nProf. dr. sc. Marina Kla\\u010dmer \\u010calopa\",\"url\":\"https://www.foi.unizg.hr/sites/default/files/fv_dnevni_red_2023-12-07_3._sjednica.pdf\"}]\n"
     ]
    }
   ],
   "source": [
    "# Svi dokumenti iz prosinca 2023.\n",
    "!curl http://127.0.0.1:5000/documents/2023-12-01/2024-01-01"
   ]
  },
  {
   "cell_type": "markdown",
   "id": "facdfb75",
   "metadata": {},
   "source": [
    "### Dohvaćanje dokumenta po šifri dokumenta"
   ]
  },
  {
   "cell_type": "code",
   "execution_count": 43,
   "id": "006bca87",
   "metadata": {},
   "outputs": [
    {
     "name": "stderr",
     "output_type": "stream",
     "text": [
      "127.0.0.1 - - [04/Jan/2024 14:20:59] \"GET /document/5 HTTP/1.1\" 200 -\n"
     ]
    },
    {
     "name": "stdout",
     "output_type": "stream",
     "text": [
      "{\"datum\":\"Mon, 20 Nov 2023 00:00:00 GMT\",\"naslov_dokumenta\":\"Popis gospodarskih subjekata s kojima se ne smije sklapati ugovor o javnoj nabavi\",\"putanja_datoteke\":\"./data/pdfs/popis_gs_u_sukobu_interesa_2023.pdf\",\"sifra_dokumenta\":5,\"tekstualni_sadrzaj\":\"foj s=> =\\n\\nKLASA: 303.02/23.02/2\\n(URBROJ: 2186-62.01.23-135\\nVara\\u017edin, 17. studenog 2023,\\n\\nTemeljem \\u010dlanka 80. st 2. to\\u010d. 1. Zakona o javnoj nabavi (Narodne novine broj 120/2016, 11412022),\\nFakultet organizacije i informatike Vara\\u017edin, Pavinska 2, OB: 02024882310 objavjuje.\\n\\nPOPIS GOSPODARSKIH SUBJEKATA S KOJIMA NE SMIJE SKLAPATI\\n(UGOVORE O JAVNOJ NABAVI\\n\\nU smislu \\u010danka 76. Zakona o javnoj nabavi (Narodne nov/ne br 20/2016, 1142022) i Ode Fakueta\\nomanizadje i nformatke Vara\\u017edin od dana 20.11.2018 godine, Klasa: 305.02/16-022, Uo: 21862.\\n0810179, sob interesa postoj sa sjede\\u0107im gospodarskim subekima\\n\\nTomi 00, E: Kvatemika 15, Vara\\u017edin, OIB: 6963033942\\n\\nQOPANALITIKA 600, Dravska uica 15, Vara\\u017edn, OIB: 68221757855\\n\\n'AGROPROTEINKA 44, Strojarska cesta 11, Sesvete, OB: B0695452345.\\n\\n'AGROPROTEINKA - ENERGIJA 400, Strojarska cesta 11, 10360 Sesvete, 08: 0174095121.\\n\\nGeoMTech 00. Ivana Rangera 18, 42000 Vara\\u017ein, OB: 32829890021\\n\\nMCS d00, Poljska 61, Strahoninec, OB: 71383013024\\n\\n48), obrt za informatku, Uka T. Me\\u0161kuina 26, Vara\\u017edin, OIB: 61414676968.\\n\\nShinySolutons, ori za ifemati\\u010de usluge i proetno savjetovanje, Nedeljanec, Vara\\u017edinska 23,\\n\\nVidovec, OIB: 3970657721\\n\\nInfo Job, obrt za informati\\u010dke usluge vi. Zlo Stapi\\u0107, M. Vidovi\\u0107 18, Vera\\u017ein, OIB: 91319642731.\\n\\n+ Semvam, obrt za knigovodstene usuge, vi. Jelena Stap\\u0107, M. Vidovi\\u0107 18, Vara\\u017edin, OB.\\n9802778317.\\n\\n+ DS Memorabila, obrt za trgovinu, vi. Dado Stagi\\u0107, Augusta \\u0160enoe 22, Zagreb, OIB: 42067542851\\n\\n+ To\\u010dkadoo, Bi\\u0161kupe\\u010dka 44b, Vara\\u017edin, OIB: 820384 12784\\n\\nSukladno zakonskoj obvezi ova se informacija objavljuje se na intemetskim stranicama naru\\u010dila\\n\\n       \\n\\no KAMICA\\nprob ase er \\u010calopa.\",\"url\":\"https://www.foi.unizg.hr/sites/default/files/popis_gs_u_sukobu_interesa_2023.pdf\"}\n"
     ]
    }
   ],
   "source": [
    "!curl http://127.0.0.1:5000/document/5"
   ]
  },
  {
   "cell_type": "markdown",
   "id": "69d272d4",
   "metadata": {},
   "source": [
    "### Dodavanje novog dokumenta"
   ]
  },
  {
   "cell_type": "code",
   "execution_count": 44,
   "id": "05e18ec9",
   "metadata": {},
   "outputs": [
    {
     "name": "stderr",
     "output_type": "stream",
     "text": [
      "127.0.0.1 - - [04/Jan/2024 14:21:01] \"\u001b[35m\u001b[1mPOST /documents HTTP/1.1\u001b[0m\" 201 -\n"
     ]
    },
    {
     "name": "stdout",
     "output_type": "stream",
     "text": [
      "{\"message\":\"Document added successfully\"}\n"
     ]
    }
   ],
   "source": [
    "# POST\n",
    "!curl -X POST http://127.0.0.1:5000/documents \\\n",
    "-H \"Content-Type: application/json\" \\\n",
    "-d '{\"url\": \"http://example.com/document.pdf\", \"datum\": \"2023-12-28T00:00:00\", \"naslov_dokumenta\": \"Primjer dokumenta\", \"tekstualni_sadrzaj\": \"Ovo je sadržaj primjera dokumenta.\", \"putanja_datoteke\": \"/putanja/do/dokumenta.pdf\"}'"
   ]
  },
  {
   "cell_type": "code",
   "execution_count": 45,
   "id": "5241d02d",
   "metadata": {},
   "outputs": [
    {
     "name": "stderr",
     "output_type": "stream",
     "text": [
      "127.0.0.1 - - [04/Jan/2024 14:21:03] \"GET /document/869 HTTP/1.1\" 200 -\n"
     ]
    },
    {
     "name": "stdout",
     "output_type": "stream",
     "text": [
      "{\"datum\":\"Thu, 28 Dec 2023 00:00:00 GMT\",\"naslov_dokumenta\":\"Primjer dokumenta\",\"putanja_datoteke\":\"/putanja/do/dokumenta.pdf\",\"sifra_dokumenta\":869,\"tekstualni_sadrzaj\":\"Ovo je sadr\\u017eaj primjera dokumenta.\",\"url\":\"http://example.com/document.pdf\"}\n"
     ]
    }
   ],
   "source": [
    "# dohvaćanje dodanog dokumenta\n",
    "!curl http://127.0.0.1:5000/document/869"
   ]
  },
  {
   "cell_type": "markdown",
   "id": "97fc7519",
   "metadata": {},
   "source": [
    "### Ažuriranje dokumenta"
   ]
  },
  {
   "cell_type": "code",
   "execution_count": 46,
   "id": "c4886805",
   "metadata": {},
   "outputs": [
    {
     "name": "stderr",
     "output_type": "stream",
     "text": [
      "127.0.0.1 - - [04/Jan/2024 14:21:05] \"PUT /documents/869 HTTP/1.1\" 200 -\n"
     ]
    },
    {
     "name": "stdout",
     "output_type": "stream",
     "text": [
      "{\"message\":\"Document updated successfully\"}\n"
     ]
    }
   ],
   "source": [
    "# PUT\n",
    "!curl -X PUT http://127.0.0.1:5000/documents/869 \\\n",
    "-H \"Content-Type: application/json\" \\\n",
    "-d '{\"url\": \"http://newexample.com/document.pdf\", \"datum\": \"2023-12-28T00:00:00\", \"naslov_dokumenta\": \"Updated Document Title\", \"tekstualni_sadrzaj\": \"Updated content of the document.\", \"putanja_datoteke\": \"/new/path/to/document.pdf\"}'"
   ]
  },
  {
   "cell_type": "code",
   "execution_count": 47,
   "id": "f25f0bf3",
   "metadata": {},
   "outputs": [
    {
     "name": "stderr",
     "output_type": "stream",
     "text": [
      "127.0.0.1 - - [04/Jan/2024 14:21:05] \"GET /document/869 HTTP/1.1\" 200 -\n"
     ]
    },
    {
     "name": "stdout",
     "output_type": "stream",
     "text": [
      "{\"datum\":\"Thu, 28 Dec 2023 00:00:00 GMT\",\"naslov_dokumenta\":\"Updated Document Title\",\"putanja_datoteke\":\"/new/path/to/document.pdf\",\"sifra_dokumenta\":869,\"tekstualni_sadrzaj\":\"Updated content of the document.\",\"url\":\"http://newexample.com/document.pdf\"}\n"
     ]
    }
   ],
   "source": [
    "# dohvaćanje ažuriranog dokumenta\n",
    "!curl http://127.0.0.1:5000/document/869"
   ]
  },
  {
   "cell_type": "markdown",
   "id": "6083d99e",
   "metadata": {},
   "source": [
    "### Brisanje dokumenta"
   ]
  },
  {
   "cell_type": "code",
   "execution_count": 48,
   "id": "2c23703a",
   "metadata": {},
   "outputs": [
    {
     "name": "stderr",
     "output_type": "stream",
     "text": [
      "127.0.0.1 - - [04/Jan/2024 14:21:08] \"DELETE /documents/869 HTTP/1.1\" 200 -\n"
     ]
    },
    {
     "name": "stdout",
     "output_type": "stream",
     "text": [
      "{\"message\":\"Document deleted successfully\"}\n"
     ]
    }
   ],
   "source": [
    "!curl -X DELETE http://127.0.0.1:5000/documents/869"
   ]
  },
  {
   "cell_type": "markdown",
   "id": "5abb922b",
   "metadata": {},
   "source": [
    "## Kritički osvrt"
   ]
  },
  {
   "cell_type": "markdown",
   "id": "e7562292",
   "metadata": {},
   "source": [
    "### Praktična izvedivost"
   ]
  },
  {
   "cell_type": "markdown",
   "id": "6e6ddab1",
   "metadata": {},
   "source": [
    "1. **Skalabilnost**: Dok Flask nudi jednostavnost i fleksibilnost, potrebno je razmotriti njegovu skalabilnost, posebno ako se očekuje povećanje broja korisnika i zahtjeva. U tom slučaju, može biti potrebno razmisliti o korištenju asinkronih funkcija ili prelasku na robustniji web *framework*.\n",
    "\n",
    "2. **Osiguranje performansi**: Ovisno o veličini i kompleksnosti baze podataka, učitavanje i pretprocesiranje podataka za svaku pretragu mogu utjecati na performanse. Optimizacija upita i korištenje *caching* mehanizama može pomoći u smanjenju vremena odziva."
   ]
  },
  {
   "cell_type": "markdown",
   "id": "714b50b9",
   "metadata": {},
   "source": [
    "### Primjena"
   ]
  },
  {
   "cell_type": "markdown",
   "id": "01662f83",
   "metadata": {},
   "source": [
    "1. **Akademska i istraživačka zajednica**: Aplikacija je korisna za studente, istraživače, nastavnike i djelatnike FOI-a, omogućujući im brz pristup relevantnim dokumentima. \n",
    "\n",
    "2. **Digitalna arhiviranja**: Aplikacija može poslužiti kao model za digitalno arhiviranje i upravljanje dokumentacijom, s mogućnošću prilagodbe za različite vrste arhiva.\n",
    "\n",
    "3. **Ekspanzija funkcionalnosti**: Postoje mogućnosti za daljnje proširenje funkcionalnosti, poput integracije s drugim digitalnim resursima, razvoja korisničkih sučelja za lakšu navigaciju, ili implementacije dodatnih alata za obradu i analizu teksta."
   ]
  },
  {
   "cell_type": "markdown",
   "id": "3039fa07",
   "metadata": {},
   "source": [
    "## Zaključak"
   ]
  },
  {
   "cell_type": "markdown",
   "id": "9b1f6229",
   "metadata": {},
   "source": [
    "Projekt razvoja sustava za preuzimanje, analizu i pristup dokumentima Fakulteta organizacije i informatike predstavlja značajan korak u digitalizaciji i upravljanju dokumentima. Uspješno implementirana funkcionalnost preuzimanja PDF dokumenata s web stranice fakulteta i njihovo pohranjivanje u lokalnu SQLite bazu podataka omogućuje efikasno upravljanje i brzi pristup informacijama. Posebno je značajno što sustav podržava različite vrste PDF dokumenata. \n",
    "\n",
    "Implementacija REST API-ja s funkcijama pretraživanja po ključnim riječima, naslovima, datumima i izlistavanjem svih dokumenata pruža korisnicima lagan i intuitivan pristup bazi podataka. Ovaj projekt ne samo da poboljšava dostupnost i organizaciju dokumentacije, već postavlja temelje za daljnje unaprjeđenje, integraciju s drugim digitalnim alatima i sustavima kao i izgradnju *user friendly* korisničkog sučelja za upravljanje dokumentacijom."
   ]
  },
  {
   "cell_type": "markdown",
   "id": "14cbe0e4",
   "metadata": {},
   "source": [
    "# Literatura"
   ]
  },
  {
   "cell_type": "markdown",
   "id": "804c948c",
   "metadata": {},
   "source": [
    "[1] W. McKinney, Python for Data Analysis: Data Wrangling with Pandas, NumPy, and Jupyter, 3rd ed. Sebastopol, CA: O'Reilly Media, Incorporated, 2022. ISBN: 978-1098104030. Dostupno na: https://wesmckinney.com/book/\n",
    "\n",
    "[2] Concurrent.futures — Pokretanje paralelnih zadataka — Python 3.12.1 dokumentacija,\" Python.org. [Online]. Dostupno na: https://docs.python.org/3/library/concurrent.futures.html. [Pristupljeno: 01. siječnja 2024.].\n",
    "\n",
    "[3] \n",
    "John Watson Rooney, \"How I Scrape multiple pages on Amazon with Python, Requests & BeautifulSoup,\" YouTube, [Online Video]. Dostupno na: https://www.youtube.com/watch?v=4VfqVpTz4Q4. [Pristupljeno: 29. prosinca 2023.].\n",
    "\n",
    "[4] Pandas documentation,\" pandas.pydata.org. [Online]. Dostupno na: https://pandas.pydata.org/docs/reference/. [Pristupljeno: 01. siječnja 2024.]."
   ]
  }
 ],
 "metadata": {
  "kernelspec": {
   "display_name": "Python 3 (ipykernel)",
   "language": "python",
   "name": "python3"
  },
  "language_info": {
   "codemirror_mode": {
    "name": "ipython",
    "version": 3
   },
   "file_extension": ".py",
   "mimetype": "text/x-python",
   "name": "python",
   "nbconvert_exporter": "python",
   "pygments_lexer": "ipython3",
   "version": "3.10.12"
  }
 },
 "nbformat": 4,
 "nbformat_minor": 5
}
