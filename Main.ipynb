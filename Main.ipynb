{
 "cells": [
  {
   "cell_type": "markdown",
   "id": "a41ead12-0d94-4d08-983d-b8b4320b353a",
   "metadata": {},
   "source": [
    "# Zadatak"
   ]
  },
  {
   "cell_type": "markdown",
   "id": "dcdaf0b4-0a8a-4728-bed8-418247dbc84c",
   "metadata": {},
   "source": [
    "Na adresi https://www.foi.unizg.hr/hr/dokumenti nalazi se baza dokumenata Fakulteta organizacije i informatike. Većina dokumenata zadana je u PDF formatu, no neki od dokumenata su čitki (vektorski format) dok su drugi skenirani (rasterski format). Potrebno je:\n",
    "1) Implementirati program koji će skinuti sve PDF dokumente na lokalno računalo (ili Google Colab / Drive direktorij)\n",
    "2) Kreirati bazu podataka (SQLite) koja će sadržavati jednu tablicu \"dokument\". Tablica treba sadržavati šifru dokumenta (autonumber), naslov dokumenta, putanju datoteke (path i filename na lokalnom računalu), URL adresu s koje je dokument skinut, datum, te tekstualni sadržaj dokumenta.\n",
    "3) Posebno za zadnje polje u tablici potrebno je svaki dokument učitati i ekstrahirati tekst (primjerice putem Python modula PDFMiner - https://github.com/pdfminer/pdfminer.six). Ukoliko je dokument skeniran potrebno je koristiti odgovarajući OCR modul za ekstrakciju teksta (npr. PyTesseract https://pypi.org/project/pytesseract/).\n",
    "4) Omogućiti pristup skupu podataka putem REST API-ja koji omogućuje isključivo pretraživanje podataka putem:(a) pretraživanja ključnih riječi u tekstu (npr. boolean search), (b) pretraživanje ključnih riječi u naslovu (c) pregled prema datumu (npr. dokumenti od DATUM do DATUM), (d) izlistavanje svih dokumenata."
   ]
  },
  {
   "cell_type": "markdown",
   "id": "2e68a3b4-55d3-479c-bf0f-1869abb1df82",
   "metadata": {},
   "source": [
    "# Prikupljanje podataka"
   ]
  },
  {
   "cell_type": "code",
   "execution_count": 1,
   "id": "64da7c03-2c3e-4e6a-b590-da1c9f01f41d",
   "metadata": {},
   "outputs": [],
   "source": [
    "!mkdir -p data/pdfs data/dummy_data"
   ]
  },
  {
   "cell_type": "code",
   "execution_count": 84,
   "id": "46496a2f-5af6-4bfa-b980-3a4c01a39a5d",
   "metadata": {},
   "outputs": [],
   "source": [
    "import os\n",
    "import sys\n",
    "import csv\n",
    "import datetime\n",
    "import time\n",
    "\n",
    "import requests\n",
    "from bs4 import BeautifulSoup\n",
    "from requests_html import HTMLSession\n",
    "\n",
    "import numpy as np\n",
    "import pandas as pd\n",
    "\n",
    "from sqlalchemy import (create_engine, MetaData, Table, Column, Integer, \n",
    "                        String, Double, DateTime, insert, select, update, delete)\n",
    "\n",
    "from PyPDF2 import PdfReader\n",
    "from pdfminer.high_level import extract_text\n",
    "from pytesseract import image_to_string\n",
    "from PIL import Image\n",
    "from pdf2image import convert_from_path"
   ]
  },
  {
   "cell_type": "code",
   "execution_count": 2,
   "id": "6f7a2ba9-6f05-4484-b76f-e4bd23d86640",
   "metadata": {},
   "outputs": [],
   "source": [
    "s = HTMLSession()\n",
    "\n",
    "def get_data(url, timeout=3, max_retries=3):\n",
    "    retries = 0\n",
    "    while retries < max_retries:\n",
    "        try:\n",
    "            response = s.get(url, timeout=timeout)\n",
    "            soup = BeautifulSoup(response.text, 'html.parser')\n",
    "            return soup\n",
    "        except requests.exceptions.Timeout:\n",
    "            print(f\"Request timed out for URL: {url}. Retrying ({retries + 1}/{max_retries})...\")\n",
    "            retries += 1\n",
    "        except requests.exceptions.RequestException as e:\n",
    "            print(f\"Error during request to {url}: {e}\")\n",
    "            break  # Break the loop on non-timeout errors\n",
    "\n",
    "    print(f\"Failed to fetch data from {url} after {max_retries} retries.\")\n",
    "    return None"
   ]
  },
  {
   "cell_type": "markdown",
   "id": "1d2ed276-74d2-403c-852f-a2d253fd7ef1",
   "metadata": {},
   "source": [
    "## Downloading PDF"
   ]
  },
  {
   "cell_type": "code",
   "execution_count": 3,
   "id": "f5175c09-6a23-4a7c-824e-d5bb3ae54e73",
   "metadata": {},
   "outputs": [],
   "source": [
    "def download_pdf2(url, path, max_retries=3):\n",
    "    '''\n",
    "    Download a document from a given URL to a specified directory.\n",
    "    URL format: /sites/default/files/[document_name].pdf\n",
    "    '''\n",
    "    retries = 0\n",
    "    while retries < max_retries:\n",
    "        try:\n",
    "            response = s.get(url)\n",
    "            response.raise_for_status()  # Checks for HTTP errors\n",
    "\n",
    "            file_name = url.split('/')[-1]\n",
    "            file_path = os.path.join(path, file_name)\n",
    "\n",
    "            with open(file_path, 'wb') as f:\n",
    "                f.write(response.content)\n",
    "\n",
    "            print(f\"Success: {file_path}\")\n",
    "            break  # Exit loop on successful download\n",
    "        except requests.exceptions.RequestException as e:\n",
    "            print(f\"Attempt {retries + 1} failed: {e}\")\n",
    "            retries += 1\n",
    "\n",
    "    if retries == max_retries:\n",
    "        print(f\"Failed to download file from {url} after {max_retries} retries.\")"
   ]
  },
  {
   "cell_type": "code",
   "execution_count": 4,
   "id": "ed5f10a8-4589-405a-8a06-d08e5f5cad0e",
   "metadata": {},
   "outputs": [],
   "source": [
    "# fixed version\n",
    "def download_pdf(url, path, max_retries=3, timeout=10):\n",
    "    '''\n",
    "    Download a document from a given URL to a specified directory.\n",
    "    URL format: /sites/default/files/[document_name].pdf\n",
    "    '''\n",
    "    retries = 0\n",
    "    backoff = 1  # Initial backoff duration in seconds\n",
    "\n",
    "    while retries < max_retries:\n",
    "        try:\n",
    "            # Check response headers before downloading the full content\n",
    "            with s.get(url, stream=True, timeout=timeout) as r:\n",
    "                r.raise_for_status()  # Checks for HTTP errors\n",
    "\n",
    "                file_name = url.split('/')[-1]\n",
    "                file_path = os.path.join(path, file_name)\n",
    "\n",
    "                with open(file_path, 'wb') as f:\n",
    "                    for chunk in r.iter_content(chunk_size=8192):\n",
    "                        if chunk:  # Filter out keep-alive chunks\n",
    "                            f.write(chunk)\n",
    "\n",
    "            print(f\"Success: {file_path}\")\n",
    "            break  # Exit loop on successful download\n",
    "        except requests.exceptions.RequestException as e:\n",
    "            print(f\"Attempt {retries + 1} failed: {e}\")\n",
    "            sleep(backoff)  # Wait before retrying\n",
    "            backoff *= 2  # Exponential backoff\n",
    "            retries += 1\n",
    "\n",
    "    if retries == max_retries:\n",
    "        print(f\"Failed to download file from {url} after {max_retries} retries.\")"
   ]
  },
  {
   "cell_type": "markdown",
   "id": "8308651a-c717-4ac1-b45a-cc4cb74b6d67",
   "metadata": {},
   "source": [
    "## Creating a CSV data entry/extracting useful fields"
   ]
  },
  {
   "cell_type": "code",
   "execution_count": 5,
   "id": "4091e1d0-9f70-457c-9194-cbbeb465a595",
   "metadata": {},
   "outputs": [],
   "source": [
    "# fix try except\n",
    "\n",
    "def get_metadata2(url):\n",
    "    '''\n",
    "        Dohvaca meta podatke za zapis sa dane url adrese (/hr/dokument/[ime_dokumenta])\n",
    "    '''\n",
    "\n",
    "    soup = get_data(url)\n",
    "\n",
    "    if not soup:\n",
    "        return (None,) * 5\n",
    "        \n",
    "    try:\n",
    "        link1 = soup.find('a', href=True, type=lambda value: value and 'application/pdf' in value)['href']\n",
    "        datum = soup.find('div', class_ = 'datum').text\n",
    "        datum = datum.strip().split('Kreirano: ')[1]\n",
    "    except:\n",
    "        link1 = None\n",
    "        datum = None\n",
    "\n",
    "    fields = soup.find_all('div', class_ = 'field-item even')\n",
    "    for i in range(len(fields)):\n",
    "        fields[i] = fields[i].text.strip()\n",
    "    \n",
    "    ime_datoteke = fields[0]\n",
    "\n",
    "    # U slucaju da nema vrste i kategorije dokumenta\n",
    "    try:\n",
    "        vrsta_dokumenta = fields[1]\n",
    "        kategorija_dokumenta = fields[2]\n",
    "    except:\n",
    "        vrsta_dokumenta = None\n",
    "        kategorija_dokumenta = None\n",
    "\n",
    "    return ime_datoteke, link1, datum, vrsta_dokumenta, kategorija_dokumenta"
   ]
  },
  {
   "cell_type": "code",
   "execution_count": 6,
   "id": "675f8d71-7ff9-41e4-8a1e-4611cff5b447",
   "metadata": {},
   "outputs": [],
   "source": [
    "# fixed version\n",
    "def get_metadata(url):\n",
    "    '''\n",
    "        Dohvaca meta podatke za zapis sa dane url adrese (/hr/dokument/[ime_dokumenta])\n",
    "    '''\n",
    "    soup = get_data(url)\n",
    "\n",
    "    if not soup:\n",
    "        return (None,) * 5\n",
    "\n",
    "    ime_datoteke, link1, datum, vrsta_dokumenta, kategorija_dokumenta = (None,) * 5\n",
    "\n",
    "    try:\n",
    "        link_element = soup.find('a', href=True, type=lambda value: value and 'application/pdf' in value)\n",
    "        if link_element:\n",
    "            link1 = link_element['href']\n",
    "\n",
    "        datum_element = soup.find('div', class_='datum')\n",
    "        if datum_element:\n",
    "            datum_text = datum_element.text.strip()\n",
    "            datum = datum_text.split('Kreirano: ')[1] if 'Kreirano: ' in datum_text else None\n",
    "\n",
    "        fields = soup.find_all('div', class_='field-item even')\n",
    "        if fields:\n",
    "            ime_datoteke = fields[0].text.strip() if len(fields) > 0 else None\n",
    "            vrsta_dokumenta = fields[1].text.strip() if len(fields) > 1 else None\n",
    "            kategorija_dokumenta = fields[2].text.strip() if len(fields) > 2 else None\n",
    "\n",
    "    except Exception as e:\n",
    "        print(\"Error while extracting data:\", e)\n",
    "\n",
    "    return ime_datoteke, link1, datum, vrsta_dokumenta, kategorija_dokumenta"
   ]
  },
  {
   "cell_type": "code",
   "execution_count": 7,
   "id": "4b9d7d4a-fc26-44c8-88a6-d8919d013d1e",
   "metadata": {},
   "outputs": [
    {
     "data": {
      "text/plain": [
       "('odluka_o_izmjeni_odluke_pok_2023_10_12.pdf',\n",
       " 'https://www.foi.unizg.hr/sites/default/files/odluka_o_izmjeni_odluke_pok_2023_10_12_0.pdf',\n",
       " '18.12.2023',\n",
       " 'Odluka',\n",
       " 'Kvaliteta')"
      ]
     },
     "execution_count": 7,
     "metadata": {},
     "output_type": "execute_result"
    }
   ],
   "source": [
    "metadata = get_metadata('https://www.foi.unizg.hr/hr/dokument/izmjenjena-odluka-pok-2023')\n",
    "metadata"
   ]
  },
  {
   "cell_type": "code",
   "execution_count": 8,
   "id": "4e15c970-4b6b-4eb2-b6fc-9ae12277083d",
   "metadata": {},
   "outputs": [
    {
     "data": {
      "text/plain": [
       "('odluka_o_izmjeni_odluke_pok_2023_10_12.pdf',\n",
       " 'https://www.foi.unizg.hr/sites/default/files/odluka_o_izmjeni_odluke_pok_2023_10_12_0.pdf',\n",
       " '18.12.2023',\n",
       " 'Odluka',\n",
       " 'Kvaliteta')"
      ]
     },
     "execution_count": 8,
     "metadata": {},
     "output_type": "execute_result"
    }
   ],
   "source": [
    "metadata = get_metadata2('https://www.foi.unizg.hr/hr/dokument/izmjenjena-odluka-pok-2023')\n",
    "metadata"
   ]
  },
  {
   "cell_type": "markdown",
   "id": "92f70302-add4-4419-9b37-01229f778025",
   "metadata": {},
   "source": [
    "## Handling pagination and going through document on the main pages"
   ]
  },
  {
   "cell_type": "code",
   "execution_count": 9,
   "id": "e0932608-d4e8-4351-be04-a9c7d88604d1",
   "metadata": {},
   "outputs": [],
   "source": [
    "def extract_links(span_list):\n",
    "    return [(span.find('a', href = True, target = False)['href'], span.text) for span in span_list]"
   ]
  },
  {
   "cell_type": "code",
   "execution_count": 10,
   "id": "df4698d7-3e74-43af-a599-2f40300b3342",
   "metadata": {},
   "outputs": [],
   "source": [
    "soup = get_data('https://www.foi.unizg.hr/hr/dokumenti')\n",
    "spans = soup.find_all('span', class_ = 'field-content') if soup else None"
   ]
  },
  {
   "cell_type": "code",
   "execution_count": 11,
   "id": "465347b3-9be8-4f6a-b13a-035c9b8aa1f3",
   "metadata": {
    "scrolled": true
   },
   "outputs": [
    {
     "data": {
      "text/plain": [
       "[('/hr/dokument/izmjenjena-odluka-pok-2023', 'Izmjenjena odluka POK-a 2023.'),\n",
       " ('/hr/dokument/odluka-o-raspisivanju-izvanrednih-izbora-studentskog-zbora-suzgfoi',\n",
       "  'Odluka o raspisivanju izvanrednih izbora Studentskog zbora SUZGFOI'),\n",
       " ('/hr/dokument/posebni-dio-financijskog-plana-2024-2026',\n",
       "  'Posebni dio financijskog plana 2024-2026'),\n",
       " ('/hr/dokument/opci-dio-prijedlog-financijskog-plana-2024-2026',\n",
       "  'Opći dio - prijedlog financijskog plana 2024-2026'),\n",
       " ('/hr/dokument/obrazlozenje-posebnog-dijela-financijskog-plana-2024-2026',\n",
       "  'Obrazloženje posebnog dijela financijskog plana 2024-2026'),\n",
       " ('/hr/dokument/obrazlozenje-opceg-dijela-financijskog-plana-2024-2026',\n",
       "  'Obrazloženje općeg dijela financijskog plana 2024-2026'),\n",
       " ('/hr/dokument/dnevni-red-fakultetskog-vijeca-07122023',\n",
       "  'Dnevni red Fakultetskog vijeća 07.12.2023.'),\n",
       " ('/hr/dokument/politika-privatnosti-foi-ja', 'Politika privatnosti FOI-ja'),\n",
       " ('/hr/dokument/popis-gospodarskih-subjekata-s-kojima-se-ne-smije-sklapati-ugovor-o-javnoj-nabavi',\n",
       "  'Popis gospodarskih subjekata s kojima se ne smije sklapati ugovor o javnoj nabavi'),\n",
       " ('/hr/dokument/zakljucak-fakultetskog-vijeca-16112023',\n",
       "  'Zaključak Fakultetskog vijeća 16.11.2023.')]"
      ]
     },
     "execution_count": 11,
     "metadata": {},
     "output_type": "execute_result"
    }
   ],
   "source": [
    "extract_links(spans)"
   ]
  },
  {
   "cell_type": "markdown",
   "id": "baec17c8-6de3-4d39-8c69-8d37e8e6e71f",
   "metadata": {},
   "source": [
    "### Handling pagination"
   ]
  },
  {
   "cell_type": "code",
   "execution_count": 12,
   "id": "b4b9aa5d-57cd-4737-8e13-fef4b730c137",
   "metadata": {},
   "outputs": [],
   "source": [
    "soup = get_data('https://www.foi.unizg.hr/hr/dokumenti')"
   ]
  },
  {
   "cell_type": "code",
   "execution_count": 13,
   "id": "545d96d0-20fa-42ed-8f57-d91b2c3cd90d",
   "metadata": {},
   "outputs": [],
   "source": [
    "def get_next_page(soup):\n",
    "    root_url = 'https://www.foi.unizg.hr'\n",
    "    page = soup.find('ul', class_ = 'pager')\n",
    "    next_btn = page.find('li', class_ = 'pager-next')\n",
    "    if next_btn:\n",
    "        url = root_url + str(next_btn.find('a')['href'])\n",
    "        return url\n",
    "    else:\n",
    "        return None"
   ]
  },
  {
   "cell_type": "code",
   "execution_count": 14,
   "id": "d9611501-5431-43d6-903b-31917c18b8f5",
   "metadata": {
    "scrolled": true
   },
   "outputs": [],
   "source": [
    "def get_urls(url):\n",
    "    urls = []\n",
    "\n",
    "    while True:\n",
    "\n",
    "        soup = get_data(url)\n",
    "\n",
    "        url = get_next_page(soup)\n",
    "        if not url:\n",
    "            break\n",
    "    \n",
    "        print(f'Appending {url}')\n",
    "        urls.append(url)\n",
    "        \n",
    "    return urls"
   ]
  },
  {
   "cell_type": "code",
   "execution_count": 15,
   "id": "8ffdb5c1-bbe6-4843-961d-37634eb24830",
   "metadata": {
    "scrolled": true
   },
   "outputs": [
    {
     "name": "stdout",
     "output_type": "stream",
     "text": [
      "Appending https://www.foi.unizg.hr/hr/dokumenti?page=1\n",
      "Appending https://www.foi.unizg.hr/hr/dokumenti?page=2\n",
      "Appending https://www.foi.unizg.hr/hr/dokumenti?page=3\n",
      "Appending https://www.foi.unizg.hr/hr/dokumenti?page=4\n",
      "Appending https://www.foi.unizg.hr/hr/dokumenti?page=5\n",
      "Appending https://www.foi.unizg.hr/hr/dokumenti?page=6\n",
      "Appending https://www.foi.unizg.hr/hr/dokumenti?page=7\n",
      "Appending https://www.foi.unizg.hr/hr/dokumenti?page=8\n",
      "Appending https://www.foi.unizg.hr/hr/dokumenti?page=9\n",
      "Appending https://www.foi.unizg.hr/hr/dokumenti?page=10\n",
      "Appending https://www.foi.unizg.hr/hr/dokumenti?page=11\n",
      "Appending https://www.foi.unizg.hr/hr/dokumenti?page=12\n",
      "Appending https://www.foi.unizg.hr/hr/dokumenti?page=13\n",
      "Appending https://www.foi.unizg.hr/hr/dokumenti?page=14\n",
      "Appending https://www.foi.unizg.hr/hr/dokumenti?page=15\n",
      "Appending https://www.foi.unizg.hr/hr/dokumenti?page=16\n",
      "Appending https://www.foi.unizg.hr/hr/dokumenti?page=17\n",
      "Appending https://www.foi.unizg.hr/hr/dokumenti?page=18\n",
      "Appending https://www.foi.unizg.hr/hr/dokumenti?page=19\n",
      "Appending https://www.foi.unizg.hr/hr/dokumenti?page=20\n",
      "Appending https://www.foi.unizg.hr/hr/dokumenti?page=21\n",
      "Appending https://www.foi.unizg.hr/hr/dokumenti?page=22\n",
      "Appending https://www.foi.unizg.hr/hr/dokumenti?page=23\n",
      "Appending https://www.foi.unizg.hr/hr/dokumenti?page=24\n",
      "Appending https://www.foi.unizg.hr/hr/dokumenti?page=25\n",
      "Appending https://www.foi.unizg.hr/hr/dokumenti?page=26\n",
      "Appending https://www.foi.unizg.hr/hr/dokumenti?page=27\n",
      "Appending https://www.foi.unizg.hr/hr/dokumenti?page=28\n",
      "Appending https://www.foi.unizg.hr/hr/dokumenti?page=29\n",
      "Appending https://www.foi.unizg.hr/hr/dokumenti?page=30\n",
      "Appending https://www.foi.unizg.hr/hr/dokumenti?page=31\n",
      "Appending https://www.foi.unizg.hr/hr/dokumenti?page=32\n",
      "Appending https://www.foi.unizg.hr/hr/dokumenti?page=33\n",
      "Appending https://www.foi.unizg.hr/hr/dokumenti?page=34\n",
      "Appending https://www.foi.unizg.hr/hr/dokumenti?page=35\n",
      "Appending https://www.foi.unizg.hr/hr/dokumenti?page=36\n",
      "Appending https://www.foi.unizg.hr/hr/dokumenti?page=37\n",
      "Appending https://www.foi.unizg.hr/hr/dokumenti?page=38\n",
      "Appending https://www.foi.unizg.hr/hr/dokumenti?page=39\n",
      "Appending https://www.foi.unizg.hr/hr/dokumenti?page=40\n",
      "Appending https://www.foi.unizg.hr/hr/dokumenti?page=41\n",
      "Appending https://www.foi.unizg.hr/hr/dokumenti?page=42\n",
      "Appending https://www.foi.unizg.hr/hr/dokumenti?page=43\n",
      "Appending https://www.foi.unizg.hr/hr/dokumenti?page=44\n",
      "Appending https://www.foi.unizg.hr/hr/dokumenti?page=45\n",
      "Appending https://www.foi.unizg.hr/hr/dokumenti?page=46\n",
      "Appending https://www.foi.unizg.hr/hr/dokumenti?page=47\n",
      "Appending https://www.foi.unizg.hr/hr/dokumenti?page=48\n",
      "Appending https://www.foi.unizg.hr/hr/dokumenti?page=49\n",
      "Appending https://www.foi.unizg.hr/hr/dokumenti?page=50\n",
      "Appending https://www.foi.unizg.hr/hr/dokumenti?page=51\n",
      "Appending https://www.foi.unizg.hr/hr/dokumenti?page=52\n",
      "Appending https://www.foi.unizg.hr/hr/dokumenti?page=53\n",
      "Appending https://www.foi.unizg.hr/hr/dokumenti?page=54\n",
      "Appending https://www.foi.unizg.hr/hr/dokumenti?page=55\n",
      "Appending https://www.foi.unizg.hr/hr/dokumenti?page=56\n",
      "Appending https://www.foi.unizg.hr/hr/dokumenti?page=57\n",
      "Appending https://www.foi.unizg.hr/hr/dokumenti?page=58\n",
      "Appending https://www.foi.unizg.hr/hr/dokumenti?page=59\n",
      "Appending https://www.foi.unizg.hr/hr/dokumenti?page=60\n",
      "Appending https://www.foi.unizg.hr/hr/dokumenti?page=61\n",
      "Appending https://www.foi.unizg.hr/hr/dokumenti?page=62\n",
      "Appending https://www.foi.unizg.hr/hr/dokumenti?page=63\n",
      "Appending https://www.foi.unizg.hr/hr/dokumenti?page=64\n",
      "Appending https://www.foi.unizg.hr/hr/dokumenti?page=65\n",
      "Appending https://www.foi.unizg.hr/hr/dokumenti?page=66\n",
      "Appending https://www.foi.unizg.hr/hr/dokumenti?page=67\n",
      "Appending https://www.foi.unizg.hr/hr/dokumenti?page=68\n",
      "Appending https://www.foi.unizg.hr/hr/dokumenti?page=69\n",
      "Appending https://www.foi.unizg.hr/hr/dokumenti?page=70\n",
      "Appending https://www.foi.unizg.hr/hr/dokumenti?page=71\n",
      "Appending https://www.foi.unizg.hr/hr/dokumenti?page=72\n",
      "Appending https://www.foi.unizg.hr/hr/dokumenti?page=73\n",
      "Appending https://www.foi.unizg.hr/hr/dokumenti?page=74\n",
      "Appending https://www.foi.unizg.hr/hr/dokumenti?page=75\n",
      "Appending https://www.foi.unizg.hr/hr/dokumenti?page=76\n",
      "Appending https://www.foi.unizg.hr/hr/dokumenti?page=77\n",
      "Appending https://www.foi.unizg.hr/hr/dokumenti?page=78\n",
      "Appending https://www.foi.unizg.hr/hr/dokumenti?page=79\n",
      "Appending https://www.foi.unizg.hr/hr/dokumenti?page=80\n",
      "Appending https://www.foi.unizg.hr/hr/dokumenti?page=81\n",
      "Appending https://www.foi.unizg.hr/hr/dokumenti?page=82\n",
      "Appending https://www.foi.unizg.hr/hr/dokumenti?page=83\n",
      "Appending https://www.foi.unizg.hr/hr/dokumenti?page=84\n",
      "Appending https://www.foi.unizg.hr/hr/dokumenti?page=85\n",
      "Appending https://www.foi.unizg.hr/hr/dokumenti?page=86\n",
      "Appending https://www.foi.unizg.hr/hr/dokumenti?page=87\n",
      "Appending https://www.foi.unizg.hr/hr/dokumenti?page=88\n",
      "Appending https://www.foi.unizg.hr/hr/dokumenti?page=89\n",
      "Appending https://www.foi.unizg.hr/hr/dokumenti?page=90\n",
      "Appending https://www.foi.unizg.hr/hr/dokumenti?page=91\n",
      "Appending https://www.foi.unizg.hr/hr/dokumenti?page=92\n",
      "Appending https://www.foi.unizg.hr/hr/dokumenti?page=93\n"
     ]
    }
   ],
   "source": [
    "urls = get_urls('https://www.foi.unizg.hr/hr/dokumenti')"
   ]
  },
  {
   "cell_type": "code",
   "execution_count": 16,
   "id": "0f06237c-9189-4724-9aed-f9e108eae8be",
   "metadata": {},
   "outputs": [
    {
     "data": {
      "text/plain": [
       "['https://www.foi.unizg.hr/hr/dokumenti?page=1',\n",
       " 'https://www.foi.unizg.hr/hr/dokumenti?page=2',\n",
       " 'https://www.foi.unizg.hr/hr/dokumenti?page=3',\n",
       " 'https://www.foi.unizg.hr/hr/dokumenti?page=4',\n",
       " 'https://www.foi.unizg.hr/hr/dokumenti?page=5']"
      ]
     },
     "execution_count": 16,
     "metadata": {},
     "output_type": "execute_result"
    }
   ],
   "source": [
    "urls[:5]"
   ]
  },
  {
   "cell_type": "markdown",
   "id": "e80ec81f-68ba-4cf5-98f7-42eef952924b",
   "metadata": {},
   "source": [
    "## Downloading in batches"
   ]
  },
  {
   "cell_type": "code",
   "execution_count": 68,
   "id": "71ae8f8a-3a27-4b0b-bde3-d414852d4940",
   "metadata": {},
   "outputs": [],
   "source": [
    "def scrape_page(url):\n",
    "    '''\n",
    "        Prolazi kroz linkove glavne stranice, ekstrahira /hr/dokument/ linkove i\n",
    "        dohvaca meta podatke za svaki dokument\n",
    "    '''\n",
    "    root_url = 'https://www.foi.unizg.hr'\n",
    "    print(f'Scraping {url}')\n",
    "    \n",
    "    soup = get_data(url)\n",
    "    spans = soup.find_all('span', class_ = 'field-content')\n",
    "\n",
    "    links = extract_links(spans)\n",
    "\n",
    "    metadata = [get_metadata(root_url + link[0]) for link in links]\n",
    "\n",
    "    # download pdf and extract its contents in the text field\n",
    "\n",
    "    df1 = pd.DataFrame(metadata, columns = ['naziv_datoteke', 'pdf_link', 'datum', 'vrsta_dokumenta', 'kategorija_dokumenta'])\n",
    "    df2 = pd.DataFrame(links, columns = ['metadata_link', 'naslov_dokumenta'])\n",
    "\n",
    "    return pd.concat([df1, df2], axis = 1)"
   ]
  },
  {
   "cell_type": "code",
   "execution_count": 18,
   "id": "5a88476f-4909-49d7-b746-3c4e55d2225e",
   "metadata": {
    "scrolled": true
   },
   "outputs": [
    {
     "name": "stdout",
     "output_type": "stream",
     "text": [
      "Scraping https://www.foi.unizg.hr/hr/dokumenti\n",
      "Scraping https://www.foi.unizg.hr/hr/dokumenti?page=1\n",
      "Scraping https://www.foi.unizg.hr/hr/dokumenti?page=2\n",
      "Scraping https://www.foi.unizg.hr/hr/dokumenti?page=3\n",
      "Scraping https://www.foi.unizg.hr/hr/dokumenti?page=4\n",
      "Scraping https://www.foi.unizg.hr/hr/dokumenti?page=5\n",
      "Scraping https://www.foi.unizg.hr/hr/dokumenti?page=6\n",
      "Scraping https://www.foi.unizg.hr/hr/dokumenti?page=7\n",
      "Scraping https://www.foi.unizg.hr/hr/dokumenti?page=8\n",
      "Scraping https://www.foi.unizg.hr/hr/dokumenti?page=9\n",
      "Scraping https://www.foi.unizg.hr/hr/dokumenti?page=10\n",
      "Scraping https://www.foi.unizg.hr/hr/dokumenti?page=11\n",
      "Scraping https://www.foi.unizg.hr/hr/dokumenti?page=12\n",
      "Scraping https://www.foi.unizg.hr/hr/dokumenti?page=13\n",
      "Scraping https://www.foi.unizg.hr/hr/dokumenti?page=14\n",
      "Scraping https://www.foi.unizg.hr/hr/dokumenti?page=15\n",
      "Scraping https://www.foi.unizg.hr/hr/dokumenti?page=16\n",
      "Scraping https://www.foi.unizg.hr/hr/dokumenti?page=17\n",
      "Scraping https://www.foi.unizg.hr/hr/dokumenti?page=18\n",
      "Scraping https://www.foi.unizg.hr/hr/dokumenti?page=19\n",
      "Scraping https://www.foi.unizg.hr/hr/dokumenti?page=20\n",
      "Scraping https://www.foi.unizg.hr/hr/dokumenti?page=21\n",
      "Scraping https://www.foi.unizg.hr/hr/dokumenti?page=22\n",
      "Scraping https://www.foi.unizg.hr/hr/dokumenti?page=23\n",
      "Scraping https://www.foi.unizg.hr/hr/dokumenti?page=24\n",
      "Scraping https://www.foi.unizg.hr/hr/dokumenti?page=25\n",
      "Scraping https://www.foi.unizg.hr/hr/dokumenti?page=26\n",
      "Scraping https://www.foi.unizg.hr/hr/dokumenti?page=27\n",
      "Scraping https://www.foi.unizg.hr/hr/dokumenti?page=28\n",
      "Scraping https://www.foi.unizg.hr/hr/dokumenti?page=29\n",
      "Scraping https://www.foi.unizg.hr/hr/dokumenti?page=30\n",
      "Scraping https://www.foi.unizg.hr/hr/dokumenti?page=31\n",
      "Scraping https://www.foi.unizg.hr/hr/dokumenti?page=32\n",
      "Scraping https://www.foi.unizg.hr/hr/dokumenti?page=33\n",
      "Scraping https://www.foi.unizg.hr/hr/dokumenti?page=34\n",
      "Scraping https://www.foi.unizg.hr/hr/dokumenti?page=35\n",
      "Scraping https://www.foi.unizg.hr/hr/dokumenti?page=36\n",
      "Scraping https://www.foi.unizg.hr/hr/dokumenti?page=37\n",
      "Scraping https://www.foi.unizg.hr/hr/dokumenti?page=38\n",
      "Scraping https://www.foi.unizg.hr/hr/dokumenti?page=39\n",
      "Scraping https://www.foi.unizg.hr/hr/dokumenti?page=40\n",
      "Scraping https://www.foi.unizg.hr/hr/dokumenti?page=41\n",
      "Scraping https://www.foi.unizg.hr/hr/dokumenti?page=42\n",
      "Scraping https://www.foi.unizg.hr/hr/dokumenti?page=43\n",
      "Scraping https://www.foi.unizg.hr/hr/dokumenti?page=44\n",
      "Scraping https://www.foi.unizg.hr/hr/dokumenti?page=45\n",
      "Scraping https://www.foi.unizg.hr/hr/dokumenti?page=46\n",
      "Scraping https://www.foi.unizg.hr/hr/dokumenti?page=47\n",
      "Scraping https://www.foi.unizg.hr/hr/dokumenti?page=48\n",
      "Scraping https://www.foi.unizg.hr/hr/dokumenti?page=49\n",
      "Scraping https://www.foi.unizg.hr/hr/dokumenti?page=50\n",
      "Scraping https://www.foi.unizg.hr/hr/dokumenti?page=51\n",
      "Scraping https://www.foi.unizg.hr/hr/dokumenti?page=52\n",
      "Scraping https://www.foi.unizg.hr/hr/dokumenti?page=53\n",
      "Scraping https://www.foi.unizg.hr/hr/dokumenti?page=54\n",
      "Scraping https://www.foi.unizg.hr/hr/dokumenti?page=55\n",
      "Scraping https://www.foi.unizg.hr/hr/dokumenti?page=56\n",
      "Scraping https://www.foi.unizg.hr/hr/dokumenti?page=57\n",
      "Scraping https://www.foi.unizg.hr/hr/dokumenti?page=58\n",
      "Scraping https://www.foi.unizg.hr/hr/dokumenti?page=59\n",
      "Scraping https://www.foi.unizg.hr/hr/dokumenti?page=60\n",
      "Scraping https://www.foi.unizg.hr/hr/dokumenti?page=61\n",
      "Scraping https://www.foi.unizg.hr/hr/dokumenti?page=62\n",
      "Scraping https://www.foi.unizg.hr/hr/dokumenti?page=63\n",
      "Scraping https://www.foi.unizg.hr/hr/dokumenti?page=64\n",
      "Scraping https://www.foi.unizg.hr/hr/dokumenti?page=65\n",
      "Scraping https://www.foi.unizg.hr/hr/dokumenti?page=66\n",
      "Scraping https://www.foi.unizg.hr/hr/dokumenti?page=67\n",
      "Scraping https://www.foi.unizg.hr/hr/dokumenti?page=68\n",
      "Scraping https://www.foi.unizg.hr/hr/dokumenti?page=69\n",
      "Scraping https://www.foi.unizg.hr/hr/dokumenti?page=70\n",
      "Scraping https://www.foi.unizg.hr/hr/dokumenti?page=71\n",
      "Scraping https://www.foi.unizg.hr/hr/dokumenti?page=72\n",
      "Scraping https://www.foi.unizg.hr/hr/dokumenti?page=73\n",
      "Scraping https://www.foi.unizg.hr/hr/dokumenti?page=74\n",
      "Scraping https://www.foi.unizg.hr/hr/dokumenti?page=75\n",
      "Scraping https://www.foi.unizg.hr/hr/dokumenti?page=76\n",
      "Scraping https://www.foi.unizg.hr/hr/dokumenti?page=77\n",
      "Scraping https://www.foi.unizg.hr/hr/dokumenti?page=78\n",
      "Scraping https://www.foi.unizg.hr/hr/dokumenti?page=79\n",
      "Scraping https://www.foi.unizg.hr/hr/dokumenti?page=80\n",
      "Scraping https://www.foi.unizg.hr/hr/dokumenti?page=81\n",
      "Scraping https://www.foi.unizg.hr/hr/dokumenti?page=82\n",
      "Scraping https://www.foi.unizg.hr/hr/dokumenti?page=83\n",
      "Scraping https://www.foi.unizg.hr/hr/dokumenti?page=84\n",
      "Scraping https://www.foi.unizg.hr/hr/dokumenti?page=85\n",
      "Scraping https://www.foi.unizg.hr/hr/dokumenti?page=86\n",
      "Scraping https://www.foi.unizg.hr/hr/dokumenti?page=87\n",
      "Scraping https://www.foi.unizg.hr/hr/dokumenti?page=88\n",
      "Scraping https://www.foi.unizg.hr/hr/dokumenti?page=89\n",
      "Scraping https://www.foi.unizg.hr/hr/dokumenti?page=90\n",
      "Scraping https://www.foi.unizg.hr/hr/dokumenti?page=91\n",
      "Scraping https://www.foi.unizg.hr/hr/dokumenti?page=92\n",
      "Scraping https://www.foi.unizg.hr/hr/dokumenti?page=93\n"
     ]
    }
   ],
   "source": [
    "df = scrape_page('https://www.foi.unizg.hr/hr/dokumenti')\n",
    "\n",
    "for url in urls:\n",
    "    new_df = scrape_page(url)\n",
    "    df = pd.concat([df, new_df], axis = 0, ignore_index = True)"
   ]
  },
  {
   "cell_type": "code",
   "execution_count": 19,
   "id": "f7af7d90-3685-4d03-974d-7f5fcfcdaf7b",
   "metadata": {},
   "outputs": [
    {
     "data": {
      "text/plain": [
       "(933, 7)"
      ]
     },
     "execution_count": 19,
     "metadata": {},
     "output_type": "execute_result"
    }
   ],
   "source": [
    "# Sanity check\n",
    "df.shape"
   ]
  },
  {
   "cell_type": "code",
   "execution_count": 20,
   "id": "8928eb60-c6d8-44da-a6c0-8066a955eb83",
   "metadata": {},
   "outputs": [],
   "source": [
    "# Ciscenje dataframea\n",
    "df.dropna(subset = ['pdf_link'], inplace = True)"
   ]
  },
  {
   "cell_type": "code",
   "execution_count": 21,
   "id": "0551ed25-b6cb-47a3-8b04-5881e5bb15b2",
   "metadata": {},
   "outputs": [
    {
     "data": {
      "text/plain": [
       "(868, 7)"
      ]
     },
     "execution_count": 21,
     "metadata": {},
     "output_type": "execute_result"
    }
   ],
   "source": [
    "df.shape"
   ]
  },
  {
   "cell_type": "code",
   "execution_count": 22,
   "id": "5803e722-1f2d-477c-803e-71b51eda621f",
   "metadata": {
    "scrolled": true
   },
   "outputs": [
    {
     "data": {
      "text/html": [
       "<div>\n",
       "<style scoped>\n",
       "    .dataframe tbody tr th:only-of-type {\n",
       "        vertical-align: middle;\n",
       "    }\n",
       "\n",
       "    .dataframe tbody tr th {\n",
       "        vertical-align: top;\n",
       "    }\n",
       "\n",
       "    .dataframe thead th {\n",
       "        text-align: right;\n",
       "    }\n",
       "</style>\n",
       "<table border=\"1\" class=\"dataframe\">\n",
       "  <thead>\n",
       "    <tr style=\"text-align: right;\">\n",
       "      <th></th>\n",
       "      <th>naziv_datoteke</th>\n",
       "      <th>pdf_link</th>\n",
       "      <th>datum</th>\n",
       "      <th>vrsta_dokumenta</th>\n",
       "      <th>kategorija_dokumenta</th>\n",
       "      <th>metadata_link</th>\n",
       "      <th>naslov_dokumenta</th>\n",
       "    </tr>\n",
       "  </thead>\n",
       "  <tbody>\n",
       "    <tr>\n",
       "      <th>0</th>\n",
       "      <td>odluka_o_izmjeni_odluke_pok_2023_10_12.pdf</td>\n",
       "      <td>https://www.foi.unizg.hr/sites/default/files/o...</td>\n",
       "      <td>18.12.2023</td>\n",
       "      <td>Odluka</td>\n",
       "      <td>Kvaliteta</td>\n",
       "      <td>/hr/dokument/izmjenjena-odluka-pok-2023</td>\n",
       "      <td>Izmjenjena odluka POK-a 2023.</td>\n",
       "    </tr>\n",
       "    <tr>\n",
       "      <th>1</th>\n",
       "      <td>odluka-izvanredni_izbori_za_studentski_zbor-si...</td>\n",
       "      <td>https://www.foi.unizg.hr/sites/default/files/o...</td>\n",
       "      <td>12.12.2023</td>\n",
       "      <td>Odluka</td>\n",
       "      <td>Studentski zbor</td>\n",
       "      <td>/hr/dokument/odluka-o-raspisivanju-izvanrednih...</td>\n",
       "      <td>Odluka o raspisivanju izvanrednih izbora Stude...</td>\n",
       "    </tr>\n",
       "    <tr>\n",
       "      <th>6</th>\n",
       "      <td>fv_dnevni_red_2023-12-07_3._sjednica.pdf</td>\n",
       "      <td>https://www.foi.unizg.hr/sites/default/files/f...</td>\n",
       "      <td>07.12.2023</td>\n",
       "      <td>Dnevni red</td>\n",
       "      <td>Fakultetsko vijeće</td>\n",
       "      <td>/hr/dokument/dnevni-red-fakultetskog-vijeca-07...</td>\n",
       "      <td>Dnevni red Fakultetskog vijeća 07.12.2023.</td>\n",
       "    </tr>\n",
       "    <tr>\n",
       "      <th>7</th>\n",
       "      <td>politika-privatnosti-foi.pdf</td>\n",
       "      <td>https://www.foi.unizg.hr/sites/default/files/p...</td>\n",
       "      <td>24.11.2023</td>\n",
       "      <td>None</td>\n",
       "      <td>None</td>\n",
       "      <td>/hr/dokument/politika-privatnosti-foi-ja</td>\n",
       "      <td>Politika privatnosti FOI-ja</td>\n",
       "    </tr>\n",
       "    <tr>\n",
       "      <th>8</th>\n",
       "      <td>popis_gs_u_sukobu_interesa_2023.pdf</td>\n",
       "      <td>https://www.foi.unizg.hr/sites/default/files/p...</td>\n",
       "      <td>20.11.2023</td>\n",
       "      <td>Odluka</td>\n",
       "      <td>Javna nabava</td>\n",
       "      <td>/hr/dokument/popis-gospodarskih-subjekata-s-ko...</td>\n",
       "      <td>Popis gospodarskih subjekata s kojima se ne sm...</td>\n",
       "    </tr>\n",
       "  </tbody>\n",
       "</table>\n",
       "</div>"
      ],
      "text/plain": [
       "                                      naziv_datoteke  \\\n",
       "0         odluka_o_izmjeni_odluke_pok_2023_10_12.pdf   \n",
       "1  odluka-izvanredni_izbori_za_studentski_zbor-si...   \n",
       "6           fv_dnevni_red_2023-12-07_3._sjednica.pdf   \n",
       "7                       politika-privatnosti-foi.pdf   \n",
       "8                popis_gs_u_sukobu_interesa_2023.pdf   \n",
       "\n",
       "                                            pdf_link       datum  \\\n",
       "0  https://www.foi.unizg.hr/sites/default/files/o...  18.12.2023   \n",
       "1  https://www.foi.unizg.hr/sites/default/files/o...  12.12.2023   \n",
       "6  https://www.foi.unizg.hr/sites/default/files/f...  07.12.2023   \n",
       "7  https://www.foi.unizg.hr/sites/default/files/p...  24.11.2023   \n",
       "8  https://www.foi.unizg.hr/sites/default/files/p...  20.11.2023   \n",
       "\n",
       "  vrsta_dokumenta kategorija_dokumenta  \\\n",
       "0          Odluka            Kvaliteta   \n",
       "1          Odluka      Studentski zbor   \n",
       "6      Dnevni red   Fakultetsko vijeće   \n",
       "7            None                 None   \n",
       "8          Odluka         Javna nabava   \n",
       "\n",
       "                                       metadata_link  \\\n",
       "0            /hr/dokument/izmjenjena-odluka-pok-2023   \n",
       "1  /hr/dokument/odluka-o-raspisivanju-izvanrednih...   \n",
       "6  /hr/dokument/dnevni-red-fakultetskog-vijeca-07...   \n",
       "7           /hr/dokument/politika-privatnosti-foi-ja   \n",
       "8  /hr/dokument/popis-gospodarskih-subjekata-s-ko...   \n",
       "\n",
       "                                    naslov_dokumenta  \n",
       "0                      Izmjenjena odluka POK-a 2023.  \n",
       "1  Odluka o raspisivanju izvanrednih izbora Stude...  \n",
       "6         Dnevni red Fakultetskog vijeća 07.12.2023.  \n",
       "7                        Politika privatnosti FOI-ja  \n",
       "8  Popis gospodarskih subjekata s kojima se ne sm...  "
      ]
     },
     "execution_count": 22,
     "metadata": {},
     "output_type": "execute_result"
    }
   ],
   "source": [
    "df.head()"
   ]
  },
  {
   "cell_type": "code",
   "execution_count": 82,
   "id": "dc2d0588-ebef-432e-a45e-da9840cd543c",
   "metadata": {
    "scrolled": true
   },
   "outputs": [
    {
     "data": {
      "text/html": [
       "<div>\n",
       "<style scoped>\n",
       "    .dataframe tbody tr th:only-of-type {\n",
       "        vertical-align: middle;\n",
       "    }\n",
       "\n",
       "    .dataframe tbody tr th {\n",
       "        vertical-align: top;\n",
       "    }\n",
       "\n",
       "    .dataframe thead th {\n",
       "        text-align: right;\n",
       "    }\n",
       "</style>\n",
       "<table border=\"1\" class=\"dataframe\">\n",
       "  <thead>\n",
       "    <tr style=\"text-align: right;\">\n",
       "      <th></th>\n",
       "      <th>naziv_datoteke</th>\n",
       "      <th>pdf_link</th>\n",
       "      <th>datum</th>\n",
       "      <th>vrsta_dokumenta</th>\n",
       "      <th>kategorija_dokumenta</th>\n",
       "      <th>metadata_link</th>\n",
       "      <th>naslov_dokumenta</th>\n",
       "    </tr>\n",
       "  </thead>\n",
       "  <tbody>\n",
       "    <tr>\n",
       "      <th>420</th>\n",
       "      <td>Odluka o imenovanju službenika za zaštitu osob...</td>\n",
       "      <td>https://www.foi.unizg.hr/sites/default/files/o...</td>\n",
       "      <td>07.06.2018</td>\n",
       "      <td>Odluka</td>\n",
       "      <td>Zaštita osobnih podataka</td>\n",
       "      <td>/hr/dokument/odluka-o-imenovanju-sluzbenika-za...</td>\n",
       "      <td>Odluka o imenovanju službenika za zaštitu osob...</td>\n",
       "    </tr>\n",
       "    <tr>\n",
       "      <th>421</th>\n",
       "      <td>Odluka o imenovanju službenika za zaštitu osob...</td>\n",
       "      <td>https://www.foi.unizg.hr/sites/default/files/o...</td>\n",
       "      <td>07.06.2018</td>\n",
       "      <td>Odluka</td>\n",
       "      <td>Zaštita osobnih podataka</td>\n",
       "      <td>/hr/dokument/odluka-o-imenovanju-sluzbenika-za...</td>\n",
       "      <td>Odluka o imenovanju službenika za zaštitu osob...</td>\n",
       "    </tr>\n",
       "    <tr>\n",
       "      <th>489</th>\n",
       "      <td>pravilnik_o_radu_-_procisceni_tekst_28042015.pdf</td>\n",
       "      <td>https://www.foi.unizg.hr/sites/default/files/p...</td>\n",
       "      <td>06.05.2015</td>\n",
       "      <td>Pravilnik</td>\n",
       "      <td>FOI</td>\n",
       "      <td>/hr/dokument/pravilnik-o-radu-procisceni-tekst</td>\n",
       "      <td>Pravilnik o radu - pročišćeni tekst</td>\n",
       "    </tr>\n",
       "    <tr>\n",
       "      <th>598</th>\n",
       "      <td>odluka-strucna_praksa_diplomski_studij_informa...</td>\n",
       "      <td>https://www.foi.unizg.hr/sites/default/files/o...</td>\n",
       "      <td>13.02.2012</td>\n",
       "      <td>DS INF</td>\n",
       "      <td>None</td>\n",
       "      <td>/hr/dokument/odluka-o-obavljanju-strucne-praks...</td>\n",
       "      <td>Odluka o obavljanju stručne prakse na diplomsk...</td>\n",
       "    </tr>\n",
       "    <tr>\n",
       "      <th>659</th>\n",
       "      <td>pravilnik_o_radu_-_procisceni_tekst_28042015.pdf</td>\n",
       "      <td>https://www.foi.unizg.hr/sites/default/files/p...</td>\n",
       "      <td>06.05.2015</td>\n",
       "      <td>Pravilnik</td>\n",
       "      <td>FOI</td>\n",
       "      <td>/hr/dokument/pravilnik-o-radu-procisceni-tekst</td>\n",
       "      <td>Pravilnik o radu - pročišćeni tekst</td>\n",
       "    </tr>\n",
       "    <tr>\n",
       "      <th>800</th>\n",
       "      <td>odluka-strucna_praksa_diplomski_studij_informa...</td>\n",
       "      <td>https://www.foi.unizg.hr/sites/default/files/o...</td>\n",
       "      <td>13.02.2012</td>\n",
       "      <td>DS INF</td>\n",
       "      <td>None</td>\n",
       "      <td>/hr/dokument/odluka-o-obavljanju-strucne-praks...</td>\n",
       "      <td>Odluka o obavljanju stručne prakse na diplomsk...</td>\n",
       "    </tr>\n",
       "  </tbody>\n",
       "</table>\n",
       "</div>"
      ],
      "text/plain": [
       "                                        naziv_datoteke  \\\n",
       "420  Odluka o imenovanju službenika za zaštitu osob...   \n",
       "421  Odluka o imenovanju službenika za zaštitu osob...   \n",
       "489   pravilnik_o_radu_-_procisceni_tekst_28042015.pdf   \n",
       "598  odluka-strucna_praksa_diplomski_studij_informa...   \n",
       "659   pravilnik_o_radu_-_procisceni_tekst_28042015.pdf   \n",
       "800  odluka-strucna_praksa_diplomski_studij_informa...   \n",
       "\n",
       "                                              pdf_link       datum  \\\n",
       "420  https://www.foi.unizg.hr/sites/default/files/o...  07.06.2018   \n",
       "421  https://www.foi.unizg.hr/sites/default/files/o...  07.06.2018   \n",
       "489  https://www.foi.unizg.hr/sites/default/files/p...  06.05.2015   \n",
       "598  https://www.foi.unizg.hr/sites/default/files/o...  13.02.2012   \n",
       "659  https://www.foi.unizg.hr/sites/default/files/p...  06.05.2015   \n",
       "800  https://www.foi.unizg.hr/sites/default/files/o...  13.02.2012   \n",
       "\n",
       "    vrsta_dokumenta      kategorija_dokumenta  \\\n",
       "420          Odluka  Zaštita osobnih podataka   \n",
       "421          Odluka  Zaštita osobnih podataka   \n",
       "489       Pravilnik                       FOI   \n",
       "598          DS INF                      None   \n",
       "659       Pravilnik                       FOI   \n",
       "800          DS INF                      None   \n",
       "\n",
       "                                         metadata_link  \\\n",
       "420  /hr/dokument/odluka-o-imenovanju-sluzbenika-za...   \n",
       "421  /hr/dokument/odluka-o-imenovanju-sluzbenika-za...   \n",
       "489     /hr/dokument/pravilnik-o-radu-procisceni-tekst   \n",
       "598  /hr/dokument/odluka-o-obavljanju-strucne-praks...   \n",
       "659     /hr/dokument/pravilnik-o-radu-procisceni-tekst   \n",
       "800  /hr/dokument/odluka-o-obavljanju-strucne-praks...   \n",
       "\n",
       "                                      naslov_dokumenta  \n",
       "420  Odluka o imenovanju službenika za zaštitu osob...  \n",
       "421  Odluka o imenovanju službenika za zaštitu osob...  \n",
       "489                Pravilnik o radu - pročišćeni tekst  \n",
       "598  Odluka o obavljanju stručne prakse na diplomsk...  \n",
       "659                Pravilnik o radu - pročišćeni tekst  \n",
       "800  Odluka o obavljanju stručne prakse na diplomsk...  "
      ]
     },
     "execution_count": 82,
     "metadata": {},
     "output_type": "execute_result"
    }
   ],
   "source": [
    "# Downloading pdfs and updating df\n",
    "# Pronalaženje dupliciranih redova (uključujući i prve pojave)\n",
    "duplicate_rows = df[df.duplicated(keep=False)]\n",
    "\n",
    "# Ispis dupliciranih redova\n",
    "duplicate_rows"
   ]
  },
  {
   "cell_type": "code",
   "execution_count": 31,
   "id": "ae76ecb2-bcd1-4a81-8155-ae4642175d8c",
   "metadata": {
    "scrolled": true
   },
   "outputs": [
    {
     "name": "stdout",
     "output_type": "stream",
     "text": [
      "Success: ./data/dummy_data/odluka_upisne_kvote_preddiplomski_studiji_2020_2021.pdf\n",
      "Success: ./data/dummy_data/odluka_upisne_kvote_diplomski_studiji_2020_2021.pdf\n",
      "Success: ./data/dummy_data/odluka_uvjeti_upisa_u_i_godinu_diplomskih_studija.pdf\n",
      "Success: ./data/dummy_data/odluka_uvjeti_upisa_razlikovna_godina.pdf\n",
      "Success: ./data/dummy_data/odluka_uvjeti_upisa_na_diplomski_studij_ulazne_kompetencije.pdf\n",
      "Success: ./data/dummy_data/pravilnik_o_izmjenama_i_dopunama_pravilnika_o_sveucilisnom_preddiplomskom_i_diplomskom_studiju_ekonomika_poduzetnistva_2019_11.pdf\n",
      "Success: ./data/dummy_data/pravilnik_o_izmjenama_i_dopunama_pravilnika_o_sveucilisnom_preddiplomskom_i_diplomskim_studijima_informatike_2019_11.pdf\n",
      "Success: ./data/dummy_data/3.5._misljenje-preporuke-plan-djelovanja-rezultati-ankete-zs-18-19_-_fv.pdf\n",
      "Success: ./data/dummy_data/pravilnik_o_izmjenama_i_dopunama_pravilnika_o_strucnoj_praksi_pitup.pdf\n",
      "Success: ./data/dummy_data/statut_foi_2019_konacna_verzija-1.pdf\n",
      "Success: ./data/dummy_data/zakljucci_13._sjednice_2018-2019.pdf\n",
      "Success: ./data/dummy_data/izvjestaji_proracuna_proracunskih_i_izvanproracunskih_korisnika_1_9_2019.pdf\n",
      "Success: ./data/dummy_data/zakljucci_12._sjednice_2018-2019.pdf\n",
      "Success: ./data/dummy_data/modeli_pracenja_rada_i_ocjenjivanja_studenata_ds_2019_2020_2.pdf\n",
      "Success: ./data/dummy_data/modeli_pracenja_rada_i_ocjenjivanja_studenata_dsep_2019_2020_2.pdf\n",
      "Success: ./data/dummy_data/modeli_pracenja_rada_i_ocjenjivanja_studenata_ep_2019_2020_2.pdf\n",
      "Success: ./data/dummy_data/modeli_pracenja_rada_i_ocjenjivanja_studenata_pds_2019_2020_2.pdf\n",
      "Success: ./data/dummy_data/modeli_pracenja_rada_i_ocjenjivanja_studenata_pitup_2019_2020_2.pdf\n",
      "Success: ./data/dummy_data/zakljucci_11._sjednice_2018-2019.pdf\n",
      "Success: ./data/dummy_data/odluka-pitup-peti_upis_3._godine_0.pdf\n",
      "Success: ./data/dummy_data/zakljucci_10._sjednice_2018-2019.pdf\n",
      "Success: ./data/dummy_data/zakljucci_9._sjednice_2018-2019.pdf\n",
      "Success: ./data/dummy_data/pravilnik_o_zastiti_arhivskoga_i_dokumentarnoga_gradiva_rjesenje_o_suglasnosti_na_pravilnik_0.pdf\n",
      "Success: ./data/dummy_data/zakljucci_8._sjednice_2018-2019.pdf\n",
      "Success: ./data/dummy_data/izvjestaji_proracuna_proracunskih_i_izvanproracunskih_korisnika_1_3_2019.pdf\n",
      "Success: ./data/dummy_data/zakljucci_6._sjednice_2018-2019.pdf\n",
      "Success: ./data/dummy_data/pravilnik_o_zastiti_arhivskoga_i_dokumentarnoga_gradiva_rjesenje_o_suglasnosti_na_pravilnik.pdf\n",
      "Success: ./data/dummy_data/zakljucci_5._sjednice_2018-2019.pdf\n",
      "Success: ./data/dummy_data/foi_2018-11_regulations_on_doctoral_study_cleansed_text_0.pdf\n",
      "Success: ./data/dummy_data/godisnje_izvjesce_zppi_2018.pdf\n",
      "Success: ./data/dummy_data/izvjestaji_proracuna_proracunskih_i_izvanproracunskih_korisnika_za_razdoblje_1._sijecanj_2018._-_31._prosinac_2018.pdf\n",
      "Success: ./data/dummy_data/potvrda_o_preuzetom_financijskom_izvjestaju_za_2018._godinu_fina.pdf\n",
      "Success: ./data/dummy_data/zakljucci_4._sjednice_2018-2019.pdf\n",
      "Success: ./data/dummy_data/postupak_ocjene_nastavnih_materijala_na_sucelju_za_e-ucenje.pdf\n",
      "Success: ./data/dummy_data/zakljucci_3._sjednice_2018-2019.pdf\n",
      "Success: ./data/dummy_data/foi_2018-11_pravilnik_o_izmjenama_i_dopunama_pravilnika_o_doktorskom_studiju.pdf\n",
      "Success: ./data/dummy_data/foi_2018-11_pravilnik_o_doktorskom_studiju_procisceni_tekst.pdf\n",
      "Success: ./data/dummy_data/zakljucci_2._sjednice_2018-2019.pdf\n",
      "Success: ./data/dummy_data/foi-gs-sukob-interesa.pdf\n",
      "Success: ./data/dummy_data/plan_nabave_za_2019._-1.pdf\n",
      "Success: ./data/dummy_data/4_izmjena_plana_nabave_za_2018.pdf\n",
      "Success: ./data/dummy_data/plan_aktivnosti_2017_-18_-_obrazac_za_sastavnice-foi.pdf\n",
      "Success: ./data/dummy_data/godisnje_izvjesce_2016_-17_-_obrazac_za_sastavnice-foi.pdf\n",
      "Success: ./data/dummy_data/zakljucci_1._sjednice_2018-2019.pdf\n",
      "Success: ./data/dummy_data/registar_ugovora_26_10_18.pdf\n",
      "Success: ./data/dummy_data/3._izmjena_plan_nabave_2018.pdf\n",
      "Success: ./data/dummy_data/zakljucci_13._sjednice_2017-2018.pdf\n",
      "Success: ./data/dummy_data/pravilnik_o_nagradama_i_priznanjima_0.pdf\n",
      "Success: ./data/dummy_data/zakljucci_12._sjednice_2017-2018.pdf\n",
      "Success: ./data/dummy_data/development_strategy_of_the_foi_2018-2023.pdf\n",
      "Success: ./data/dummy_data/1._zakljucci_11._sjednice_fv.pdf\n",
      "Success: ./data/dummy_data/dnevni_red_11_sjednice.pdf\n",
      "Success: ./data/dummy_data/dnevni_red_10_sjednice.pdf\n",
      "Success: ./data/dummy_data/1._zakljucci_10_sjednice.pdf\n",
      "Success: ./data/dummy_data/biljeske_1_6_2018.pdf\n",
      "Success: ./data/dummy_data/fakultet_organizacije_i_informatike_primjena_informacijske_tehnologije_u_poslovanju_u_zaboku_0084_pdp.pdf\n",
      "Success: ./data/dummy_data/fakultet_organizacije_i_informatike_primjena_informacijske_tehnologije_u_poslovanju_0080_pdp.pdf\n",
      "Success: ./data/dummy_data/fakultet_organizacije_i_informatike_poslovni_sustavi_0079_pdp.pdf\n",
      "Success: ./data/dummy_data/fakultet_organizacije_i_informatike_pdp.pdf\n",
      "Success: ./data/dummy_data/fakultet_organizacije_i_informatike_organizacija_poslovnih_sustava_0233_dpl.pdf\n",
      "Success: ./data/dummy_data/fakultet_organizacije_i_informatike_informacijsko_i_programsko_inzenjerstvo_0231_dpl.pdf\n",
      "Success: ./data/dummy_data/fakultet_organizacije_i_informatike_informacijski_sustavi_0078_pdp.pdf\n",
      "Success: ./data/dummy_data/fakultet_organizacije_i_informatike_ekonomika_poduzetnistva_foief_0077_pdp.pdf\n",
      "Success: ./data/dummy_data/fakultet_organizacije_i_informatike_ekonomika_poduzetnistva_0234_dpl.pdf\n",
      "Success: ./data/dummy_data/fakultet_organizacije_i_informatike_dpl.pdf\n",
      "Success: ./data/dummy_data/fakultet_organizacije_i_informatike_baze_podataka_i_baze_znanja_0230_dpl.pdf\n",
      "Success: ./data/dummy_data/odluka-pitup-peti_upis_3._godine.pdf\n",
      "Success: ./data/dummy_data/odluka_ponistenje_natjecaja-programer-2.pdf\n",
      "Success: ./data/dummy_data/odluka_imenovanje_sluzbenika_za_zastitu_podataka.pdf\n",
      "Success: ./data/dummy_data/odluka_imenovanje_sluzbenika_za_zastitu_podataka.pdf\n",
      "Success: ./data/dummy_data/pravilnik_o_zastiti_osobnih_podataka.pdf\n",
      "Success: ./data/dummy_data/odluka_biracki_odbor-studentski_izbori_za_sz_foi.pdf\n",
      "Success: ./data/dummy_data/registar_ugovora_18-01-08.pdf\n",
      "Success: ./data/dummy_data/zakljucci_9._sjednice_fv_08.05.2018.pdf\n",
      "Success: ./data/dummy_data/zakljucci_8._sjednice_fv_17.04.2018.pdf\n",
      "Success: ./data/dummy_data/dnevni_red_2018-05-08.pdf\n",
      "Success: ./data/dummy_data/dnevni_red_6.pdf\n",
      "Success: ./data/dummy_data/odluka_o_imenovanju_povjerenstva_za_prigovore.pdf\n",
      "Success: ./data/dummy_data/odluka_vracanje_knjiznicne_grade_2019.pdf\n",
      "Success: ./data/dummy_data/odluka_imenovanje_izbornog_povjerenstva-izvanredni_studentski_izbori-sz-2.pdf\n",
      "Success: ./data/dummy_data/dnevni_red_5.pdf\n",
      "Success: ./data/dummy_data/zakljucci_7_sjednice_fv.pdf\n",
      "Success: ./data/dummy_data/odluka_o_raspisivanju_izvanrednih_izbora_za_studentski_zbor.pdf\n",
      "Success: ./data/dummy_data/dnevni_red_4.pdf\n",
      "Success: ./data/dummy_data/zakljucci_6_sjednice_fv_finalno.pdf\n",
      "Success: ./data/dummy_data/odluka_statut_studentskog_zbora_foi.pdf\n",
      "Success: ./data/dummy_data/zakljucci_5_izv_sjednice_fv.pdf\n",
      "Success: ./data/dummy_data/zakljucci_4_sjednice_fv.pdf\n",
      "Success: ./data/dummy_data/odluka_statut-sz.pdf\n",
      "Success: ./data/dummy_data/strategija_razvoja_fakulteta_organizacije_i_informatike_2018.-2023.pdf\n",
      "Success: ./data/dummy_data/dnevni_red_3.pdf\n",
      "Success: ./data/dummy_data/1._zakljucci_0.pdf\n",
      "Success: ./data/dummy_data/plan_nabave_2018_-1.izmjena.pdf\n",
      "Success: ./data/dummy_data/foi_pravilnik_o_zavrsnom_i_diplomskom_radu.pdf\n",
      "Success: ./data/dummy_data/dnevni_red_2.pdf\n",
      "Success: ./data/dummy_data/dnevni_red_2017-12-12.pdf\n",
      "Success: ./data/dummy_data/1._zakljucci.pdf\n",
      "Success: ./data/dummy_data/plan_nabave_2018.pdf\n",
      "Success: ./data/dummy_data/pravilnik_o_doktorskom_studiju.pdf\n",
      "Success: ./data/dummy_data/plan_nabave_2017_-word-3._izmjena.pdf\n"
     ]
    }
   ],
   "source": [
    "# Download pdf dokumenata\n",
    "for i in range(300, 400):\n",
    "    download_pdf(df.pdf_link.iloc[i], './data/dummy_data')\n",
    "    # time.sleep(1)"
   ]
  },
  {
   "cell_type": "markdown",
   "id": "be7c09e7-bfad-4277-aab6-41b02bbb8b65",
   "metadata": {},
   "source": [
    "# SQLAlchemy"
   ]
  },
  {
   "cell_type": "code",
   "execution_count": 48,
   "id": "aa60914d-8a1c-47aa-a165-b0b948316468",
   "metadata": {},
   "outputs": [],
   "source": [
    "# Create an in-memory SQLite database\n",
    "engine = create_engine('sqlite:///:memory:')\n",
    "\n",
    "metadata = MetaData()\n",
    "\n",
    "# Define the \"dokument\" table with specified columns\n",
    "dokument = Table('dokument', metadata,\n",
    "                 Column('sifra_dokumenta', Integer, primary_key=True, autoincrement=True),\n",
    "                 Column('naslov_dokumenta', String),\n",
    "                 Column('putanja_datoteke', String),\n",
    "                 Column('url_adresa', String),\n",
    "                 Column('datum', DateTime, default=datetime.datetime.utcnow),\n",
    "                 Column('tekstualni_sadrzaj', Text))\n",
    "\n",
    "# Create the table\n",
    "metadata.create_all(engine)"
   ]
  },
  {
   "cell_type": "code",
   "execution_count": 49,
   "id": "e05eee41-1e8c-44c5-baa8-a4f70fd079b6",
   "metadata": {},
   "outputs": [
    {
     "data": {
      "text/plain": [
       "['sifra_dokumenta',\n",
       " 'naslov_dokumenta',\n",
       " 'putanja_datoteke',\n",
       " 'url_adresa',\n",
       " 'datum',\n",
       " 'tekstualni_sadrzaj']"
      ]
     },
     "execution_count": 49,
     "metadata": {},
     "output_type": "execute_result"
    }
   ],
   "source": [
    "# Checking the created table\n",
    "dokument.columns.keys()"
   ]
  },
  {
   "cell_type": "markdown",
   "id": "ec2bd272-0b13-4389-bbb7-ceb513634cc3",
   "metadata": {},
   "source": [
    "# PDF text extraction"
   ]
  },
  {
   "cell_type": "code",
   "execution_count": 92,
   "id": "e5cc74f8-7805-432c-b877-3bbe454f2c44",
   "metadata": {},
   "outputs": [],
   "source": [
    "# Function to check if a PDF is scanned or contains text\n",
    "def is_pdf_scanned(file_path):\n",
    "    # Open the PDF file\n",
    "    with open(file_path, 'rb') as file:\n",
    "        reader = PdfReader(file)\n",
    "        num_pages = len(reader.pages)\n",
    "        \n",
    "        # Check each page for text\n",
    "        for page_num in range(num_pages):\n",
    "            page = reader.pages[page_num]\n",
    "            text = page.extract_text()\n",
    "            if text:\n",
    "                # If text is extracted, it's not a scanned PDF\n",
    "                return False\n",
    "        # If no text is extracted from any page, it's likely a scanned PDF\n",
    "        return True"
   ]
  },
  {
   "cell_type": "code",
   "execution_count": 89,
   "id": "8caaa58d-775a-4f6d-9425-aebe80e4956f",
   "metadata": {},
   "outputs": [],
   "source": [
    "def is_scanned_pdf(file_path):\n",
    "    # Pokušava izvući tekst iz PDF-a, ako ne uspije, pretpostavlja da je skeniran\n",
    "    text = extract_text(file_path)\n",
    "    return len(text.strip()) == 0\n",
    "\n",
    "def extract_text_from_pdf(file_path):\n",
    "    if is_scanned_pdf(file_path):\n",
    "        # Ako je PDF skeniran, koristi pytesseract za OCR\n",
    "        images = convert_from_path(file_path)\n",
    "        text = \"\"\n",
    "        for image in images:\n",
    "            text += image_to_string(image)\n",
    "        return text\n",
    "    else:\n",
    "        # Inače koristi pdfminer za ekstrakciju teksta\n",
    "        return extract_text(file_path)"
   ]
  },
  {
   "cell_type": "code",
   "execution_count": 91,
   "id": "2eea1b21-4ccb-497f-b257-d7230671a4c6",
   "metadata": {},
   "outputs": [
    {
     "data": {
      "text/plain": [
       "False"
      ]
     },
     "execution_count": 91,
     "metadata": {},
     "output_type": "execute_result"
    }
   ],
   "source": [
    "# Example usage\n",
    "file_path = './data/dummy_data/01._zakljucci_1._sjednice_fv.pdf'\n",
    "is_scanned_pdf(file_path)"
   ]
  },
  {
   "cell_type": "code",
   "execution_count": 93,
   "id": "12a2146a-e227-4f9a-a58c-f5f6d35a6b5d",
   "metadata": {},
   "outputs": [
    {
     "data": {
      "text/plain": [
       "'1. elektroničke sjednice Fakultetskog vijeća Fakulteta organizacije i informatike \\n\\nodržane 21. listopada 2021. godine putem sustava za konferencije BigBlueButton \\n\\nZ A K L J U Č C I  \\n\\nPrisutni na sjednici:  \\n\\nČlanovi Uprave:  \\n\\ndekanica: prof. dr. sc. Nina Begičević Ređep \\n\\nprodekanica za nastavu i studente: prof. dr. sc. Sandra Lovrenčić \\n\\nprodekan za znanost, projekte i međunarodnu suradnju: izv. prof. dr. sc. Igor Balaban \\n\\nprodekanica za poslovanje i ljudske potencijale: prof. dr. sc. Marina Klačmer Čalopa \\n\\nprodekan za studijske programe: prof. dr. sc. Dragutin Kermek \\n\\nZnanstveno nastavna zvanja: \\n\\ndoc. dr. sc. Darko Andročec, prof. dr. sc. Goran Bubaš, doc. dr. sc. Kristina Detelj, prof. dr. \\n\\nsc. Blaženka Divjak, prof. dr. sc. Damir Dobrinić, prof. dr. sc. Jasminka Dobša, izv. prof. dr. \\n\\nsc. Zlatko Erjavec, prof. dr. sc. Robert Fabac, izv. prof. dr. sc. Sandro Gerić, doc. dr. sc. \\n\\nPetra Grd, doc. dr. sc. Iva Gregurec, doc. dr. sc. Goran Hajdin, doc. dr. sc. Nikola Ivković, \\n\\ndoc. dr. sc. Nikola Kadoić, prof. dr. sc. Valentina Kirinić, prof. dr. sc. Božidar Kliček, izv. \\n\\nprof. dr. sc. Mario Konecki, doc. dr. sc. Mladen Konecki, izv. prof. dr. sc. Vladimir Kovšca, \\n\\nprof.  dr.  sc.  Melita  Kozina,  doc.  dr.  sc.  Robert Kudelić,  prof.  dr.  sc.  Alen  Lovrenčić,  izv. \\n\\nprof. dr. sc. Ivan Magdalenić,  doc. dr. sc. Ivan Malbašić,  doc. dr. sc. Marcel Maretić, izv. \\n\\nprof. dr. sc. Renata Mekovec, prof. dr. sc. Ruben Picek, izv. prof. dr. sc. Igor Pihir, izv. prof. \\n\\ndr.  sc.  Dijana  Plantak  Vukovac,  prof.  dr.  sc.  Danijel  Radošević,  izv.  prof.  dr.  sc.  Markus \\n\\nSchatten, doc. dr. sc. Zlatko Stapić, prof. dr. sc. Vjeran Strahonja, prof. dr. sc. Diana Šimić, \\n\\ndoc. dr. sc. Boris Tomaš, doc. dr. sc. Igor Tomičić, doc. dr. sc. Martina Tomičić Furjan, izv. \\n\\nprof. dr. sc. Katarina Tomičić-Pupek, prof. dr. sc. Violeta Vidaček Hainš, prof. dr. sc. Stjepan \\n\\nVidačić, prof. dr. sc. Neven Vrček, prof. dr. sc. Ksenija Vuković, doc. dr. sc. Nikolina Žajdela \\n\\nHrustek, doc. dr. sc. Bojan Žugec \\n\\nSuradnička  zvanja:  Mihaela  Bosak,  dr.  sc.  Dina  Korent,  Ana  Kutnjak,  Ema  Novak,  dr.  sc. \\n\\nNastavna zvanja: dr. sc. Jelena Gusić Munđar \\n\\nMatija Novak, Lucija Žignić \\n\\nPredstavnik zaposlenika: Ivica Gašparac \\n\\nPredstavnici studenata: Antolos Jerry John, Bajkovec Nikolina, Cindrić Ivana, Cindrić Josip, \\n\\nĐurić Mario, Kvesić Božo, Lipovac Antonio, Muše Nikola, Oroz Marin, Smojvir Antun, Vukelić \\n\\nNina \\n\\nOpravdali izostanak: prof. dr. sc. Miroslav Bača, prof. dr. sc. Stjepan Dvorski, doc. dr. sc. \\n\\nIrena Konecki, doc. dr. sc. Zrinka Lacković Vincek, izv. prof. dr. sc. Dijana Oreški, doc. dr. \\n\\nsc. Katarina Pažur Aničić, prof. dr. sc. Kornelije Rabuzin, Tatjana Zrinski \\n\\nOstali prisutni: Darko Grabar, Goran Leskovar \\n\\nZapisničarka: Lea Friščić \\n\\n1 \\n\\n \\n \\n \\n \\n \\n \\n \\n \\n \\n \\n \\n \\n \\n\\x0cDekanica  prof.  dr.  sc. Nina Begičević Ređep obavijestila je  sve  prisutne o  smrti  uvaženog \\n\\nprofessora emeritusa  dr.  sc. Miroslava Žugaja. Nakon održane minute šutnje,  dekanica je \\n\\nizrazila zahvalu profesoru Žugaju na zalaganju i doprinosu Fakultetu, znanosti i društvu u \\n\\ncjelini.  Najavila  je  održavanje  komemoracije u čast profesoru  Žugaju  u  sklopu  koje  će se \\n\\npripremiti  osvrt  na  njegove  rezultate  i  doprinos  razvoju  Fakulteta  te  će  se  organizirati  i \\n\\nizložba njegovih djela u Knjižnici. Riječ je nakon toga preuzeo prof. dr. sc. Vjeran Strahonja \\n\\nkoji se osvrnuo na život i djelo profesora Žugaja, njegovu akademsku karijeru i sve zasluge \\n\\nu razvoju FOI-ja. \\n\\nDekanica je dodatno zahvalila prof. dr. sc. Ruži Brčić i izv. prof. dr. sc. Ivanu Malbašiću na \\n\\npripremi  teksta  za  objavu  na  webu,  te  je  svim  članovima  FV-a  pročitala  pismo  koje  je \\n\\npovodom smrti profesora Žugaja uputio prof. dr. sc. Želimir Dulić. \\n\\nDekanica prof. dr. sc. Nina Begičević Ređep je otvorila 1. elektroničku sjednicu Fakultetskog \\n\\nvijeća uz napomenu da će glasanje biti moguće po svim točkama dnevnog reda za vrijeme \\n\\nodržavanja sjednice, odnosno najkasnije do završetka sjednice, osim glasanja o prihvaćanju \\n\\ndnevnog reda, o kojem se glasa u određenom vremenu u tijeku sjednice.  \\n\\nPrije  izglasavanja  dnevnog  reda  proveden  je  postupak  konstituiranja  Fakultetskog  vijeća. \\n\\nGoran Leskovar je podsjetio da su se u rujnu 2021. godine održali su izbori za predstavnike \\n\\nsuradničkih  zvanja,  nastavnog  i  nenastavnog  osoblja  te  za  predstavnike  studenata  u \\n\\nFakultetsko vijeće. Dodao je da Fakultetsko vijeće broji ukupno 75 članova od čega ih je 56 \\n\\nu znanstveno - nastavnim zvanjima, jedan je predstavnik zaposlenika u nastavnim zvanjima, \\n\\nšest predstavnika suradničkih zvanja, jedan predstavnik zaposlenika iz redova nenastavnog \\n\\nosoblja te 11 predstavnika studenata. Napomenuo je da studenti i predstavnik zaposlenika \\n\\niz redova nenastavnog osoblja glasaju po svim točkama dnevnog reda, osim onima vezanim \\n\\nuz stjecanje doktorata znanosti, izbora predloženika za počasno zvanje professor emeritus i \\n\\nizbora  u  znanstveno-nastavna  zvanja  i  radna  mjesta.   S  obzirom  da  je  potreban  kvorum \\n\\npostignut, konstituirano je Fakultetsko vijeće Fakulteta organizacije i informatike. \\n\\nGlasanje o predloženom dnevnom redu uz izmjenu  \\n\\nČlanovi  FV  jednoglasno  su  prihvatili  predloženi  dnevni  red  1.  elektroničke  sjednice  FV  uz \\n\\nizmjenu.  \\n\\nIzmjena  dnevnog  reda  odnosi  se  na  točku  23.  Imenovanje  Stručnog  povjerenstva  za  izbor \\n\\njednog nastavnika u znanstveno - nastavno zvanje i radno mjesto redovitog profesora – prvi \\n\\nizbor  u  području  prirodnih  znanosti,  polje  matematika,  za  grupu  predmeta  vezanih  uz \\n\\nmatematiku na Katedri za kvantitativne metode. \\n\\nZa prihvaćanje dnevnog reda glasalo se putem LMS sustava Moodle. Nakon što je dekanica \\n\\nzatvorila  glasanje,  izvijestila  je  članove  FV  o  rezultatima  glasanja  te  je,  od  ukupno  68 \\n\\nprisutnih  članova  FV,  za  prihvaćanje  dnevnog  reda  glasalo  57  članova  FV  (0  protiv,  0 \\n\\nsuzdržani). \\n\\nTočka 1. \\n\\nKonstituiranje Fakultetskog vijeća \\n\\nKonstituirano je Fakultetsko vijeće koje broji ukupno 75 članova, od čega je:  \\n\\n-  56 članova u znanstveno – nastavnim zvanjima,  \\n\\n-  1 predstavnik zaposlenika u nastavnim zvanjima,  \\n\\n-  6 predstavnika zaposlenika u suradničkim zvanjima,  \\n\\n-  1 predstavnik zaposlenika iz redova nenastavnog osoblja, i  \\n\\n-  11 predstavnika studenata.  \\n\\n2 \\n\\n \\n \\n \\n \\n \\n \\n \\n \\n\\x0cVerifikacija zaključaka 15. sjednice FV \\n\\nTočka 2. \\n\\nČlanovi FV su, uz jedan glas protiv, prihvatili zaključke 15. sjednice FV održane 16. rujna \\n\\nGlasanje  za  Točku  2.  dnevnog  reda  provelo  se  putem  LMS  sustava  Moodle,  od  ukupno  68 \\n\\nprisutnih  članova  FV,  za  verifikaciju  zaključaka  glasalo  je  57  članova  FV  (1  protiv,  0 \\n\\n2021. godine. \\n\\nsuzdržanih). \\n\\nTočka 3. \\n\\nInformacije dekanice \\n\\nDekanica  prof.  dr.  sc.  Nina  Begičević  Ređep  je  zahvalila  Programskom  i  Organizacijskom \\n\\nodboru, posebno prof. dr. sc. Nevenu Vrčeku i doc. dr. sc. Petri Grd, na vrlo uspješnoj 32. \\n\\npo redu konferenciji CECIIS. \\n\\nTrenutno se, u organizaciji CPSRK-a, održava jubilarni 10. po redu Tjedan karijera na kojem \\n\\nje  prisutno  više  od  60  poslodavaca,  špancir  u  dvorištu  fakulteta,  panelice,  pozvana \\n\\npredavanja, radionice i ostala događanja namijenjena studentima. Interes studenata je vrlo \\n\\ndobar, poslodavci su iznimno zadovoljni i pohvale za Tjedan karijera pristižu sa svih strana. \\n\\nNa  sjednici  Senata  je  donesena  odluka  o  davanju  suglasnosti  dekanici  za  poduzimanje \\n\\npravnih radnju u ime i za račun Fakulteta u vrijednosti iznad 3 milijuna kuna radi potpisivanja \\n\\nugovora za Vilu Oršić. \\n\\nDekanica se  osvrnula na dvije važne projektne aktivnost koje  su prošli tjedan održane na \\n\\nFakultetu.  Prva  je  održan  program  za  studente  u  sklopu  projekta  IC4HEDS  –  Programi \\n\\nintenzivnog učenja za studente, a druga je održan sastanak 6 projektnih partnera na projektu \\n\\nWeRIn - Žene poduzetnice u regionalnim uključivim poduzetničkim ekosustavima. \\n\\nDekanica  je  zahvalila  prof.  dr.  sc.  Violeti  Vidaček  Hainš  na  intenziviranju  suradnje  s \\n\\npartnerskim sveučilištima u SAD-u te otvaranju mogućnosti za virtualnu mobilnost. \\n\\nPotvrda izbora šefa Katedre za teorijske i primijenjene osnove informacijskih znanosti \\n\\nza mandatno razdoblje ak. god. 2021./2022. i 2022./2023. \\n\\nTočka 4. \\n\\nČlanovi FV su, uz jedan suzdržani glas, prihvatili donošenje odluke u nastavku.  \\n\\nGlasanje  za  Točku  4.  dnevnog  reda  provelo  se  putem  LMS  sustava  Moodle,  od  ukupno  68 \\n\\nprisutnih članova FV, za donošenje odluke glasala su 62 člana FV (0 protiv, 1 suzdržani). \\n\\nNa osnovi članka 21. i 63. Statuta Fakulteta organizacije i informatike te članka 6. Pravilnika \\n\\no  ustrojstvu  i  radu  katedri  Fakulteta  organizacije  i  informatike,  Fakultetsko  vijeće,  na \\n\\nelektroničkoj sjednici održanoj dana 21. listopada 2021. godini, donijelo je \\n\\nPotvrđuje  se  izbor  prof.  dr.  sc.  ALENA  LOVRENČIĆA  za  šefa  Katedre  za  teorijske  i \\n\\nprimijenjene  osnove  informacijskih  znanosti  za  razdoblje  od  1.  studenog  2021.  do  30. \\n\\nrujna 2023. godine. \\n\\nODLUKU \\n\\nI. \\n\\nII. \\n\\n3 \\n\\n \\n \\n \\n \\n \\n \\n \\n \\n \\n \\n \\n \\n \\n\\x0cPrava i obveze šefova katedri određena su odredbama Pravilnika o ustrojstvu i radu katedri \\n\\nu Fakultetu organizacije i informatike. \\n\\nTočka 5. \\n\\nPreddiplomski i diplomski studij \\n\\n5.1.  Zahtjev izv. prof. dr. sc. Markusa Schattena za slobodnom studijskom godinom \\n\\nČlanovi FV jednoglasno su prihvatili donošenje odluke u nastavku.  \\n\\nGlasanje za Točku 5.1. dnevnog reda provelo se putem LMS sustava Moodle, od ukupno 68 \\n\\nprisutnih članova FV, za donošenje odluke glasala su 62 člana FV (0 protiv, 0 suzdržanih). \\n\\nNa  temelju  članka  90.  Statuta  Sveučilišta  u  Zagrebu  te  članaka  32.,  63.  i  117.  Statuta \\n\\nFakulteta  organizacije  i  informatike  Sveučilišta  u  Zagrebu,  Fakultetsko  vijeće  na \\n\\nelektroničkoj sjednici održanoj dana 21. listopada 2021. godine donijelo je  \\n\\nODLUKU \\n\\nObrazloženje \\n\\nZaposleniku dr. sc. MARKUSU SCHATTENU, izvanrednom profesoru Fakulteta organizacije i \\n\\ninformatike  odobrava  se  pravo  na  korištenje  slobodne  studijske  godine  (sabbaticala)  u \\n\\nakademskoj godini 2021./2022.  \\n\\nDr. sc. Markus Schatten, izvanredni profesor Fakulteta organizacije i informatike podnio je \\n\\nzahtjev za odobrenje korištenja slobodne studijske godine u akademskoj 2021./2022. godini. \\n\\nČlankom 90. stavkom 2. Statuta Sveučilišta u Zagrebu predviđeno je da zaposlenik izabran u \\n\\nznanstveno-nastavno ili umjetničko-nastavno zvanje redovitog ili izvanrednog profesora ima \\n\\ntemeljem  ugovora  o  radu  pravo  koristiti  plaćenu  studijsku  godinu  (sabbatical)  svakih  šest \\n\\ngodina rada na Sveučilištu ili njegovoj sastavnici, radi znanstvenog, stručnog ili umjetničkog \\n\\nusavršavanja ili pripremanja znanstvenog ili umjetničkog rada, uz uvjete predviđene općim \\n\\naktima i na osnovu odluke nadležnog vijeća, kojom se utvrđuje i način na koji Sveučilište ili \\n\\nnjegova sastavnica osigurava kontinuirano obavljanje nastave i ispunjavanje drugih obveza \\n\\nodsutnog zaposlenika. \\n\\nStatut Fakulteta organizacije i informatike u članku 117. propisuje da nastavnici izabrani u \\n\\nznanstveno-nastavno  zvanja  redovitog  ili  izvanrednog  profesora  mogu  nakon  svakih  šest \\n\\ngodina  rada  na  Fakultetu  koristiti  slobodnu  studijsku  godinu  za  znanstveno  i  stručno \\n\\nusavršavanje ili za znanstveno-stručni rad. Slobodna studijska godina odobrava se nastavniku \\n\\nu skladu s planom korištenja koji donosi Fakultetsko vijeće. Fakultet je dužan za vrijeme \\n\\nkorištenja  slobodne  studijske  godine  organizirati  kontinuirano  izvođenje  nastave  te \\n\\nispunjavanje  drugih  obveza  umjesto  odsutnog  nastavnika.  Slobodnu  studijsku  godinu \\n\\nodobrava Fakultetsko vijeće. \\n\\nTemeljem svega navedenog imenovani je dostavio svu potrebnu dokumentaciju i obrazložio \\n\\nsvoj zahtjev te je donijeta odluka kao u dispozitivu. \\n\\n5.2. \\n\\nSuglasnosti za prekovremeni rad asistenata \\n\\nProf. dr.  sc.  Diana  Šimić  kazala  je  da  je  dužnost institucije  minimizirati prekonormni rad \\n\\nasistenata i u to bi se trebali uložiti maksimalni napori. Dekanica je na to dodala da se broj \\n\\nprekovremenih  sati  asistenata  smanjio  za  30-40%,  da  je  u  zadnje  dvije  godine  dobiveno \\n\\nnekoliko  koeficijenata  za  zapošljavanje  novih  asistenata,  da  je  upućen  novi  zahtjev  za \\n\\ndodatnim koeficijentima te se kontinuirano radi na smanjenju prekovremenih sati. Glavni \\n\\nproblem je nekonkurentnost plaće na fakultetu u odnosu prema IT sektoru i pokušava se kroz \\n\\nrazličite  modele  riješiti  problem  sve  težeg  zapošljavanja  kvalitetnog  kadra  na  fakultetu, \\n\\n4 \\n\\n \\n \\n \\n \\n \\n \\n \\n \\n \\n\\x0cprimjerice projektna zapošljavanja na više plaće, model 50-50 s IT tvrtkama partnerima i \\n\\ndr. \\n\\nČlanovi FV su, uz 5 suzdržanih glasova, prihvatili donošenje odluke u nastavku.  \\n\\nGlasanje za Točku 5.2. dnevnog reda provelo se putem LMS sustava Moodle, od ukupno 68 \\n\\nprisutnih članova FV, za donošenje odluke glasalo je 55 članova FV (0 protiv, 5 suzdržanih). \\n\\nTemeljem  članka  65.  Zakona  o  radu  (NN  93/14,  127/17,  98/19),  članka  88.  stavka  4. \\n\\nKolektivnog  ugovora  za  znanost  i  visoko  obrazovanje  (NN  9/2019)  i  članka  63.  Statuta \\n\\nFakulteta organizacije i informatike, Fakultetsko vijeće na elektroničkoj sjednici održanoj \\n\\ndana 21. listopada 2021. godine daje sljedeće  \\n\\nODOBRENJE \\n\\nZa prekovremeni rad asistenata/asistentica Fakulteta organizacije i informatike u razdoblju \\n\\nod  01.10.2021.  do  30.09.2022.,  a  temeljem  članka  88.  stavka  4.  Kolektivnog  ugovora  za \\n\\nznanost i visoko obrazovanje koji propisuje da je za prekovremeni rad asistenata potrebno \\n\\nodobrenje stručnog vijeća uz prethodnu suglasnost radničkog odnosno zaposleničkog vijeća \\n\\nustanove te pristanak samog asistenta i njegovog mentora. \\n\\nSuglasnost  Fakultetskog  vijeća  daje  se  za  sljedeće  asistente/asistentice  Fakulteta \\n\\norganizacije i informatike: \\n\\nBosak Mihaela \\n\\nBubanić Marijana \\n\\nBuhin Pandur Maja \\n\\nČižmešija Antonela \\n\\nDvorski Lacković Ivana \\n\\nFojs Ivana \\n\\nHrustek Larisa \\n\\nKaniški Matija \\n\\nKlemenčić Damjan \\n\\nKokot Karolina \\n\\nKrižanić Snježana \\n\\nKutnjak Ana \\n\\nLevak Iva \\n\\nMilić Luka \\n\\nNovak Ema \\n\\nPeharda Tomislav \\n\\nPikl Lorena \\n\\nPopović Elvis \\n\\nPosarić Nikolina \\n\\nSekovanić Vlatka \\n\\nSobodić Aleksandra \\n\\nŠlibar Barbara \\n\\nSvi  gore  navedeni  asistenti/asistentice  i  njihovi  mentori/mentorice  dali  su  pristanak  za \\n\\nprekovremeni rad te je sindikalna povjerenica Fakulteta organizacije i informatike mr.sc. \\n\\nTanja Šestanj Perić, koja je preuzela sva prava i obveze radničkog vijeća, dala prethodnu \\n\\nsuglasnost za prekovremeni rad. \\n\\n5.3.  Promjene nositeljstava i ovlaštenja za izvođenje nastave u ak. god. 2021./2022. \\n\\nČlanovi FV jednoglasno su prihvatili promjene nositeljstava i ovlaštenja za izvođenje nastave \\n\\nu ak. god. 2021./2022.  \\n\\nGlasanje za Točku 5.3. dnevnog reda provelo se putem LMS sustava Moodle, od ukupno 68 \\n\\nprisutnih  članova  FV,  za  prihvaćanje  promjena  nositeljstava  i  ovlaštenja  za  izvođenje \\n\\nnastave glasalo je 56 članova FV (0 protiv, 0 suzdržanih). \\n\\n5.4. \\n\\nIzvješća o radu katedri za ak. god. 2020./2021. \\n\\nProdekanica  prof.  dr.  sc.  Sandra  Lovrenčić  prezentirala  je  izvješća  katedri  za  prethodnu \\n\\nakademsku godinu. \\n\\n5.5.  Odluka o upisnim kriterijima za preddiplomske studije za ak. god. 2022./2023. \\n\\nČlanovi FV jednoglasno su prihvatili donošenje odluke u nastavku.  \\n\\n5 \\n\\n \\n \\n \\n \\n \\n \\n \\n \\n \\n\\x0cGlasanje za Točku 5.5. dnevnog reda provelo se putem LMS sustava Moodle, od ukupno 68 \\n\\nprisutnih članova FV, za donošenje odluke glasalo je 60 članova FV (0 protiv, 0 suzdržanih). \\n\\nTemeljem  članka  63.  Statuta  Sveučilišta  u  Zagrebu,  Fakultetsko  vijeće  Fakulteta \\n\\norganizacije i informatike je na elektroničkoj sjednici održanoj 21. listopada 2021. godine \\n\\ndonijelo sljedeću \\n\\nODLUKU \\n\\no upisnim kriterijima na preddiplomske studije u akademskoj godini 2022./2023. \\n\\nPREDDIPLOMSKI SVEUČILIŠNI STUDIJ INFORMACIJSKI I POSLOVNI SUSTAVI \\n\\nZa upis se mogu prijaviti pristupnici koji su završili srednju školu u trajanju od 4 godine.  \\n\\nRang-lista  prijavljenih  kandidata  za  upis  na  studijski  program  (REDOVITI  STUDIJ  i \\n\\nIZVANREDNI STUDIJ) sastavlja se prema sljedećem sustavu bodovanja: \\n\\n1.  Bodovi temeljem ocjena iz srednje škole    \\n\\n35 % \\n\\n2.  Bodovi temeljem položenih ispita državne mature  \\n\\no  Hrvatski jezik  \\n\\no  Matematika  \\n\\no \\n\\nInformatika  \\n\\nB razina \\n\\nA razina \\n\\n15 %  \\n\\n35 %  \\n\\n(nije obavezno)     15 %  \\n\\n3.  Provjera posebnih sposobnosti se ne provodi i ne ostvaruju se bodovi.  \\n\\n4.  Temeljem dodatnih učeničkih postignuća ostvaruje se izravan upis - 100% bodova  \\n\\no  osvojeno  jedno  mjesto  od  prva  tri  mjesta  na  državnom  natjecanju  u  RH  iz \\n\\npredmeta Informatika ili Matematika ili Fizika ili Kemija  \\n\\no  sudjelovanje na međunarodnoj olimpijadi iz predmeta Informatika ili Matematika \\n\\nili Fizika ili Kemija \\n\\no  na prijedlog srednje škole iz RH koja je odlukom Fakultetskog vijeća FOI-a stekla \\n\\npravo predlaganja najboljih učenika  \\n\\nPREDDIPLOMSKI  STRUČNI  STUDIJ  PRIMJENA \\n\\nINFORMACIJSKE  TEHNOLOGIJE  U \\n\\nPOSLOVANJU \\n\\nNapomena: Nakon provedene procedure promjene postojećeg naziva u Upisniku studijskih \\n\\nprograma  Republike  Hrvatske  pri  Ministarstvu  znanosti  i  obrazovanja  naziv  studijskog \\n\\nprograma bit će Informacijske tehnologije i digitalizacija poslovanja (ITDP). \\n\\nZa upis se mogu prijaviti pristupnici koji su završili srednju školu u trajanju od 4 godine.  \\n\\nRang-lista prijavljenih kandidata za upis na studij PITUP (REDOVITI i IZVANREDNI STUDIJ) \\n\\nsastavlja se prema sljedećem sustavu bodovanja: \\n\\n1.  Bodovi temeljem ocjena iz srednje škole \\n\\n2.  Bodovi temeljem položenih ispita državne mature  \\n\\n40% \\n\\no  Hrvatski jezik  \\n\\no  Matematika  \\n\\no \\n\\nInformatika \\n\\nB razina \\n\\nB razina \\n\\n(nije obavezno) \\n\\n20%  \\n\\n30%  \\n\\n10% \\n\\n3.  Provjera posebnih sposobnosti se ne provodi i ne ostvaruju se bodovi.  \\n\\n4.  Temeljem dodatnih učeničkih postignuća ostvaruje se izravan upis - 100% bodova  \\n\\no  osvojeno  jedno  mjesto  od  prva  tri  mjesta  na  državnom  natjecanju  u  RH  iz \\n\\npredmeta Informatika ili Matematika ili Fizika ili Kemija  \\n\\no  sudjelovanje na međunarodnoj olimpijadi iz predmeta Informatika ili Matematika \\n\\nili Fizika ili Kemija \\n\\no  na prijedlog srednje škole iz RH koja je odlukom Fakultetskog vijeća FOI-a stekla \\n\\npravo predlaganja najboljih učenika  \\n\\nPREDDIPLOMSKI SVEUČILIŠNI STUDIJ EKONOMIKA PODUZETNIŠTVA  \\n\\nZa upis se mogu prijaviti pristupnici koji su završili srednju školu u trajanju od 4 godine.  \\n\\n6 \\n\\n \\n \\n \\n \\n \\n   \\n \\n   \\n \\n   \\n \\n \\n \\n   \\n \\n   \\n \\n   \\n \\n\\x0cRang-lista  prijavljenih  kandidata  za  upis  na  studijski  program  (REDOVITI  i  IZVANREDNI \\n\\nSTUDIJ) sastavlja se prema sljedećem sustavu bodovanja: \\n\\n1.  Bodovi temeljem ocjena iz srednje škole    \\n\\n45 % \\n\\n2.  Bodovi temeljem položenih ispita državne mature  \\n\\no  Hrvatski jezik  \\n\\no  Matematika  \\n\\nA razina \\n\\nB razina \\n\\n25 %  \\n\\n30%  \\n\\n3.  Provjera posebnih sposobnosti se ne provodi i ne ostvaruju se bodovi.  \\n\\n4.  Temeljem dodatnih učeničkih postignuća ostvaruje se izravan upis – 100% bodova \\n\\no  osvojeno  jedno  mjesto  od  prva  tri  mjesta  na  državnom  natjecanju  u  RH  iz \\n\\npredmeta Informatika ili Matematika ili Fizika ili Kemija ili Geografija \\n\\no  sudjelovanje na međunarodnoj olimpijadi iz predmeta Informatika ili Matematika \\n\\no  na prijedlog srednje škole iz RH koja je odlukom Fakultetskog vijeća FOI-a stekla \\n\\nili Fizika ili Kemija ili Geografija \\n\\npravo predlaganja najboljih učenika \\n\\nStudente su postavili pitanje da li uprava razmišlja o promjeni modela nastave zbog porasta \\n\\nbroja zaraženih te upućuju na problem smještaja zaraženih studenata.  Prodekanica prof. \\n\\ndr. sc. Sandra Lovrenčić obrazložila je da se redovito prati stanje s brojem novozaraženih te \\n\\nće se, u slučaju daljnjeg rasta brojki, predavanja održavati online. Planira se i postavljanje \\n\\nQR kodova na klupe, kako bi se studenti mogli prijaviti i kako bi bilo lakše pratiti kontakte u \\n\\nNije se uspjelo pronaći rješenje na razini grada za zaražene studente, ali intenzivirat će se \\n\\nProdekanica  je  prezentirala  tabele  s  brojevima  studenata  upisanih  u  1.  godine  studija  te \\n\\nslučaju zaraze. \\n\\npregovori s Gradom i Stožerom. \\n\\nukupni broj studenata. \\n\\nOsvrnula  se  na  izvješća  Centra  za  volontiranje  i  humanitarni  rad  i  Ureda  za  studente  s \\n\\ninvaliditetom,  uz  zahvalu  prof.  dr.  sc.  Violeti  Vidaček  Hainš  na  psihološkom  savjetovanju \\n\\nkoje  je  održavala  za  studente  u  sklopu  Ureda,  a  za  koje  je  u  zadnje  vrijeme  postojala \\n\\npovećana potreba. \\n\\nobavijestili studenti. \\n\\nProdekanica je zamolila nastavnike da provjere  tablice s terminima i načinom održavanja \\n\\nkolokvija  te  jave  eventualne  izmjene  kako  bi  se  podaci  ažurirali  na  vrijeme  i  o  tome \\n\\nTočka 6. \\n\\nStudijski programi \\n\\n6.1.  Donošenje Pravilnika o završnom radu na preddiplomskim studijima i diplomskom \\n\\nradu na diplomskim studijima FOI-ja \\n\\nProdekan  prof.  dr.  sc.  Dragutin  Kermek  prezentirao  je  prijedlog  novog  Pravilnika  uz \\n\\nobrazloženje  svih  promjena  u  odnosu  na  staru  verziju,  nakon  čega  se  povela  se  kratka \\n\\nrasprava o roku za prihvaćanje tema na katedrama.  \\n\\nČlanovi FV su, uz jedan suzdržani glas, prihvatili donošenje Pravilnika o završnom radu na \\n\\npreddiplomskim studijima i diplomskom radu na diplomskim studijima FOI-ja.  \\n\\nGlasanje za Točku 6.1. dnevnog reda provelo se putem LMS sustava Moodle, od ukupno 68 \\n\\nprisutnih članova FV, za donošenje Pravilnika glasala su 63 člana FV (0 protiv, 1 suzdržani). \\n\\n7 \\n\\n \\n \\n \\n   \\n \\n   \\n \\n \\n \\n \\n \\n \\n \\n \\n \\n\\x0c6.2.  Donošenje  Odluke  o  kvotama  po  modulima  i  izbornim  predmetima  modula  za \\n\\nstudijski  program  preddiplomskog  sveučilišnog  studija  Informacijski  i  poslovni \\n\\nsustavi \\n\\nNakon što je prodekan prof. dr. sc. Dragutin Kermek predstavio prijedlog odluke, povela se \\n\\nrasprava na temu važnosti modula za studij, nastavnike, njihovu normu, mogućnost izbora \\n\\nstudenata i dr. Također se raspravljalo o početku primjene odluke te o izbornosti za studente \\n\\ni  kvaliteti  izvođenja  nastave  u  slučaju  definiranja  kvota  s  obzirom  na  opterećenost \\n\\nnastavnika. U raspravi su sudjelovali prof. dr. sc. Diana Šimić, prof. dr. sc. Alen Lovrenčić, \\n\\nizv.  prof.  dr.  sc.  Renata  Mekovec,  izv.  prof.  dr.  sc.  Ivan  Magdalenić,  prof.  dr.  sc.  Neven \\n\\nVrček, prof. dr. sc. Vjeran Strahonja, doc. dr. sc. Goran Hajdin, doc. dr. sc. Mladen Konecki \\n\\ni prof. dr. sc. Dragutin Kermek. \\n\\nČlanovi FV nisu prihvatili donošenje odluke o kvotama po modulima i izbornim predmetima \\n\\nmodula  za  studijski  program  preddiplomskog  sveučilišnog  studija  Informacijski  i  poslovni \\n\\nsustav. \\n\\nGlasanje za Točku 6.2. dnevnog reda provelo se putem LMS sustava Moodle, od ukupno 68 \\n\\nprisutnih  članova  FV,  protiv  donošenja  odluke  glasalo  je  16  članova  FV,  19  ih  je  bilo \\n\\nsuzdržanih, dok je njih 29 bilo za. \\n\\n6.3.  Odluka o načinu priznavanja položenih predmeta na sveučilišnim preddiplomskim \\n\\nstudijima  Informacijski  sustavi  i  Poslovni  sustavi  (verzija  1.1),  sveučilišnom \\n\\npreddiplomskom  studiju  Informacijski  i  poslovni  sustavi  (verzija  1.2),  stručnom \\n\\npreddiplomskom studiju Primjena informacijske tehnologije u poslovanju (verzija \\n\\n1.2.)  koji  nemaju  nasljednike  na  stručnom  preddiplomskom  studiju  Primjena \\n\\ninformacijske tehnologije u poslovanju/ Informacijske tehnologije i digitalizacija \\n\\nposlovanja (verzija 1.3.) \\n\\nProf. dr. sc. Blaženka Divjak je podsjetila na potrebu programske povezanosti predmeta tj. \\n\\nsustav  preduvjeta  za  upis  predmeta  te  je  ukazala  na  problem  na  predmetu  Matematičke \\n\\nmetode za informatičare gdje je studentima koji nisu položili Matematiku 2 omogućen upis \\n\\npa  će  studentima  propasti  rokovi.  Molila  je  da  se  prilikom  donošenja  ovakvih  odluka \\n\\nkonzultiraju nositelji predmeta i da se sve dodatno analizira i diskutira kako studenti ne bi \\n\\nimali dodatnih problema. \\n\\nSličnu situaciju je na svojim predmetima primijetio i prof. dr. sc. Alen Lovrenčić te zamolio \\n\\nozbiljno sagledavanje nastalog problema  jer studenti nisu u mogućnosti adekvatno pratiti \\n\\nnastavu. \\n\\nProdekan prof. dr. sc. Dragutin Kermek odgovorio je da je pravilnik donesen prošle godine \\n\\nnakon niza sastanaka i rasprava u kojima su svi sudjelovali. Mislilo se da je to dobra varijanta, \\n\\nali ako se pokaže da nije, ići će se s izmjenama. \\n\\nČlanovi FV jednoglasno su prihvatili donošenje odluke u nastavku.  \\n\\nGlasanje za Točku 6.3. dnevnog reda provelo se putem LMS sustava Moodle, od ukupno 68 \\n\\nprisutnih članova FV, za donošenje odluke glasao je 61 član FV (0 protiv, 0 suzdržanih). \\n\\nTemeljem  članka  63.  Statuta  Fakulteta  organizacije  i  informatike  Sveučilišta  u  Zagrebu \\n\\n(dalje  u  tekstu:  Fakultet),  Fakultetsko  vijeće  je  na  elektroničkoj  sjednici  održanoj  21. \\n\\nlistopada 2021. godine donijelo sljedeću \\n\\nO D L U K U \\n\\no načinu priznavanja položenih predmeta na sveučilišnim preddiplomskim studijima \\n\\nInformacijski sustavi i Poslovni sustavi (verzija 1.1), sveučilišnom preddiplomskom \\n\\nstudiju Informacijski i poslovni sustavi (verzija 1.2), stručnom preddiplomskom studiju \\n\\nPrimjena informacijske tehnologije u poslovanju (verzija 1.2.) koji nemaju nasljednike \\n\\n8 \\n\\n \\n \\n \\n \\n \\n \\n\\x0cna stručnom preddiplomskom studiju Primjena informacijske tehnologije u poslovanju/ \\n\\nInformacijske tehnologije i digitalizacija poslovanja (verzija 1.3.) \\n\\nOvom  Odlukom  uređuju  se  načini  priznavanja  položenih  predmeta  na  sveučilišnim \\n\\npreddiplomskim studijima Informacijski sustavi i Poslovni sustavi (verzija 1.1), sveučilišnom \\n\\npreddiplomskom  studiju \\n\\nInformacijski \\n\\ni  poslovni  sustavi  (verzija  1.2),  stručnom \\n\\npreddiplomskom studiju Primjena informacijske tehnologije u poslovanju (verzija 1.2.) koji \\n\\nnemaju nasljednike na stručnom preddiplomskom studiju Primjena informacijske tehnologije \\n\\nu poslovanju/Informacijske tehnologije i digitalizacija poslovanja (verzija 1.3.). \\n\\nZa priznavanje položenih predmeta koristi se Registar priznavanja predmeta za prijelaz sa \\n\\nsveučilišnih preddiplomskih studija Informacijski sustavi i Poslovni sustavi (v 1.1) na stručni \\n\\npreddiplomski  studij  Primjena  informacijske  tehnologije  u  poslovanju  (v  1.3.),  sa \\n\\nsveučilišnog preddiplomskog studijskog programa Informacijski sustavi i poslovni sustavi (v \\n\\n1.2) na stručni preddiplomski studij Primjena informacijske tehnologije u poslovanju (v 1.3) \\n\\ni  sa  stručnog  preddiplomskog  studija  Primjena  informacijske  tehnologije  u  poslovanju \\n\\n(verzija  1.2.)  na  stručni  preddiplomski  studij  Primjena  informacijske  tehnologije  u \\n\\nposlovanju/  Informacijske tehnologije  i digitalizacija poslovanja (v  1.3.) (u daljem  tekstu \\n\\nRegistar) \\n\\nStudenti  koji  su  položili  predmete  na  studijima  iz  stavka  1.  ovog  članka  koji  u  Registru \\n\\nnemaju nasljednike mogu zatražiti priznavanje takvih predmeta kao zamjena za zajedničke \\n\\nizborne  predmete  u  3.  i  4.  semestru,  za  izborne  predmete  u  upisanom  modulu  u  5.  i  6. \\n\\nsemestru. To znači da kod upisa u 3., 4., 5. i 6. semestar na taj način mogu najviše iskoristiti \\n\\n3 ECTS boda po semestru, odnosno ukupno 12 ECTS bodova. \\n\\nOva  Odluka  stupa  na  snagu  danom  donošenja  i  primjenjuje  se  od  akademske  godine \\n\\n2021./2022. \\n\\nPoslijediplomski doktorski i specijalistički studij \\n\\nTočka 7. \\n\\nProf. dr. sc. Diana Šimić informirala je članove FV-a o pristigloj preporuci Senata Sveučilišta \\n\\nu  Zagrebu  da  se  odobrava  produžetak  rokova  za  završetak  poslijediplomskih  sveučilišnih \\n\\nstudija za vrijeme trajanja epidemije bolesti Covid -19, uzrokovane virusom SARS-Cov-2 do \\n\\ndana proglašenja prestanka epidemije. Predloženo je da se produženja tj. mirovanja studija \\n\\nrješavaju na individualnoj razini kako će zamolbe pristizati. \\n\\nProf. dr. sc. Diana Šimić je obrazložila odluku o izvođenju nastave na doktorskom studiju za \\n\\nzimski semestar 2021./2022. te upute koje su dio odluke. \\n\\nZnanstvenoistraživačka djelatnost i međunarodna suradnja \\n\\nTočka 8. \\n\\nProdekan izv. prof. dr. sc. Igor Balaban se osvrnuo na izvješća koja se nalaze u materijalima, \\n\\ns posebnim naglaskom na izvješće prof. dr. sc. Violete Vidaček Hainš s akademske mobilnosti \\n\\nna  Sveučilištu  Penn  State  u  State  College  u  Pensilvaniji  i  posjeta  Sveučilištu  Carlow  u \\n\\nPittsburghu. Prodekan je najavio mail s detaljnijim informacijama o mogućnostima virtualne \\n\\nmobilnosti studenata u suradnji s partnerskim Sveučilištima u SAD-u. \\n\\nI. \\n\\nII. \\n\\nIII. \\n\\n9 \\n\\n \\n \\n \\n \\n \\n \\n \\n \\n \\n \\n\\x0cProdekan je čestitao studentima dobitnicima Rektorove nagrade te se nada da će ove godine \\n\\nbiti više prijava. \\n\\nTrenutno imamo 14 aktivnih projektnih prijava, njih 10 je u fazi evaluacije, 1 projekt je već \\n\\nodobren te zahvaljuje svima na projektnom angažmanu. \\n\\nTakođer  zahvaljuje  svim  nastavnicima  koji  izvode  nastavu  na  engleskom  jeziku.  Ovaj \\n\\nsemestar na Fakultetu imamo 9 dolaznih studenata, dok se idući semestar očekuje njih preko \\n\\n20.  \\n\\nProdekan je podsjetio članove FV-a na Time4Science koji će se održati ovaj četvrtak, te se \\n\\nosvrnuo na održanu konferenciju  CECIIS koja je,  s obzirom na  trenutnu  situaciju izazvanu \\n\\nCOVID-19, postigla zadovoljavajuće rezultate. Pristiglo je preko 40 radova, preko 100 autora, \\n\\npuno  recenzenata,  lijep  broj  publike  je  pratio  konferenciju  u  sklopu  koje  je  bilo  raznih \\n\\ndogađanja. Izvješće o konferenciji će biti spremno za idući sjednicu.  \\n\\nNa pitanje studenta o mogućnostima uključivanja studenata u Studentski gaming hub, izv. \\n\\nprof.  dr.  sc.  Mario  Konecki  je  obrazložio  da  će  se  studenti  moći  uključiti  u  projekte \\n\\nLaboratorija.  Također  naglasio  je  da  je  dobiven  i  projekt  „Izrada  kurikuluma,  nastavnih \\n\\nmaterijala i provedba programa obrazovanja iz područja razvoja videoigara“ na natječaju \\n\\nza regionalne centre kompetentnosti u suradnji s Algebrom i FER-om. \\n\\nSpomenuto je da je na natječaju za regionalne centre kompetentnosti FOI dobio i projekt \\n\\n„Uspostava  Regionalnog  centra  kompetentnosti  inovativnih  zdravstvenih  tehnologija  pri \\n\\nMedicinskoj školi Varaždin“, a u sklopu kojeg će sudjelovati stručnjaci FOI-ja (prof. dr. sc. \\n\\nBlaženka Divjak, prof. dr. sc. Marina Klačmer Čalopa, prof. dr. sc. Valentina Kirinić i prof. \\n\\ndr. sc. Nina Begičević Ređep). \\n\\nDekanica  je  spomenula  napredak  na  projektu  LoMI  na  kojem  je  FOI  partner,  a  na  kojem \\n\\nFakultet  prometnih  znanosti  i  Fakultet  strojarstva  i  brodogradnje,  razvijaju  studijski \\n\\nprogram iz područja logistike, a FOI je uključen s nekoliko izbornih predmeta. \\n\\nTočka 9. \\n\\nInformacije o poslovanju \\n\\n9.1.  Donošenje Odluke o funkcionalnom dodatku za poslovodni kolegij FOI-ja \\n\\nČlanovi FV jednoglasno su prihvatili donošenje odluke u nastavku.  \\n\\nGlasanje za Točku 9.1. dnevnog reda provelo se putem LMS sustava Moodle, od ukupno 68 \\n\\nprisutnih članova FV, za donošenje odluke glasalo je 58 članova FV (0 protiv, 0 suzdržanih). \\n\\nTemeljem članka 63. Statuta Fakulteta organizacije i informatike i članka 16. Pravilnika o \\n\\nraspodjeli  vlastitih  prihoda  i  prihoda  za  posebne  namjene  Fakulteta  organizacije  i \\n\\ninformatike na elektroničkoj sjednici Fakultetskog vijeća održanoj dana 21. listopada 2021. \\n\\ngodine donijeta je sljedeća \\n\\nOdređuje se funkcionalni dodatak članovima Uprave Fakulteta u iznosu 15% osnovne plaće \\n\\nza razdoblje od 1. listopada 2021. godine do 30. rujna 2023. godine, zbog povećanog opsega \\n\\nposlova.  Članovi  Uprave  Fakulteta  u  užem  sastavu  sukladno  članku  50.  stavku  2.  Statuta \\n\\nFakulteta jesu dekan, prodekani i tajnik Fakulteta. \\n\\nTemeljem navedenog dodatak se određuje za sljedeće zaposlenike Fakulteta: \\n\\n1.  Prof. dr. sc. Nina Begičević Ređep, dekanica Fakulteta \\n\\n2.  Prof. dr. sc. Dragutin Kermek, prodekan za studijske programe \\n\\n3.  Prof. dr. sc. Marina Klačmer Čalopa, prodekanica za poslovanje i ljudske potencijale \\n\\n4.  Prof. dr. sc. Sandra Lovrenčić, prodekanica za nastavu i studente \\n\\nODLUKA \\n\\nI. \\n\\n10 \\n\\n \\n \\n \\n \\n \\n \\n \\n\\x0c5.  Izv. prof. dr. sc. Igor Balaban, prodekan za znanost, projekte i međunarodnu suradnju \\n\\n6.  Tatjana Zrinski, univ.spec.iur., tajnica Fakulteta \\n\\nTemelj  za  obračun  plaće  iz  točke  I.  ove  Odluke  je  bruto  osnovica  zaposlenika  prema \\n\\nobračunu Ministarstva znanosti i obrazovanja za odgovarajući mjesec. \\n\\nDodaci na plaću, koji su predmet ove Odluke, uvjetovani su dodatnim angažmanom \\n\\nnavedenih zaposlenika iz točke I. ove Odluke. \\n\\nOva Odluka stupa na snagu danom donošenja, a primjenjuje se od 1. listopada 2021. do \\n\\n30. rujna 2023. godine. \\n\\nII. \\n\\nIII. \\n\\nIV. \\n\\nProdekanica  prof.  dr.  sc.  Marina  Klačmer  Čalopa  prezentirala  je  izvješće  o  suradnji  s \\n\\nMicrosoftom. \\n\\nDodala  je  da  je  u  tijeku  javni  natječaj  za  radove  na  Vili  Oršić  te  kako  će  se  ugovor  s \\n\\nodabranim izvođačem potpisati do kraja studenog.  \\n\\nProdekanica  je  pozvala  sve  prisutne  da  se  odazovu  Tjednu  karijera,  da  posjete  šator  na \\n\\nparkingu Fakulteta i podrže CPSRK kojem zahvaljuje na cjelokupnoj organizaciji i trudu. \\n\\nIsplaćena je druga rata prekovremenih sati iz 2020./2021. akad. godine, što je omogućeno \\n\\nzahvaljujući  dobrom  poslovanju,  jer  zadnja  rata  participacije  za  prethodnu  akademsku \\n\\ngodinu  još  nije  uplaćena,  a  radi  se  iznosu  od  2  milijuna  kuna.  Od  01.  listopada  za  dvoje \\n\\nposlijedoktoranda osiguran je puni koeficijent, čime je riješen problem asistenata koji su \\n\\nbili financirani iz vlastitih sredstava i sredstava sveučilišta (60:40), a time su napravljene i \\n\\ndodatne uštede za FOI.    \\n\\nDonošenje Pravilnika o nagradama i priznanjima \\n\\nTočka 10. \\n\\nDekanica je zamolila članove FV-a da ne bude duga diskusija, s obzirom da je pravilnik već \\n\\ndiskutiran na sastancima na katedrama te moli članove da ga prihvate. \\n\\nProf.  dr.  sc.  Alen  Lovrenčić  ukratko  je  obrazložio  kako  se  pravilnik  pripremao  i  iznio  je \\n\\nključne izmjene u novom Pravilniku, u odnosu na stari Pravilnik. Prošao je kroz primjedbe \\n\\nkatedri  te  argumentirao  prihvaćanje  i  odbijanje  pojedinih  prijedloga  od  strane  radne \\n\\nskupine. \\n\\nPovela se rasprava u kojoj su sudjelovali izv. prof. dr. sc. Mario Konecki, prof. dr. sc. Violeta \\n\\nVidaček  Hainš,  prof.  dr.  sc.  Goran  Bubaš,  student  Jerry  John  Antolos  i  prof.  dr.  sc.  Alen \\n\\nLovrenčić. Glavna tema rasprave bilo je priznanje za volontiranje i (ili) humanitarni rad te \\n\\nsu pojedini članovi FV predložili da se umjesto priznanja dodijeli nagrada za volontiranje i \\n\\nČlanovi FV su, uz 3 glasa protiv i 16 suzdržanih, prihvatili donošenje Pravilnika o nagradama \\n\\n(ili) humanitarni rad.  \\n\\ni priznanjima.  \\n\\nGlasanje za Točku 10. dnevnog reda provelo se putem LMS sustava Moodle,  od ukupno 68 \\n\\nprisutnih članova FV, za donošenje Pravilnika glasao je 41 član FV (3 protiv, 16 suzdržanih). \\n\\n11 \\n\\n \\n \\n \\n \\n \\n \\n \\n \\n \\n \\n \\n \\n \\n\\x0cDonošenje Odluke o imenovanju članova povjerenstva za dodjelu nagrada i priznanja \\n\\nTočka 11. \\n\\nza Dan Fakulteta \\n\\nDekanica je, nakon iznesenog prijedloga povjerenstva, dodala da će, u slučaju da ne bude \\n\\nizglasan  novi  pravilnik  o  nagradama  i  priznanjima,  povjerenstvo  raditi  prema  starom \\n\\npravilniku. \\n\\nČlanovi FV jednoglasno su prihvatili donošenje odluke u nastavku.  \\n\\nGlasanje za Točku 11. dnevnog reda provelo se putem LMS sustava Moodle,  od ukupno 68 \\n\\nprisutnih članova FV, za donošenje odluke glasalo je 59 članova FV (0 protiv, 0 suzdržanih). \\n\\nTemeljem  članka  63.  Statuta  Fakulteta  organizacije  i  informatike  Sveučilišta  u  Zagrebu, \\n\\nFakultetsko vijeće na sjednici održanoj dana 21. listopada 2021. godine donijelo je sljedeću  \\n\\nODLUKU \\n\\nOsniva se Povjerenstvo za dodjelu nagrada i priznanja na Fakultetu organizacije i informatike \\n\\nu sastavu: \\n\\n1.  Prof. dr. sc. Nina Begičević Ređep – predsjednica \\n\\n2.  Prof. dr. sc. Alen Lovrenčić – član \\n\\n3.  Prof. dr. sc. Blaženka Divjak – članica \\n\\n4.  Izv. prof. dr. sc. Vladimir Kovšca - član \\n\\n5.  Izv. prof. dr. sc. Renata Mekovec – članica \\n\\n6.  Izv. prof. dr. sc. Ivan Magdalenić – član \\n\\n7.  Izv. prof. dr. sc. Igor Pihir – član \\n\\n8.  Dr. sc. Andreja Kovačić – članica \\n\\n9.  Ivica Gašparac, mag. inf. - član \\n\\n10. Marin Oroz, student - član \\n\\nPovjerenstvo ima sljedeće zadatke: \\n\\n-  pokrenuti  postupak  za  dodjelu  nagrada  i  priznanja  objavom  poziva  na  podnošenje \\n\\nprijedloga za dodjelu nagrada, priznanja i povelje „Prijatelj Fakulteta organizacije i \\n\\ninformatike“ \\n\\n-  ocijeniti pristigle prijedloge \\n\\n-  predložiti Fakultetskom vijeću predloženike za nagrade, priznanja i povelju „Prijatelj \\n\\nFakulteta organizacije i informatike“ \\n\\nTočka 12. \\n\\nInformacije Studentskog zbora FOI-ja \\n\\nPredsjednik  Studentskog  zbora  Marin  Oroz  kazao  je  kako  su  svi  odbori  Studentskog  zbora \\n\\nkonstituirani i može se krenuti s radom.  \\n\\nTrenutno se radi na organizaciji Tjedna brucoša i pub kviza, a osvrnuo se na organizirano \\n\\ndarivanje krvi i kestenijadu koji su se održali prošli tjedan.  \\n\\nU planu je organizacija studentskih projekata i trenutno se radi na finaliziranju prijava za \\n\\nnatječaj koji je raspisan do kraja listopada. \\n\\n12 \\n\\n \\n \\n \\n \\n \\n \\n \\n \\n \\n \\n \\n \\n \\n \\n\\x0cIzvješće s javnog razgovora Antonele Čižmešija \\n\\nTočka 13. \\n\\nČlanovi FV jednoglasno su prihvatili donošenje odluke u nastavku.  \\n\\nGlasanje za Točku 13. dnevnog reda provelo se putem LMS sustava Moodle,  od ukupno 68 \\n\\nprisutnih  članova  FV,  pravo glasa po  toj  točki imalo  je  ukupno  56 članova,  od kojih  je  za \\n\\nprihvaćanje odluke glasalo 47 članova FV (0 glasova protiv, 0 suzdržanih). \\n\\nFakultetsko  vijeće  Fakulteta  organizacije  i  informatike  Sveučilišta  u  Zagrebu,  temeljem \\n\\nčlanka 73. stavak 3. Zakona o znanstvenoj djelatnosti i visokom obrazovanju (NN 123/03, \\n\\n198/03,  105/04,  174/04,  02/07,  46/07,  45/09,  63/11,  94/13,  139/13,  101/14,  60/15, \\n\\n131/17), članka 63. Statuta Fakulteta organizacije i informatike i članka 32. i 33. Pravilnika \\n\\no  poslijediplomskom  sveučilišnom  (doktorskom)  studiju  na  FOI,  na  elektroničkoj  sjednici \\n\\nodržanoj 21. listopada 2021. godine donosi: \\n\\nODLUKU \\n\\nI. \\n\\nANTONELI  ČIŽMEŠIJA,  studentici  poslijediplomskog  sveučilišnog  doktorskog  studija \\n\\nInformacijske  znanosti  –  matični  broj  D-223/2015  prihvaća  se  tema  doktorskog  rada  pod \\n\\nnaslovom:  UTJECAJ  KVALITETE  KOMUNIKACIJE  I  ZAJEDNIČKIH  MENTALNIH  MODELA  O \\n\\nINFORMACIJSKO-KOMUNIKACIJSKOJ TEHNOLOGIJI NA USPJEŠNOST VIRTUALNIH TIMOVA: \\n\\nKONTEKST USKLAĐENOSTI TEHNOLOGIJE I ZADATKA. \\n\\nZa mentore se studentici kod izrade doktorskog rada imenuju izv. prof. dr. sc. Igor Balaban \\n\\ni prof. dr. sc. Goran Bubaš.  \\n\\nII. \\n\\nOdluka se, zajedno  s ostalom  dokumentacijom,  dostavlja Senatu Sveučilišta u Zagrebu na \\n\\npotvrdu. \\n\\nIzvješće o ocjeni doktorskog rada Davora Mačeka  \\n\\nTočka 14. \\n\\nČlanovi FV jednoglasno su prihvatili donošenje odluke u nastavku.  \\n\\nGlasanje za Točku 14. dnevnog reda provelo se putem LMS sustava Moodle,  od ukupno 68 \\n\\nprisutnih  članova  FV,  pravo glasa po  toj  točki imalo  je  ukupno  56 članova,  od kojih  je  za \\n\\nprihvaćanje odluke glasalo 46 članova FV (0 glasova protiv, 0 suzdržanih). \\n\\nFakultetsko  vijeće  Fakulteta  organizacije  i  informatike,  Sveučilišta  u  Zagrebu,  temeljem \\n\\nčlanka  83.  Zakona  o  znanstvenoj  djelatnosti  i  visokom  obrazovanju  (NN.123/03;  198/03; \\n\\n105/04;  174/04;  02/07;  46/07;  45/09;  63/11;  94/13;  139/13;  101/14,  60/15,  131/17), \\n\\nčlanka  63.  Statuta  Fakulteta  organizacije  i  informatike  i  članka  43.  Pravilnika  o \\n\\nposlijediplomskom  sveučilišnom  (doktorskom)  studiju  na  FOI,  na  elektroničkoj  sjednici \\n\\nodržanoj 21. listopada 2021. godine donosi: \\n\\nDAVORU MAČEKU, studentu poslijediplomskog sveučilišnog doktorskog studija Informacijske \\n\\nznanosti  –  matični  broj:  D-180/2012  potvrđuje  se  pozitivna  ocjena  doktorskog  rada  pod \\n\\nnaslovom:  MODEL  ZA  PROCJENU  KRITIČNIH  INFORMACIJSKIH  SUSTAVA  PRIMJENOM \\n\\nVIŠEKRITERIJSKOGA  ODLUČIVANJA  S  ELEMENTIMA  ZA  ANALIZU  I  PROCJENU  RIZIKA  U \\n\\nFINANCIJSKIM INSTITUCIJAMA. \\n\\nODLUKU \\n\\nI. \\n\\nII. \\n\\n13 \\n\\n \\n \\n \\n \\n \\n \\n \\n \\n \\n\\x0cPostupak  obrane  doktorskog  rada  iz  točke I.  održat će  se  pred  Stručnim  povjerenstvom  u \\n\\nsastavu: \\n\\n1.  Doc. dr. sc. Nikola Ivković, predsjednik \\n\\n2.  Prof. dr. sc. Marin Golub, član \\n\\n3.  Doc. dr. sc. Nikola Kadoić, član \\n\\n4.  Doc. dr. sc. Petra Grd, zamjena člana za obranu \\n\\nDatum i termin održavanja obrane odredit će se naknadno. \\n\\nIzvješće s obrane doktorskog rada Aleksandre Sobodić \\n\\nTočka 15. \\n\\nČlanovi FV jednoglasno su prihvatili izvješće s obrane doktorskog rada. \\n\\nGlasanje za Točku 15. dnevnog reda provelo se putem LMS sustava Moodle, od ukupno 68 \\n\\nprisutnih  članova FV, pravo glasa po toj točki imalo je  ukupno 56 članova,  od kojih je za \\n\\nprihvaćanje odluke glasalo 46 članova FV (0 glasova protiv, 0 suzdržanih). \\n\\nFakultetsko  vijeće  Fakulteta  organizacije  i  informatike  Sveučilišta  u  Zagrebu  temeljem \\n\\nčlanka 63. Statuta FOI, na sjednici održanoj 21. listopada 2021. godine donosi: \\n\\nODLUKU \\n\\nPrihvaća se izvješće Stručnog povjerenstva za obranu doktorskog rada te se konstatira da je \\n\\nALEKSANDRA SOBODIĆ dana 15. listopada 2021. godine obranila doktorski rad pod naslovom: \\n\\nTHE IMPACT OF USABILITY FACTORS ON CONTINUANCE INTENTION TO USE THE SYSTEM \\n\\nFOR  ACQUISITION  AND  EVALUATION  OF  DIGITAL  COMPETENCES  IN  THE  DOMAIN  OF \\n\\nEDUCATION \\n\\n(UTJECAJ  ČIMBENIKA  UPOTREBLJIVOSTI  NA  NAMJERU  PONOVNOG \\n\\nKORIŠTENJA  SUSTAVA  ZA  STJECANJE  I  VRJEDNOVANJE  DIGITALNIH  KOMPETENCIJA  U \\n\\nDOMENI OBRAZOVANJA) s ocjenom magna cum laude. \\n\\nImenovanje Stručnog povjerenstva za davanje mišljenja u postupku izbora dr. sc. \\n\\nKristine Posavec u znanstveno zvanje znanstvene suradnice za područje društvenih \\n\\nznanosti, polje informacijske i komunikacijske znanosti – osobni zahtjev \\n\\nTočka 16. \\n\\nČlanovi FV jednoglasno su prihvatili donošenje odluke u nastavku. \\n\\nGlasanje za Točku 16. dnevnog reda provelo se putem LMS sustava Moodle,  od ukupno 68 \\n\\nprisutnih članova FV, pravo glasa po toj točki imalo je ukupno 56 članova, od kojih su za \\n\\nprihvaćanje odluke glasala 42 člana FV (0 glasova protiv, 0 suzdržanih). \\n\\nFakultetsko  vijeće  Fakulteta  organizacije  i  informatike  Sveučilišta  u  Zagrebu,  temeljem \\n\\nčlanka  35.  Zakona  o  znanstvenoj  djelatnosti  i  visokom  obrazovanju  (NN  123/03,  198/03, \\n\\n105/04,  174/04,  02/07,  46/07,  45/09,  63/11,  94/13,  139/13,  101/14,  60/15,  131/17)  i \\n\\nčlanka  63.  Statuta  Fakulteta  organizacije  i  informatike  na  elektroničkoj  sjednici  od  21. \\n\\nlistopada 2021. godine donosi: \\n\\nO IMENOVANJU STRUČNOG POVJERENSTVA \\n\\nODLUKU \\n\\nI. \\n\\n14 \\n\\n \\n \\n \\n \\n \\n \\n \\n \\n \\n \\n \\n \\n\\x0cImenuje se  Stručno povjerenstvo  za davanje mišljenja u postupku izbora dr.  sc.  KRISTINE \\n\\nPOSAVEC  u  znanstveno  zvanje  znanstvene  suradnice  za  znanstveno  područje  društvenih \\n\\nznanosti, polje informacijskih i komunikacijskih znanosti, u sastavu: \\n\\n1.  Prof. dr. sc. Jasminka Dobša, predsjednica \\n\\n2.  Prof. dr. sc. Danijel Radošević, član \\n\\n3.  Prof. dr. sc. Nives Mikelić Preradović, članica \\n\\nII. \\n\\nIzvješće  s  mišljenjem,  sačinjeno  prema  članku  35.  Zakona  o  znanstvenoj  djelatnosti  i \\n\\nvisokom obrazovanju, imenovano povjerenstvo dužno je dostaviti u roku od 30 dana od dana \\n\\nimenovanja. \\n\\nImenovanje Stručnog povjerenstva za davanje mišljenja u postupku izbora dr. sc. \\n\\nKatarine Tomičić-Pupek u znanstveno zvanje znanstvene savjetnice za područje \\n\\ndruštvenih znanosti, polje informacijske i komunikacijske znanosti – osobni zahtjev \\n\\nTočka 17. \\n\\nČlanovi FV jednoglasno su prihvatili donošenje odluke u nastavku. \\n\\nGlasanje za Točku 17. dnevnog reda provelo se putem LMS sustava Moodle,  od ukupno 68 \\n\\nprisutnih  članova  FV,  pravo glasa po  toj  točki imalo  je  ukupno  56 članova,  od  kojih  je  za \\n\\nprihvaćanje odluke glasalo 46 članova FV (0 glasova protiv, 0 suzdržanih). \\n\\nFakultetsko  vijeće  Fakulteta  organizacije  i  informatike  Sveučilišta  u  Zagrebu,  temeljem \\n\\nčlanka  35.  Zakona  o  znanstvenoj  djelatnosti  i  visokom  obrazovanju  (NN  123/03,  198/03, \\n\\n105/04,  174/04,  02/07,  46/07,  45/09,  63/11,  94/13,  139/13,  101/14,  60/15,  131/17)  i \\n\\nčlanka  63.  Statuta  Fakulteta  organizacije  i  informatike  na  elektroničkoj  sjednici  od  21. \\n\\nlistopada 2021. godine donosi: \\n\\nO IMENOVANJU STRUČNOG POVJERENSTVA \\n\\nODLUKU \\n\\nI. \\n\\nImenuje se Stručno povjerenstvo za davanje mišljenja u postupku izbora dr. sc. KATARINE \\n\\nTOMIČIĆ-PUPEK  u  znanstveno  zvanje  znanstvene  savjetnice  za  znanstveno  područje \\n\\ndruštvenih znanosti, polje informacijskih i komunikacijskih znanosti, u sastavu: \\n\\n1.  Prof. dr. sc. Neven Vrček, predsjednik \\n\\n2.  Prof. dr. sc. Vjeran Strahonja, član \\n\\n3.  Prof. dr. sc. Vesna Bosilj Vukšić, članica \\n\\nII. \\n\\nIzvješće  s  mišljenjem,  sačinjeno  prema  članku  35.  Zakona  o  znanstvenoj  djelatnosti  i \\n\\nvisokom obrazovanju, imenovano povjerenstvo dužno je dostaviti u roku od 30 dana od dana \\n\\nimenovanja. \\n\\nTočka 18. \\n\\nIzvješće Stručnog povjerenstva za izbor jednog nastavnika u znanstveno – nastavno \\n\\nzvanje i radno mjesto docenta u području društvenih znanosti, polje informacijske i \\n\\nkomunikacijske znanosti, za grupu predmeta vezanih uz razvoj web aplikacija, web \\n\\ntehnologija, web servisa i programskih koncepata na Katedri za teorijske i primijenjene \\n\\nosnove informacijskih znanosti  \\n\\n15 \\n\\n \\n \\n \\n \\n \\n \\n \\n \\n \\n \\n \\n\\x0cČlanovi FV jednoglasno su prihvatili donošenje odluke u nastavku. \\n\\nGlasanje za Točku 18. dnevnog reda provelo se putem LMS sustava Moodle,  od ukupno 68 \\n\\nprisutnih članova FV, pravo glasa po toj točki imalo je ukupno 56 članova, od kojih su za \\n\\nprihvaćanje odluke glasala 43 člana FV (0 glasova protiv, 0 suzdržanih). \\n\\nFakultetsko  vijeće  Fakulteta  organizacije  i  informatike  Sveučilišta  u  Zagrebu,  temeljem \\n\\nčlanka 35. i 92. i 93. Zakona o znanstvenoj djelatnosti i visokom obrazovanju (NN 123/03, \\n\\n198/03,  105/04,  174/04,  02/07,  46/07,  45/09,  63/11,  94/13,  139/13,  101/14,  60/15, \\n\\n131/17) i članka 63. Statuta Fakulteta organizacije i informatike na elektroničkoj sjednici \\n\\nodržanoj 21. listopada 2021. godine donosi: \\n\\nDr. sc. MATIJA NOVAK, poslijedoktorand na Fakultetu organizacije i informatike Sveučilišta \\n\\nu Zagrebu bira se u znanstveno - nastavno zvanje i radno mjesto DOCENTA za znanstveno \\n\\npodručje društvenih znanosti, znanstveno polje informacijske i komunikacijske znanosti, za \\n\\ngrupu  predmeta  vezanih  uz  razvoj  web  aplikacija,  web  tehnologija,  web  servisa  i \\n\\nprogramskih  koncepata  na  Katedri  za  teorijske  i  primijenjene  osnove  informacijskih \\n\\nznanosti. \\n\\nOdluka se temelji na: \\n\\n➢ \\n\\nIzvješću i prijedlogu Povjerenstva za provođenje postupka izbora; \\n\\n➢  Odluci  Matičnog  odbora  za  područje  društvenih  znanosti,  polje  informacijske  i \\n\\nkomunikacijske  znanosti,  o  izboru  u  znanstveno  zvanje  znanstvenog  suradnika, \\n\\nKLASA: UP/I-640-03/20-01/0581, URBROJ: 355-06-04-20-0002 od 16. lipnja 2020. \\n\\nOdluka  o  izboru  se,  zajedno  s  traženom  dokumentacijom,  prosljeđuje  Vijeću  društveno \\n\\nhumanističkog područja na potvrdu. \\n\\nTočka 19. \\n\\nIzvješće Stručnog za izbor jednog nastavnika u nastavno zvanje i radno mjesto \\n\\npredavača za područje društvenih znanosti, polje informacijske i komunikacijske \\n\\nznanosti ili područje prirodnih znanosti, polje matematika ili fizika, za grupu predmeta \\n\\nvezanih uz strukture podataka i algoritme na Katedri za teorijske i primijenjene osnove \\n\\ninformacijskih znanosti \\n\\nČlanovi FV jednoglasno su prihvatili donošenje odluke u nastavku. \\n\\nGlasanje za Točku 17. dnevnog reda provelo se putem LMS sustava Moodle,  od ukupno 68 \\n\\nprisutnih  članova  FV,  za  prihvaćanje  odluke  glasalo  je  50  članova  FV  (0  glasova  protiv,  0 \\n\\nsuzdržanih). \\n\\nFakultetsko  vijeće  Fakulteta  organizacije  i  informatike  Sveučilišta  u  Zagrebu,  temeljem \\n\\nčlanka 102.  Zakona  o  znanstvenoj  djelatnosti i  visokom obrazovanju (NN  123/03,  198/03, \\n\\n105/04,  174/04,  02/07,  46/07,  45/09,  63/11,  94/13,  139/13,  101/14,  60/15,  131/17)  i \\n\\nčlanka 63.  Statuta Fakulteta organizacije  i informatike na elektroničkoj  sjednici održanoj \\n\\n21. listopada 2021. godine donosi: \\n\\nMILJENKO NOVAKOVIĆ, mag. educ. phys. et inf. bira se u nastavno zvanje i radno mjesto \\n\\nPREDAVAČA za područje društvenih znanosti, polje informacijske i komunikacijske znanosti, \\n\\nODLUKU \\n\\nI. \\n\\nII. \\n\\nIII. \\n\\nODLUKU \\n\\nI. \\n\\n16 \\n\\n \\n \\n \\n \\n \\n \\n \\n \\n\\x0cza  grupu  predmeta  vezanih  uz  strukture  podataka  i  algoritme  na  Katedri  za  teorijske  i \\n\\nprimijenjene osnove informacijskih znanosti. \\n\\nOdluka se temelji na : \\n\\n➢ \\n\\nIzvješću i prijedlogu Povjerenstva za provođenje postupka izbora. \\n\\nOdluka  o  izboru  se,  zajedno  s  traženom  dokumentacijom,  prosljeđuje  Vijeću  društveno \\n\\nhumanističkog područja na potvrdu. \\n\\nTočka 20. \\n\\nIzvješće Stručnog povjerenstva za izbor jednog doktoranda u suradničko zvanje i radno \\n\\nmjesto asistenta na projektu Hrvatske zaklade za znanost, za područje društvenih \\n\\nznanosti, polje informacijske i komunikacijske znanosti ili polje ekonomija, na \\n\\nprojektu “SIMON – Inteligentni sustavi za automatsku selekciju algoritama strojnog \\n\\nučenja u društvenim znanostima”, poništenje natječaja i ponovni raspis natječaja  \\n\\nČlanovi FV jednoglasno su prihvatili donošenje odluke u nastavku. \\n\\nGlasanje za Točku 20. dnevnog reda provelo se putem LMS sustava Moodle, od ukupno 68 \\n\\nprisutnih članova FV, za prihvaćanje odluke glasala su 52 člana FV (0 protiv, 0 suzdržanih). \\n\\nFakultetsko  vijeće  Fakulteta  organizacije  i  informatike  Sveučilišta  u  Zagrebu,  temeljem \\n\\nčlanka 63.  Statuta Fakulteta organizacije  i informatike na elektroničkoj  sjednici održanoj \\n\\n21. listopada 2021. godine donosi: \\n\\nO PONIŠTENJU I PONOVNOM RASPISU NATJEČAJA \\n\\nODLUKU \\n\\nPoništava  se  natječaj  raspisan  23.  srpnja  2021.  godine  (NN  84/21),  za  izbor  jednog \\n\\ndoktoranda u suradničko zvanje i radno mjesto asistenta na projektu Hrvatske zaklade za \\n\\nznanost, za područje društvenih znanosti, polje informacijske i komunikacijske znanosti ili \\n\\npolje  ekonomija,  na  projektu  “SIMON  –  Inteligentni  sustavi  za  automatsku  selekciju \\n\\nalgoritama strojnog učenja u društvenim znanostima”. \\n\\nRaspisuje  se  natječaj  za  izbor  jednog  doktoranda  u  suradničko  zvanje  i  radno  mjesto \\n\\nasistenta na projektu Hrvatske zaklade za znanost, za područje društvenih znanosti, polje \\n\\ninformacijske  i  komunikacijske  znanosti  ili  polje  ekonomija,  na  projektu  “SIMON  – \\n\\nInteligentni  sustavi  za  automatsku  selekciju  algoritama  strojnog  učenja  u  društvenim \\n\\nznanostima”. \\n\\n20.1.  Imenovanje  Stručnog  povjerenstva  za  izbor  jednog  doktoranda  u  suradničko \\n\\nzvanje  i  radno  mjesto  asistenta  na  projektu  Hrvatske  zaklade  za  znanost,  za \\n\\npodručje  društvenih  znanosti,  polje  informacijske  i  komunikacijske  znanosti  ili \\n\\npolje  ekonomija,  na  projektu  “SIMON  –  Inteligentni  sustavi  za  automatsku \\n\\nselekciju algoritama strojnog učenja u društvenim znanostima” \\n\\nČlanovi FV jednoglasno su prihvatili donošenje odluke u nastavku. \\n\\nGlasanje za Točku 20.1. dnevnog reda provelo se putem LMS sustava Moodle, od ukupno 68 \\n\\nprisutnih članova FV, za prihvaćanje odluke glasalo je 48 članova FV (0 protiv, 0 suzdržanih). \\n\\nII. \\n\\nIII. \\n\\nI. \\n\\nII. \\n\\n17 \\n\\n \\n \\n \\n \\n \\n \\n \\n \\n \\n \\n \\n\\x0cFakultetsko  vijeće  Fakulteta  organizacije  i  informatike  Sveučilišta  u  Zagrebu,  temeljem \\n\\nčlanka  43.  i  95.  Zakona  o  znanstvenoj  djelatnosti  i  visokom  obrazovanju  (NN.  123/03, \\n\\n198/03,  105/04,  174/04,  02/07,  46/07,  45/09,  63/11,  94/13,  139/13,  101/14,  60/15, \\n\\n131/17) i članka 63. Statuta Fakulteta organizacije i informatike na elektroničkoj sjednici \\n\\nodržanoj 21. listopada 2021. donosi: \\n\\nO IMENOVANJU STRUČNOG POVJERENSTVA \\n\\nODLUKU \\n\\nI. \\n\\nImenuje  se  Stručno  povjerenstvo  za  izbor  jednog  doktoranda  u  suradničko  zvanje  i  radno \\n\\nmjesto asistenta na projektu Hrvatske zaklade za znanost, za područje društvenih znanosti, \\n\\npolje  informacijske  i  komunikacijske  znanosti  ili  polje  ekonomija,  na  projektu  “SIMON  – \\n\\nInteligentni  sustavi  za  automatsku  selekciju  algoritama  strojnog  učenja  u  društvenim \\n\\nznanostima“ u sastavu: \\n\\n1.  Izv. prof. dr. sc. Dijana Oreški, predsjednica \\n\\n2.  Doc. dr. sc. Nikola Kadoić, član \\n\\n3.  Izv. prof. dr. sc. Renata Mekovec, članica \\n\\nII. \\n\\nIzvješće  s  mišljenjem,  sačinjeno  prema  članku  95.  Zakona  o  znanstvenoj  djelatnosti  i \\n\\nvisokom obrazovanju, imenovano povjerenstvo dužno je dostaviti u roku od 60 dana od dana \\n\\nprimitka prijave pristupnika. \\n\\nIzvješće Stručnog povjerenstva za izbor jednog doktoranda u suradničko zvanje i radno \\n\\nmjesto asistenta na projektu Hrvatske zaklade za znanost, za područje društvenih \\n\\nznanosti, polje informacijske i komunikacijske znanosti, na projektu “ORKAN – Okvir za \\n\\nkontrolu i nadzor bespilotnih letjelica”, poništenje natječaja i ponovni raspis natječaja \\n\\nTočka 21. \\n\\nČlanovi FV jednoglasno su prihvatili donošenje odluke u nastavku. \\n\\nGlasanje za Točku 21. dnevnog reda provelo se putem LMS sustava Moodle,  od ukupno 68 \\n\\nprisutnih  članova  FV,  za  prihvaćanje  odluke  glasala  su  44  člana  FV  (0  glasova  protiv,  0 \\n\\nsuzdržanih). \\n\\nFakultetsko  vijeće  Fakulteta  organizacije  i  informatike  Sveučilišta  u  Zagrebu,  temeljem \\n\\nčlanka 63.  Statuta Fakulteta organizacije  i informatike na elektroničkoj  sjednici održanoj \\n\\n21. listopada 2021. godine donosi: \\n\\nO PONIŠTENJU I PONOVNOM RASPISU NATJEČAJA \\n\\nODLUKU \\n\\nPoništava  se  natječaj  raspisan  23.  srpnja  2021.  godine  (NN  84/21),  za  izbor  jednog \\n\\ndoktoranda u suradničko zvanje i radno mjesto asistenta na projektu Hrvatske zaklade za \\n\\nznanost, za područje društvenih znanosti, polje informacijske i komunikacijske znanosti, na \\n\\nprojektu “ORKAN – Okvir za kontrolu i nadzor bespilotnih letjelica”. \\n\\nRaspisuje  se  natječaj  za  izbor  jednog  doktoranda  u  suradničko  zvanje  i  radno  mjesto \\n\\nasistenta na projektu Hrvatske zaklade za znanost, za područje društvenih znanosti, polje \\n\\ninformacijske i komunikacijske znanosti, na projektu “ORKAN – Okvir za kontrolu i nadzor \\n\\nbespilotnih letjelica”. \\n\\nI. \\n\\nII. \\n\\n18 \\n\\n \\n \\n \\n \\n \\n \\n \\n \\n\\x0c21.1.  Imenovanje  Stručnog  povjerenstva  za  izbor  jednog  doktoranda  u  suradničko \\n\\nzvanje  i  radno  mjesto  asistenta  na  projektu  Hrvatske  zaklade  za  znanost,  za \\n\\npodručje društvenih znanosti, polje informacijske i komunikacijske znanosti, na \\n\\nprojektu “ORKAN – Okvir za kontrolu i nadzor bespilotnih letjelica” \\n\\nČlanovi FV jednoglasno su prihvatili donošenje odluke u nastavku. \\n\\nGlasanje za Točku 21.1. dnevnog reda provelo se putem LMS sustava Moodle, od ukupno 68 \\n\\nprisutnih  članova  FV,  za  prihvaćanje  odluke  glasalo  je  47  članova  FV  (0  glasova  protiv,  0 \\n\\nsuzdržanih). \\n\\nFakultetsko  vijeće  Fakulteta  organizacije  i  informatike  Sveučilišta  u  Zagrebu,  temeljem \\n\\nčlanka  43.  i  95.  Zakona  o  znanstvenoj  djelatnosti  i  visokom  obrazovanju  (NN.  123/03, \\n\\n198/03,  105/04,  174/04,  02/07,  46/07,  45/09,  63/11,  94/13,  139/13,  101/14,  60/15, \\n\\n131/17) i članka 63. Statuta Fakulteta organizacije i informatike na elektroničkoj sjednici \\n\\nodržanoj 21. listopada 2021. donosi: \\n\\nO IMENOVANJU STRUČNOG POVJERENSTVA \\n\\nODLUKU \\n\\nI. \\n\\nImenuje  se  Stručno  povjerenstvo  za  izbor  jednog  doktoranda  u  suradničko  zvanje  i  radno \\n\\nmjesto asistenta na projektu Hrvatske zaklade za znanost, za područje društvenih znanosti, \\n\\npolje  informacijske  i  komunikacijske  znanosti,  na  projektu  “ORKAN  –  Okvir  za  kontrolu  i \\n\\nnadzor bespilotnih letjelica” u sastavu: \\n\\n1.  Prof. dr. sc. Neven Vrček, predsjednik \\n\\n2.  Izv. prof. dr. sc. Renata Mekovec, članica \\n\\n3.  Doc. dr. sc. Boris Tomaš, član \\n\\nII. \\n\\nIzvješće  s  mišljenjem,  sačinjeno  prema  članku  95.  Zakona  o  znanstvenoj  djelatnosti  i \\n\\nvisokom obrazovanju, imenovano povjerenstvo dužno je dostaviti u roku od 60 dana od dana \\n\\nprimitka prijave pristupnika. \\n\\nTočka 22. \\n\\nImenovanje Stručnog povjerenstva za izbor jednog nastavnika u znanstveno – nastavno \\n\\nzvanje i radno mjesto izvanrednog profesora, za područje društvenih znanosti, polje \\n\\ninformacijske i komunikacijske znanosti, za grupu predmeta vezanih uz operacijski \\n\\nmenadžment, operacijska istraživanja te modeliranje i simulacije na Katedri za \\n\\nkvantitativne metode \\n\\nČlanovi FV jednoglasno su prihvatili donošenje odluke u nastavku. \\n\\nGlasanje za Točku 22. dnevnog reda provelo se putem LMS sustava Moodle, od ukupno 68 \\n\\nprisutnih članova FV, pravo glasa po toj točki imalo je ukupno 56 članova, od kojih su za \\n\\nprihvaćanje odluke glasala 43 člana FV (0 protiv, 0 suzdržanih). \\n\\nFakultetsko  vijeće  Fakulteta  organizacije  i  informatike  Sveučilišta  u  Zagrebu,  temeljem \\n\\nčlanka  35.  i  95.  Zakona  o  znanstvenoj  djelatnosti  i  visokom  obrazovanju  (NN.  123/03, \\n\\n198/03,  105/04,  174/04,  02/07,  46/07,  45/09,  63/11,  94/13,  139/13,  101/14,  60/15, \\n\\n131/17) i članka 63. Statuta Fakulteta organizacije i informatike na elektroničkoj sjednici \\n\\nodržanoj 21. listopada 2021. godine donosi: \\n\\nO IMENOVANJU STRUČNOG POVJERENSTVA \\n\\nODLUKU \\n\\n19 \\n\\n \\n \\n \\n \\n \\n \\n \\n \\n \\n\\x0cImenuje se Stručno povjerenstvo za izbor nastavnika u znanstveno – nastavno zvanje i radno \\n\\nmjesto  izvanrednog  profesora  za  područje  društvenih  znanosti,  polje  informacijske  i \\n\\nkomunikacijske  znanosti,  za  grupu  predmeta  vezanih  uz  operacijski  menadžment, \\n\\noperacijska istraživanja te modeliranje  i simulacije na Katedri za kvantitativne metode u \\n\\nsastavu: \\n\\n1.  Prof. dr. sc. Diana Šimić, predsjednica \\n\\n2.  Prof. dr. sc. Jasminka Dobša, članica \\n\\n3.  Izv. prof. dr. sc. Božidar Jaković, član \\n\\nIzvješće  s  mišljenjem,  sačinjeno  prema  članku  95.  Zakona  o  znanstvenoj  djelatnosti  i \\n\\nvisokom obrazovanju, imenovano povjerenstvo dužno je dostaviti u roku od 60 dana od dana \\n\\nprimitka prijave pristupnika. \\n\\nImenovanje Stručnog povjerenstva za izbor jednog nastavnika u znanstveno - nastavno \\n\\nzvanje i radno mjesto redovitog profesora – prvi izbor u području prirodnih znanosti, \\n\\npolje matematika, za grupu predmeta vezanih uz matematiku na Katedri za \\n\\nkvantitativne metode \\n\\nTočka 23. \\n\\nČlanovi FV jednoglasno su prihvatili donošenje odluke u nastavku. \\n\\nGlasanje za Točku 23. dnevnog reda provelo se putem LMS sustava Moodle, od ukupno 68 \\n\\nprisutnih članova FV, pravo glasa po toj točki imalo je ukupno 56 članova, od kojih su za \\n\\nprihvaćanje odluke glasala 43 člana FV (0 protiv, 0 suzdržanih). \\n\\nFakultetsko  vijeće  Fakulteta  organizacije  i  informatike  Sveučilišta  u  Zagrebu,  temeljem \\n\\nčlanka  35.  i  95.  Zakona  o  znanstvenoj  djelatnosti  i  visokom  obrazovanju  (NN.  123/03, \\n\\n198/03,  105/04,  174/04,  02/07,  46/07,  45/09,  63/11,  94/13,  139/13,  101/14,  60/15, \\n\\n131/17) i članka 63. Statuta Fakulteta organizacije i informatike na elektroničkoj sjednici \\n\\nodržanoj 21. listopada 2021. godine donosi: \\n\\nO IMENOVANJU STRUČNOG POVJERENSTVA \\n\\nODLUKU \\n\\nI. \\n\\nImenuje se Stručno povjerenstvo za izbor nastavnika u znanstveno – nastavno zvanje i radno \\n\\nmjesto redovitog profesora – prvi izbor za područje prirodnih znanosti, polje matematika, \\n\\nza grupu predmeta vezanih uz matematiku na Katedri za kvantitativne metode u sastavu: \\n\\n1.  Prof. dr. sc. Blaženka Divjak, predsjednica \\n\\n2.  Dr. sc. Tihomir Hunjak, prof. emer., član \\n\\n3.  Prof. dr. sc. Željka Milin Šipuš, članica \\n\\nIzvješće  s  mišljenjem,  sačinjeno  prema  članku  95.  Zakona  o  znanstvenoj  djelatnosti  i \\n\\nvisokom obrazovanju, imenovano povjerenstvo dužno je dostaviti u roku od 60 dana od dana \\n\\nprimitka prijave pristupnika. \\n\\nI. \\n\\nII. \\n\\nII. \\n\\n20 \\n\\n \\n \\n \\n \\n \\n \\n \\n \\n \\n \\n \\n \\n \\n\\x0c\\x0c'"
      ]
     },
     "execution_count": 93,
     "metadata": {},
     "output_type": "execute_result"
    }
   ],
   "source": [
    "text = extract_text_from_pdf(file_path)\n",
    "text"
   ]
  },
  {
   "cell_type": "code",
   "execution_count": 106,
   "id": "73eb7196-84f9-48f0-851a-280860a47a99",
   "metadata": {},
   "outputs": [],
   "source": [
    "df['text'] = None"
   ]
  },
  {
   "cell_type": "code",
   "execution_count": 95,
   "id": "d2d5540a-845f-484a-8e35-1d90069bd245",
   "metadata": {},
   "outputs": [
    {
     "name": "stdout",
     "output_type": "stream",
     "text": [
      "Success: ./data/dummy_data/odluka_o_izmjeni_odluke_pok_2023_10_12_0.pdf\n"
     ]
    }
   ],
   "source": [
    "# download pdf -> extract text -> put it the text field\n",
    "link = df.iloc[0].pdf_link\n",
    "download_pdf(link, './data/dummy_data')"
   ]
  },
  {
   "cell_type": "code",
   "execution_count": 96,
   "id": "06a97cd6-d979-4e86-89a3-9be36fe0928e",
   "metadata": {},
   "outputs": [
    {
     "data": {
      "text/plain": [
       "'./data/dummy_data/odluka_o_izmjeni_odluke_pok_2023_10_12_0.pdf'"
      ]
     },
     "execution_count": 96,
     "metadata": {},
     "output_type": "execute_result"
    }
   ],
   "source": [
    "file_path = './data/dummy_data/' + link.split('/')[-1]\n",
    "file_path"
   ]
  },
  {
   "cell_type": "code",
   "execution_count": 102,
   "id": "9fa44eb6-04df-47c2-82e5-21f51276bc87",
   "metadata": {},
   "outputs": [
    {
     "data": {
      "text/html": [
       "<div>\n",
       "<style scoped>\n",
       "    .dataframe tbody tr th:only-of-type {\n",
       "        vertical-align: middle;\n",
       "    }\n",
       "\n",
       "    .dataframe tbody tr th {\n",
       "        vertical-align: top;\n",
       "    }\n",
       "\n",
       "    .dataframe thead th {\n",
       "        text-align: right;\n",
       "    }\n",
       "</style>\n",
       "<table border=\"1\" class=\"dataframe\">\n",
       "  <thead>\n",
       "    <tr style=\"text-align: right;\">\n",
       "      <th></th>\n",
       "      <th>naziv_datoteke</th>\n",
       "      <th>pdf_link</th>\n",
       "      <th>datum</th>\n",
       "      <th>vrsta_dokumenta</th>\n",
       "      <th>kategorija_dokumenta</th>\n",
       "      <th>metadata_link</th>\n",
       "      <th>naslov_dokumenta</th>\n",
       "      <th>text</th>\n",
       "    </tr>\n",
       "  </thead>\n",
       "  <tbody>\n",
       "    <tr>\n",
       "      <th>0</th>\n",
       "      <td>odluka_o_izmjeni_odluke_pok_2023_10_12.pdf</td>\n",
       "      <td>https://www.foi.unizg.hr/sites/default/files/o...</td>\n",
       "      <td>18.12.2023</td>\n",
       "      <td>Odluka</td>\n",
       "      <td>Kvaliteta</td>\n",
       "      <td>/hr/dokument/izmjenjena-odluka-pok-2023</td>\n",
       "      <td>Izmjenjena odluka POK-a 2023.</td>\n",
       "      <td>KLASA: 602-04/23-06/1 \\nURBROJ: 2186-62-06-23-...</td>\n",
       "    </tr>\n",
       "    <tr>\n",
       "      <th>1</th>\n",
       "      <td>odluka-izvanredni_izbori_za_studentski_zbor-si...</td>\n",
       "      <td>https://www.foi.unizg.hr/sites/default/files/o...</td>\n",
       "      <td>12.12.2023</td>\n",
       "      <td>Odluka</td>\n",
       "      <td>Studentski zbor</td>\n",
       "      <td>/hr/dokument/odluka-o-raspisivanju-izvanrednih...</td>\n",
       "      <td>Odluka o raspisivanju izvanrednih izbora Stude...</td>\n",
       "      <td>None</td>\n",
       "    </tr>\n",
       "    <tr>\n",
       "      <th>6</th>\n",
       "      <td>fv_dnevni_red_2023-12-07_3._sjednica.pdf</td>\n",
       "      <td>https://www.foi.unizg.hr/sites/default/files/f...</td>\n",
       "      <td>07.12.2023</td>\n",
       "      <td>Dnevni red</td>\n",
       "      <td>Fakultetsko vijeće</td>\n",
       "      <td>/hr/dokument/dnevni-red-fakultetskog-vijeca-07...</td>\n",
       "      <td>Dnevni red Fakultetskog vijeća 07.12.2023.</td>\n",
       "      <td>None</td>\n",
       "    </tr>\n",
       "    <tr>\n",
       "      <th>7</th>\n",
       "      <td>politika-privatnosti-foi.pdf</td>\n",
       "      <td>https://www.foi.unizg.hr/sites/default/files/p...</td>\n",
       "      <td>24.11.2023</td>\n",
       "      <td>None</td>\n",
       "      <td>None</td>\n",
       "      <td>/hr/dokument/politika-privatnosti-foi-ja</td>\n",
       "      <td>Politika privatnosti FOI-ja</td>\n",
       "      <td>None</td>\n",
       "    </tr>\n",
       "    <tr>\n",
       "      <th>8</th>\n",
       "      <td>popis_gs_u_sukobu_interesa_2023.pdf</td>\n",
       "      <td>https://www.foi.unizg.hr/sites/default/files/p...</td>\n",
       "      <td>20.11.2023</td>\n",
       "      <td>Odluka</td>\n",
       "      <td>Javna nabava</td>\n",
       "      <td>/hr/dokument/popis-gospodarskih-subjekata-s-ko...</td>\n",
       "      <td>Popis gospodarskih subjekata s kojima se ne sm...</td>\n",
       "      <td>None</td>\n",
       "    </tr>\n",
       "  </tbody>\n",
       "</table>\n",
       "</div>"
      ],
      "text/plain": [
       "                                      naziv_datoteke  \\\n",
       "0         odluka_o_izmjeni_odluke_pok_2023_10_12.pdf   \n",
       "1  odluka-izvanredni_izbori_za_studentski_zbor-si...   \n",
       "6           fv_dnevni_red_2023-12-07_3._sjednica.pdf   \n",
       "7                       politika-privatnosti-foi.pdf   \n",
       "8                popis_gs_u_sukobu_interesa_2023.pdf   \n",
       "\n",
       "                                            pdf_link       datum  \\\n",
       "0  https://www.foi.unizg.hr/sites/default/files/o...  18.12.2023   \n",
       "1  https://www.foi.unizg.hr/sites/default/files/o...  12.12.2023   \n",
       "6  https://www.foi.unizg.hr/sites/default/files/f...  07.12.2023   \n",
       "7  https://www.foi.unizg.hr/sites/default/files/p...  24.11.2023   \n",
       "8  https://www.foi.unizg.hr/sites/default/files/p...  20.11.2023   \n",
       "\n",
       "  vrsta_dokumenta kategorija_dokumenta  \\\n",
       "0          Odluka            Kvaliteta   \n",
       "1          Odluka      Studentski zbor   \n",
       "6      Dnevni red   Fakultetsko vijeće   \n",
       "7            None                 None   \n",
       "8          Odluka         Javna nabava   \n",
       "\n",
       "                                       metadata_link  \\\n",
       "0            /hr/dokument/izmjenjena-odluka-pok-2023   \n",
       "1  /hr/dokument/odluka-o-raspisivanju-izvanrednih...   \n",
       "6  /hr/dokument/dnevni-red-fakultetskog-vijeca-07...   \n",
       "7           /hr/dokument/politika-privatnosti-foi-ja   \n",
       "8  /hr/dokument/popis-gospodarskih-subjekata-s-ko...   \n",
       "\n",
       "                                    naslov_dokumenta  \\\n",
       "0                      Izmjenjena odluka POK-a 2023.   \n",
       "1  Odluka o raspisivanju izvanrednih izbora Stude...   \n",
       "6         Dnevni red Fakultetskog vijeća 07.12.2023.   \n",
       "7                        Politika privatnosti FOI-ja   \n",
       "8  Popis gospodarskih subjekata s kojima se ne sm...   \n",
       "\n",
       "                                                text  \n",
       "0  KLASA: 602-04/23-06/1 \\nURBROJ: 2186-62-06-23-...  \n",
       "1                                               None  \n",
       "6                                               None  \n",
       "7                                               None  \n",
       "8                                               None  "
      ]
     },
     "execution_count": 102,
     "metadata": {},
     "output_type": "execute_result"
    }
   ],
   "source": [
    "text = extract_text_from_pdf(file_path)\n",
    "df.at[0, 'text'] = text\n",
    "df.head()"
   ]
  },
  {
   "cell_type": "code",
   "execution_count": 109,
   "id": "7b9d2dd5-fbd2-4a8f-b15b-69bc04e517ca",
   "metadata": {},
   "outputs": [
    {
     "data": {
      "text/plain": [
       "'KLASA: 602-04/23-06/1 \\nURBROJ: 2186-62-06-23-76 \\nVaraždin, 19. listopada 2023. \\n\\nNa temelju članka 53. Statuta Sveučilišta u Zagrebu Fakulteta organizacije i informatike (dalje u \\ntekstu: Fakultet) i članka 8. i 9. Pravilnika o sustavu osiguravanja kvalitete Sveučilišta u Zagrebu \\nFakulteta organizacije i informatike (u daljnjem tekstu: Pravilnik), Fakultetsko vijeće Fakulteta, \\nna sjednici održanoj 19. listopada 2023. godine, donosi \\n\\nO D L U K U  \\n\\nI. \\nProf. dr. sc. Renata Mekovec imenuje se za predsjednicu Povjerenstva za osiguravanje kvalitete \\nSveučilišta  u  Zagrebu  Fakulteta  organizacije  i  informatike  (u  daljnjem  tekstu:  Povjerenstvo) \\numjesto dosadašnjeg predsjednika prof. dr. sc. Zlatka Erjavca, a koji će kao član Uprave Fakulteta \\ndjelovati u Povjerenstvu kao predstavnik Uprave i koordinator Povjerenstva.  \\n\\nProf.  dr.  sc.  Sandra  Lovrenčić  imenuje  se  za  zamjenicu  predsjednice  Povjerenstva  umjesto \\ndosadašnje zamjenice predsjednika Povjerenstva prof. dr. sc. Renate Mekovec. \\n\\nStudentica Ana Novak imenuje se za članicu Povjerenstva umjesto Ivane Cindrić, studentice. \\n\\nPovjerenstvo djeluje u sljedećem sastavu:  \\n\\nII. \\n\\n1. \\n2. \\n3. \\n4. \\n5. \\n6. \\n7. \\n8. \\n9. \\n\\nProf. dr. sc. Renata Mekovec - predsjednica \\nProf. dr. sc. Sandra Lovrenčić – zamjenica predsjednice \\nProf. dr. sc. Valentina Kirinić, članica \\nIzv. prof. dr. sc. Goran Hajdin – član \\nIzv. prof. dr. sc. Iva Gregurec - članica  \\nDr. sc. Ivana Đunđek, viša asistentica - članica \\nMaja Šalamun, mag. oec. - članica \\nAna Novak, studentica - članica  \\nTanja Bulbuk Jergović, predstavnik vanjskih dionika (Infinum) – članica \\n\\nZadaci Povjerenstva definirani su članom 8. Pravilnika. \\n\\nMandat Predsjednika i članova Povjerenstva je četiri (4), a predstavnika studenata dvije (2) godine \\nsukladno odluci o imenovanju od 21. svibnja 2020. godine i odluci od 14. lipnja 2022. godine i \\ntraje do 21. svibnja 2024. godine. \\n\\nOsobom zaduženom za praćenje rada Povjerenstva imenovana je Nela Kivač, mag. iur. \\n\\n \\n \\n \\n \\n \\n \\n \\n \\n \\n \\n \\n \\n\\x0cIII. \\nOvom odlukom mijenja se odluka od 21. svibnja 2020. godine i odluka od dana 14. lipnja 2022. \\ngodine. \\n\\nO b r a z l o ž e n j e \\n\\nTemeljem  odredbi  Pravilnika  tijela  Fakulteta  odgovorna  za  sustav  osiguravanja  kvalitete  su \\nFakultetsko  vijeće  i  Povjerenstvo.  Ustroj  i  djelovanje  Povjerenstva  definirani  su  Pravilnikom. \\nOdlukom Fakultetskog vijeća od 21. svibnja 2020. godine bilo je imenovano Povjerenstvo te je \\n14.  lipnja  2022.  godine  prethodna  odluka  izmijenjena.  Budući  da  je  dosadašnji  predsjednik \\nPovjerenstva prof. dr. sc. Zlatko Erjavec postao član Uprave Fakulteta, nije više mogao, sukladno \\nPravilniku,  biti  član  Povjerenstva  te  je  došlo  do  potrebe  za  imenovanjem  nove  predsjednice \\nPovjerenstva prof. dr. sc. Renate Mekovec.  Nadalje, istekom mandata prodekanice prof. dr. sc. \\nSandre Lovrenčić bilo je potrebno imenovati novog predstavnika Uprave Fakulteta koji je  sada \\nujedno  i  koordinator  Povjerenstva.  Prof.  dr.  sc.  Sandra  Lovrenčić  imenovana  je  za  zamjenicu \\npredsjednice,  obzirom  da  je  dosadašnja  zamjenica  predsjednika  Povjerenstva  sada  imenovana \\npredsjednicom  Povjerenstva.  Budući  da  je  dosadašnjoj  članici  povjerenstva  studentici  Ivani \\nCindrić,  predstavnici  studenata,  prestao  mandat  došlo  je  do  potrebe  za  imenovanjem  novog \\npredstavnika studenata u Povjerenstvo. \\n\\nMandat članova povjerenstva traje sukladno prethodnim odlukama. \\n\\nTemeljem navedenog donijeta je odluka kao u dispozitivu. \\n\\n D E K A N I C A :  \\n\\n         Prof. dr. sc. Marina Klačmer Čalopa \\n\\nDostaviti: \\n\\n1.  Članovima povjerenstva \\n2.  Pismohrana'"
      ]
     },
     "execution_count": 109,
     "metadata": {},
     "output_type": "execute_result"
    }
   ],
   "source": [
    "text.strip()"
   ]
  },
  {
   "cell_type": "code",
   "execution_count": null,
   "id": "19de5699-c3eb-46ea-a8a0-e7ef45aec0cb",
   "metadata": {},
   "outputs": [],
   "source": []
  }
 ],
 "metadata": {
  "kernelspec": {
   "display_name": "Python 3 (ipykernel)",
   "language": "python",
   "name": "python3"
  },
  "language_info": {
   "codemirror_mode": {
    "name": "ipython",
    "version": 3
   },
   "file_extension": ".py",
   "mimetype": "text/x-python",
   "name": "python",
   "nbconvert_exporter": "python",
   "pygments_lexer": "ipython3",
   "version": "3.10.12"
  }
 },
 "nbformat": 4,
 "nbformat_minor": 5
}
