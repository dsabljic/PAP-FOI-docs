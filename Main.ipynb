{
 "cells": [
  {
   "cell_type": "markdown",
   "id": "a41ead12-0d94-4d08-983d-b8b4320b353a",
   "metadata": {},
   "source": [
    "# Zadatak"
   ]
  },
  {
   "cell_type": "markdown",
   "id": "dcdaf0b4-0a8a-4728-bed8-418247dbc84c",
   "metadata": {},
   "source": [
    "Na adresi https://www.foi.unizg.hr/hr/dokumenti nalazi se baza dokumenata Fakulteta organizacije i informatike. Većina dokumenata zadana je u PDF formatu, no neki od dokumenata su čitki (vektorski format) dok su drugi skenirani (rasterski format). Potrebno je:\n",
    "1) Implementirati program koji će skinuti sve PDF dokumente na lokalno računalo (ili Google Colab / Drive direktorij)\n",
    "2) Kreirati bazu podataka (SQLite) koja će sadržavati jednu tablicu \"dokument\". Tablica treba sadržavati šifru dokumenta (autonumber), naslov dokumenta, putanju datoteke (path i filename na lokalnom računalu), URL adresu s koje je dokument skinut, datum, te tekstualni sadržaj dokumenta.\n",
    "3) Posebno za zadnje polje u tablici potrebno je svaki dokument učitati i ekstrahirati tekst (primjerice putem Python modula PDFMiner - https://github.com/pdfminer/pdfminer.six). Ukoliko je dokument skeniran potrebno je koristiti odgovarajući OCR modul za ekstrakciju teksta (npr. PyTesseract https://pypi.org/project/pytesseract/).\n",
    "4) Omogućiti pristup skupu podataka putem REST API-ja koji omogućuje isključivo pretraživanje podataka putem:(a) pretraživanja ključnih riječi u tekstu (npr. boolean search), (b) pretraživanje ključnih riječi u naslovu (c) pregled prema datumu (npr. dokumenti od DATUM do DATUM), (d) izlistavanje svih dokumenata."
   ]
  },
  {
   "cell_type": "markdown",
   "id": "2e68a3b4-55d3-479c-bf0f-1869abb1df82",
   "metadata": {},
   "source": [
    "# Prikupljanje podataka"
   ]
  },
  {
   "cell_type": "code",
   "execution_count": 1,
   "id": "64da7c03-2c3e-4e6a-b590-da1c9f01f41d",
   "metadata": {},
   "outputs": [],
   "source": [
    "!mkdir -p data/pdfs data/dummy_data"
   ]
  },
  {
   "cell_type": "code",
   "execution_count": 2,
   "id": "46496a2f-5af6-4bfa-b980-3a4c01a39a5d",
   "metadata": {},
   "outputs": [],
   "source": [
    "# General\n",
    "import os\n",
    "import sys\n",
    "import csv\n",
    "\n",
    "# Scraping\n",
    "import requests\n",
    "from bs4 import BeautifulSoup\n",
    "from requests_html import HTMLSession\n",
    "\n",
    "# Data manipulation and processing\n",
    "import numpy as np\n",
    "import pandas as pd"
   ]
  },
  {
   "cell_type": "code",
   "execution_count": 3,
   "id": "866f128b-0c5e-4759-b279-d5c19ac1b312",
   "metadata": {},
   "outputs": [],
   "source": [
    "s = HTMLSession()\n",
    "\n",
    "def get_data(url):\n",
    "    response = s.get(url)\n",
    "    soup = BeautifulSoup(response.text, 'html.parser')\n",
    "    return soup"
   ]
  },
  {
   "cell_type": "code",
   "execution_count": 4,
   "id": "d45de3bb-1652-4f27-a59d-6b2a288138c0",
   "metadata": {},
   "outputs": [],
   "source": [
    "url = 'https://www.foi.unizg.hr/hr/dokumenti'"
   ]
  },
  {
   "cell_type": "code",
   "execution_count": 5,
   "id": "5e843cd1-2ff8-4167-bb0c-dbfca349f922",
   "metadata": {},
   "outputs": [],
   "source": [
    "response = requests.get(url)"
   ]
  },
  {
   "cell_type": "code",
   "execution_count": 6,
   "id": "ab6341ab-b009-473c-9f62-a5f2ba3d5c27",
   "metadata": {},
   "outputs": [
    {
     "data": {
      "text/plain": [
       "<Response [200]>"
      ]
     },
     "execution_count": 6,
     "metadata": {},
     "output_type": "execute_result"
    }
   ],
   "source": [
    "response"
   ]
  },
  {
   "cell_type": "code",
   "execution_count": 7,
   "id": "ac9fadb2-c617-4d00-85c5-5e02c2c329da",
   "metadata": {},
   "outputs": [],
   "source": [
    "soup = BeautifulSoup(response.text, 'html')"
   ]
  },
  {
   "cell_type": "code",
   "execution_count": 8,
   "id": "0f4aec6a-28d2-464e-afb6-8d4f11c50f21",
   "metadata": {},
   "outputs": [],
   "source": [
    "# print(soup.prettify())"
   ]
  },
  {
   "cell_type": "markdown",
   "id": "1d2ed276-74d2-403c-852f-a2d253fd7ef1",
   "metadata": {},
   "source": [
    "## Downloading PDF"
   ]
  },
  {
   "cell_type": "code",
   "execution_count": 9,
   "id": "4dbc8557-44ae-4e11-b32d-d318e122ff4e",
   "metadata": {},
   "outputs": [],
   "source": [
    "def download_pdf(url, path):\n",
    "    '''\n",
    "        Napravi download dokumenta sa url adrese u dani direktorij (url: /sites/default/files/[ime_dokumenta].pdf)\n",
    "    '''\n",
    "    try:\n",
    "        response = s.get(url)\n",
    "        response.raise_for_status()  # Provjerava HTTP greške\n",
    "\n",
    "        file_name = url.split('/')[-1]\n",
    "        file_path = os.path.join(path, file_name)\n",
    "\n",
    "        with open(file_path, 'wb') as f:\n",
    "            f.write(response.content)\n",
    "\n",
    "        print(f\"Success: {file_path}\")\n",
    "    except requests.exceptions.RequestException as e:\n",
    "        print(f\"Error: {e}\")"
   ]
  },
  {
   "cell_type": "markdown",
   "id": "8308651a-c717-4ac1-b45a-cc4cb74b6d67",
   "metadata": {},
   "source": [
    "## Creating a CSV data entry/extracting useful fields"
   ]
  },
  {
   "cell_type": "code",
   "execution_count": 10,
   "id": "99949c1b-5744-46c4-811c-3dd657f6b420",
   "metadata": {},
   "outputs": [],
   "source": [
    "url = 'https://www.foi.unizg.hr/hr/dokument/izmjenjena-odluka-pok-2023'"
   ]
  },
  {
   "cell_type": "code",
   "execution_count": 12,
   "id": "8c566771-cc7b-418a-9821-d2b244aa24e8",
   "metadata": {},
   "outputs": [],
   "source": [
    "soup = get_data(url)"
   ]
  },
  {
   "cell_type": "code",
   "execution_count": 13,
   "id": "2e2c233d-20f1-4ab2-8cea-1d3ff760975d",
   "metadata": {},
   "outputs": [],
   "source": [
    "link1 = soup.find('a', href=True, type=lambda value: value and 'application/pdf' in value)['href']\n",
    "datum = soup.find('div', class_ = 'datum').text"
   ]
  },
  {
   "cell_type": "code",
   "execution_count": 14,
   "id": "2accde2a-ae2e-425a-9510-1515ca160b4a",
   "metadata": {
    "scrolled": true
   },
   "outputs": [],
   "source": [
    "fields = soup.find_all('div', class_ = 'field-item even')\n",
    "\n",
    "for i in range(len(fields)):\n",
    "    fields[i] = fields[i].text.strip()"
   ]
  },
  {
   "cell_type": "code",
   "execution_count": 15,
   "id": "7b9d02a6-cb52-4b52-bfc0-c4da0a8b42af",
   "metadata": {},
   "outputs": [],
   "source": [
    "ime_datoteke = fields[0]\n",
    "vrsta_dokumenta = fields[1]\n",
    "kategorija_dokumenta = fields[2]\n",
    "datum = datum.strip().split('Kreirano: ')[1]"
   ]
  },
  {
   "cell_type": "code",
   "execution_count": 16,
   "id": "a6dd7bb7-6a9d-4844-929b-9ecab6d9b79d",
   "metadata": {},
   "outputs": [
    {
     "data": {
      "text/plain": [
       "('odluka_o_izmjeni_odluke_pok_2023_10_12.pdf',\n",
       " 'https://www.foi.unizg.hr/sites/default/files/odluka_o_izmjeni_odluke_pok_2023_10_12_0.pdf',\n",
       " '18.12.2023',\n",
       " 'Odluka',\n",
       " 'Kvaliteta')"
      ]
     },
     "execution_count": 16,
     "metadata": {},
     "output_type": "execute_result"
    }
   ],
   "source": [
    "data = ime_datoteke, link1, datum, vrsta_dokumenta, kategorija_dokumenta\n",
    "data"
   ]
  },
  {
   "cell_type": "code",
   "execution_count": 17,
   "id": "4091e1d0-9f70-457c-9194-cbbeb465a595",
   "metadata": {},
   "outputs": [],
   "source": [
    "def get_metadata(url):\n",
    "    '''\n",
    "        Dohvaca meta podatke za zapis sa dane url adrese (/hr/dokument/[ime_dokumenta])\n",
    "    '''\n",
    "\n",
    "    soup = get_data(url)\n",
    "\n",
    "    try:\n",
    "        link1 = soup.find('a', href=True, type=lambda value: value and 'application/pdf' in value)['href']\n",
    "    except:\n",
    "        link1 = None\n",
    "    \n",
    "    datum = soup.find('div', class_ = 'datum').text\n",
    "    datum = datum.strip().split('Kreirano: ')[1]\n",
    "\n",
    "    fields = soup.find_all('div', class_ = 'field-item even')\n",
    "    for i in range(len(fields)):\n",
    "        fields[i] = fields[i].text.strip()\n",
    "\n",
    "    \n",
    "    ime_datoteke = fields[0]\n",
    "\n",
    "    # U slucaju da nema vrste i kategorije dokumenta\n",
    "    try:\n",
    "        vrsta_dokumenta = fields[1]\n",
    "        kategorija_dokumenta = fields[2]\n",
    "    except:\n",
    "        vrsta_dokumenta = None\n",
    "        kategorija_dokumenta = None\n",
    "\n",
    "    return ime_datoteke, link1, datum, vrsta_dokumenta, kategorija_dokumenta"
   ]
  },
  {
   "cell_type": "code",
   "execution_count": 18,
   "id": "4b9d7d4a-fc26-44c8-88a6-d8919d013d1e",
   "metadata": {},
   "outputs": [
    {
     "data": {
      "text/plain": [
       "('odluka_o_izmjeni_odluke_pok_2023_10_12.pdf',\n",
       " 'https://www.foi.unizg.hr/sites/default/files/odluka_o_izmjeni_odluke_pok_2023_10_12_0.pdf',\n",
       " '18.12.2023',\n",
       " 'Odluka',\n",
       " 'Kvaliteta')"
      ]
     },
     "execution_count": 18,
     "metadata": {},
     "output_type": "execute_result"
    }
   ],
   "source": [
    "metadata = get_metadata('https://www.foi.unizg.hr/hr/dokument/izmjenjena-odluka-pok-2023')\n",
    "metadata"
   ]
  },
  {
   "cell_type": "code",
   "execution_count": 25,
   "id": "b862e680-b913-412b-a853-96dddbf89ac7",
   "metadata": {},
   "outputs": [
    {
     "data": {
      "text/plain": [
       "('privitak_1b_-_posebni_dio_financijskog_plana_2024-2026_konacan.xlsx',\n",
       " None,\n",
       " '12.12.2023',\n",
       " 'Financijski plan',\n",
       " 'FOI')"
      ]
     },
     "execution_count": 25,
     "metadata": {},
     "output_type": "execute_result"
    }
   ],
   "source": [
    "metadata = get_metadata('https://www.foi.unizg.hr/hr/dokument/posebni-dio-financijskog-plana-2024-2026')\n",
    "metadata"
   ]
  },
  {
   "cell_type": "markdown",
   "id": "92f70302-add4-4419-9b37-01229f778025",
   "metadata": {},
   "source": [
    "## Handling pagination and going through document on the main pages"
   ]
  },
  {
   "cell_type": "code",
   "execution_count": 26,
   "id": "01437400-1fd2-4551-8be5-88a0928393d6",
   "metadata": {},
   "outputs": [],
   "source": [
    "root_url = 'https://www.foi.unizg.hr/'"
   ]
  },
  {
   "cell_type": "code",
   "execution_count": 27,
   "id": "956b1191-1a8b-4568-8863-a70ce23ca1da",
   "metadata": {},
   "outputs": [],
   "source": [
    "url = root_url + '/hr/dokumenti?page=0'\n",
    "\n",
    "soup = get_data(url)"
   ]
  },
  {
   "cell_type": "code",
   "execution_count": 28,
   "id": "4be71d02-4f5a-4358-9b03-b7fb18032e52",
   "metadata": {},
   "outputs": [
    {
     "data": {
      "text/plain": [
       "10"
      ]
     },
     "execution_count": 28,
     "metadata": {},
     "output_type": "execute_result"
    }
   ],
   "source": [
    "doc_spans = soup.find_all('span', class_ = 'field-content')\n",
    "len(doc_spans)"
   ]
  },
  {
   "cell_type": "code",
   "execution_count": 29,
   "id": "b7e13d70-e99f-4312-8bf6-a4c54d7e1e16",
   "metadata": {},
   "outputs": [],
   "source": [
    "doc_spans;"
   ]
  },
  {
   "cell_type": "code",
   "execution_count": 30,
   "id": "9621b1f2-bf51-43ae-b733-434698c8afbc",
   "metadata": {},
   "outputs": [],
   "source": [
    "def extract_links(span_list):\n",
    "    links = []\n",
    "\n",
    "    for span in doc_spans:\n",
    "        links_in_span = span.find_all('a', href = True)\n",
    "        lnk = [l['href'] for l in links_in_span]\n",
    "        lnk.append(span.text)\n",
    "        links.append(tuple(lnk))\n",
    "  \n",
    "    return links"
   ]
  },
  {
   "cell_type": "code",
   "execution_count": 31,
   "id": "e921435a-fe72-42cd-b1af-d19b539de6e6",
   "metadata": {
    "scrolled": true
   },
   "outputs": [
    {
     "data": {
      "text/plain": [
       "[('https://www.foi.unizg.hr/sites/default/files/odluka_o_izmjeni_odluke_pok_2023_10_12_0.pdf',\n",
       "  '/hr/dokument/izmjenjena-odluka-pok-2023',\n",
       "  'Izmjenjena odluka POK-a 2023.'),\n",
       " ('https://www.foi.unizg.hr/sites/default/files/odluka-izvanredni_izbori_za_studentski_zbor-sijecanj_2024.pdf',\n",
       "  '/hr/dokument/odluka-o-raspisivanju-izvanrednih-izbora-studentskog-zbora-suzgfoi',\n",
       "  'Odluka o raspisivanju izvanrednih izbora Studentskog zbora SUZGFOI'),\n",
       " ('https://www.foi.unizg.hr/sites/default/files/privitak_1b_-_posebni_dio_financijskog_plana_2024-2026_konacan.xlsx',\n",
       "  '/hr/dokument/posebni-dio-financijskog-plana-2024-2026',\n",
       "  'Posebni dio financijskog plana 2024-2026'),\n",
       " ('https://www.foi.unizg.hr/sites/default/files/privitak_1_-_opci_dio_prijedlog_financijskog_plana_2024-2026_konacan.xlsx',\n",
       "  '/hr/dokument/opci-dio-prijedlog-financijskog-plana-2024-2026',\n",
       "  'Opći dio - prijedlog financijskog plana 2024-2026'),\n",
       " ('https://www.foi.unizg.hr/sites/default/files/obrazlozenje_posebnog_dijela_financijskog_plana_2024-2026_konacno.docx',\n",
       "  '/hr/dokument/obrazlozenje-posebnog-dijela-financijskog-plana-2024-2026',\n",
       "  'Obrazloženje posebnog dijela financijskog plana 2024-2026'),\n",
       " ('https://www.foi.unizg.hr/sites/default/files/obrazlozenje_opceg_dijela_financijskog_plana_2024-2026_konacno.docx',\n",
       "  '/hr/dokument/obrazlozenje-opceg-dijela-financijskog-plana-2024-2026',\n",
       "  'Obrazloženje općeg dijela financijskog plana 2024-2026'),\n",
       " ('https://www.foi.unizg.hr/sites/default/files/fv_dnevni_red_2023-12-07_3._sjednica.pdf',\n",
       "  '/hr/dokument/dnevni-red-fakultetskog-vijeca-07122023',\n",
       "  'Dnevni red Fakultetskog vijeća 07.12.2023.'),\n",
       " ('https://www.foi.unizg.hr/sites/default/files/politika-privatnosti-foi.pdf',\n",
       "  '/hr/dokument/politika-privatnosti-foi-ja',\n",
       "  'Politika privatnosti FOI-ja'),\n",
       " ('https://www.foi.unizg.hr/sites/default/files/popis_gs_u_sukobu_interesa_2023.pdf',\n",
       "  '/hr/dokument/popis-gospodarskih-subjekata-s-kojima-se-ne-smije-sklapati-ugovor-o-javnoj-nabavi',\n",
       "  'Popis gospodarskih subjekata s kojima se ne smije sklapati ugovor o javnoj nabavi'),\n",
       " ('https://www.foi.unizg.hr/sites/default/files/fv_zakljucci_2023-11-16_2._sjednica.pdf',\n",
       "  '/hr/dokument/zakljucak-fakultetskog-vijeca-16112023',\n",
       "  'Zaključak Fakultetskog vijeća 16.11.2023.')]"
      ]
     },
     "execution_count": 31,
     "metadata": {},
     "output_type": "execute_result"
    }
   ],
   "source": [
    "extract_links(doc_spans)"
   ]
  },
  {
   "cell_type": "code",
   "execution_count": 32,
   "id": "e0932608-d4e8-4351-be04-a9c7d88604d1",
   "metadata": {},
   "outputs": [],
   "source": [
    "def extract_hr_dokument_links(span_list):\n",
    "    return [span.find('a', href = True, target = False)['href'] for span in doc_spans]"
   ]
  },
  {
   "cell_type": "code",
   "execution_count": 33,
   "id": "71ae8f8a-3a27-4b0b-bde3-d414852d4940",
   "metadata": {},
   "outputs": [],
   "source": [
    "def main(url):\n",
    "    '''\n",
    "        Prolazi kroz linkove glavne stranice, ekstrahira /hr/dokument/ linkove,\n",
    "        dohvaca meta podatke za svaki dokument i skida pdf dokumente lokalno\n",
    "    '''\n",
    "    root_url = 'https://www.foi.unizg.hr/'\n",
    "    \n",
    "    soup = get_data(url)\n",
    "    spans = soup.find_all('span', class_ = 'field-content')\n",
    "\n",
    "    links = extract_links(spans)\n",
    "\n",
    "    metadata = [get_metadata(root_url + link[1]) for link in links]\n",
    "\n",
    "    df1 = pd.DataFrame(metadata, columns = ['naziv_datoteke', 'pdf_link', 'datum', 'vrsta_dokumenta', 'kategorija_dokumenta'])\n",
    "    df2 = pd.DataFrame(links, columns = ['file_link', 'metadata_link', 'naslov_dokumenta'])\n",
    "\n",
    "    return pd.concat([df1, df2], axis = 1)"
   ]
  },
  {
   "cell_type": "code",
   "execution_count": 34,
   "id": "e32cb600-9ea8-4505-9c28-204df67e8122",
   "metadata": {},
   "outputs": [
    {
     "data": {
      "text/html": [
       "<div>\n",
       "<style scoped>\n",
       "    .dataframe tbody tr th:only-of-type {\n",
       "        vertical-align: middle;\n",
       "    }\n",
       "\n",
       "    .dataframe tbody tr th {\n",
       "        vertical-align: top;\n",
       "    }\n",
       "\n",
       "    .dataframe thead th {\n",
       "        text-align: right;\n",
       "    }\n",
       "</style>\n",
       "<table border=\"1\" class=\"dataframe\">\n",
       "  <thead>\n",
       "    <tr style=\"text-align: right;\">\n",
       "      <th></th>\n",
       "      <th>naziv_datoteke</th>\n",
       "      <th>pdf_link</th>\n",
       "      <th>datum</th>\n",
       "      <th>vrsta_dokumenta</th>\n",
       "      <th>kategorija_dokumenta</th>\n",
       "      <th>file_link</th>\n",
       "      <th>metadata_link</th>\n",
       "      <th>naslov_dokumenta</th>\n",
       "    </tr>\n",
       "  </thead>\n",
       "  <tbody>\n",
       "    <tr>\n",
       "      <th>0</th>\n",
       "      <td>odluka_o_izmjeni_odluke_pok_2023_10_12.pdf</td>\n",
       "      <td>https://www.foi.unizg.hr/sites/default/files/o...</td>\n",
       "      <td>18.12.2023</td>\n",
       "      <td>Odluka</td>\n",
       "      <td>Kvaliteta</td>\n",
       "      <td>https://www.foi.unizg.hr/sites/default/files/o...</td>\n",
       "      <td>/hr/dokument/izmjenjena-odluka-pok-2023</td>\n",
       "      <td>Izmjenjena odluka POK-a 2023.</td>\n",
       "    </tr>\n",
       "    <tr>\n",
       "      <th>1</th>\n",
       "      <td>odluka-izvanredni_izbori_za_studentski_zbor-si...</td>\n",
       "      <td>https://www.foi.unizg.hr/sites/default/files/o...</td>\n",
       "      <td>12.12.2023</td>\n",
       "      <td>Odluka</td>\n",
       "      <td>Studentski zbor</td>\n",
       "      <td>https://www.foi.unizg.hr/sites/default/files/o...</td>\n",
       "      <td>/hr/dokument/odluka-o-raspisivanju-izvanrednih...</td>\n",
       "      <td>Odluka o raspisivanju izvanrednih izbora Stude...</td>\n",
       "    </tr>\n",
       "    <tr>\n",
       "      <th>2</th>\n",
       "      <td>privitak_1b_-_posebni_dio_financijskog_plana_2...</td>\n",
       "      <td>None</td>\n",
       "      <td>12.12.2023</td>\n",
       "      <td>Financijski plan</td>\n",
       "      <td>FOI</td>\n",
       "      <td>https://www.foi.unizg.hr/sites/default/files/p...</td>\n",
       "      <td>/hr/dokument/posebni-dio-financijskog-plana-20...</td>\n",
       "      <td>Posebni dio financijskog plana 2024-2026</td>\n",
       "    </tr>\n",
       "    <tr>\n",
       "      <th>3</th>\n",
       "      <td>privitak_1_-_opci_dio_prijedlog_financijskog_p...</td>\n",
       "      <td>None</td>\n",
       "      <td>12.12.2023</td>\n",
       "      <td>Financijski plan</td>\n",
       "      <td>FOI</td>\n",
       "      <td>https://www.foi.unizg.hr/sites/default/files/p...</td>\n",
       "      <td>/hr/dokument/opci-dio-prijedlog-financijskog-p...</td>\n",
       "      <td>Opći dio - prijedlog financijskog plana 2024-2026</td>\n",
       "    </tr>\n",
       "    <tr>\n",
       "      <th>4</th>\n",
       "      <td>obrazlozenje_posebnog_dijela_financijskog_plan...</td>\n",
       "      <td>None</td>\n",
       "      <td>12.12.2023</td>\n",
       "      <td>Financijski plan</td>\n",
       "      <td>FOI</td>\n",
       "      <td>https://www.foi.unizg.hr/sites/default/files/o...</td>\n",
       "      <td>/hr/dokument/obrazlozenje-posebnog-dijela-fina...</td>\n",
       "      <td>Obrazloženje posebnog dijela financijskog plan...</td>\n",
       "    </tr>\n",
       "    <tr>\n",
       "      <th>5</th>\n",
       "      <td>obrazlozenje_opceg_dijela_financijskog_plana_2...</td>\n",
       "      <td>None</td>\n",
       "      <td>12.12.2023</td>\n",
       "      <td>Financijski plan</td>\n",
       "      <td>FOI</td>\n",
       "      <td>https://www.foi.unizg.hr/sites/default/files/o...</td>\n",
       "      <td>/hr/dokument/obrazlozenje-opceg-dijela-financi...</td>\n",
       "      <td>Obrazloženje općeg dijela financijskog plana 2...</td>\n",
       "    </tr>\n",
       "    <tr>\n",
       "      <th>6</th>\n",
       "      <td>fv_dnevni_red_2023-12-07_3._sjednica.pdf</td>\n",
       "      <td>https://www.foi.unizg.hr/sites/default/files/f...</td>\n",
       "      <td>07.12.2023</td>\n",
       "      <td>Dnevni red</td>\n",
       "      <td>Fakultetsko vijeće</td>\n",
       "      <td>https://www.foi.unizg.hr/sites/default/files/f...</td>\n",
       "      <td>/hr/dokument/dnevni-red-fakultetskog-vijeca-07...</td>\n",
       "      <td>Dnevni red Fakultetskog vijeća 07.12.2023.</td>\n",
       "    </tr>\n",
       "    <tr>\n",
       "      <th>7</th>\n",
       "      <td>politika-privatnosti-foi.pdf</td>\n",
       "      <td>https://www.foi.unizg.hr/sites/default/files/p...</td>\n",
       "      <td>24.11.2023</td>\n",
       "      <td>None</td>\n",
       "      <td>None</td>\n",
       "      <td>https://www.foi.unizg.hr/sites/default/files/p...</td>\n",
       "      <td>/hr/dokument/politika-privatnosti-foi-ja</td>\n",
       "      <td>Politika privatnosti FOI-ja</td>\n",
       "    </tr>\n",
       "    <tr>\n",
       "      <th>8</th>\n",
       "      <td>popis_gs_u_sukobu_interesa_2023.pdf</td>\n",
       "      <td>https://www.foi.unizg.hr/sites/default/files/p...</td>\n",
       "      <td>20.11.2023</td>\n",
       "      <td>Odluka</td>\n",
       "      <td>Javna nabava</td>\n",
       "      <td>https://www.foi.unizg.hr/sites/default/files/p...</td>\n",
       "      <td>/hr/dokument/popis-gospodarskih-subjekata-s-ko...</td>\n",
       "      <td>Popis gospodarskih subjekata s kojima se ne sm...</td>\n",
       "    </tr>\n",
       "    <tr>\n",
       "      <th>9</th>\n",
       "      <td>fv_zakljucci_2023-11-16_2._sjednica.pdf</td>\n",
       "      <td>https://www.foi.unizg.hr/sites/default/files/f...</td>\n",
       "      <td>16.11.2023</td>\n",
       "      <td>Zaključak</td>\n",
       "      <td>Fakultetsko vijeće</td>\n",
       "      <td>https://www.foi.unizg.hr/sites/default/files/f...</td>\n",
       "      <td>/hr/dokument/zakljucak-fakultetskog-vijeca-161...</td>\n",
       "      <td>Zaključak Fakultetskog vijeća 16.11.2023.</td>\n",
       "    </tr>\n",
       "  </tbody>\n",
       "</table>\n",
       "</div>"
      ],
      "text/plain": [
       "                                      naziv_datoteke  \\\n",
       "0         odluka_o_izmjeni_odluke_pok_2023_10_12.pdf   \n",
       "1  odluka-izvanredni_izbori_za_studentski_zbor-si...   \n",
       "2  privitak_1b_-_posebni_dio_financijskog_plana_2...   \n",
       "3  privitak_1_-_opci_dio_prijedlog_financijskog_p...   \n",
       "4  obrazlozenje_posebnog_dijela_financijskog_plan...   \n",
       "5  obrazlozenje_opceg_dijela_financijskog_plana_2...   \n",
       "6           fv_dnevni_red_2023-12-07_3._sjednica.pdf   \n",
       "7                       politika-privatnosti-foi.pdf   \n",
       "8                popis_gs_u_sukobu_interesa_2023.pdf   \n",
       "9            fv_zakljucci_2023-11-16_2._sjednica.pdf   \n",
       "\n",
       "                                            pdf_link       datum  \\\n",
       "0  https://www.foi.unizg.hr/sites/default/files/o...  18.12.2023   \n",
       "1  https://www.foi.unizg.hr/sites/default/files/o...  12.12.2023   \n",
       "2                                               None  12.12.2023   \n",
       "3                                               None  12.12.2023   \n",
       "4                                               None  12.12.2023   \n",
       "5                                               None  12.12.2023   \n",
       "6  https://www.foi.unizg.hr/sites/default/files/f...  07.12.2023   \n",
       "7  https://www.foi.unizg.hr/sites/default/files/p...  24.11.2023   \n",
       "8  https://www.foi.unizg.hr/sites/default/files/p...  20.11.2023   \n",
       "9  https://www.foi.unizg.hr/sites/default/files/f...  16.11.2023   \n",
       "\n",
       "    vrsta_dokumenta kategorija_dokumenta  \\\n",
       "0            Odluka            Kvaliteta   \n",
       "1            Odluka      Studentski zbor   \n",
       "2  Financijski plan                  FOI   \n",
       "3  Financijski plan                  FOI   \n",
       "4  Financijski plan                  FOI   \n",
       "5  Financijski plan                  FOI   \n",
       "6        Dnevni red   Fakultetsko vijeće   \n",
       "7              None                 None   \n",
       "8            Odluka         Javna nabava   \n",
       "9         Zaključak   Fakultetsko vijeće   \n",
       "\n",
       "                                           file_link  \\\n",
       "0  https://www.foi.unizg.hr/sites/default/files/o...   \n",
       "1  https://www.foi.unizg.hr/sites/default/files/o...   \n",
       "2  https://www.foi.unizg.hr/sites/default/files/p...   \n",
       "3  https://www.foi.unizg.hr/sites/default/files/p...   \n",
       "4  https://www.foi.unizg.hr/sites/default/files/o...   \n",
       "5  https://www.foi.unizg.hr/sites/default/files/o...   \n",
       "6  https://www.foi.unizg.hr/sites/default/files/f...   \n",
       "7  https://www.foi.unizg.hr/sites/default/files/p...   \n",
       "8  https://www.foi.unizg.hr/sites/default/files/p...   \n",
       "9  https://www.foi.unizg.hr/sites/default/files/f...   \n",
       "\n",
       "                                       metadata_link  \\\n",
       "0            /hr/dokument/izmjenjena-odluka-pok-2023   \n",
       "1  /hr/dokument/odluka-o-raspisivanju-izvanrednih...   \n",
       "2  /hr/dokument/posebni-dio-financijskog-plana-20...   \n",
       "3  /hr/dokument/opci-dio-prijedlog-financijskog-p...   \n",
       "4  /hr/dokument/obrazlozenje-posebnog-dijela-fina...   \n",
       "5  /hr/dokument/obrazlozenje-opceg-dijela-financi...   \n",
       "6  /hr/dokument/dnevni-red-fakultetskog-vijeca-07...   \n",
       "7           /hr/dokument/politika-privatnosti-foi-ja   \n",
       "8  /hr/dokument/popis-gospodarskih-subjekata-s-ko...   \n",
       "9  /hr/dokument/zakljucak-fakultetskog-vijeca-161...   \n",
       "\n",
       "                                    naslov_dokumenta  \n",
       "0                      Izmjenjena odluka POK-a 2023.  \n",
       "1  Odluka o raspisivanju izvanrednih izbora Stude...  \n",
       "2           Posebni dio financijskog plana 2024-2026  \n",
       "3  Opći dio - prijedlog financijskog plana 2024-2026  \n",
       "4  Obrazloženje posebnog dijela financijskog plan...  \n",
       "5  Obrazloženje općeg dijela financijskog plana 2...  \n",
       "6         Dnevni red Fakultetskog vijeća 07.12.2023.  \n",
       "7                        Politika privatnosti FOI-ja  \n",
       "8  Popis gospodarskih subjekata s kojima se ne sm...  \n",
       "9          Zaključak Fakultetskog vijeća 16.11.2023.  "
      ]
     },
     "execution_count": 34,
     "metadata": {},
     "output_type": "execute_result"
    }
   ],
   "source": [
    "df = main('https://www.foi.unizg.hr/hr/dokumenti')\n",
    "df"
   ]
  },
  {
   "cell_type": "markdown",
   "id": "baec17c8-6de3-4d39-8c69-8d37e8e6e71f",
   "metadata": {},
   "source": [
    "### Handling pagination"
   ]
  },
  {
   "cell_type": "code",
   "execution_count": 37,
   "id": "b4b9aa5d-57cd-4737-8e13-fef4b730c137",
   "metadata": {},
   "outputs": [],
   "source": [
    "soup = get_data('https://www.foi.unizg.hr/hr/dokumenti')"
   ]
  },
  {
   "cell_type": "code",
   "execution_count": 38,
   "id": "c6aa7a00-b707-48ef-93c1-93376c7c9634",
   "metadata": {},
   "outputs": [
    {
     "data": {
      "text/plain": [
       "<ul class=\"pager\"><li class=\"pager-current first\">1</li>\n",
       "<li class=\"pager-item\"><a href=\"/hr/dokumenti?page=1\" title=\"Idi na stranicu 2\">2</a></li>\n",
       "<li class=\"pager-item\"><a href=\"/hr/dokumenti?page=2\" title=\"Idi na stranicu 3\">3</a></li>\n",
       "<li class=\"pager-item\"><a href=\"/hr/dokumenti?page=3\" title=\"Idi na stranicu 4\">4</a></li>\n",
       "<li class=\"pager-item\"><a href=\"/hr/dokumenti?page=4\" title=\"Idi na stranicu 5\">5</a></li>\n",
       "<li class=\"pager-ellipsis\">…</li>\n",
       "<li class=\"pager-next\"><a href=\"/hr/dokumenti?page=1\">&gt;&gt;</a></li>\n",
       "<li class=\"pager-last last\"><a href=\"/hr/dokumenti?page=93\">posljednja &gt;&gt;</a></li>\n",
       "</ul>"
      ]
     },
     "execution_count": 38,
     "metadata": {},
     "output_type": "execute_result"
    }
   ],
   "source": [
    "page = soup.find('ul', class_ = 'pager')\n",
    "page"
   ]
  },
  {
   "cell_type": "code",
   "execution_count": 65,
   "id": "928b7803-5a3d-4121-80ef-433520bb8930",
   "metadata": {},
   "outputs": [
    {
     "data": {
      "text/plain": [
       "'https://www.foi.unizg.hr/hr/dokumenti/hr/dokumenti?page=1'"
      ]
     },
     "execution_count": 65,
     "metadata": {},
     "output_type": "execute_result"
    }
   ],
   "source": [
    "next = page.find('li', class_ = 'pager-next')\n",
    "'https://www.foi.unizg.hr/hr/dokumenti' + str(next.find('a')['href'])"
   ]
  },
  {
   "cell_type": "code",
   "execution_count": 66,
   "id": "545d96d0-20fa-42ed-8f57-d91b2c3cd90d",
   "metadata": {},
   "outputs": [],
   "source": [
    "def get_next_page(soup):\n",
    "    root_url = 'https://www.foi.unizg.hr'\n",
    "    page = soup.find('ul', class_ = 'pager')\n",
    "    next_btn = page.find('li', class_ = 'pager-next')\n",
    "    if next_btn:\n",
    "        url = root_url + str(next_btn.find('a')['href'])\n",
    "        return url\n",
    "    else:\n",
    "        return None"
   ]
  },
  {
   "cell_type": "code",
   "execution_count": 67,
   "id": "d9611501-5431-43d6-903b-31917c18b8f5",
   "metadata": {},
   "outputs": [
    {
     "name": "stdout",
     "output_type": "stream",
     "text": [
      "https://www.foi.unizg.hr/hr/dokumenti?page=1\n",
      "https://www.foi.unizg.hr/hr/dokumenti?page=2\n",
      "https://www.foi.unizg.hr/hr/dokumenti?page=3\n",
      "https://www.foi.unizg.hr/hr/dokumenti?page=4\n",
      "https://www.foi.unizg.hr/hr/dokumenti?page=5\n",
      "https://www.foi.unizg.hr/hr/dokumenti?page=6\n",
      "https://www.foi.unizg.hr/hr/dokumenti?page=7\n",
      "https://www.foi.unizg.hr/hr/dokumenti?page=8\n",
      "https://www.foi.unizg.hr/hr/dokumenti?page=9\n",
      "https://www.foi.unizg.hr/hr/dokumenti?page=10\n",
      "https://www.foi.unizg.hr/hr/dokumenti?page=11\n",
      "https://www.foi.unizg.hr/hr/dokumenti?page=12\n",
      "https://www.foi.unizg.hr/hr/dokumenti?page=13\n",
      "https://www.foi.unizg.hr/hr/dokumenti?page=14\n",
      "https://www.foi.unizg.hr/hr/dokumenti?page=15\n",
      "https://www.foi.unizg.hr/hr/dokumenti?page=16\n",
      "https://www.foi.unizg.hr/hr/dokumenti?page=17\n",
      "https://www.foi.unizg.hr/hr/dokumenti?page=18\n",
      "https://www.foi.unizg.hr/hr/dokumenti?page=19\n",
      "https://www.foi.unizg.hr/hr/dokumenti?page=20\n",
      "https://www.foi.unizg.hr/hr/dokumenti?page=21\n",
      "https://www.foi.unizg.hr/hr/dokumenti?page=22\n",
      "https://www.foi.unizg.hr/hr/dokumenti?page=23\n",
      "https://www.foi.unizg.hr/hr/dokumenti?page=24\n",
      "https://www.foi.unizg.hr/hr/dokumenti?page=25\n",
      "https://www.foi.unizg.hr/hr/dokumenti?page=26\n",
      "https://www.foi.unizg.hr/hr/dokumenti?page=27\n",
      "https://www.foi.unizg.hr/hr/dokumenti?page=28\n",
      "https://www.foi.unizg.hr/hr/dokumenti?page=29\n",
      "https://www.foi.unizg.hr/hr/dokumenti?page=30\n",
      "https://www.foi.unizg.hr/hr/dokumenti?page=31\n",
      "https://www.foi.unizg.hr/hr/dokumenti?page=32\n",
      "https://www.foi.unizg.hr/hr/dokumenti?page=33\n",
      "https://www.foi.unizg.hr/hr/dokumenti?page=34\n",
      "https://www.foi.unizg.hr/hr/dokumenti?page=35\n",
      "https://www.foi.unizg.hr/hr/dokumenti?page=36\n",
      "https://www.foi.unizg.hr/hr/dokumenti?page=37\n",
      "https://www.foi.unizg.hr/hr/dokumenti?page=38\n",
      "https://www.foi.unizg.hr/hr/dokumenti?page=39\n",
      "https://www.foi.unizg.hr/hr/dokumenti?page=40\n",
      "https://www.foi.unizg.hr/hr/dokumenti?page=41\n",
      "https://www.foi.unizg.hr/hr/dokumenti?page=42\n",
      "https://www.foi.unizg.hr/hr/dokumenti?page=43\n",
      "https://www.foi.unizg.hr/hr/dokumenti?page=44\n",
      "https://www.foi.unizg.hr/hr/dokumenti?page=45\n",
      "https://www.foi.unizg.hr/hr/dokumenti?page=46\n",
      "https://www.foi.unizg.hr/hr/dokumenti?page=47\n",
      "https://www.foi.unizg.hr/hr/dokumenti?page=48\n",
      "https://www.foi.unizg.hr/hr/dokumenti?page=49\n",
      "https://www.foi.unizg.hr/hr/dokumenti?page=50\n",
      "https://www.foi.unizg.hr/hr/dokumenti?page=51\n",
      "https://www.foi.unizg.hr/hr/dokumenti?page=52\n",
      "https://www.foi.unizg.hr/hr/dokumenti?page=53\n",
      "https://www.foi.unizg.hr/hr/dokumenti?page=54\n",
      "https://www.foi.unizg.hr/hr/dokumenti?page=55\n",
      "https://www.foi.unizg.hr/hr/dokumenti?page=56\n",
      "https://www.foi.unizg.hr/hr/dokumenti?page=57\n",
      "https://www.foi.unizg.hr/hr/dokumenti?page=58\n",
      "https://www.foi.unizg.hr/hr/dokumenti?page=59\n",
      "https://www.foi.unizg.hr/hr/dokumenti?page=60\n",
      "https://www.foi.unizg.hr/hr/dokumenti?page=61\n",
      "https://www.foi.unizg.hr/hr/dokumenti?page=62\n",
      "https://www.foi.unizg.hr/hr/dokumenti?page=63\n",
      "https://www.foi.unizg.hr/hr/dokumenti?page=64\n",
      "https://www.foi.unizg.hr/hr/dokumenti?page=65\n",
      "https://www.foi.unizg.hr/hr/dokumenti?page=66\n",
      "https://www.foi.unizg.hr/hr/dokumenti?page=67\n",
      "https://www.foi.unizg.hr/hr/dokumenti?page=68\n",
      "https://www.foi.unizg.hr/hr/dokumenti?page=69\n",
      "https://www.foi.unizg.hr/hr/dokumenti?page=70\n",
      "https://www.foi.unizg.hr/hr/dokumenti?page=71\n",
      "https://www.foi.unizg.hr/hr/dokumenti?page=72\n",
      "https://www.foi.unizg.hr/hr/dokumenti?page=73\n",
      "https://www.foi.unizg.hr/hr/dokumenti?page=74\n",
      "https://www.foi.unizg.hr/hr/dokumenti?page=75\n",
      "https://www.foi.unizg.hr/hr/dokumenti?page=76\n",
      "https://www.foi.unizg.hr/hr/dokumenti?page=77\n",
      "https://www.foi.unizg.hr/hr/dokumenti?page=78\n",
      "https://www.foi.unizg.hr/hr/dokumenti?page=79\n",
      "https://www.foi.unizg.hr/hr/dokumenti?page=80\n",
      "https://www.foi.unizg.hr/hr/dokumenti?page=81\n",
      "https://www.foi.unizg.hr/hr/dokumenti?page=82\n",
      "https://www.foi.unizg.hr/hr/dokumenti?page=83\n",
      "https://www.foi.unizg.hr/hr/dokumenti?page=84\n",
      "https://www.foi.unizg.hr/hr/dokumenti?page=85\n",
      "https://www.foi.unizg.hr/hr/dokumenti?page=86\n",
      "https://www.foi.unizg.hr/hr/dokumenti?page=87\n",
      "https://www.foi.unizg.hr/hr/dokumenti?page=88\n",
      "https://www.foi.unizg.hr/hr/dokumenti?page=89\n",
      "https://www.foi.unizg.hr/hr/dokumenti?page=90\n",
      "https://www.foi.unizg.hr/hr/dokumenti?page=91\n",
      "https://www.foi.unizg.hr/hr/dokumenti?page=92\n",
      "https://www.foi.unizg.hr/hr/dokumenti?page=93\n"
     ]
    }
   ],
   "source": [
    "url1 = 'https://www.foi.unizg.hr/hr/dokumenti'\n",
    "\n",
    "while True:\n",
    "    soup = get_data(url1)\n",
    "    url1 = get_next_page(soup)\n",
    "    if not url1:\n",
    "        break\n",
    "\n",
    "    print(url1)"
   ]
  },
  {
   "cell_type": "markdown",
   "id": "e80ec81f-68ba-4cf5-98f7-42eef952924b",
   "metadata": {},
   "source": [
    "## Downloading in batches"
   ]
  },
  {
   "cell_type": "code",
   "execution_count": 35,
   "id": "2b9c30d2-a3ed-4909-b167-5578dcf2ef3b",
   "metadata": {},
   "outputs": [
    {
     "data": {
      "text/plain": [
       "6"
      ]
     },
     "execution_count": 35,
     "metadata": {},
     "output_type": "execute_result"
    }
   ],
   "source": [
    "df_test = df.dropna(subset = ['pdf_link'])\n",
    "len(df_test)"
   ]
  },
  {
   "cell_type": "code",
   "execution_count": 36,
   "id": "536211bd-2c44-4ebe-acb4-ee10e1a6dd04",
   "metadata": {
    "scrolled": true
   },
   "outputs": [
    {
     "data": {
      "text/html": [
       "<div>\n",
       "<style scoped>\n",
       "    .dataframe tbody tr th:only-of-type {\n",
       "        vertical-align: middle;\n",
       "    }\n",
       "\n",
       "    .dataframe tbody tr th {\n",
       "        vertical-align: top;\n",
       "    }\n",
       "\n",
       "    .dataframe thead th {\n",
       "        text-align: right;\n",
       "    }\n",
       "</style>\n",
       "<table border=\"1\" class=\"dataframe\">\n",
       "  <thead>\n",
       "    <tr style=\"text-align: right;\">\n",
       "      <th></th>\n",
       "      <th>naziv_datoteke</th>\n",
       "      <th>pdf_link</th>\n",
       "      <th>datum</th>\n",
       "      <th>vrsta_dokumenta</th>\n",
       "      <th>kategorija_dokumenta</th>\n",
       "      <th>file_link</th>\n",
       "      <th>metadata_link</th>\n",
       "      <th>naslov_dokumenta</th>\n",
       "    </tr>\n",
       "  </thead>\n",
       "  <tbody>\n",
       "    <tr>\n",
       "      <th>0</th>\n",
       "      <td>odluka_o_izmjeni_odluke_pok_2023_10_12.pdf</td>\n",
       "      <td>https://www.foi.unizg.hr/sites/default/files/o...</td>\n",
       "      <td>18.12.2023</td>\n",
       "      <td>Odluka</td>\n",
       "      <td>Kvaliteta</td>\n",
       "      <td>https://www.foi.unizg.hr/sites/default/files/o...</td>\n",
       "      <td>/hr/dokument/izmjenjena-odluka-pok-2023</td>\n",
       "      <td>Izmjenjena odluka POK-a 2023.</td>\n",
       "    </tr>\n",
       "    <tr>\n",
       "      <th>1</th>\n",
       "      <td>odluka-izvanredni_izbori_za_studentski_zbor-si...</td>\n",
       "      <td>https://www.foi.unizg.hr/sites/default/files/o...</td>\n",
       "      <td>12.12.2023</td>\n",
       "      <td>Odluka</td>\n",
       "      <td>Studentski zbor</td>\n",
       "      <td>https://www.foi.unizg.hr/sites/default/files/o...</td>\n",
       "      <td>/hr/dokument/odluka-o-raspisivanju-izvanrednih...</td>\n",
       "      <td>Odluka o raspisivanju izvanrednih izbora Stude...</td>\n",
       "    </tr>\n",
       "    <tr>\n",
       "      <th>6</th>\n",
       "      <td>fv_dnevni_red_2023-12-07_3._sjednica.pdf</td>\n",
       "      <td>https://www.foi.unizg.hr/sites/default/files/f...</td>\n",
       "      <td>07.12.2023</td>\n",
       "      <td>Dnevni red</td>\n",
       "      <td>Fakultetsko vijeće</td>\n",
       "      <td>https://www.foi.unizg.hr/sites/default/files/f...</td>\n",
       "      <td>/hr/dokument/dnevni-red-fakultetskog-vijeca-07...</td>\n",
       "      <td>Dnevni red Fakultetskog vijeća 07.12.2023.</td>\n",
       "    </tr>\n",
       "    <tr>\n",
       "      <th>7</th>\n",
       "      <td>politika-privatnosti-foi.pdf</td>\n",
       "      <td>https://www.foi.unizg.hr/sites/default/files/p...</td>\n",
       "      <td>24.11.2023</td>\n",
       "      <td>None</td>\n",
       "      <td>None</td>\n",
       "      <td>https://www.foi.unizg.hr/sites/default/files/p...</td>\n",
       "      <td>/hr/dokument/politika-privatnosti-foi-ja</td>\n",
       "      <td>Politika privatnosti FOI-ja</td>\n",
       "    </tr>\n",
       "    <tr>\n",
       "      <th>8</th>\n",
       "      <td>popis_gs_u_sukobu_interesa_2023.pdf</td>\n",
       "      <td>https://www.foi.unizg.hr/sites/default/files/p...</td>\n",
       "      <td>20.11.2023</td>\n",
       "      <td>Odluka</td>\n",
       "      <td>Javna nabava</td>\n",
       "      <td>https://www.foi.unizg.hr/sites/default/files/p...</td>\n",
       "      <td>/hr/dokument/popis-gospodarskih-subjekata-s-ko...</td>\n",
       "      <td>Popis gospodarskih subjekata s kojima se ne sm...</td>\n",
       "    </tr>\n",
       "    <tr>\n",
       "      <th>9</th>\n",
       "      <td>fv_zakljucci_2023-11-16_2._sjednica.pdf</td>\n",
       "      <td>https://www.foi.unizg.hr/sites/default/files/f...</td>\n",
       "      <td>16.11.2023</td>\n",
       "      <td>Zaključak</td>\n",
       "      <td>Fakultetsko vijeće</td>\n",
       "      <td>https://www.foi.unizg.hr/sites/default/files/f...</td>\n",
       "      <td>/hr/dokument/zakljucak-fakultetskog-vijeca-161...</td>\n",
       "      <td>Zaključak Fakultetskog vijeća 16.11.2023.</td>\n",
       "    </tr>\n",
       "  </tbody>\n",
       "</table>\n",
       "</div>"
      ],
      "text/plain": [
       "                                      naziv_datoteke  \\\n",
       "0         odluka_o_izmjeni_odluke_pok_2023_10_12.pdf   \n",
       "1  odluka-izvanredni_izbori_za_studentski_zbor-si...   \n",
       "6           fv_dnevni_red_2023-12-07_3._sjednica.pdf   \n",
       "7                       politika-privatnosti-foi.pdf   \n",
       "8                popis_gs_u_sukobu_interesa_2023.pdf   \n",
       "9            fv_zakljucci_2023-11-16_2._sjednica.pdf   \n",
       "\n",
       "                                            pdf_link       datum  \\\n",
       "0  https://www.foi.unizg.hr/sites/default/files/o...  18.12.2023   \n",
       "1  https://www.foi.unizg.hr/sites/default/files/o...  12.12.2023   \n",
       "6  https://www.foi.unizg.hr/sites/default/files/f...  07.12.2023   \n",
       "7  https://www.foi.unizg.hr/sites/default/files/p...  24.11.2023   \n",
       "8  https://www.foi.unizg.hr/sites/default/files/p...  20.11.2023   \n",
       "9  https://www.foi.unizg.hr/sites/default/files/f...  16.11.2023   \n",
       "\n",
       "  vrsta_dokumenta kategorija_dokumenta  \\\n",
       "0          Odluka            Kvaliteta   \n",
       "1          Odluka      Studentski zbor   \n",
       "6      Dnevni red   Fakultetsko vijeće   \n",
       "7            None                 None   \n",
       "8          Odluka         Javna nabava   \n",
       "9       Zaključak   Fakultetsko vijeće   \n",
       "\n",
       "                                           file_link  \\\n",
       "0  https://www.foi.unizg.hr/sites/default/files/o...   \n",
       "1  https://www.foi.unizg.hr/sites/default/files/o...   \n",
       "6  https://www.foi.unizg.hr/sites/default/files/f...   \n",
       "7  https://www.foi.unizg.hr/sites/default/files/p...   \n",
       "8  https://www.foi.unizg.hr/sites/default/files/p...   \n",
       "9  https://www.foi.unizg.hr/sites/default/files/f...   \n",
       "\n",
       "                                       metadata_link  \\\n",
       "0            /hr/dokument/izmjenjena-odluka-pok-2023   \n",
       "1  /hr/dokument/odluka-o-raspisivanju-izvanrednih...   \n",
       "6  /hr/dokument/dnevni-red-fakultetskog-vijeca-07...   \n",
       "7           /hr/dokument/politika-privatnosti-foi-ja   \n",
       "8  /hr/dokument/popis-gospodarskih-subjekata-s-ko...   \n",
       "9  /hr/dokument/zakljucak-fakultetskog-vijeca-161...   \n",
       "\n",
       "                                    naslov_dokumenta  \n",
       "0                      Izmjenjena odluka POK-a 2023.  \n",
       "1  Odluka o raspisivanju izvanrednih izbora Stude...  \n",
       "6         Dnevni red Fakultetskog vijeća 07.12.2023.  \n",
       "7                        Politika privatnosti FOI-ja  \n",
       "8  Popis gospodarskih subjekata s kojima se ne sm...  \n",
       "9          Zaključak Fakultetskog vijeća 16.11.2023.  "
      ]
     },
     "execution_count": 36,
     "metadata": {},
     "output_type": "execute_result"
    }
   ],
   "source": [
    "df_test"
   ]
  },
  {
   "cell_type": "code",
   "execution_count": 270,
   "id": "0a9baa0a-8723-4b94-a311-648c61244b30",
   "metadata": {},
   "outputs": [
    {
     "name": "stdout",
     "output_type": "stream",
     "text": [
      "Success: ./data/dummy_data/odluka_o_izmjeni_odluke_pok_2023_10_12_0.pdf\n",
      "Success: ./data/dummy_data/odluka-izvanredni_izbori_za_studentski_zbor-sijecanj_2024.pdf\n",
      "Success: ./data/dummy_data/fv_dnevni_red_2023-12-07_3._sjednica.pdf\n",
      "Success: ./data/dummy_data/politika-privatnosti-foi.pdf\n",
      "Success: ./data/dummy_data/popis_gs_u_sukobu_interesa_2023.pdf\n",
      "Success: ./data/dummy_data/fv_zakljucci_2023-11-16_2._sjednica.pdf\n"
     ]
    }
   ],
   "source": [
    "for link in df_test.pdf_link:\n",
    "    download_pdf(path = './data/dummy_data', url = link)"
   ]
  },
  {
   "cell_type": "code",
   "execution_count": null,
   "id": "5a88476f-4909-49d7-b746-3c4e55d2225e",
   "metadata": {},
   "outputs": [],
   "source": []
  }
 ],
 "metadata": {
  "kernelspec": {
   "display_name": "Python 3 (ipykernel)",
   "language": "python",
   "name": "python3"
  },
  "language_info": {
   "codemirror_mode": {
    "name": "ipython",
    "version": 3
   },
   "file_extension": ".py",
   "mimetype": "text/x-python",
   "name": "python",
   "nbconvert_exporter": "python",
   "pygments_lexer": "ipython3",
   "version": "3.10.12"
  }
 },
 "nbformat": 4,
 "nbformat_minor": 5
}
